{
  "nbformat": 4,
  "nbformat_minor": 0,
  "metadata": {
    "colab": {
      "name": "MomentumETFs.ipynb",
      "provenance": [],
      "authorship_tag": "ABX9TyPTjDMk72ShhxDg6h1sdOiH",
      "include_colab_link": true
    },
    "kernelspec": {
      "name": "python3",
      "display_name": "Python 3"
    },
    "language_info": {
      "name": "python"
    }
  },
  "cells": [
    {
      "cell_type": "markdown",
      "metadata": {
        "id": "view-in-github",
        "colab_type": "text"
      },
      "source": [
        "<a href=\"https://colab.research.google.com/github/BernardoRMendes/Projeto/blob/main/MomentumETFs.ipynb\" target=\"_parent\"><img src=\"https://colab.research.google.com/assets/colab-badge.svg\" alt=\"Open In Colab\"/></a>"
      ]
    },
    {
      "cell_type": "code",
      "metadata": {
        "id": "9cH6cnzIh2uk"
      },
      "source": [
        "import pandas as pd"
      ],
      "execution_count": 1,
      "outputs": []
    },
    {
      "cell_type": "code",
      "metadata": {
        "id": "Ub0eU_-qh-gL"
      },
      "source": [
        "url=\"https://raw.githubusercontent.com/BernardoRMendes/Projeto/main/dataframe.xlsx\""
      ],
      "execution_count": 2,
      "outputs": []
    },
    {
      "cell_type": "code",
      "metadata": {
        "id": "gRrkoU3uh-1a"
      },
      "source": [
        "df=pd.read_excel(url,index_col=0)"
      ],
      "execution_count": 3,
      "outputs": []
    },
    {
      "cell_type": "code",
      "metadata": {
        "colab": {
          "base_uri": "https://localhost:8080/",
          "height": 576
        },
        "id": "X18su22xiBCS",
        "outputId": "ada66226-1578-43c7-cad9-aeb0fd8348ac"
      },
      "source": [
        "df"
      ],
      "execution_count": 4,
      "outputs": [
        {
          "output_type": "execute_result",
          "data": {
            "text/html": [
              "<div>\n",
              "<style scoped>\n",
              "    .dataframe tbody tr th:only-of-type {\n",
              "        vertical-align: middle;\n",
              "    }\n",
              "\n",
              "    .dataframe tbody tr th {\n",
              "        vertical-align: top;\n",
              "    }\n",
              "\n",
              "    .dataframe thead th {\n",
              "        text-align: right;\n",
              "    }\n",
              "</style>\n",
              "<table border=\"1\" class=\"dataframe\">\n",
              "  <thead>\n",
              "    <tr style=\"text-align: right;\">\n",
              "      <th></th>\n",
              "      <th>date</th>\n",
              "      <th>Pesos</th>\n",
              "    </tr>\n",
              "    <tr>\n",
              "      <th>symbol</th>\n",
              "      <th></th>\n",
              "      <th></th>\n",
              "    </tr>\n",
              "  </thead>\n",
              "  <tbody>\n",
              "    <tr>\n",
              "      <th>ewz</th>\n",
              "      <td>2021-04-22</td>\n",
              "      <td>0.062610</td>\n",
              "    </tr>\n",
              "    <tr>\n",
              "      <th>ewj</th>\n",
              "      <td>2021-04-22</td>\n",
              "      <td>4.491762</td>\n",
              "    </tr>\n",
              "    <tr>\n",
              "      <th>ieur</th>\n",
              "      <td>2021-04-22</td>\n",
              "      <td>13.818498</td>\n",
              "    </tr>\n",
              "    <tr>\n",
              "      <th>aaxj</th>\n",
              "      <td>2021-04-22</td>\n",
              "      <td>3.715714</td>\n",
              "    </tr>\n",
              "    <tr>\n",
              "      <th>ewzs</th>\n",
              "      <td>2021-04-22</td>\n",
              "      <td>0.298083</td>\n",
              "    </tr>\n",
              "    <tr>\n",
              "      <th>spy</th>\n",
              "      <td>2021-04-22</td>\n",
              "      <td>16.306610</td>\n",
              "    </tr>\n",
              "    <tr>\n",
              "      <th>xlk</th>\n",
              "      <td>2021-04-22</td>\n",
              "      <td>5.302628</td>\n",
              "    </tr>\n",
              "    <tr>\n",
              "      <th>xly</th>\n",
              "      <td>2021-04-22</td>\n",
              "      <td>3.616334</td>\n",
              "    </tr>\n",
              "    <tr>\n",
              "      <th>xlb</th>\n",
              "      <td>2021-04-22</td>\n",
              "      <td>7.355417</td>\n",
              "    </tr>\n",
              "    <tr>\n",
              "      <th>xli</th>\n",
              "      <td>2021-04-22</td>\n",
              "      <td>8.677362</td>\n",
              "    </tr>\n",
              "    <tr>\n",
              "      <th>xlu</th>\n",
              "      <td>2021-04-22</td>\n",
              "      <td>0.000000</td>\n",
              "    </tr>\n",
              "    <tr>\n",
              "      <th>xlc</th>\n",
              "      <td>2021-04-22</td>\n",
              "      <td>9.158651</td>\n",
              "    </tr>\n",
              "    <tr>\n",
              "      <th>xlp</th>\n",
              "      <td>2021-04-22</td>\n",
              "      <td>0.824211</td>\n",
              "    </tr>\n",
              "    <tr>\n",
              "      <th>xlf</th>\n",
              "      <td>2021-04-22</td>\n",
              "      <td>13.482799</td>\n",
              "    </tr>\n",
              "    <tr>\n",
              "      <th>xlv</th>\n",
              "      <td>2021-04-22</td>\n",
              "      <td>4.895251</td>\n",
              "    </tr>\n",
              "    <tr>\n",
              "      <th>xle</th>\n",
              "      <td>2021-04-22</td>\n",
              "      <td>7.994070</td>\n",
              "    </tr>\n",
              "  </tbody>\n",
              "</table>\n",
              "</div>"
            ],
            "text/plain": [
              "             date      Pesos\n",
              "symbol                      \n",
              "ewz    2021-04-22   0.062610\n",
              "ewj    2021-04-22   4.491762\n",
              "ieur   2021-04-22  13.818498\n",
              "aaxj   2021-04-22   3.715714\n",
              "ewzs   2021-04-22   0.298083\n",
              "spy    2021-04-22  16.306610\n",
              "xlk    2021-04-22   5.302628\n",
              "xly    2021-04-22   3.616334\n",
              "xlb    2021-04-22   7.355417\n",
              "xli    2021-04-22   8.677362\n",
              "xlu    2021-04-22   0.000000\n",
              "xlc    2021-04-22   9.158651\n",
              "xlp    2021-04-22   0.824211\n",
              "xlf    2021-04-22  13.482799\n",
              "xlv    2021-04-22   4.895251\n",
              "xle    2021-04-22   7.994070"
            ]
          },
          "metadata": {
            "tags": []
          },
          "execution_count": 4
        }
      ]
    }
  ]
}
