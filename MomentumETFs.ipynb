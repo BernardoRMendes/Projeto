{
  "nbformat": 4,
  "nbformat_minor": 0,
  "metadata": {
    "colab": {
      "name": "MomentumETFs.ipynb",
      "provenance": [],
      "authorship_tag": "ABX9TyPthB4n8DVBx3SctGYxz0jt",
      "include_colab_link": true
    },
    "kernelspec": {
      "name": "python3",
      "display_name": "Python 3"
    },
    "language_info": {
      "name": "python"
    }
  },
  "cells": [
    {
      "cell_type": "markdown",
      "metadata": {
        "id": "view-in-github",
        "colab_type": "text"
      },
      "source": [
        "<a href=\"https://colab.research.google.com/github/BernardoRMendes/Projeto/blob/main/MomentumETFs.ipynb\" target=\"_parent\"><img src=\"https://colab.research.google.com/assets/colab-badge.svg\" alt=\"Open In Colab\"/></a>"
      ]
    },
    {
      "cell_type": "code",
      "metadata": {
        "id": "9cH6cnzIh2uk"
      },
      "source": [
        "import pandas as pd"
      ],
      "execution_count": 1,
      "outputs": []
    },
    {
      "cell_type": "code",
      "metadata": {
        "id": "Ub0eU_-qh-gL"
      },
      "source": [
        "url=\"https://raw.githubusercontent.com/BernardoRMendes/Projeto/main/dataframe.xlsx\""
      ],
      "execution_count": 2,
      "outputs": []
    },
    {
      "cell_type": "code",
      "metadata": {
        "id": "gRrkoU3uh-1a"
      },
      "source": [
        "df=pd.read_excel(url,index_col=0)"
      ],
      "execution_count": 3,
      "outputs": []
    },
    {
      "cell_type": "code",
      "metadata": {
        "colab": {
          "base_uri": "https://localhost:8080/",
          "height": 576
        },
        "id": "X18su22xiBCS",
        "outputId": "438c8004-0fb2-48fb-9bb7-dc81fec37d26"
      },
      "source": [
        "df"
      ],
      "execution_count": 4,
      "outputs": [
        {
          "output_type": "execute_result",
          "data": {
            "text/html": [
              "<div>\n",
              "<style scoped>\n",
              "    .dataframe tbody tr th:only-of-type {\n",
              "        vertical-align: middle;\n",
              "    }\n",
              "\n",
              "    .dataframe tbody tr th {\n",
              "        vertical-align: top;\n",
              "    }\n",
              "\n",
              "    .dataframe thead th {\n",
              "        text-align: right;\n",
              "    }\n",
              "</style>\n",
              "<table border=\"1\" class=\"dataframe\">\n",
              "  <thead>\n",
              "    <tr style=\"text-align: right;\">\n",
              "      <th></th>\n",
              "      <th>date</th>\n",
              "      <th>Pesos</th>\n",
              "    </tr>\n",
              "    <tr>\n",
              "      <th>symbol</th>\n",
              "      <th></th>\n",
              "      <th></th>\n",
              "    </tr>\n",
              "  </thead>\n",
              "  <tbody>\n",
              "    <tr>\n",
              "      <th>ewz</th>\n",
              "      <td>2021-04-23</td>\n",
              "      <td>0.036941</td>\n",
              "    </tr>\n",
              "    <tr>\n",
              "      <th>ewj</th>\n",
              "      <td>2021-04-23</td>\n",
              "      <td>3.863661</td>\n",
              "    </tr>\n",
              "    <tr>\n",
              "      <th>ieur</th>\n",
              "      <td>2021-04-23</td>\n",
              "      <td>13.030639</td>\n",
              "    </tr>\n",
              "    <tr>\n",
              "      <th>aaxj</th>\n",
              "      <td>2021-04-23</td>\n",
              "      <td>3.144924</td>\n",
              "    </tr>\n",
              "    <tr>\n",
              "      <th>ewzs</th>\n",
              "      <td>2021-04-23</td>\n",
              "      <td>0.249633</td>\n",
              "    </tr>\n",
              "    <tr>\n",
              "      <th>spy</th>\n",
              "      <td>2021-04-23</td>\n",
              "      <td>16.156096</td>\n",
              "    </tr>\n",
              "    <tr>\n",
              "      <th>xlk</th>\n",
              "      <td>2021-04-23</td>\n",
              "      <td>5.091661</td>\n",
              "    </tr>\n",
              "    <tr>\n",
              "      <th>xly</th>\n",
              "      <td>2021-04-23</td>\n",
              "      <td>3.699562</td>\n",
              "    </tr>\n",
              "    <tr>\n",
              "      <th>xlb</th>\n",
              "      <td>2021-04-23</td>\n",
              "      <td>7.652924</td>\n",
              "    </tr>\n",
              "    <tr>\n",
              "      <th>xli</th>\n",
              "      <td>2021-04-23</td>\n",
              "      <td>9.854595</td>\n",
              "    </tr>\n",
              "    <tr>\n",
              "      <th>xlu</th>\n",
              "      <td>2021-04-23</td>\n",
              "      <td>0.000000</td>\n",
              "    </tr>\n",
              "    <tr>\n",
              "      <th>xlc</th>\n",
              "      <td>2021-04-23</td>\n",
              "      <td>8.942083</td>\n",
              "    </tr>\n",
              "    <tr>\n",
              "      <th>xlp</th>\n",
              "      <td>2021-04-23</td>\n",
              "      <td>0.846681</td>\n",
              "    </tr>\n",
              "    <tr>\n",
              "      <th>xlf</th>\n",
              "      <td>2021-04-23</td>\n",
              "      <td>13.361183</td>\n",
              "    </tr>\n",
              "    <tr>\n",
              "      <th>xlv</th>\n",
              "      <td>2021-04-23</td>\n",
              "      <td>5.231156</td>\n",
              "    </tr>\n",
              "    <tr>\n",
              "      <th>xle</th>\n",
              "      <td>2021-04-23</td>\n",
              "      <td>8.838262</td>\n",
              "    </tr>\n",
              "  </tbody>\n",
              "</table>\n",
              "</div>"
            ],
            "text/plain": [
              "             date      Pesos\n",
              "symbol                      \n",
              "ewz    2021-04-23   0.036941\n",
              "ewj    2021-04-23   3.863661\n",
              "ieur   2021-04-23  13.030639\n",
              "aaxj   2021-04-23   3.144924\n",
              "ewzs   2021-04-23   0.249633\n",
              "spy    2021-04-23  16.156096\n",
              "xlk    2021-04-23   5.091661\n",
              "xly    2021-04-23   3.699562\n",
              "xlb    2021-04-23   7.652924\n",
              "xli    2021-04-23   9.854595\n",
              "xlu    2021-04-23   0.000000\n",
              "xlc    2021-04-23   8.942083\n",
              "xlp    2021-04-23   0.846681\n",
              "xlf    2021-04-23  13.361183\n",
              "xlv    2021-04-23   5.231156\n",
              "xle    2021-04-23   8.838262"
            ]
          },
          "metadata": {
            "tags": []
          },
          "execution_count": 4
        }
      ]
    }
  ]
}