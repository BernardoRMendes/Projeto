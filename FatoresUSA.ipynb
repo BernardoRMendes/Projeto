{
  "nbformat": 4,
  "nbformat_minor": 0,
  "metadata": {
    "colab": {
      "name": "FatoresUSA.ipynb",
      "provenance": [],
      "authorship_tag": "ABX9TyPhL8SAqufh0bYB8L3VgGBm",
      "include_colab_link": true
    },
    "kernelspec": {
      "name": "python3",
      "display_name": "Python 3"
    },
    "language_info": {
      "name": "python"
    }
  },
  "cells": [
    {
      "cell_type": "markdown",
      "metadata": {
        "id": "view-in-github",
        "colab_type": "text"
      },
      "source": [
        "<a href=\"https://colab.research.google.com/github/BernardoRMendes/Projeto/blob/main/FatoresUSA.ipynb\" target=\"_parent\"><img src=\"https://colab.research.google.com/assets/colab-badge.svg\" alt=\"Open In Colab\"/></a>"
      ]
    },
    {
      "cell_type": "code",
      "metadata": {
        "colab": {
          "base_uri": "https://localhost:8080/"
        },
        "id": "ep4icGB4YczO",
        "outputId": "a8e9ba59-8a70-40f0-bb94-6b905d2ebdc7"
      },
      "source": [
        "import pandas as pd\n",
        "!pip install yfinance\n",
        "import yfinance as yf\n",
        "import statsmodels.formula.api as smf\n",
        "import pandas_datareader.data as web\n",
        "import matplotlib.pyplot as plt\n",
        "import numpy as np\n",
        "import warnings\n",
        "warnings.simplefilter(action='ignore', category=FutureWarning)"
      ],
      "execution_count": 1,
      "outputs": [
        {
          "output_type": "stream",
          "text": [
            "Requirement already satisfied: yfinance in /usr/local/lib/python3.7/dist-packages (0.1.59)\n",
            "Requirement already satisfied: multitasking>=0.0.7 in /usr/local/lib/python3.7/dist-packages (from yfinance) (0.0.9)\n",
            "Requirement already satisfied: numpy>=1.15 in /usr/local/lib/python3.7/dist-packages (from yfinance) (1.19.5)\n",
            "Requirement already satisfied: lxml>=4.5.1 in /usr/local/lib/python3.7/dist-packages (from yfinance) (4.6.3)\n",
            "Requirement already satisfied: pandas>=0.24 in /usr/local/lib/python3.7/dist-packages (from yfinance) (1.1.5)\n",
            "Requirement already satisfied: requests>=2.20 in /usr/local/lib/python3.7/dist-packages (from yfinance) (2.23.0)\n",
            "Requirement already satisfied: pytz>=2017.2 in /usr/local/lib/python3.7/dist-packages (from pandas>=0.24->yfinance) (2018.9)\n",
            "Requirement already satisfied: python-dateutil>=2.7.3 in /usr/local/lib/python3.7/dist-packages (from pandas>=0.24->yfinance) (2.8.1)\n",
            "Requirement already satisfied: urllib3!=1.25.0,!=1.25.1,<1.26,>=1.21.1 in /usr/local/lib/python3.7/dist-packages (from requests>=2.20->yfinance) (1.24.3)\n",
            "Requirement already satisfied: idna<3,>=2.5 in /usr/local/lib/python3.7/dist-packages (from requests>=2.20->yfinance) (2.10)\n",
            "Requirement already satisfied: chardet<4,>=3.0.2 in /usr/local/lib/python3.7/dist-packages (from requests>=2.20->yfinance) (3.0.4)\n",
            "Requirement already satisfied: certifi>=2017.4.17 in /usr/local/lib/python3.7/dist-packages (from requests>=2.20->yfinance) (2020.12.5)\n",
            "Requirement already satisfied: six>=1.5 in /usr/local/lib/python3.7/dist-packages (from python-dateutil>=2.7.3->pandas>=0.24->yfinance) (1.15.0)\n"
          ],
          "name": "stdout"
        },
        {
          "output_type": "stream",
          "text": [
            "/usr/local/lib/python3.7/dist-packages/statsmodels/tools/_testing.py:19: FutureWarning: pandas.util.testing is deprecated. Use the functions in the public API at pandas.testing instead.\n",
            "  import pandas.util.testing as tm\n"
          ],
          "name": "stderr"
        }
      ]
    },
    {
      "cell_type": "markdown",
      "metadata": {
        "id": "u4oCtaK5iLZJ"
      },
      "source": [
        "**Nesse estudo veremos como decompor os retornos de um portfólio de acordo com fatores de risco.**\n",
        "\n",
        "**Para isso, foi utilizado o modelo de Carhart, com 4 fatores, representando a combinação dos 3 fatores de Fama-French com o Fator de Momentum:**\n",
        "\n",
        "**Rm-Rf: retorno de mercado menos a taxa livre de risco.**\n",
        "\n",
        "**SMB: Representa o fator Size (Small Caps - Large Caps)**\n",
        "\n",
        "**HML: Representa o fator Value (Valor - Crescimento)**\n",
        "\n",
        "**Mom: Representa o fator Momentum (Ações com maior força relativa - Ações com menor força relativa)**\n",
        "\n",
        "**Detalhes da metodologia de cada fator:**\n",
        "\n",
        "http://mba.tuck.dartmouth.edu/pages/faculty/ken.french/data_library.html"
      ]
    },
    {
      "cell_type": "code",
      "metadata": {
        "id": "nKj33MRxZ-Fr"
      },
      "source": [
        "from pandas_datareader.famafrench import get_available_datasets"
      ],
      "execution_count": 2,
      "outputs": []
    },
    {
      "cell_type": "markdown",
      "metadata": {
        "id": "77-YOu4lmQgC"
      },
      "source": [
        "**Datasets disponíveis para download:**"
      ]
    },
    {
      "cell_type": "code",
      "metadata": {
        "colab": {
          "base_uri": "https://localhost:8080/"
        },
        "id": "xUPDycM3aJ1l",
        "outputId": "8918aece-ec03-406e-fd61-2277c90c4cba"
      },
      "source": [
        "get_available_datasets()"
      ],
      "execution_count": 3,
      "outputs": [
        {
          "output_type": "execute_result",
          "data": {
            "text/plain": [
              "['F-F_Research_Data_Factors',\n",
              " 'F-F_Research_Data_Factors_weekly',\n",
              " 'F-F_Research_Data_Factors_daily',\n",
              " 'F-F_Research_Data_5_Factors_2x3',\n",
              " 'F-F_Research_Data_5_Factors_2x3_daily',\n",
              " 'Portfolios_Formed_on_ME',\n",
              " 'Portfolios_Formed_on_ME_Wout_Div',\n",
              " 'Portfolios_Formed_on_ME_Daily',\n",
              " 'Portfolios_Formed_on_BE-ME',\n",
              " 'Portfolios_Formed_on_BE-ME_Wout_Div',\n",
              " 'Portfolios_Formed_on_BE-ME_Daily',\n",
              " 'Portfolios_Formed_on_OP',\n",
              " 'Portfolios_Formed_on_OP_Wout_Div',\n",
              " 'Portfolios_Formed_on_OP_Daily',\n",
              " 'Portfolios_Formed_on_INV',\n",
              " 'Portfolios_Formed_on_INV_Wout_Div',\n",
              " 'Portfolios_Formed_on_INV_Daily',\n",
              " '6_Portfolios_2x3',\n",
              " '6_Portfolios_2x3_Wout_Div',\n",
              " '6_Portfolios_2x3_weekly',\n",
              " '6_Portfolios_2x3_daily',\n",
              " '25_Portfolios_5x5',\n",
              " '25_Portfolios_5x5_Wout_Div',\n",
              " '25_Portfolios_5x5_Daily',\n",
              " '100_Portfolios_10x10',\n",
              " '100_Portfolios_10x10_Wout_Div',\n",
              " '100_Portfolios_10x10_Daily',\n",
              " '6_Portfolios_ME_OP_2x3',\n",
              " '6_Portfolios_ME_OP_2x3_Wout_Div',\n",
              " '6_Portfolios_ME_OP_2x3_daily',\n",
              " '25_Portfolios_ME_OP_5x5',\n",
              " '25_Portfolios_ME_OP_5x5_Wout_Div',\n",
              " '25_Portfolios_ME_OP_5x5_daily',\n",
              " '100_Portfolios_ME_OP_10x10',\n",
              " '100_Portfolios_10x10_ME_OP_Wout_Div',\n",
              " '100_Portfolios_ME_OP_10x10_daily',\n",
              " '6_Portfolios_ME_INV_2x3',\n",
              " '6_Portfolios_ME_INV_2x3_Wout_Div',\n",
              " '6_Portfolios_ME_INV_2x3_daily',\n",
              " '25_Portfolios_ME_INV_5x5',\n",
              " '25_Portfolios_ME_INV_5x5_Wout_Div',\n",
              " '25_Portfolios_ME_INV_5x5_daily',\n",
              " '100_Portfolios_ME_INV_10x10',\n",
              " '100_Portfolios_10x10_ME_INV_Wout_Div',\n",
              " '100_Portfolios_ME_INV_10x10_daily',\n",
              " '25_Portfolios_BEME_OP_5x5',\n",
              " '25_Portfolios_BEME_OP_5x5_Wout_Div',\n",
              " '25_Portfolios_BEME_OP_5x5_daily',\n",
              " '25_Portfolios_BEME_INV_5x5',\n",
              " '25_Portfolios_BEME_INV_5x5_Wout_Div',\n",
              " '25_Portfolios_BEME_INV_5x5_daily',\n",
              " '25_Portfolios_OP_INV_5x5',\n",
              " '25_Portfolios_OP_INV_5x5_Wout_Div',\n",
              " '25_Portfolios_OP_INV_5x5_daily',\n",
              " '32_Portfolios_ME_BEME_OP_2x4x4',\n",
              " '32_Portfolios_ME_BEME_OP_2x4x4_Wout_Div',\n",
              " '32_Portfolios_ME_BEME_INV_2x4x4',\n",
              " '32_Portfolios_ME_BEME_INV_2x4x4_Wout_Div',\n",
              " '32_Portfolios_ME_OP_INV_2x4x4',\n",
              " '32_Portfolios_ME_OP_INV_2x4x4_Wout_Div',\n",
              " 'Portfolios_Formed_on_E-P',\n",
              " 'Portfolios_Formed_on_E-P_Wout_Div',\n",
              " 'Portfolios_Formed_on_CF-P',\n",
              " 'Portfolios_Formed_on_CF-P_Wout_Div',\n",
              " 'Portfolios_Formed_on_D-P',\n",
              " 'Portfolios_Formed_on_D-P_Wout_Div',\n",
              " '6_Portfolios_ME_EP_2x3',\n",
              " '6_Portfolios_ME_EP_2x3_Wout_Div',\n",
              " '6_Portfolios_ME_CFP_2x3',\n",
              " '6_Portfolios_ME_CFP_2x3_Wout_Div',\n",
              " '6_Portfolios_ME_DP_2x3',\n",
              " '6_Portfolios_ME_DP_2x3_Wout_Div',\n",
              " 'F-F_Momentum_Factor',\n",
              " 'F-F_Momentum_Factor_daily',\n",
              " '6_Portfolios_ME_Prior_12_2',\n",
              " '6_Portfolios_ME_Prior_12_2_Daily',\n",
              " '25_Portfolios_ME_Prior_12_2',\n",
              " '25_Portfolios_ME_Prior_12_2_Daily',\n",
              " '10_Portfolios_Prior_12_2',\n",
              " '10_Portfolios_Prior_12_2_Daily',\n",
              " 'F-F_ST_Reversal_Factor',\n",
              " 'F-F_ST_Reversal_Factor_daily',\n",
              " '6_Portfolios_ME_Prior_1_0',\n",
              " '6_Portfolios_ME_Prior_1_0_Daily',\n",
              " '25_Portfolios_ME_Prior_1_0',\n",
              " '25_Portfolios_ME_Prior_1_0_Daily',\n",
              " '10_Portfolios_Prior_1_0',\n",
              " '10_Portfolios_Prior_1_0_Daily',\n",
              " 'F-F_LT_Reversal_Factor',\n",
              " 'F-F_LT_Reversal_Factor_daily',\n",
              " '6_Portfolios_ME_Prior_60_13',\n",
              " '6_Portfolios_ME_Prior_60_13_Daily',\n",
              " '25_Portfolios_ME_Prior_60_13',\n",
              " '25_Portfolios_ME_Prior_60_13_Daily',\n",
              " '10_Portfolios_Prior_60_13',\n",
              " '10_Portfolios_Prior_60_13_Daily',\n",
              " 'Portfolios_Formed_on_AC',\n",
              " '25_Portfolios_ME_AC_5x5',\n",
              " 'Portfolios_Formed_on_BETA',\n",
              " '25_Portfolios_ME_BETA_5x5',\n",
              " 'Portfolios_Formed_on_NI',\n",
              " '25_Portfolios_ME_NI_5x5',\n",
              " 'Portfolios_Formed_on_VAR',\n",
              " '25_Portfolios_ME_VAR_5x5',\n",
              " 'Portfolios_Formed_on_RESVAR',\n",
              " '25_Portfolios_ME_RESVAR_5x5',\n",
              " '5_Industry_Portfolios',\n",
              " '5_Industry_Portfolios_Wout_Div',\n",
              " '5_Industry_Portfolios_daily',\n",
              " '10_Industry_Portfolios',\n",
              " '10_Industry_Portfolios_Wout_Div',\n",
              " '10_Industry_Portfolios_daily',\n",
              " '12_Industry_Portfolios',\n",
              " '12_Industry_Portfolios_Wout_Div',\n",
              " '12_Industry_Portfolios_daily',\n",
              " '17_Industry_Portfolios',\n",
              " '17_Industry_Portfolios_Wout_Div',\n",
              " '17_Industry_Portfolios_daily',\n",
              " '30_Industry_Portfolios',\n",
              " '30_Industry_Portfolios_Wout_Div',\n",
              " '30_Industry_Portfolios_daily',\n",
              " '38_Industry_Portfolios',\n",
              " '38_Industry_Portfolios_Wout_Div',\n",
              " '38_Industry_Portfolios_daily',\n",
              " '48_Industry_Portfolios',\n",
              " '48_Industry_Portfolios_Wout_Div',\n",
              " '48_Industry_Portfolios_daily',\n",
              " '49_Industry_Portfolios',\n",
              " '49_Industry_Portfolios_Wout_Div',\n",
              " '49_Industry_Portfolios_daily',\n",
              " 'ME_Breakpoints',\n",
              " 'BE-ME_Breakpoints',\n",
              " 'OP_Breakpoints',\n",
              " 'INV_Breakpoints',\n",
              " 'E-P_Breakpoints',\n",
              " 'CF-P_Breakpoints',\n",
              " 'D-P_Breakpoints',\n",
              " 'Prior_2-12_Breakpoints',\n",
              " 'Developed_3_Factors',\n",
              " 'Developed_3_Factors_Daily',\n",
              " 'Developed_ex_US_3_Factors',\n",
              " 'Developed_ex_US_3_Factors_Daily',\n",
              " 'Europe_3_Factors',\n",
              " 'Europe_3_Factors_Daily',\n",
              " 'Japan_3_Factors',\n",
              " 'Japan_3_Factors_Daily',\n",
              " 'Asia_Pacific_ex_Japan_3_Factors',\n",
              " 'Asia_Pacific_ex_Japan_3_Factors_Daily',\n",
              " 'North_America_3_Factors',\n",
              " 'North_America_3_Factors_Daily',\n",
              " 'Developed_5_Factors',\n",
              " 'Developed_5_Factors_Daily',\n",
              " 'Developed_ex_US_5_Factors',\n",
              " 'Developed_ex_US_5_Factors_Daily',\n",
              " 'Europe_5_Factors',\n",
              " 'Europe_5_Factors_Daily',\n",
              " 'Japan_5_Factors',\n",
              " 'Japan_5_Factors_Daily',\n",
              " 'Asia_Pacific_ex_Japan_5_Factors',\n",
              " 'Asia_Pacific_ex_Japan_5_Factors_Daily',\n",
              " 'North_America_5_Factors',\n",
              " 'North_America_5_Factors_Daily',\n",
              " 'Developed_Mom_Factor',\n",
              " 'Developed_Mom_Factor_Daily',\n",
              " 'Developed_ex_US_Mom_Factor',\n",
              " 'Developed_ex_US_Mom_Factor_Daily',\n",
              " 'Europe_Mom_Factor',\n",
              " 'Europe_Mom_Factor_Daily',\n",
              " 'Japan_Mom_Factor',\n",
              " 'Japan_Mom_Factor_Daily',\n",
              " 'Asia_Pacific_ex_Japan_MOM_Factor',\n",
              " 'Asia_Pacific_ex_Japan_MOM_Factor_Daily',\n",
              " 'North_America_Mom_Factor',\n",
              " 'North_America_Mom_Factor_Daily',\n",
              " 'Developed_6_Portfolios_ME_BE-ME',\n",
              " 'Developed_6_Portfolios_ME_BE-ME_daily',\n",
              " 'Developed_ex_US_6_Portfolios_ME_BE-ME',\n",
              " 'Developed_ex_US_6_Portfolios_ME_BE-ME_daily',\n",
              " 'Europe_6_Portfolios_ME_BE-ME',\n",
              " 'Europe_6_Portfolios_ME_BE-ME_daily',\n",
              " 'Japan_6_Portfolios_ME_BE-ME',\n",
              " 'Japan_6_Portfolios_ME_BE-ME_daily',\n",
              " 'Asia_Pacific_ex_Japan_6_Portfolios_ME_BE-ME',\n",
              " 'Asia_Pacific_ex_Japan_6_Portfolios_ME_BE-ME_daily',\n",
              " 'North_America_6_Portfolios_ME_BE-ME',\n",
              " 'North_America_6_Portfolios_ME_BE-ME_daily',\n",
              " 'Developed_25_Portfolios_ME_BE-ME',\n",
              " 'Developed_25_Portfolios_ME_BE-ME_daily',\n",
              " 'Developed_ex_US_25_Portfolios_ME_BE-ME',\n",
              " 'Developed_ex_US_25_Portfolios_ME_BE-ME_daily',\n",
              " 'Europe_25_Portfolios_ME_BE-ME',\n",
              " 'Europe_25_Portfolios_ME_BE-ME_daily',\n",
              " 'Japan_25_Portfolios_ME_BE-ME',\n",
              " 'Japan_25_Portfolios_ME_BE-ME_daily',\n",
              " 'Asia_Pacific_ex_Japan_25_Portfolios_ME_BE-ME',\n",
              " 'Asia_Pacific_ex_Japan_25_Portfolios_ME_BE-ME_daily',\n",
              " 'North_America_25_Portfolios_ME_BE-ME',\n",
              " 'North_America_25_Portfolios_ME_BE-ME_daily',\n",
              " 'Developed_6_Portfolios_ME_OP',\n",
              " 'Developed_6_Portfolios_ME_OP_Daily',\n",
              " 'Developed_ex_US_6_Portfolios_ME_OP',\n",
              " 'Developed_ex_US_6_Portfolios_ME_OP_Daily',\n",
              " 'Europe_6_Portfolios_ME_OP',\n",
              " 'Europe_6_Portfolios_ME_OP_Daily',\n",
              " 'Japan_6_Portfolios_ME_OP',\n",
              " 'Japan_6_Portfolios_ME_OP_Daily',\n",
              " 'Asia_Pacific_ex_Japan_6_Portfolios_ME_OP',\n",
              " 'Asia_Pacific_ex_Japan_6_Portfolios_ME_OP_Daily',\n",
              " 'North_America_6_Portfolios_ME_OP',\n",
              " 'North_America_6_Portfolios_ME_OP_Daily',\n",
              " 'Developed_25_Portfolios_ME_OP',\n",
              " 'Developed_25_Portfolios_ME_OP_Daily',\n",
              " 'Developed_ex_US_25_Portfolios_ME_OP',\n",
              " 'Developed_ex_US_25_Portfolios_ME_OP_Daily',\n",
              " 'Europe_25_Portfolios_ME_OP',\n",
              " 'Europe_25_Portfolios_ME_OP_Daily',\n",
              " 'Japan_25_Portfolios_ME_OP',\n",
              " 'Japan_25_Portfolios_ME_OP_Daily',\n",
              " 'Asia_Pacific_ex_Japan_25_Portfolios_ME_OP',\n",
              " 'Asia_Pacific_ex_Japan_25_Portfolios_ME_OP_Daily',\n",
              " 'North_America_25_Portfolios_ME_OP',\n",
              " 'North_America_25_Portfolios_ME_OP_Daily',\n",
              " 'Developed_6_Portfolios_ME_INV',\n",
              " 'Developed_6_Portfolios_ME_INV_Daily',\n",
              " 'Developed_ex_US_6_Portfolios_ME_INV',\n",
              " 'Developed_ex_US_6_Portfolios_ME_INV_Daily',\n",
              " 'Europe_6_Portfolios_ME_INV',\n",
              " 'Europe_6_Portfolios_ME_INV_Daily',\n",
              " 'Japan_6_Portfolios_ME_INV',\n",
              " 'Japan_6_Portfolios_ME_INV_Daily',\n",
              " 'Asia_Pacific_ex_Japan_6_Portfolios_ME_INV',\n",
              " 'Asia_Pacific_ex_Japan_6_Portfolios_ME_INV_Daily',\n",
              " 'North_America_6_Portfolios_ME_INV',\n",
              " 'North_America_6_Portfolios_ME_INV_Daily',\n",
              " 'Developed_25_Portfolios_ME_INV',\n",
              " 'Developed_25_Portfolios_ME_INV_Daily',\n",
              " 'Developed_ex_US_25_Portfolios_ME_INV',\n",
              " 'Developed_ex_US_25_Portfolios_ME_INV_Daily',\n",
              " 'Europe_25_Portfolios_ME_INV',\n",
              " 'Europe_25_Portfolios_ME_INV_Daily',\n",
              " 'Japan_25_Portfolios_ME_INV',\n",
              " 'Japan_25_Portfolios_ME_INV_Daily',\n",
              " 'Asia_Pacific_ex_Japan_25_Portfolios_ME_INV',\n",
              " 'Asia_Pacific_ex_Japan_25_Portfolios_ME_INV_Daily',\n",
              " 'North_America_25_Portfolios_ME_INV',\n",
              " 'North_America_25_Portfolios_ME_INV_Daily',\n",
              " 'Developed_6_Portfolios_ME_Prior_12_2',\n",
              " 'Developed_6_Portfolios_ME_Prior_250_20_daily',\n",
              " 'Developed_ex_US_6_Portfolios_ME_Prior_12_2',\n",
              " 'Developed_ex_US_6_Portfolios_ME_Prior_250_20_daily',\n",
              " 'Europe_6_Portfolios_ME_Prior_12_2',\n",
              " 'Europe_6_Portfolios_ME_Prior_250_20_daily',\n",
              " 'Japan_6_Portfolios_ME_Prior_12_2',\n",
              " 'Japan_6_Portfolios_ME_Prior_250_20_daily',\n",
              " 'Asia_Pacific_ex_Japan_6_Portfolios_ME_Prior_12_2',\n",
              " 'Asia_Pacific_ex_Japan_6_Portfolios_ME_Prior_250_20_daily',\n",
              " 'North_America_6_Portfolios_ME_Prior_12_2',\n",
              " 'North_America_6_Portfolios_ME_Prior_250_20_daily',\n",
              " 'Developed_25_Portfolios_ME_Prior_12_2',\n",
              " 'Developed_25_Portfolios_ME_Prior_250_20_daily',\n",
              " 'Developed_ex_US_25_Portfolios_ME_Prior_12_2',\n",
              " 'Developed_ex_US_25_Portfolios_ME_Prior_250_20_daily',\n",
              " 'Europe_25_Portfolios_ME_Prior_12_2',\n",
              " 'Europe_25_Portfolios_ME_Prior_250_20_daily',\n",
              " 'Japan_25_Portfolios_ME_Prior_12_2',\n",
              " 'Japan_25_Portfolios_ME_Prior_250_20_daily',\n",
              " 'Asia_Pacific_ex_Japan_25_Portfolios_ME_Prior_12_2',\n",
              " 'Asia_Pacific_ex_Japan_25_Portfolios_ME_Prior_250_20_daily',\n",
              " 'North_America_25_Portfolios_ME_Prior_12_2',\n",
              " 'North_America_25_Portfolios_ME_Prior_250_20_daily',\n",
              " 'Developed_32_Portfolios_ME_BE-ME_OP_2x4x4',\n",
              " 'Developed_ex_US_32_Portfolios_ME_BE-ME_OP_2x4x4',\n",
              " 'Europe_32_Portfolios_ME_BE-ME_OP_2x4x4',\n",
              " 'Japan_32_Portfolios_ME_BE-ME_OP_2x4x4',\n",
              " 'Asia_Pacific_ex_Japan_32_Portfolios_ME_BE-ME_OP_2x4x4',\n",
              " 'North_America_32_Portfolios_ME_BE-ME_OP_2x4x4',\n",
              " 'Developed_32_Portfolios_ME_BE-ME_INV(TA)_2x4x4',\n",
              " 'Developed_ex_US_32_Portfolios_ME_BE-ME_INV(TA)_2x4x4',\n",
              " 'Europe_32_Portfolios_ME_BE-ME_INV(TA)_2x4x4',\n",
              " 'Japan_32_Portfolios_ME_BE-ME_INV(TA)_2x4x4',\n",
              " 'Asia_Pacific_ex_Japan_32_Portfolios_ME_BE-ME_INV(TA)_2x4x4',\n",
              " 'North_America_32_Portfolios_ME_BE-ME_INV(TA)_2x4x4',\n",
              " 'Developed_32_Portfolios_ME_INV(TA)_OP_2x4x4',\n",
              " 'Developed_ex_US_32_Portfolios_ME_INV(TA)_OP_2x4x4',\n",
              " 'Europe_32_Portfolios_ME_INV(TA)_OP_2x4x4',\n",
              " 'Japan_32_Portfolios_ME_INV(TA)_OP_2x4x4',\n",
              " 'Asia_Pacific_ex_Japan_32_Portfolios_ME_INV(TA)_OP_2x4x4',\n",
              " 'North_America_32_Portfolios_ME_INV(TA)_OP_2x4x4',\n",
              " 'Emerging_5_Factors',\n",
              " 'Emerging_MOM_Factor',\n",
              " 'Emerging_Markets_6_Portfolios_ME_BE-ME',\n",
              " 'Emerging_Markets_6_Portfolios_ME_OP',\n",
              " 'Emerging_Markets_6_Portfolios_ME_INV',\n",
              " 'Emerging_Markets_6_Portfolios_ME_Prior_12_2',\n",
              " 'Emerging_Markets_4_Portfolios_BE-ME_OP',\n",
              " 'Emerging_Markets_4_Portfolios_OP_INV',\n",
              " 'Emerging_Markets_4_Portfolios_BE-ME_INV']"
            ]
          },
          "metadata": {
            "tags": []
          },
          "execution_count": 3
        }
      ]
    },
    {
      "cell_type": "code",
      "metadata": {
        "id": "3uiIYTiDaLD1"
      },
      "source": [
        "ff_dict = web.DataReader('F-F_Research_Data_Factors_daily', 'famafrench', \n",
        "                         start='2019-01-01', end='2020-12-31')\n",
        "ff_dict2= web.DataReader('F-F_Momentum_Factor_daily', 'famafrench', \n",
        "                         start='2019-01-01', end='2020-12-31')"
      ],
      "execution_count": 4,
      "outputs": []
    },
    {
      "cell_type": "code",
      "metadata": {
        "colab": {
          "base_uri": "https://localhost:8080/"
        },
        "id": "wLDRN66RaNul",
        "outputId": "85b93563-45f1-411a-fc91-4299dc9cc168"
      },
      "source": [
        "ff_dict.keys()"
      ],
      "execution_count": 5,
      "outputs": [
        {
          "output_type": "execute_result",
          "data": {
            "text/plain": [
              "dict_keys([0, 'DESCR'])"
            ]
          },
          "metadata": {
            "tags": []
          },
          "execution_count": 5
        }
      ]
    },
    {
      "cell_type": "code",
      "metadata": {
        "colab": {
          "base_uri": "https://localhost:8080/"
        },
        "id": "KRGOx_4jaPne",
        "outputId": "63ff0587-b110-49b7-a4db-e09115e318ad"
      },
      "source": [
        "print(ff_dict['DESCR'])"
      ],
      "execution_count": 6,
      "outputs": [
        {
          "output_type": "stream",
          "text": [
            "F-F Research Data Factors daily\n",
            "-------------------------------\n",
            "\n",
            "This file was created by CMPT_ME_BEME_RETS_DAILY using the 202103 CRSP database. The Tbill return is the simple daily rate that, over the number of trading days in the month, compounds to 1-month TBill rate from Ibbotson and Associates Inc. Copyright 2021 Kenneth R. French\n",
            "\n",
            "  0 : (505 rows x 4 cols)\n"
          ],
          "name": "stdout"
        }
      ]
    },
    {
      "cell_type": "code",
      "metadata": {
        "colab": {
          "base_uri": "https://localhost:8080/",
          "height": 235
        },
        "id": "QnV1whkQaQ8m",
        "outputId": "4de81604-30b0-4136-ec2d-c3670134d23b"
      },
      "source": [
        "ff_dict[0].head()"
      ],
      "execution_count": 7,
      "outputs": [
        {
          "output_type": "execute_result",
          "data": {
            "text/html": [
              "<div>\n",
              "<style scoped>\n",
              "    .dataframe tbody tr th:only-of-type {\n",
              "        vertical-align: middle;\n",
              "    }\n",
              "\n",
              "    .dataframe tbody tr th {\n",
              "        vertical-align: top;\n",
              "    }\n",
              "\n",
              "    .dataframe thead th {\n",
              "        text-align: right;\n",
              "    }\n",
              "</style>\n",
              "<table border=\"1\" class=\"dataframe\">\n",
              "  <thead>\n",
              "    <tr style=\"text-align: right;\">\n",
              "      <th></th>\n",
              "      <th>Mkt-RF</th>\n",
              "      <th>SMB</th>\n",
              "      <th>HML</th>\n",
              "      <th>RF</th>\n",
              "    </tr>\n",
              "    <tr>\n",
              "      <th>Date</th>\n",
              "      <th></th>\n",
              "      <th></th>\n",
              "      <th></th>\n",
              "      <th></th>\n",
              "    </tr>\n",
              "  </thead>\n",
              "  <tbody>\n",
              "    <tr>\n",
              "      <th>2019-01-02</th>\n",
              "      <td>0.23</td>\n",
              "      <td>0.56</td>\n",
              "      <td>1.10</td>\n",
              "      <td>0.01</td>\n",
              "    </tr>\n",
              "    <tr>\n",
              "      <th>2019-01-03</th>\n",
              "      <td>-2.45</td>\n",
              "      <td>0.40</td>\n",
              "      <td>1.21</td>\n",
              "      <td>0.01</td>\n",
              "    </tr>\n",
              "    <tr>\n",
              "      <th>2019-01-04</th>\n",
              "      <td>3.55</td>\n",
              "      <td>0.41</td>\n",
              "      <td>-0.70</td>\n",
              "      <td>0.01</td>\n",
              "    </tr>\n",
              "    <tr>\n",
              "      <th>2019-01-07</th>\n",
              "      <td>0.94</td>\n",
              "      <td>0.97</td>\n",
              "      <td>-0.77</td>\n",
              "      <td>0.01</td>\n",
              "    </tr>\n",
              "    <tr>\n",
              "      <th>2019-01-08</th>\n",
              "      <td>1.01</td>\n",
              "      <td>0.53</td>\n",
              "      <td>-0.64</td>\n",
              "      <td>0.01</td>\n",
              "    </tr>\n",
              "  </tbody>\n",
              "</table>\n",
              "</div>"
            ],
            "text/plain": [
              "            Mkt-RF   SMB   HML    RF\n",
              "Date                                \n",
              "2019-01-02    0.23  0.56  1.10  0.01\n",
              "2019-01-03   -2.45  0.40  1.21  0.01\n",
              "2019-01-04    3.55  0.41 -0.70  0.01\n",
              "2019-01-07    0.94  0.97 -0.77  0.01\n",
              "2019-01-08    1.01  0.53 -0.64  0.01"
            ]
          },
          "metadata": {
            "tags": []
          },
          "execution_count": 7
        }
      ]
    },
    {
      "cell_type": "code",
      "metadata": {
        "id": "aICDXhEPeTMB"
      },
      "source": [
        "ff_dict=pd.DataFrame(ff_dict[0])"
      ],
      "execution_count": 8,
      "outputs": []
    },
    {
      "cell_type": "code",
      "metadata": {
        "id": "jRFhIo33eutZ"
      },
      "source": [
        "ff_dict2=pd.DataFrame(ff_dict2[0])"
      ],
      "execution_count": 9,
      "outputs": []
    },
    {
      "cell_type": "code",
      "metadata": {
        "id": "-KMRewjBev2Q"
      },
      "source": [
        "ff_dict=ff_dict.join(ff_dict2)"
      ],
      "execution_count": 10,
      "outputs": []
    },
    {
      "cell_type": "code",
      "metadata": {
        "colab": {
          "base_uri": "https://localhost:8080/",
          "height": 450
        },
        "id": "dvZHDAtze1Wn",
        "outputId": "ceb2cd9a-dded-469c-8b08-7dffba9fb14b"
      },
      "source": [
        "ff_dict"
      ],
      "execution_count": 11,
      "outputs": [
        {
          "output_type": "execute_result",
          "data": {
            "text/html": [
              "<div>\n",
              "<style scoped>\n",
              "    .dataframe tbody tr th:only-of-type {\n",
              "        vertical-align: middle;\n",
              "    }\n",
              "\n",
              "    .dataframe tbody tr th {\n",
              "        vertical-align: top;\n",
              "    }\n",
              "\n",
              "    .dataframe thead th {\n",
              "        text-align: right;\n",
              "    }\n",
              "</style>\n",
              "<table border=\"1\" class=\"dataframe\">\n",
              "  <thead>\n",
              "    <tr style=\"text-align: right;\">\n",
              "      <th></th>\n",
              "      <th>Mkt-RF</th>\n",
              "      <th>SMB</th>\n",
              "      <th>HML</th>\n",
              "      <th>RF</th>\n",
              "      <th>Mom</th>\n",
              "    </tr>\n",
              "    <tr>\n",
              "      <th>Date</th>\n",
              "      <th></th>\n",
              "      <th></th>\n",
              "      <th></th>\n",
              "      <th></th>\n",
              "      <th></th>\n",
              "    </tr>\n",
              "  </thead>\n",
              "  <tbody>\n",
              "    <tr>\n",
              "      <th>2019-01-02</th>\n",
              "      <td>0.23</td>\n",
              "      <td>0.56</td>\n",
              "      <td>1.10</td>\n",
              "      <td>0.01</td>\n",
              "      <td>-2.32</td>\n",
              "    </tr>\n",
              "    <tr>\n",
              "      <th>2019-01-03</th>\n",
              "      <td>-2.45</td>\n",
              "      <td>0.40</td>\n",
              "      <td>1.21</td>\n",
              "      <td>0.01</td>\n",
              "      <td>-0.74</td>\n",
              "    </tr>\n",
              "    <tr>\n",
              "      <th>2019-01-04</th>\n",
              "      <td>3.55</td>\n",
              "      <td>0.41</td>\n",
              "      <td>-0.70</td>\n",
              "      <td>0.01</td>\n",
              "      <td>-1.03</td>\n",
              "    </tr>\n",
              "    <tr>\n",
              "      <th>2019-01-07</th>\n",
              "      <td>0.94</td>\n",
              "      <td>0.97</td>\n",
              "      <td>-0.77</td>\n",
              "      <td>0.01</td>\n",
              "      <td>-0.80</td>\n",
              "    </tr>\n",
              "    <tr>\n",
              "      <th>2019-01-08</th>\n",
              "      <td>1.01</td>\n",
              "      <td>0.53</td>\n",
              "      <td>-0.64</td>\n",
              "      <td>0.01</td>\n",
              "      <td>0.16</td>\n",
              "    </tr>\n",
              "    <tr>\n",
              "      <th>...</th>\n",
              "      <td>...</td>\n",
              "      <td>...</td>\n",
              "      <td>...</td>\n",
              "      <td>...</td>\n",
              "      <td>...</td>\n",
              "    </tr>\n",
              "    <tr>\n",
              "      <th>2020-12-24</th>\n",
              "      <td>0.21</td>\n",
              "      <td>-0.39</td>\n",
              "      <td>-0.17</td>\n",
              "      <td>0.00</td>\n",
              "      <td>0.22</td>\n",
              "    </tr>\n",
              "    <tr>\n",
              "      <th>2020-12-28</th>\n",
              "      <td>0.46</td>\n",
              "      <td>-0.72</td>\n",
              "      <td>0.32</td>\n",
              "      <td>0.00</td>\n",
              "      <td>-0.49</td>\n",
              "    </tr>\n",
              "    <tr>\n",
              "      <th>2020-12-29</th>\n",
              "      <td>-0.40</td>\n",
              "      <td>-1.52</td>\n",
              "      <td>0.24</td>\n",
              "      <td>0.00</td>\n",
              "      <td>-0.41</td>\n",
              "    </tr>\n",
              "    <tr>\n",
              "      <th>2020-12-30</th>\n",
              "      <td>0.27</td>\n",
              "      <td>0.99</td>\n",
              "      <td>0.04</td>\n",
              "      <td>0.00</td>\n",
              "      <td>-0.24</td>\n",
              "    </tr>\n",
              "    <tr>\n",
              "      <th>2020-12-31</th>\n",
              "      <td>0.39</td>\n",
              "      <td>-0.87</td>\n",
              "      <td>0.45</td>\n",
              "      <td>0.00</td>\n",
              "      <td>-0.61</td>\n",
              "    </tr>\n",
              "  </tbody>\n",
              "</table>\n",
              "<p>505 rows × 5 columns</p>\n",
              "</div>"
            ],
            "text/plain": [
              "            Mkt-RF   SMB   HML    RF  Mom   \n",
              "Date                                        \n",
              "2019-01-02    0.23  0.56  1.10  0.01   -2.32\n",
              "2019-01-03   -2.45  0.40  1.21  0.01   -0.74\n",
              "2019-01-04    3.55  0.41 -0.70  0.01   -1.03\n",
              "2019-01-07    0.94  0.97 -0.77  0.01   -0.80\n",
              "2019-01-08    1.01  0.53 -0.64  0.01    0.16\n",
              "...            ...   ...   ...   ...     ...\n",
              "2020-12-24    0.21 -0.39 -0.17  0.00    0.22\n",
              "2020-12-28    0.46 -0.72  0.32  0.00   -0.49\n",
              "2020-12-29   -0.40 -1.52  0.24  0.00   -0.41\n",
              "2020-12-30    0.27  0.99  0.04  0.00   -0.24\n",
              "2020-12-31    0.39 -0.87  0.45  0.00   -0.61\n",
              "\n",
              "[505 rows x 5 columns]"
            ]
          },
          "metadata": {
            "tags": []
          },
          "execution_count": 11
        }
      ]
    },
    {
      "cell_type": "markdown",
      "metadata": {
        "id": "TttbfDy3mV-y"
      },
      "source": [
        "**Seleção de ativos, pesos (escolhidos de forma aleatória) e datas:**"
      ]
    },
    {
      "cell_type": "code",
      "metadata": {
        "id": "Sj3rFy6gaSWn"
      },
      "source": [
        "ativos= ['NVDA', 'PYPL', 'MSFT','NKE','V','JPM','WMT','PG','JNJ','BA']\n",
        "pesos=np.random.rand(1,10)\n",
        "pesos=pesos/pesos.sum()\n",
        "inicio = '2019-01-01'\n",
        "fim = '2020-12-31'"
      ],
      "execution_count": 12,
      "outputs": []
    },
    {
      "cell_type": "code",
      "metadata": {
        "colab": {
          "base_uri": "https://localhost:8080/"
        },
        "id": "PsqZ5QQP6NmI",
        "outputId": "47b25bd1-4828-4807-d555-67ef57e52c91"
      },
      "source": [
        "pesos"
      ],
      "execution_count": 13,
      "outputs": [
        {
          "output_type": "execute_result",
          "data": {
            "text/plain": [
              "array([[0.20047027, 0.07356187, 0.10558079, 0.04188496, 0.03103446,\n",
              "        0.07180526, 0.10412513, 0.03493096, 0.19100542, 0.14560087]])"
            ]
          },
          "metadata": {
            "tags": []
          },
          "execution_count": 13
        }
      ]
    },
    {
      "cell_type": "code",
      "metadata": {
        "colab": {
          "base_uri": "https://localhost:8080/"
        },
        "id": "aTKXKx9NaUrw",
        "outputId": "567a2f76-dedb-46e1-be97-7b1a7a37111a"
      },
      "source": [
        "asset_df = yf.download(ativos,start=inicio,end=fim,adjusted=True,progress=False)\n",
        "\n",
        "print(f'Download de {asset_df.shape[0]} observações.')"
      ],
      "execution_count": 14,
      "outputs": [
        {
          "output_type": "stream",
          "text": [
            "Download de 504 observações.\n"
          ],
          "name": "stdout"
        }
      ]
    },
    {
      "cell_type": "code",
      "metadata": {
        "id": "HTL6kkaUaY1W"
      },
      "source": [
        "asset_df = asset_df['Adj Close'].resample('D').last().pct_change().dropna()"
      ],
      "execution_count": 15,
      "outputs": []
    },
    {
      "cell_type": "code",
      "metadata": {
        "colab": {
          "base_uri": "https://localhost:8080/",
          "height": 450
        },
        "id": "YUBMJI_RaZP_",
        "outputId": "b1f9ebc8-41c3-4808-b8fc-293b215015d0"
      },
      "source": [
        "asset_df"
      ],
      "execution_count": 16,
      "outputs": [
        {
          "output_type": "execute_result",
          "data": {
            "text/html": [
              "<div>\n",
              "<style scoped>\n",
              "    .dataframe tbody tr th:only-of-type {\n",
              "        vertical-align: middle;\n",
              "    }\n",
              "\n",
              "    .dataframe tbody tr th {\n",
              "        vertical-align: top;\n",
              "    }\n",
              "\n",
              "    .dataframe thead th {\n",
              "        text-align: right;\n",
              "    }\n",
              "</style>\n",
              "<table border=\"1\" class=\"dataframe\">\n",
              "  <thead>\n",
              "    <tr style=\"text-align: right;\">\n",
              "      <th></th>\n",
              "      <th>BA</th>\n",
              "      <th>JNJ</th>\n",
              "      <th>JPM</th>\n",
              "      <th>MSFT</th>\n",
              "      <th>NKE</th>\n",
              "      <th>NVDA</th>\n",
              "      <th>PG</th>\n",
              "      <th>PYPL</th>\n",
              "      <th>V</th>\n",
              "      <th>WMT</th>\n",
              "    </tr>\n",
              "    <tr>\n",
              "      <th>Date</th>\n",
              "      <th></th>\n",
              "      <th></th>\n",
              "      <th></th>\n",
              "      <th></th>\n",
              "      <th></th>\n",
              "      <th></th>\n",
              "      <th></th>\n",
              "      <th></th>\n",
              "      <th></th>\n",
              "      <th></th>\n",
              "    </tr>\n",
              "  </thead>\n",
              "  <tbody>\n",
              "    <tr>\n",
              "      <th>2019-01-03</th>\n",
              "      <td>-0.039869</td>\n",
              "      <td>-0.015890</td>\n",
              "      <td>-0.014212</td>\n",
              "      <td>-0.036788</td>\n",
              "      <td>-0.017688</td>\n",
              "      <td>-0.060417</td>\n",
              "      <td>-0.007011</td>\n",
              "      <td>-0.042682</td>\n",
              "      <td>-0.036036</td>\n",
              "      <td>-0.005143</td>\n",
              "    </tr>\n",
              "    <tr>\n",
              "      <th>2019-01-04</th>\n",
              "      <td>0.052042</td>\n",
              "      <td>0.016783</td>\n",
              "      <td>0.036866</td>\n",
              "      <td>0.046509</td>\n",
              "      <td>0.026117</td>\n",
              "      <td>0.064068</td>\n",
              "      <td>0.020410</td>\n",
              "      <td>0.050920</td>\n",
              "      <td>0.043081</td>\n",
              "      <td>0.006246</td>\n",
              "    </tr>\n",
              "    <tr>\n",
              "      <th>2019-01-05</th>\n",
              "      <td>0.000000</td>\n",
              "      <td>0.000000</td>\n",
              "      <td>0.000000</td>\n",
              "      <td>0.000000</td>\n",
              "      <td>0.000000</td>\n",
              "      <td>0.000000</td>\n",
              "      <td>0.000000</td>\n",
              "      <td>0.000000</td>\n",
              "      <td>0.000000</td>\n",
              "      <td>0.000000</td>\n",
              "    </tr>\n",
              "    <tr>\n",
              "      <th>2019-01-06</th>\n",
              "      <td>0.000000</td>\n",
              "      <td>0.000000</td>\n",
              "      <td>0.000000</td>\n",
              "      <td>0.000000</td>\n",
              "      <td>0.000000</td>\n",
              "      <td>0.000000</td>\n",
              "      <td>0.000000</td>\n",
              "      <td>0.000000</td>\n",
              "      <td>0.000000</td>\n",
              "      <td>0.000000</td>\n",
              "    </tr>\n",
              "    <tr>\n",
              "      <th>2019-01-07</th>\n",
              "      <td>0.003149</td>\n",
              "      <td>-0.006415</td>\n",
              "      <td>0.000695</td>\n",
              "      <td>0.001275</td>\n",
              "      <td>0.014333</td>\n",
              "      <td>0.052940</td>\n",
              "      <td>-0.004000</td>\n",
              "      <td>0.007650</td>\n",
              "      <td>0.018032</td>\n",
              "      <td>0.011772</td>\n",
              "    </tr>\n",
              "    <tr>\n",
              "      <th>...</th>\n",
              "      <td>...</td>\n",
              "      <td>...</td>\n",
              "      <td>...</td>\n",
              "      <td>...</td>\n",
              "      <td>...</td>\n",
              "      <td>...</td>\n",
              "      <td>...</td>\n",
              "      <td>...</td>\n",
              "      <td>...</td>\n",
              "      <td>...</td>\n",
              "    </tr>\n",
              "    <tr>\n",
              "      <th>2020-12-26</th>\n",
              "      <td>0.000000</td>\n",
              "      <td>0.000000</td>\n",
              "      <td>0.000000</td>\n",
              "      <td>0.000000</td>\n",
              "      <td>0.000000</td>\n",
              "      <td>0.000000</td>\n",
              "      <td>0.000000</td>\n",
              "      <td>0.000000</td>\n",
              "      <td>0.000000</td>\n",
              "      <td>0.000000</td>\n",
              "    </tr>\n",
              "    <tr>\n",
              "      <th>2020-12-27</th>\n",
              "      <td>0.000000</td>\n",
              "      <td>0.000000</td>\n",
              "      <td>0.000000</td>\n",
              "      <td>0.000000</td>\n",
              "      <td>0.000000</td>\n",
              "      <td>0.000000</td>\n",
              "      <td>0.000000</td>\n",
              "      <td>0.000000</td>\n",
              "      <td>0.000000</td>\n",
              "      <td>0.000000</td>\n",
              "    </tr>\n",
              "    <tr>\n",
              "      <th>2020-12-28</th>\n",
              "      <td>-0.004881</td>\n",
              "      <td>0.004722</td>\n",
              "      <td>0.006585</td>\n",
              "      <td>0.009921</td>\n",
              "      <td>0.005861</td>\n",
              "      <td>-0.007215</td>\n",
              "      <td>0.006971</td>\n",
              "      <td>-0.012194</td>\n",
              "      <td>0.018831</td>\n",
              "      <td>0.011986</td>\n",
              "    </tr>\n",
              "    <tr>\n",
              "      <th>2020-12-29</th>\n",
              "      <td>0.000740</td>\n",
              "      <td>0.006201</td>\n",
              "      <td>-0.002633</td>\n",
              "      <td>-0.003601</td>\n",
              "      <td>-0.006038</td>\n",
              "      <td>0.003353</td>\n",
              "      <td>-0.001875</td>\n",
              "      <td>-0.019938</td>\n",
              "      <td>0.008183</td>\n",
              "      <td>-0.006335</td>\n",
              "    </tr>\n",
              "    <tr>\n",
              "      <th>2020-12-30</th>\n",
              "      <td>0.001942</td>\n",
              "      <td>0.012391</td>\n",
              "      <td>0.002800</td>\n",
              "      <td>-0.011019</td>\n",
              "      <td>0.000071</td>\n",
              "      <td>0.015645</td>\n",
              "      <td>-0.004696</td>\n",
              "      <td>0.002078</td>\n",
              "      <td>0.018613</td>\n",
              "      <td>-0.000832</td>\n",
              "    </tr>\n",
              "  </tbody>\n",
              "</table>\n",
              "<p>728 rows × 10 columns</p>\n",
              "</div>"
            ],
            "text/plain": [
              "                  BA       JNJ       JPM  ...      PYPL         V       WMT\n",
              "Date                                      ...                              \n",
              "2019-01-03 -0.039869 -0.015890 -0.014212  ... -0.042682 -0.036036 -0.005143\n",
              "2019-01-04  0.052042  0.016783  0.036866  ...  0.050920  0.043081  0.006246\n",
              "2019-01-05  0.000000  0.000000  0.000000  ...  0.000000  0.000000  0.000000\n",
              "2019-01-06  0.000000  0.000000  0.000000  ...  0.000000  0.000000  0.000000\n",
              "2019-01-07  0.003149 -0.006415  0.000695  ...  0.007650  0.018032  0.011772\n",
              "...              ...       ...       ...  ...       ...       ...       ...\n",
              "2020-12-26  0.000000  0.000000  0.000000  ...  0.000000  0.000000  0.000000\n",
              "2020-12-27  0.000000  0.000000  0.000000  ...  0.000000  0.000000  0.000000\n",
              "2020-12-28 -0.004881  0.004722  0.006585  ... -0.012194  0.018831  0.011986\n",
              "2020-12-29  0.000740  0.006201 -0.002633  ... -0.019938  0.008183 -0.006335\n",
              "2020-12-30  0.001942  0.012391  0.002800  ...  0.002078  0.018613 -0.000832\n",
              "\n",
              "[728 rows x 10 columns]"
            ]
          },
          "metadata": {
            "tags": []
          },
          "execution_count": 16
        }
      ]
    },
    {
      "cell_type": "code",
      "metadata": {
        "colab": {
          "base_uri": "https://localhost:8080/",
          "height": 235
        },
        "id": "w6p0QCOXabNL",
        "outputId": "f4972872-8f99-4a37-a4f3-a067d33387b6"
      },
      "source": [
        "asset_df['portfolio_retorno'] = np.matmul(asset_df[ativos].values, \n",
        "                                          pesos.T)*100\n",
        "asset_df.head()"
      ],
      "execution_count": 17,
      "outputs": [
        {
          "output_type": "execute_result",
          "data": {
            "text/html": [
              "<div>\n",
              "<style scoped>\n",
              "    .dataframe tbody tr th:only-of-type {\n",
              "        vertical-align: middle;\n",
              "    }\n",
              "\n",
              "    .dataframe tbody tr th {\n",
              "        vertical-align: top;\n",
              "    }\n",
              "\n",
              "    .dataframe thead th {\n",
              "        text-align: right;\n",
              "    }\n",
              "</style>\n",
              "<table border=\"1\" class=\"dataframe\">\n",
              "  <thead>\n",
              "    <tr style=\"text-align: right;\">\n",
              "      <th></th>\n",
              "      <th>BA</th>\n",
              "      <th>JNJ</th>\n",
              "      <th>JPM</th>\n",
              "      <th>MSFT</th>\n",
              "      <th>NKE</th>\n",
              "      <th>NVDA</th>\n",
              "      <th>PG</th>\n",
              "      <th>PYPL</th>\n",
              "      <th>V</th>\n",
              "      <th>WMT</th>\n",
              "      <th>portfolio_retorno</th>\n",
              "    </tr>\n",
              "    <tr>\n",
              "      <th>Date</th>\n",
              "      <th></th>\n",
              "      <th></th>\n",
              "      <th></th>\n",
              "      <th></th>\n",
              "      <th></th>\n",
              "      <th></th>\n",
              "      <th></th>\n",
              "      <th></th>\n",
              "      <th></th>\n",
              "      <th></th>\n",
              "      <th></th>\n",
              "    </tr>\n",
              "  </thead>\n",
              "  <tbody>\n",
              "    <tr>\n",
              "      <th>2019-01-03</th>\n",
              "      <td>-0.039869</td>\n",
              "      <td>-0.015890</td>\n",
              "      <td>-0.014212</td>\n",
              "      <td>-0.036788</td>\n",
              "      <td>-0.017688</td>\n",
              "      <td>-0.060417</td>\n",
              "      <td>-0.007011</td>\n",
              "      <td>-0.042682</td>\n",
              "      <td>-0.036036</td>\n",
              "      <td>-0.005143</td>\n",
              "      <td>-3.163591</td>\n",
              "    </tr>\n",
              "    <tr>\n",
              "      <th>2019-01-04</th>\n",
              "      <td>0.052042</td>\n",
              "      <td>0.016783</td>\n",
              "      <td>0.036866</td>\n",
              "      <td>0.046509</td>\n",
              "      <td>0.026117</td>\n",
              "      <td>0.064068</td>\n",
              "      <td>0.020410</td>\n",
              "      <td>0.050920</td>\n",
              "      <td>0.043081</td>\n",
              "      <td>0.006246</td>\n",
              "      <td>3.872441</td>\n",
              "    </tr>\n",
              "    <tr>\n",
              "      <th>2019-01-05</th>\n",
              "      <td>0.000000</td>\n",
              "      <td>0.000000</td>\n",
              "      <td>0.000000</td>\n",
              "      <td>0.000000</td>\n",
              "      <td>0.000000</td>\n",
              "      <td>0.000000</td>\n",
              "      <td>0.000000</td>\n",
              "      <td>0.000000</td>\n",
              "      <td>0.000000</td>\n",
              "      <td>0.000000</td>\n",
              "      <td>0.000000</td>\n",
              "    </tr>\n",
              "    <tr>\n",
              "      <th>2019-01-06</th>\n",
              "      <td>0.000000</td>\n",
              "      <td>0.000000</td>\n",
              "      <td>0.000000</td>\n",
              "      <td>0.000000</td>\n",
              "      <td>0.000000</td>\n",
              "      <td>0.000000</td>\n",
              "      <td>0.000000</td>\n",
              "      <td>0.000000</td>\n",
              "      <td>0.000000</td>\n",
              "      <td>0.000000</td>\n",
              "      <td>0.000000</td>\n",
              "    </tr>\n",
              "    <tr>\n",
              "      <th>2019-01-07</th>\n",
              "      <td>0.003149</td>\n",
              "      <td>-0.006415</td>\n",
              "      <td>0.000695</td>\n",
              "      <td>0.001275</td>\n",
              "      <td>0.014333</td>\n",
              "      <td>0.052940</td>\n",
              "      <td>-0.004000</td>\n",
              "      <td>0.007650</td>\n",
              "      <td>0.018032</td>\n",
              "      <td>0.011772</td>\n",
              "      <td>1.283954</td>\n",
              "    </tr>\n",
              "  </tbody>\n",
              "</table>\n",
              "</div>"
            ],
            "text/plain": [
              "                  BA       JNJ       JPM  ...         V       WMT  portfolio_retorno\n",
              "Date                                      ...                                       \n",
              "2019-01-03 -0.039869 -0.015890 -0.014212  ... -0.036036 -0.005143          -3.163591\n",
              "2019-01-04  0.052042  0.016783  0.036866  ...  0.043081  0.006246           3.872441\n",
              "2019-01-05  0.000000  0.000000  0.000000  ...  0.000000  0.000000           0.000000\n",
              "2019-01-06  0.000000  0.000000  0.000000  ...  0.000000  0.000000           0.000000\n",
              "2019-01-07  0.003149 -0.006415  0.000695  ...  0.018032  0.011772           1.283954\n",
              "\n",
              "[5 rows x 11 columns]"
            ]
          },
          "metadata": {
            "tags": []
          },
          "execution_count": 17
        }
      ]
    },
    {
      "cell_type": "code",
      "metadata": {
        "id": "EmdR1O35adjw"
      },
      "source": [
        "ff_data = asset_df.join(ff_dict).drop(ativos, axis=1)\n",
        "ff_data.columns = ['portf_rtn', 'mkt', 'smb', 'hml','rf','mon']\n",
        "ff_data.dropna(inplace=True)"
      ],
      "execution_count": 18,
      "outputs": []
    },
    {
      "cell_type": "code",
      "metadata": {
        "colab": {
          "base_uri": "https://localhost:8080/",
          "height": 450
        },
        "id": "VmPCUlikaiSm",
        "outputId": "28b3cf82-ff89-4530-c058-79dc8eaeb388"
      },
      "source": [
        "ff_data"
      ],
      "execution_count": 19,
      "outputs": [
        {
          "output_type": "execute_result",
          "data": {
            "text/html": [
              "<div>\n",
              "<style scoped>\n",
              "    .dataframe tbody tr th:only-of-type {\n",
              "        vertical-align: middle;\n",
              "    }\n",
              "\n",
              "    .dataframe tbody tr th {\n",
              "        vertical-align: top;\n",
              "    }\n",
              "\n",
              "    .dataframe thead th {\n",
              "        text-align: right;\n",
              "    }\n",
              "</style>\n",
              "<table border=\"1\" class=\"dataframe\">\n",
              "  <thead>\n",
              "    <tr style=\"text-align: right;\">\n",
              "      <th></th>\n",
              "      <th>portf_rtn</th>\n",
              "      <th>mkt</th>\n",
              "      <th>smb</th>\n",
              "      <th>hml</th>\n",
              "      <th>rf</th>\n",
              "      <th>mon</th>\n",
              "    </tr>\n",
              "    <tr>\n",
              "      <th>Date</th>\n",
              "      <th></th>\n",
              "      <th></th>\n",
              "      <th></th>\n",
              "      <th></th>\n",
              "      <th></th>\n",
              "      <th></th>\n",
              "    </tr>\n",
              "  </thead>\n",
              "  <tbody>\n",
              "    <tr>\n",
              "      <th>2019-01-03</th>\n",
              "      <td>-3.163591</td>\n",
              "      <td>-2.45</td>\n",
              "      <td>0.40</td>\n",
              "      <td>1.21</td>\n",
              "      <td>0.01</td>\n",
              "      <td>-0.74</td>\n",
              "    </tr>\n",
              "    <tr>\n",
              "      <th>2019-01-04</th>\n",
              "      <td>3.872441</td>\n",
              "      <td>3.55</td>\n",
              "      <td>0.41</td>\n",
              "      <td>-0.70</td>\n",
              "      <td>0.01</td>\n",
              "      <td>-1.03</td>\n",
              "    </tr>\n",
              "    <tr>\n",
              "      <th>2019-01-07</th>\n",
              "      <td>1.283954</td>\n",
              "      <td>0.94</td>\n",
              "      <td>0.97</td>\n",
              "      <td>-0.77</td>\n",
              "      <td>0.01</td>\n",
              "      <td>-0.80</td>\n",
              "    </tr>\n",
              "    <tr>\n",
              "      <th>2019-01-08</th>\n",
              "      <td>0.866835</td>\n",
              "      <td>1.01</td>\n",
              "      <td>0.53</td>\n",
              "      <td>-0.64</td>\n",
              "      <td>0.01</td>\n",
              "      <td>0.16</td>\n",
              "    </tr>\n",
              "    <tr>\n",
              "      <th>2019-01-09</th>\n",
              "      <td>0.531235</td>\n",
              "      <td>0.56</td>\n",
              "      <td>0.45</td>\n",
              "      <td>0.09</td>\n",
              "      <td>0.01</td>\n",
              "      <td>-0.85</td>\n",
              "    </tr>\n",
              "    <tr>\n",
              "      <th>...</th>\n",
              "      <td>...</td>\n",
              "      <td>...</td>\n",
              "      <td>...</td>\n",
              "      <td>...</td>\n",
              "      <td>...</td>\n",
              "      <td>...</td>\n",
              "    </tr>\n",
              "    <tr>\n",
              "      <th>2020-12-23</th>\n",
              "      <td>-0.607053</td>\n",
              "      <td>0.10</td>\n",
              "      <td>0.34</td>\n",
              "      <td>2.00</td>\n",
              "      <td>0.00</td>\n",
              "      <td>-2.17</td>\n",
              "    </tr>\n",
              "    <tr>\n",
              "      <th>2020-12-24</th>\n",
              "      <td>0.003271</td>\n",
              "      <td>0.21</td>\n",
              "      <td>-0.39</td>\n",
              "      <td>-0.17</td>\n",
              "      <td>0.00</td>\n",
              "      <td>0.22</td>\n",
              "    </tr>\n",
              "    <tr>\n",
              "      <th>2020-12-28</th>\n",
              "      <td>0.168965</td>\n",
              "      <td>0.46</td>\n",
              "      <td>-0.72</td>\n",
              "      <td>0.32</td>\n",
              "      <td>0.00</td>\n",
              "      <td>-0.49</td>\n",
              "    </tr>\n",
              "    <tr>\n",
              "      <th>2020-12-29</th>\n",
              "      <td>-0.079555</td>\n",
              "      <td>-0.40</td>\n",
              "      <td>-1.52</td>\n",
              "      <td>0.24</td>\n",
              "      <td>0.00</td>\n",
              "      <td>-0.41</td>\n",
              "    </tr>\n",
              "    <tr>\n",
              "      <th>2020-12-30</th>\n",
              "      <td>0.530640</td>\n",
              "      <td>0.27</td>\n",
              "      <td>0.99</td>\n",
              "      <td>0.04</td>\n",
              "      <td>0.00</td>\n",
              "      <td>-0.24</td>\n",
              "    </tr>\n",
              "  </tbody>\n",
              "</table>\n",
              "<p>503 rows × 6 columns</p>\n",
              "</div>"
            ],
            "text/plain": [
              "            portf_rtn   mkt   smb   hml    rf   mon\n",
              "Date                                               \n",
              "2019-01-03  -3.163591 -2.45  0.40  1.21  0.01 -0.74\n",
              "2019-01-04   3.872441  3.55  0.41 -0.70  0.01 -1.03\n",
              "2019-01-07   1.283954  0.94  0.97 -0.77  0.01 -0.80\n",
              "2019-01-08   0.866835  1.01  0.53 -0.64  0.01  0.16\n",
              "2019-01-09   0.531235  0.56  0.45  0.09  0.01 -0.85\n",
              "...               ...   ...   ...   ...   ...   ...\n",
              "2020-12-23  -0.607053  0.10  0.34  2.00  0.00 -2.17\n",
              "2020-12-24   0.003271  0.21 -0.39 -0.17  0.00  0.22\n",
              "2020-12-28   0.168965  0.46 -0.72  0.32  0.00 -0.49\n",
              "2020-12-29  -0.079555 -0.40 -1.52  0.24  0.00 -0.41\n",
              "2020-12-30   0.530640  0.27  0.99  0.04  0.00 -0.24\n",
              "\n",
              "[503 rows x 6 columns]"
            ]
          },
          "metadata": {
            "tags": []
          },
          "execution_count": 19
        }
      ]
    },
    {
      "cell_type": "code",
      "metadata": {
        "colab": {
          "base_uri": "https://localhost:8080/"
        },
        "id": "qi1U_rb6alYv",
        "outputId": "828cd4f9-b05c-4eb2-ca4e-3aeaf6eb2a5e"
      },
      "source": [
        "ff_model = smf.ols(formula='portf_rtn ~ mkt + smb + hml+ mon', \n",
        "                   data=ff_data).fit()\n",
        " \n",
        "print(ff_model.summary())"
      ],
      "execution_count": 20,
      "outputs": [
        {
          "output_type": "stream",
          "text": [
            "                            OLS Regression Results                            \n",
            "==============================================================================\n",
            "Dep. Variable:              portf_rtn   R-squared:                       0.922\n",
            "Model:                            OLS   Adj. R-squared:                  0.921\n",
            "Method:                 Least Squares   F-statistic:                     1468.\n",
            "Date:                Tue, 11 May 2021   Prob (F-statistic):          5.71e-274\n",
            "Time:                        12:17:08   Log-Likelihood:                -389.93\n",
            "No. Observations:                 503   AIC:                             789.9\n",
            "Df Residuals:                     498   BIC:                             811.0\n",
            "Df Model:                           4                                         \n",
            "Covariance Type:            nonrobust                                         \n",
            "==============================================================================\n",
            "                 coef    std err          t      P>|t|      [0.025      0.975]\n",
            "------------------------------------------------------------------------------\n",
            "Intercept      0.0174      0.024      0.730      0.466      -0.029       0.064\n",
            "mkt            1.1170      0.015     75.217      0.000       1.088       1.146\n",
            "smb           -0.1360      0.035     -3.859      0.000      -0.205      -0.067\n",
            "hml           -0.1674      0.035     -4.776      0.000      -0.236      -0.099\n",
            "mon           -0.0867      0.027     -3.243      0.001      -0.139      -0.034\n",
            "==============================================================================\n",
            "Omnibus:                       38.853   Durbin-Watson:                   1.964\n",
            "Prob(Omnibus):                  0.000   Jarque-Bera (JB):              166.552\n",
            "Skew:                          -0.090   Prob(JB):                     6.82e-37\n",
            "Kurtosis:                       5.813   Cond. No.                         3.67\n",
            "==============================================================================\n",
            "\n",
            "Warnings:\n",
            "[1] Standard Errors assume that the covariance matrix of the errors is correctly specified.\n"
          ],
          "name": "stdout"
        }
      ]
    },
    {
      "cell_type": "code",
      "metadata": {
        "id": "uo2VjdZ0alq_"
      },
      "source": [
        "df=ff_data[['portf_rtn','mkt']]/100\n",
        "df['Portfolio']=100*(1+df['portf_rtn']).cumprod()\n",
        "df['Mercado']=100*(1+df['mkt']).cumprod()"
      ],
      "execution_count": 21,
      "outputs": []
    },
    {
      "cell_type": "code",
      "metadata": {
        "colab": {
          "base_uri": "https://localhost:8080/",
          "height": 450
        },
        "id": "LkTxKNU7anZf",
        "outputId": "606652c4-3141-4152-e9f1-71976803ccf5"
      },
      "source": [
        "df"
      ],
      "execution_count": 22,
      "outputs": [
        {
          "output_type": "execute_result",
          "data": {
            "text/html": [
              "<div>\n",
              "<style scoped>\n",
              "    .dataframe tbody tr th:only-of-type {\n",
              "        vertical-align: middle;\n",
              "    }\n",
              "\n",
              "    .dataframe tbody tr th {\n",
              "        vertical-align: top;\n",
              "    }\n",
              "\n",
              "    .dataframe thead th {\n",
              "        text-align: right;\n",
              "    }\n",
              "</style>\n",
              "<table border=\"1\" class=\"dataframe\">\n",
              "  <thead>\n",
              "    <tr style=\"text-align: right;\">\n",
              "      <th></th>\n",
              "      <th>portf_rtn</th>\n",
              "      <th>mkt</th>\n",
              "      <th>Portfolio</th>\n",
              "      <th>Mercado</th>\n",
              "    </tr>\n",
              "    <tr>\n",
              "      <th>Date</th>\n",
              "      <th></th>\n",
              "      <th></th>\n",
              "      <th></th>\n",
              "      <th></th>\n",
              "    </tr>\n",
              "  </thead>\n",
              "  <tbody>\n",
              "    <tr>\n",
              "      <th>2019-01-03</th>\n",
              "      <td>-0.031636</td>\n",
              "      <td>-0.0245</td>\n",
              "      <td>96.836409</td>\n",
              "      <td>97.550000</td>\n",
              "    </tr>\n",
              "    <tr>\n",
              "      <th>2019-01-04</th>\n",
              "      <td>0.038724</td>\n",
              "      <td>0.0355</td>\n",
              "      <td>100.586342</td>\n",
              "      <td>101.013025</td>\n",
              "    </tr>\n",
              "    <tr>\n",
              "      <th>2019-01-07</th>\n",
              "      <td>0.012840</td>\n",
              "      <td>0.0094</td>\n",
              "      <td>101.877825</td>\n",
              "      <td>101.962547</td>\n",
              "    </tr>\n",
              "    <tr>\n",
              "      <th>2019-01-08</th>\n",
              "      <td>0.008668</td>\n",
              "      <td>0.0101</td>\n",
              "      <td>102.760937</td>\n",
              "      <td>102.992369</td>\n",
              "    </tr>\n",
              "    <tr>\n",
              "      <th>2019-01-09</th>\n",
              "      <td>0.005312</td>\n",
              "      <td>0.0056</td>\n",
              "      <td>103.306839</td>\n",
              "      <td>103.569126</td>\n",
              "    </tr>\n",
              "    <tr>\n",
              "      <th>...</th>\n",
              "      <td>...</td>\n",
              "      <td>...</td>\n",
              "      <td>...</td>\n",
              "      <td>...</td>\n",
              "    </tr>\n",
              "    <tr>\n",
              "      <th>2020-12-23</th>\n",
              "      <td>-0.006071</td>\n",
              "      <td>0.0010</td>\n",
              "      <td>188.910168</td>\n",
              "      <td>156.038249</td>\n",
              "    </tr>\n",
              "    <tr>\n",
              "      <th>2020-12-24</th>\n",
              "      <td>0.000033</td>\n",
              "      <td>0.0021</td>\n",
              "      <td>188.916348</td>\n",
              "      <td>156.365929</td>\n",
              "    </tr>\n",
              "    <tr>\n",
              "      <th>2020-12-28</th>\n",
              "      <td>0.001690</td>\n",
              "      <td>0.0046</td>\n",
              "      <td>189.235551</td>\n",
              "      <td>157.085213</td>\n",
              "    </tr>\n",
              "    <tr>\n",
              "      <th>2020-12-29</th>\n",
              "      <td>-0.000796</td>\n",
              "      <td>-0.0040</td>\n",
              "      <td>189.085005</td>\n",
              "      <td>156.456872</td>\n",
              "    </tr>\n",
              "    <tr>\n",
              "      <th>2020-12-30</th>\n",
              "      <td>0.005306</td>\n",
              "      <td>0.0027</td>\n",
              "      <td>190.088366</td>\n",
              "      <td>156.879305</td>\n",
              "    </tr>\n",
              "  </tbody>\n",
              "</table>\n",
              "<p>503 rows × 4 columns</p>\n",
              "</div>"
            ],
            "text/plain": [
              "            portf_rtn     mkt   Portfolio     Mercado\n",
              "Date                                                 \n",
              "2019-01-03  -0.031636 -0.0245   96.836409   97.550000\n",
              "2019-01-04   0.038724  0.0355  100.586342  101.013025\n",
              "2019-01-07   0.012840  0.0094  101.877825  101.962547\n",
              "2019-01-08   0.008668  0.0101  102.760937  102.992369\n",
              "2019-01-09   0.005312  0.0056  103.306839  103.569126\n",
              "...               ...     ...         ...         ...\n",
              "2020-12-23  -0.006071  0.0010  188.910168  156.038249\n",
              "2020-12-24   0.000033  0.0021  188.916348  156.365929\n",
              "2020-12-28   0.001690  0.0046  189.235551  157.085213\n",
              "2020-12-29  -0.000796 -0.0040  189.085005  156.456872\n",
              "2020-12-30   0.005306  0.0027  190.088366  156.879305\n",
              "\n",
              "[503 rows x 4 columns]"
            ]
          },
          "metadata": {
            "tags": []
          },
          "execution_count": 22
        }
      ]
    },
    {
      "cell_type": "code",
      "metadata": {
        "colab": {
          "base_uri": "https://localhost:8080/",
          "height": 539
        },
        "id": "Nt0-LGa2aqrG",
        "outputId": "2fb8e469-756e-4e2a-fe1f-cda36676d829"
      },
      "source": [
        "df[['Portfolio','Mercado']].plot(figsize=(18,9))"
      ],
      "execution_count": 23,
      "outputs": [
        {
          "output_type": "execute_result",
          "data": {
            "text/plain": [
              "<matplotlib.axes._subplots.AxesSubplot at 0x7f27ba8c9f90>"
            ]
          },
          "metadata": {
            "tags": []
          },
          "execution_count": 23
        },
        {
          "output_type": "display_data",
          "data": {
            "image/png": "[encoded data removed]",
            "text/plain": [
              "<Figure size 1296x648 with 1 Axes>"
            ]
          },
          "metadata": {
            "tags": [],
            "needs_background": "light"
          }
        }
      ]
    },
    {
      "cell_type": "markdown",
      "metadata": {
        "id": "sNBLq9lLwoWp"
      },
      "source": [
        "**Observe que mesmo o Portfólio produzindo retornos acima do Mercado, não podemos dizer que houve geração de alpha, pois o Intercepto não é estatisticamente diferente de zero (considerando um nível de significância de 5%). O retorno do portfólio pode ser explicado pelos fatores de investimento (Beta).**"
      ]
    },
    {
      "cell_type": "code",
      "metadata": {
        "id": "Ay4T0jKXar56"
      },
      "source": [
        "def rolling_factor_model(input_data, formula, window_size):\n",
        "    '''\n",
        "    Função para estimar a exposição aos fatores em janelas móveis de tempo.\n",
        "    \n",
        "    Parâmetros\n",
        "    ------------\n",
        "    input_data : pd.DataFrame\n",
        "         DataFrame contendo os fatores e os retornos do portfólio\n",
        "    formula : str\n",
        "        `statsmodels` fórmula representando a regressão linear  \n",
        "    window_size : int\n",
        "        Comprimento da janela móvel.\n",
        "    \n",
        "    Retorna\n",
        "    -----------\n",
        "    coeffs_df : pd.DataFrame\n",
        "        DataFrame contendo o intercepto e os fatores para cada iteração\n",
        "    '''\n",
        "\n",
        "    coeffs = []\n",
        "\n",
        "    for start_index in range(len(input_data) - window_size + 1):        \n",
        "        end_index = start_index + window_size\n",
        "\n",
        "        # Define e faz o fit do modelo\n",
        "        ff_model = smf.ols(\n",
        "            formula=formula, \n",
        "            data=input_data[start_index:end_index]\n",
        "        ).fit()\n",
        "   \n",
        "        # Armazena os coeficientes\n",
        "        coeffs.append(ff_model.params)\n",
        "    \n",
        "    coeffs_df = pd.DataFrame(\n",
        "        coeffs, \n",
        "        index=input_data.index[window_size - 1:]\n",
        "    )\n",
        "\n",
        "    return coeffs_df"
      ],
      "execution_count": 24,
      "outputs": []
    },
    {
      "cell_type": "markdown",
      "metadata": {
        "id": "mwPh40JozIzS"
      },
      "source": [
        "**Para uma janela móvel de 90 dias, temos:**"
      ]
    },
    {
      "cell_type": "code",
      "metadata": {
        "colab": {
          "base_uri": "https://localhost:8080/",
          "height": 635
        },
        "id": "Enq6hIHsaudY",
        "outputId": "5a879fe4-3f51-45b6-a7aa-b3d642327388"
      },
      "source": [
        "modelo = 'portf_rtn ~ mkt + smb + hml+ mon'\n",
        "results_df = rolling_factor_model(ff_data, \n",
        "                                  modelo, \n",
        "                                  window_size=90)\n",
        "results_df.plot(title = 'Modelo Fama_French de 3 Fatores + Momentum',figsize=(18,9))\n",
        "\n",
        "plt.tight_layout()\n",
        "plt.show()"
      ],
      "execution_count": 25,
      "outputs": [
        {
          "output_type": "display_data",
          "data": {
            "image/png": "[encoded data removed]",
            "text/plain": [
              "<Figure size 1296x648 with 1 Axes>"
            ]
          },
          "metadata": {
            "tags": [],
            "needs_background": "light"
          }
        }
      ]
    }
  ]
}