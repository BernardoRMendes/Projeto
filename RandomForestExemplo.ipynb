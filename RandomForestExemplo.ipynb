{
  "nbformat": 4,
  "nbformat_minor": 0,
  "metadata": {
    "colab": {
      "name": "RandomForestExemplo.ipynb",
      "provenance": [],
      "authorship_tag": "ABX9TyMmCZu0IQ49trif6usSDMby",
      "include_colab_link": true
    },
    "kernelspec": {
      "name": "python3",
      "display_name": "Python 3"
    }
  },
  "cells": [
    {
      "cell_type": "markdown",
      "metadata": {
        "id": "view-in-github",
        "colab_type": "text"
      },
      "source": [
        "<a href=\"https://colab.research.google.com/github/BernardoRMendes/Projeto/blob/main/RandomForestExemplo.ipynb\" target=\"_parent\"><img src=\"https://colab.research.google.com/assets/colab-badge.svg\" alt=\"Open In Colab\"/></a>"
      ]
    },
    {
      "cell_type": "code",
      "metadata": {
        "id": "8mP5knEedjBe"
      },
      "source": [
        "import numpy as np\r\n",
        "import pandas as pd\r\n",
        "import sklearn as sklearn\r\n",
        "from matplotlib import pyplot as plt\r\n",
        "from sklearn.ensemble import RandomForestClassifier\r\n",
        "from sklearn.model_selection import train_test_split\r\n",
        "from sklearn.metrics import accuracy_score"
      ],
      "execution_count": 1,
      "outputs": []
    },
    {
      "cell_type": "markdown",
      "metadata": {
        "id": "iiSoJNUieH0g"
      },
      "source": [
        "O objetivo desse estudo é mostrar como ferramentas de machine learning podem melhorar a assertividade das estratégias de investimento.\r\n",
        "Suponhamos que uma simples estratégia usando cruzamento de médias móveis acerta 50% das vezes. No entanto, sabemos que variáveis exógenas ao modelo afetam seu resultado, como por exemplo o nível da taxa de juros, volatilidade, retorno do petróleo, etc. Ferramentas de Machine Learning podem nos ajudar a encontrar a probabilidade condicional de nossa estratégia dar certo de acordo com essas variáveis exógenas. Por exemplo, enquanto a probabilidade incondicional do nosso modelo fictício é de 50%, podemos descobrir que ele acerta 60% das vezes quando o PIB está em trajetória crescente, mas acerta apenas 40% das vezes se a taxa de câmbio tiver subido nos últimos 10 dias. Algoritmos de Random Forest podem nos auxiliar nessa tarefa de identificar quais são os momentos propícios para executar a estratégia.\r\n"
      ]
    },
    {
      "cell_type": "markdown",
      "metadata": {
        "id": "FIELZpeIg__h"
      },
      "source": [
        "Gerei um arquivo CSV com 5 atributos fictícios, 50 operações e classifiquei o retorno da estrategia como 1, se o resultado foi positivo, e 0, caso negativo."
      ]
    },
    {
      "cell_type": "code",
      "metadata": {
        "id": "LvrTPMWkhg3y"
      },
      "source": [
        "url=\"https://raw.githubusercontent.com/BernardoRMendes/Projeto/main/RandomForestExemplo.csv\""
      ],
      "execution_count": 2,
      "outputs": []
    },
    {
      "cell_type": "code",
      "metadata": {
        "id": "ektxdR0phpHP"
      },
      "source": [
        "df=pd.read_csv(url,index_col=0,sep=\";\")"
      ],
      "execution_count": 3,
      "outputs": []
    },
    {
      "cell_type": "code",
      "metadata": {
        "colab": {
          "base_uri": "https://localhost:8080/",
          "height": 235
        },
        "id": "_QU8xe-PnAbp",
        "outputId": "7aac6c57-1b5c-4801-8af6-2f131d212621"
      },
      "source": [
        "df.head()"
      ],
      "execution_count": 4,
      "outputs": [
        {
          "output_type": "execute_result",
          "data": {
            "text/html": [
              "<div>\n",
              "<style scoped>\n",
              "    .dataframe tbody tr th:only-of-type {\n",
              "        vertical-align: middle;\n",
              "    }\n",
              "\n",
              "    .dataframe tbody tr th {\n",
              "        vertical-align: top;\n",
              "    }\n",
              "\n",
              "    .dataframe thead th {\n",
              "        text-align: right;\n",
              "    }\n",
              "</style>\n",
              "<table border=\"1\" class=\"dataframe\">\n",
              "  <thead>\n",
              "    <tr style=\"text-align: right;\">\n",
              "      <th></th>\n",
              "      <th>Atributo 1</th>\n",
              "      <th>Atributo 2</th>\n",
              "      <th>Atributo 3</th>\n",
              "      <th>Atributo 4</th>\n",
              "      <th>Atributo 5</th>\n",
              "      <th>Retorno</th>\n",
              "    </tr>\n",
              "    <tr>\n",
              "      <th>ID</th>\n",
              "      <th></th>\n",
              "      <th></th>\n",
              "      <th></th>\n",
              "      <th></th>\n",
              "      <th></th>\n",
              "      <th></th>\n",
              "    </tr>\n",
              "  </thead>\n",
              "  <tbody>\n",
              "    <tr>\n",
              "      <th>1</th>\n",
              "      <td>0,015646235</td>\n",
              "      <td>1</td>\n",
              "      <td>20,85</td>\n",
              "      <td>0,00625</td>\n",
              "      <td>0,0117</td>\n",
              "      <td>1</td>\n",
              "    </tr>\n",
              "    <tr>\n",
              "      <th>2</th>\n",
              "      <td>0,001852498</td>\n",
              "      <td>0</td>\n",
              "      <td>20,89</td>\n",
              "      <td>0,015873016</td>\n",
              "      <td>0,0333</td>\n",
              "      <td>1</td>\n",
              "    </tr>\n",
              "    <tr>\n",
              "      <th>3</th>\n",
              "      <td>-0,020495125</td>\n",
              "      <td>0</td>\n",
              "      <td>21,03</td>\n",
              "      <td>-0,003148784</td>\n",
              "      <td>-0,007</td>\n",
              "      <td>0</td>\n",
              "    </tr>\n",
              "    <tr>\n",
              "      <th>4</th>\n",
              "      <td>0,006930826</td>\n",
              "      <td>0</td>\n",
              "      <td>21,1</td>\n",
              "      <td>0,008601979</td>\n",
              "      <td>0,003</td>\n",
              "      <td>1</td>\n",
              "    </tr>\n",
              "    <tr>\n",
              "      <th>5</th>\n",
              "      <td>-0,010846745</td>\n",
              "      <td>0</td>\n",
              "      <td>20,92</td>\n",
              "      <td>0,013912576</td>\n",
              "      <td>-0,0109</td>\n",
              "      <td>0</td>\n",
              "    </tr>\n",
              "  </tbody>\n",
              "</table>\n",
              "</div>"
            ],
            "text/plain": [
              "      Atributo 1  Atributo 2 Atributo 3    Atributo 4 Atributo 5  Retorno\n",
              "ID                                                                       \n",
              "1    0,015646235           1      20,85       0,00625     0,0117        1\n",
              "2    0,001852498           0      20,89   0,015873016     0,0333        1\n",
              "3   -0,020495125           0      21,03  -0,003148784     -0,007        0\n",
              "4    0,006930826           0       21,1   0,008601979      0,003        1\n",
              "5   -0,010846745           0      20,92   0,013912576    -0,0109        0"
            ]
          },
          "metadata": {
            "tags": []
          },
          "execution_count": 4
        }
      ]
    },
    {
      "cell_type": "code",
      "metadata": {
        "colab": {
          "base_uri": "https://localhost:8080/"
        },
        "id": "Lb3JH1nnnNT3",
        "outputId": "8d4e8c8e-fc5e-477b-a950-a508c63ee901"
      },
      "source": [
        "df.info()"
      ],
      "execution_count": 5,
      "outputs": [
        {
          "output_type": "stream",
          "text": [
            "<class 'pandas.core.frame.DataFrame'>\n",
            "Int64Index: 50 entries, 1 to 50\n",
            "Data columns (total 6 columns):\n",
            " #   Column      Non-Null Count  Dtype \n",
            "---  ------      --------------  ----- \n",
            " 0   Atributo 1  50 non-null     object\n",
            " 1   Atributo 2  50 non-null     int64 \n",
            " 2   Atributo 3  50 non-null     object\n",
            " 3   Atributo 4  50 non-null     object\n",
            " 4   Atributo 5  50 non-null     object\n",
            " 5   Retorno     50 non-null     int64 \n",
            "dtypes: int64(2), object(4)\n",
            "memory usage: 2.7+ KB\n"
          ],
          "name": "stdout"
        }
      ]
    },
    {
      "cell_type": "code",
      "metadata": {
        "id": "4UPAhRnroLqp"
      },
      "source": [
        "df['Atributo 1']=df['Atributo 1'].str.replace(\",\",\".\")\r\n",
        "df['Atributo 3']=df['Atributo 3'].str.replace(\",\",\".\")\r\n",
        "df['Atributo 4']=df['Atributo 4'].str.replace(\",\",\".\")\r\n",
        "df['Atributo 5']=df['Atributo 5'].str.replace(\",\",\".\")"
      ],
      "execution_count": 6,
      "outputs": []
    },
    {
      "cell_type": "code",
      "metadata": {
        "id": "_MuzFzO6og6D"
      },
      "source": [
        "df['Atributo 1']=df['Atributo 1'].astype(float)\r\n",
        "df['Atributo 2']=df['Atributo 2'].astype(float)\r\n",
        "df['Atributo 3']=df['Atributo 3'].astype(float)\r\n",
        "df['Atributo 4']=df['Atributo 4'].astype(float)\r\n",
        "df['Atributo 5']=df['Atributo 5'].astype(float)\r\n",
        "df[\"Retorno\"]=df[\"Retorno\"].astype(float)"
      ],
      "execution_count": 7,
      "outputs": []
    },
    {
      "cell_type": "markdown",
      "metadata": {
        "id": "S199LAVRW8hS"
      },
      "source": [
        "Em modelos de Machine Learning, é comum o uso de métodos de seleção de atributos antes de fazer a classificação. Porém, estamos interessados não só na interação de um atributo com o target, como também na interação entre os próprios atributos. Por isso, devemos tomar cuidado com métodos que somente aplicam testes estatísticos separadamente para cada variável preditora."
      ]
    },
    {
      "cell_type": "code",
      "metadata": {
        "colab": {
          "base_uri": "https://localhost:8080/"
        },
        "id": "W42F5wN0o7kr",
        "outputId": "1dd56247-ad5c-495a-b36b-2c1034d7655e"
      },
      "source": [
        "df.info()"
      ],
      "execution_count": 8,
      "outputs": [
        {
          "output_type": "stream",
          "text": [
            "<class 'pandas.core.frame.DataFrame'>\n",
            "Int64Index: 50 entries, 1 to 50\n",
            "Data columns (total 6 columns):\n",
            " #   Column      Non-Null Count  Dtype  \n",
            "---  ------      --------------  -----  \n",
            " 0   Atributo 1  50 non-null     float64\n",
            " 1   Atributo 2  50 non-null     float64\n",
            " 2   Atributo 3  50 non-null     float64\n",
            " 3   Atributo 4  50 non-null     float64\n",
            " 4   Atributo 5  50 non-null     float64\n",
            " 5   Retorno     50 non-null     float64\n",
            "dtypes: float64(6)\n",
            "memory usage: 2.7 KB\n"
          ],
          "name": "stdout"
        }
      ]
    },
    {
      "cell_type": "code",
      "metadata": {
        "colab": {
          "base_uri": "https://localhost:8080/",
          "height": 235
        },
        "id": "jEBmP275nov_",
        "outputId": "c576c5c0-3ee9-4d46-fa36-f916cd86f6ba"
      },
      "source": [
        "df.head()"
      ],
      "execution_count": 9,
      "outputs": [
        {
          "output_type": "execute_result",
          "data": {
            "text/html": [
              "<div>\n",
              "<style scoped>\n",
              "    .dataframe tbody tr th:only-of-type {\n",
              "        vertical-align: middle;\n",
              "    }\n",
              "\n",
              "    .dataframe tbody tr th {\n",
              "        vertical-align: top;\n",
              "    }\n",
              "\n",
              "    .dataframe thead th {\n",
              "        text-align: right;\n",
              "    }\n",
              "</style>\n",
              "<table border=\"1\" class=\"dataframe\">\n",
              "  <thead>\n",
              "    <tr style=\"text-align: right;\">\n",
              "      <th></th>\n",
              "      <th>Atributo 1</th>\n",
              "      <th>Atributo 2</th>\n",
              "      <th>Atributo 3</th>\n",
              "      <th>Atributo 4</th>\n",
              "      <th>Atributo 5</th>\n",
              "      <th>Retorno</th>\n",
              "    </tr>\n",
              "    <tr>\n",
              "      <th>ID</th>\n",
              "      <th></th>\n",
              "      <th></th>\n",
              "      <th></th>\n",
              "      <th></th>\n",
              "      <th></th>\n",
              "      <th></th>\n",
              "    </tr>\n",
              "  </thead>\n",
              "  <tbody>\n",
              "    <tr>\n",
              "      <th>1</th>\n",
              "      <td>0.015646</td>\n",
              "      <td>1.0</td>\n",
              "      <td>20.85</td>\n",
              "      <td>0.006250</td>\n",
              "      <td>0.0117</td>\n",
              "      <td>1.0</td>\n",
              "    </tr>\n",
              "    <tr>\n",
              "      <th>2</th>\n",
              "      <td>0.001852</td>\n",
              "      <td>0.0</td>\n",
              "      <td>20.89</td>\n",
              "      <td>0.015873</td>\n",
              "      <td>0.0333</td>\n",
              "      <td>1.0</td>\n",
              "    </tr>\n",
              "    <tr>\n",
              "      <th>3</th>\n",
              "      <td>-0.020495</td>\n",
              "      <td>0.0</td>\n",
              "      <td>21.03</td>\n",
              "      <td>-0.003149</td>\n",
              "      <td>-0.0070</td>\n",
              "      <td>0.0</td>\n",
              "    </tr>\n",
              "    <tr>\n",
              "      <th>4</th>\n",
              "      <td>0.006931</td>\n",
              "      <td>0.0</td>\n",
              "      <td>21.10</td>\n",
              "      <td>0.008602</td>\n",
              "      <td>0.0030</td>\n",
              "      <td>1.0</td>\n",
              "    </tr>\n",
              "    <tr>\n",
              "      <th>5</th>\n",
              "      <td>-0.010847</td>\n",
              "      <td>0.0</td>\n",
              "      <td>20.92</td>\n",
              "      <td>0.013913</td>\n",
              "      <td>-0.0109</td>\n",
              "      <td>0.0</td>\n",
              "    </tr>\n",
              "  </tbody>\n",
              "</table>\n",
              "</div>"
            ],
            "text/plain": [
              "    Atributo 1  Atributo 2  Atributo 3  Atributo 4  Atributo 5  Retorno\n",
              "ID                                                                     \n",
              "1     0.015646         1.0       20.85    0.006250      0.0117      1.0\n",
              "2     0.001852         0.0       20.89    0.015873      0.0333      1.0\n",
              "3    -0.020495         0.0       21.03   -0.003149     -0.0070      0.0\n",
              "4     0.006931         0.0       21.10    0.008602      0.0030      1.0\n",
              "5    -0.010847         0.0       20.92    0.013913     -0.0109      0.0"
            ]
          },
          "metadata": {
            "tags": []
          },
          "execution_count": 9
        }
      ]
    },
    {
      "cell_type": "code",
      "metadata": {
        "colab": {
          "base_uri": "https://localhost:8080/",
          "height": 297
        },
        "id": "4ksIagndp6rv",
        "outputId": "8808dc53-0bb5-439a-e747-96c48b6d6e5e"
      },
      "source": [
        "df.describe()"
      ],
      "execution_count": 10,
      "outputs": [
        {
          "output_type": "execute_result",
          "data": {
            "text/html": [
              "<div>\n",
              "<style scoped>\n",
              "    .dataframe tbody tr th:only-of-type {\n",
              "        vertical-align: middle;\n",
              "    }\n",
              "\n",
              "    .dataframe tbody tr th {\n",
              "        vertical-align: top;\n",
              "    }\n",
              "\n",
              "    .dataframe thead th {\n",
              "        text-align: right;\n",
              "    }\n",
              "</style>\n",
              "<table border=\"1\" class=\"dataframe\">\n",
              "  <thead>\n",
              "    <tr style=\"text-align: right;\">\n",
              "      <th></th>\n",
              "      <th>Atributo 1</th>\n",
              "      <th>Atributo 2</th>\n",
              "      <th>Atributo 3</th>\n",
              "      <th>Atributo 4</th>\n",
              "      <th>Atributo 5</th>\n",
              "      <th>Retorno</th>\n",
              "    </tr>\n",
              "  </thead>\n",
              "  <tbody>\n",
              "    <tr>\n",
              "      <th>count</th>\n",
              "      <td>50.000000</td>\n",
              "      <td>50.000000</td>\n",
              "      <td>50.000000</td>\n",
              "      <td>50.000000</td>\n",
              "      <td>50.000000</td>\n",
              "      <td>50.000000</td>\n",
              "    </tr>\n",
              "    <tr>\n",
              "      <th>mean</th>\n",
              "      <td>0.000644</td>\n",
              "      <td>0.500000</td>\n",
              "      <td>19.641800</td>\n",
              "      <td>0.000145</td>\n",
              "      <td>0.006380</td>\n",
              "      <td>0.540000</td>\n",
              "    </tr>\n",
              "    <tr>\n",
              "      <th>std</th>\n",
              "      <td>0.010543</td>\n",
              "      <td>0.505076</td>\n",
              "      <td>0.752074</td>\n",
              "      <td>0.013781</td>\n",
              "      <td>0.022749</td>\n",
              "      <td>0.503457</td>\n",
              "    </tr>\n",
              "    <tr>\n",
              "      <th>min</th>\n",
              "      <td>-0.032338</td>\n",
              "      <td>0.000000</td>\n",
              "      <td>18.370000</td>\n",
              "      <td>-0.035222</td>\n",
              "      <td>-0.029100</td>\n",
              "      <td>0.000000</td>\n",
              "    </tr>\n",
              "    <tr>\n",
              "      <th>25%</th>\n",
              "      <td>-0.004443</td>\n",
              "      <td>0.000000</td>\n",
              "      <td>19.152500</td>\n",
              "      <td>-0.007296</td>\n",
              "      <td>-0.013900</td>\n",
              "      <td>0.000000</td>\n",
              "    </tr>\n",
              "    <tr>\n",
              "      <th>50%</th>\n",
              "      <td>0.002585</td>\n",
              "      <td>0.500000</td>\n",
              "      <td>19.480000</td>\n",
              "      <td>0.000769</td>\n",
              "      <td>0.003000</td>\n",
              "      <td>1.000000</td>\n",
              "    </tr>\n",
              "    <tr>\n",
              "      <th>75%</th>\n",
              "      <td>0.007057</td>\n",
              "      <td>1.000000</td>\n",
              "      <td>20.030000</td>\n",
              "      <td>0.009339</td>\n",
              "      <td>0.023700</td>\n",
              "      <td>1.000000</td>\n",
              "    </tr>\n",
              "    <tr>\n",
              "      <th>max</th>\n",
              "      <td>0.019490</td>\n",
              "      <td>1.000000</td>\n",
              "      <td>21.210000</td>\n",
              "      <td>0.031646</td>\n",
              "      <td>0.046800</td>\n",
              "      <td>1.000000</td>\n",
              "    </tr>\n",
              "  </tbody>\n",
              "</table>\n",
              "</div>"
            ],
            "text/plain": [
              "       Atributo 1  Atributo 2  Atributo 3  Atributo 4  Atributo 5    Retorno\n",
              "count   50.000000   50.000000   50.000000   50.000000   50.000000  50.000000\n",
              "mean     0.000644    0.500000   19.641800    0.000145    0.006380   0.540000\n",
              "std      0.010543    0.505076    0.752074    0.013781    0.022749   0.503457\n",
              "min     -0.032338    0.000000   18.370000   -0.035222   -0.029100   0.000000\n",
              "25%     -0.004443    0.000000   19.152500   -0.007296   -0.013900   0.000000\n",
              "50%      0.002585    0.500000   19.480000    0.000769    0.003000   1.000000\n",
              "75%      0.007057    1.000000   20.030000    0.009339    0.023700   1.000000\n",
              "max      0.019490    1.000000   21.210000    0.031646    0.046800   1.000000"
            ]
          },
          "metadata": {
            "tags": []
          },
          "execution_count": 10
        }
      ]
    },
    {
      "cell_type": "code",
      "metadata": {
        "colab": {
          "base_uri": "https://localhost:8080/",
          "height": 235
        },
        "id": "0_64pKxNp9zb",
        "outputId": "fc02839a-d304-43a3-ddac-d73a8a234a29"
      },
      "source": [
        "df.corr()"
      ],
      "execution_count": 11,
      "outputs": [
        {
          "output_type": "execute_result",
          "data": {
            "text/html": [
              "<div>\n",
              "<style scoped>\n",
              "    .dataframe tbody tr th:only-of-type {\n",
              "        vertical-align: middle;\n",
              "    }\n",
              "\n",
              "    .dataframe tbody tr th {\n",
              "        vertical-align: top;\n",
              "    }\n",
              "\n",
              "    .dataframe thead th {\n",
              "        text-align: right;\n",
              "    }\n",
              "</style>\n",
              "<table border=\"1\" class=\"dataframe\">\n",
              "  <thead>\n",
              "    <tr style=\"text-align: right;\">\n",
              "      <th></th>\n",
              "      <th>Atributo 1</th>\n",
              "      <th>Atributo 2</th>\n",
              "      <th>Atributo 3</th>\n",
              "      <th>Atributo 4</th>\n",
              "      <th>Atributo 5</th>\n",
              "      <th>Retorno</th>\n",
              "    </tr>\n",
              "  </thead>\n",
              "  <tbody>\n",
              "    <tr>\n",
              "      <th>Atributo 1</th>\n",
              "      <td>1.000000</td>\n",
              "      <td>0.068722</td>\n",
              "      <td>-0.090445</td>\n",
              "      <td>-0.055638</td>\n",
              "      <td>0.150964</td>\n",
              "      <td>0.168042</td>\n",
              "    </tr>\n",
              "    <tr>\n",
              "      <th>Atributo 2</th>\n",
              "      <td>0.068722</td>\n",
              "      <td>1.000000</td>\n",
              "      <td>-0.495087</td>\n",
              "      <td>0.057094</td>\n",
              "      <td>0.006394</td>\n",
              "      <td>0.280900</td>\n",
              "    </tr>\n",
              "    <tr>\n",
              "      <th>Atributo 3</th>\n",
              "      <td>-0.090445</td>\n",
              "      <td>-0.495087</td>\n",
              "      <td>1.000000</td>\n",
              "      <td>0.066168</td>\n",
              "      <td>0.196608</td>\n",
              "      <td>0.065832</td>\n",
              "    </tr>\n",
              "    <tr>\n",
              "      <th>Atributo 4</th>\n",
              "      <td>-0.055638</td>\n",
              "      <td>0.057094</td>\n",
              "      <td>0.066168</td>\n",
              "      <td>1.000000</td>\n",
              "      <td>0.192887</td>\n",
              "      <td>-0.012568</td>\n",
              "    </tr>\n",
              "    <tr>\n",
              "      <th>Atributo 5</th>\n",
              "      <td>0.150964</td>\n",
              "      <td>0.006394</td>\n",
              "      <td>0.196608</td>\n",
              "      <td>0.192887</td>\n",
              "      <td>1.000000</td>\n",
              "      <td>0.137098</td>\n",
              "    </tr>\n",
              "    <tr>\n",
              "      <th>Retorno</th>\n",
              "      <td>0.168042</td>\n",
              "      <td>0.280900</td>\n",
              "      <td>0.065832</td>\n",
              "      <td>-0.012568</td>\n",
              "      <td>0.137098</td>\n",
              "      <td>1.000000</td>\n",
              "    </tr>\n",
              "  </tbody>\n",
              "</table>\n",
              "</div>"
            ],
            "text/plain": [
              "            Atributo 1  Atributo 2  ...  Atributo 5   Retorno\n",
              "Atributo 1    1.000000    0.068722  ...    0.150964  0.168042\n",
              "Atributo 2    0.068722    1.000000  ...    0.006394  0.280900\n",
              "Atributo 3   -0.090445   -0.495087  ...    0.196608  0.065832\n",
              "Atributo 4   -0.055638    0.057094  ...    0.192887 -0.012568\n",
              "Atributo 5    0.150964    0.006394  ...    1.000000  0.137098\n",
              "Retorno       0.168042    0.280900  ...    0.137098  1.000000\n",
              "\n",
              "[6 rows x 6 columns]"
            ]
          },
          "metadata": {
            "tags": []
          },
          "execution_count": 11
        }
      ]
    },
    {
      "cell_type": "code",
      "metadata": {
        "id": "1Hn6J4qLq6G4"
      },
      "source": [
        "atributos=df[[\"Atributo 1\",\"Atributo 2\",\"Atributo 3\",\"Atributo 4\",\"Atributo 5\"]]\r\n",
        "target=df[\"Retorno\"]"
      ],
      "execution_count": 12,
      "outputs": []
    },
    {
      "cell_type": "code",
      "metadata": {
        "id": "HZo_OkbzrSTw"
      },
      "source": [
        "atributosTrain, atributosTest, targetTrain, targetTest = train_test_split(atributos,target, test_size = .3)"
      ],
      "execution_count": 13,
      "outputs": []
    },
    {
      "cell_type": "code",
      "metadata": {
        "colab": {
          "base_uri": "https://localhost:8080/"
        },
        "id": "7F2gZYK_rc1V",
        "outputId": "957e4bea-8347-40ad-8cac-528b93743a95"
      },
      "source": [
        "target[target==1].count()/target.shape[0]"
      ],
      "execution_count": 14,
      "outputs": [
        {
          "output_type": "execute_result",
          "data": {
            "text/plain": [
              "0.54"
            ]
          },
          "metadata": {
            "tags": []
          },
          "execution_count": 14
        }
      ]
    },
    {
      "cell_type": "markdown",
      "metadata": {
        "id": "6wfx5MwD2J85"
      },
      "source": [
        "Veja que, nesse exemplo, a probabilidade incondicional do modelo é de 54%."
      ]
    },
    {
      "cell_type": "code",
      "metadata": {
        "id": "54Apv-Dor9Tr"
      },
      "source": [
        "clf=RandomForestClassifier(random_state=44)"
      ],
      "execution_count": 15,
      "outputs": []
    },
    {
      "cell_type": "code",
      "metadata": {
        "colab": {
          "base_uri": "https://localhost:8080/"
        },
        "id": "KNDlcQQ9sBEV",
        "outputId": "e04df5f1-5ae1-48fb-a873-4977d65e536a"
      },
      "source": [
        "print(clf)"
      ],
      "execution_count": 16,
      "outputs": [
        {
          "output_type": "stream",
          "text": [
            "RandomForestClassifier(bootstrap=True, ccp_alpha=0.0, class_weight=None,\n",
            "                       criterion='gini', max_depth=None, max_features='auto',\n",
            "                       max_leaf_nodes=None, max_samples=None,\n",
            "                       min_impurity_decrease=0.0, min_impurity_split=None,\n",
            "                       min_samples_leaf=1, min_samples_split=2,\n",
            "                       min_weight_fraction_leaf=0.0, n_estimators=100,\n",
            "                       n_jobs=None, oob_score=False, random_state=44, verbose=0,\n",
            "                       warm_start=False)\n"
          ],
          "name": "stdout"
        }
      ]
    },
    {
      "cell_type": "code",
      "metadata": {
        "id": "BjU_-avxsIUq"
      },
      "source": [
        "modelo1=clf.fit(atributosTrain, targetTrain)"
      ],
      "execution_count": 17,
      "outputs": []
    },
    {
      "cell_type": "code",
      "metadata": {
        "id": "UsSYR7Wi8T1P"
      },
      "source": [
        "previsao=modelo1.predict(atributosTrain)"
      ],
      "execution_count": 18,
      "outputs": []
    },
    {
      "cell_type": "code",
      "metadata": {
        "id": "yYWYUrl88dN7"
      },
      "source": [
        "acuracia=sklearn.metrics.accuracy_score(targetTrain,previsao)"
      ],
      "execution_count": 19,
      "outputs": []
    },
    {
      "cell_type": "code",
      "metadata": {
        "colab": {
          "base_uri": "https://localhost:8080/"
        },
        "id": "Xtxj7zzM9kOK",
        "outputId": "ebbbd5ab-2cfb-4602-f101-4e3890521a69"
      },
      "source": [
        "acuracia"
      ],
      "execution_count": 20,
      "outputs": [
        {
          "output_type": "execute_result",
          "data": {
            "text/plain": [
              "1.0"
            ]
          },
          "metadata": {
            "tags": []
          },
          "execution_count": 20
        }
      ]
    },
    {
      "cell_type": "code",
      "metadata": {
        "id": "xPUUYIM5ASXW"
      },
      "source": [
        "importancia=clf.feature_importances_\r\n",
        "indices = np.argsort(importancia)\r\n",
        "ind=[]\r\n",
        "for i in indices:\r\n",
        "    ind.append(atributosTrain.columns[i])"
      ],
      "execution_count": 21,
      "outputs": []
    },
    {
      "cell_type": "code",
      "metadata": {
        "colab": {
          "base_uri": "https://localhost:8080/",
          "height": 296
        },
        "id": "rlojeV46AAYQ",
        "outputId": "2b6de9fa-ea4d-4116-be83-a151ad300ecd"
      },
      "source": [
        "plt.figure()\r\n",
        "plt.title('Importância dos Atributos')\r\n",
        "plt.barh(range(len(indices)), importancia[indices])\r\n",
        "plt.yticks(range(len(indices)),ind)\r\n",
        "plt.xlabel('Importância Relativa')\r\n",
        "plt.show()"
      ],
      "execution_count": 22,
      "outputs": [
        {
          "output_type": "display_data",
          "data": {
            "image/png": "[encoded data removed]",
            "text/plain": [
              "<Figure size 432x288 with 1 Axes>"
            ]
          },
          "metadata": {
            "tags": [],
            "needs_background": "light"
          }
        }
      ]
    },
    {
      "cell_type": "markdown",
      "metadata": {
        "id": "j8sZNEd6szh0"
      },
      "source": [
        "Podemos ver que o modelo sofre de overfitting, pois aprendeu demais no conjunto de treino. Para que isso não ocorra, devemos trabalhar os hiperparâmetros do modelo. Em estudos mais complexos, com muitas variáveis, podemos utilizar o GridSearch para encontrar uma boa combinação de hiperparâmetros. Assim que o modelo em treino atingir uma performance satisfatória, faremos uso do Dataset de teste."
      ]
    },
    {
      "cell_type": "code",
      "metadata": {
        "id": "1f1ogw5IpfgC"
      },
      "source": [
        "clf2=RandomForestClassifier(max_depth=3,n_estimators=3,random_state=70)"
      ],
      "execution_count": 23,
      "outputs": []
    },
    {
      "cell_type": "code",
      "metadata": {
        "id": "ciGW7o8bpz_L"
      },
      "source": [
        "modelo2=clf2.fit(atributosTrain, targetTrain)"
      ],
      "execution_count": 24,
      "outputs": []
    },
    {
      "cell_type": "code",
      "metadata": {
        "id": "l4fILjEM99LR"
      },
      "source": [
        "previsao2=modelo2.predict(atributosTrain)"
      ],
      "execution_count": 25,
      "outputs": []
    },
    {
      "cell_type": "code",
      "metadata": {
        "id": "J2I6e9Qqtsip"
      },
      "source": [
        "acuracia=sklearn.metrics.accuracy_score(targetTrain,previsao2)"
      ],
      "execution_count": 26,
      "outputs": []
    },
    {
      "cell_type": "code",
      "metadata": {
        "colab": {
          "base_uri": "https://localhost:8080/"
        },
        "id": "po6m7Rc1-B8m",
        "outputId": "cb5ab4be-cf51-49d3-e040-982dc4d24c1c"
      },
      "source": [
        "acuracia"
      ],
      "execution_count": 27,
      "outputs": [
        {
          "output_type": "execute_result",
          "data": {
            "text/plain": [
              "0.8571428571428571"
            ]
          },
          "metadata": {
            "tags": []
          },
          "execution_count": 27
        }
      ]
    },
    {
      "cell_type": "markdown",
      "metadata": {
        "id": "AJENSxNhA8Vu"
      },
      "source": [
        "Observe que alterando apenas alguns parâmetros manualmente já conseguimos reduzir o overfitting."
      ]
    },
    {
      "cell_type": "code",
      "metadata": {
        "id": "Fx9s8RE4AxTn"
      },
      "source": [
        "importancia=clf2.feature_importances_\r\n",
        "indices = np.argsort(importancia)\r\n",
        "ind=[]\r\n",
        "for i in indices:\r\n",
        "    ind.append(atributosTrain.columns[i])"
      ],
      "execution_count": 28,
      "outputs": []
    },
    {
      "cell_type": "code",
      "metadata": {
        "colab": {
          "base_uri": "https://localhost:8080/",
          "height": 296
        },
        "id": "Bs6nY1YrA2jo",
        "outputId": "d89d33b1-cb72-4613-fc15-ee770b054d14"
      },
      "source": [
        "plt.figure()\r\n",
        "plt.title('Importância dos Atributos')\r\n",
        "plt.barh(range(len(indices)), importancia[indices])\r\n",
        "plt.yticks(range(len(indices)),ind)\r\n",
        "plt.xlabel('Importância Relativa')\r\n",
        "plt.show()"
      ],
      "execution_count": 29,
      "outputs": [
        {
          "output_type": "display_data",
          "data": {
            "image/png": "[encoded data removed]",
            "text/plain": [
              "<Figure size 432x288 with 1 Axes>"
            ]
          },
          "metadata": {
            "tags": [],
            "needs_background": "light"
          }
        }
      ]
    },
    {
      "cell_type": "markdown",
      "metadata": {
        "id": "dkkzaV-lBT1N"
      },
      "source": [
        "Assim que atingirmos um modelo satisfatório em treinamento, devemos partir para a fase de teste."
      ]
    },
    {
      "cell_type": "code",
      "metadata": {
        "id": "MuUgxte6BryW"
      },
      "source": [
        "teste=clf2.predict(atributosTest)"
      ],
      "execution_count": 30,
      "outputs": []
    },
    {
      "cell_type": "code",
      "metadata": {
        "id": "X2YLKFJABvOW"
      },
      "source": [
        "acuracia=sklearn.metrics.accuracy_score(targetTest,teste)"
      ],
      "execution_count": 31,
      "outputs": []
    },
    {
      "cell_type": "code",
      "metadata": {
        "colab": {
          "base_uri": "https://localhost:8080/"
        },
        "id": "AkQvKMtxB6Vw",
        "outputId": "8f47fed5-3df3-4c21-c60c-b2f42b91132c"
      },
      "source": [
        "acuracia"
      ],
      "execution_count": 32,
      "outputs": [
        {
          "output_type": "execute_result",
          "data": {
            "text/plain": [
              "0.4666666666666667"
            ]
          },
          "metadata": {
            "tags": []
          },
          "execution_count": 32
        }
      ]
    },
    {
      "cell_type": "markdown",
      "metadata": {
        "id": "O1d04Ne9CG9w"
      },
      "source": [
        "Nessa etapa devemos comparar a acurácia em teste com a acurácia do modelo em treinamento. Caso a acurácia em teste fosse muito menor do que a acurácia em treino, isso indica que o modelo sofre de overfitting (aprendeu demais no conjunto de treino) e foi incapaz de generalizar para novos dados. Em nosso modelo, isso já é esperado, uma vez que não há o que aprender (os atributos foram construídos de forma totalmente aleatória). Qualquer acurácia acima de 54% (valor obtido para acurácia caso o modelo sempre previsse a classe com maior número de exemplos) já seria um indicativo de overfitting.\r\n",
        "\r\n"
      ]
    },
    {
      "cell_type": "markdown",
      "metadata": {
        "id": "JlSWaBiQGsg9"
      },
      "source": [
        "Também podemos usar o resultado de nosso modelo para calibrar o tamanho da posição em cada operação. Vejamos um exemplo:"
      ]
    },
    {
      "cell_type": "code",
      "metadata": {
        "id": "MARv0PKlqKOP"
      },
      "source": [
        "#Lista de inputs\r\n",
        "lista=[0.008931,1.0,31.10,0.078602,0.0040]\r\n",
        "x= np.asarray(lista)"
      ],
      "execution_count": 33,
      "outputs": []
    },
    {
      "cell_type": "code",
      "metadata": {
        "colab": {
          "base_uri": "https://localhost:8080/"
        },
        "id": "H11icwWHHaam",
        "outputId": "097346bb-f41f-4be4-fee9-f91fb5e43525"
      },
      "source": [
        "clf2.predict(x.reshape(1,-1))"
      ],
      "execution_count": 34,
      "outputs": [
        {
          "output_type": "execute_result",
          "data": {
            "text/plain": [
              "array([0.])"
            ]
          },
          "metadata": {
            "tags": []
          },
          "execution_count": 34
        }
      ]
    },
    {
      "cell_type": "code",
      "metadata": {
        "colab": {
          "base_uri": "https://localhost:8080/"
        },
        "id": "9gj7cYY1rrnt",
        "outputId": "8cf149e0-1520-46c3-8416-bc465d3f9dfc"
      },
      "source": [
        "clf2.predict_proba(x.reshape(1,-1))"
      ],
      "execution_count": 35,
      "outputs": [
        {
          "output_type": "execute_result",
          "data": {
            "text/plain": [
              "array([[0.5, 0.5]])"
            ]
          },
          "metadata": {
            "tags": []
          },
          "execution_count": 35
        }
      ]
    },
    {
      "cell_type": "code",
      "metadata": {
        "id": "FQD-tgNyvC50"
      },
      "source": [
        "#Lista de inputs\r\n",
        "lista2=[0.004931,0.0,21.10,0.078602,0.0040]\r\n",
        "x2=np.asarray(lista2)"
      ],
      "execution_count": 36,
      "outputs": []
    },
    {
      "cell_type": "code",
      "metadata": {
        "colab": {
          "base_uri": "https://localhost:8080/"
        },
        "id": "ChKPUT7zHufD",
        "outputId": "1d1352df-63d9-4d8b-cedf-37b0151a4d74"
      },
      "source": [
        "clf2.predict(x2.reshape(1,-1))"
      ],
      "execution_count": 37,
      "outputs": [
        {
          "output_type": "execute_result",
          "data": {
            "text/plain": [
              "array([1.])"
            ]
          },
          "metadata": {
            "tags": []
          },
          "execution_count": 37
        }
      ]
    },
    {
      "cell_type": "code",
      "metadata": {
        "colab": {
          "base_uri": "https://localhost:8080/"
        },
        "id": "4kODMkkYHvq7",
        "outputId": "b0933ced-5c3a-4d80-e891-0c44f43955fc"
      },
      "source": [
        "clf2.predict_proba(x2.reshape(1,-1))"
      ],
      "execution_count": 38,
      "outputs": [
        {
          "output_type": "execute_result",
          "data": {
            "text/plain": [
              "array([[0.0952381, 0.9047619]])"
            ]
          },
          "metadata": {
            "tags": []
          },
          "execution_count": 38
        }
      ]
    },
    {
      "cell_type": "markdown",
      "metadata": {
        "id": "nNa5LJm3H-Pq"
      },
      "source": [
        "Agora podemos calcular a probabilidade prevista para cada classe. Suponha que na primeira operação tenhamos resultado positivo com probabilidade condicional de 80%, enquanto na segunda operação tenhamos resultado positivo com probabilidade condicional de 60%. Apesar de as duas operações terem resultado positivo, é possível calibrar o tamanho da posição de acordo com a probabilidade prevista."
      ]
    }
  ]
}