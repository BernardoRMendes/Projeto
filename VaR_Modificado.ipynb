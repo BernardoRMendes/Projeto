{
  "nbformat": 4,
  "nbformat_minor": 0,
  "metadata": {
    "colab": {
      "name": "VaR_Modificado.ipynb",
      "provenance": [],
      "collapsed_sections": [],
      "include_colab_link": true
    },
    "kernelspec": {
      "name": "python3",
      "display_name": "Python 3"
    }
  },
  "cells": [
    {
      "cell_type": "markdown",
      "metadata": {
        "id": "view-in-github",
        "colab_type": "text"
      },
      "source": [
        "<a href=\"https://colab.research.google.com/github/BernardoRMendes/Projeto/blob/main/VaR_Modificado.ipynb\" target=\"_parent\"><img src=\"https://colab.research.google.com/assets/colab-badge.svg\" alt=\"Open In Colab\"/></a>"
      ]
    },
    {
      "cell_type": "code",
      "metadata": {
        "colab": {
          "base_uri": "https://localhost:8080/"
        },
        "id": "9S2eRKkeEWzt",
        "outputId": "a92f61a4-b3a4-411d-ac3a-7087f903551b"
      },
      "source": [
        "import numpy as np\r\n",
        "!pip install yahooquery\r\n",
        "from yahooquery import Ticker\r\n",
        "import pandas as pd\r\n",
        "import matplotlib.pyplot as plt\r\n",
        "from scipy.stats import norm"
      ],
      "execution_count": 1,
      "outputs": [
        {
          "output_type": "stream",
          "text": [
            "Collecting yahooquery\n",
            "\u001b[?25l  Downloading https://files.pythonhosted.org/packages/75/ec/c81abd597d485cd3d48d7a8b5f85c59d36327174dafefe466bd0d3f7f720/yahooquery-2.2.12-py2.py3-none-any.whl (45kB)\n",
            "\u001b[K     |████████████████████████████████| 51kB 2.4MB/s \n",
            "\u001b[?25hCollecting lxml>=4.6.2\n",
            "\u001b[?25l  Downloading https://files.pythonhosted.org/packages/bd/78/56a7c88a57d0d14945472535d0df9fb4bbad7d34ede658ec7961635c790e/lxml-4.6.2-cp36-cp36m-manylinux1_x86_64.whl (5.5MB)\n",
            "\u001b[K     |████████████████████████████████| 5.5MB 5.5MB/s \n",
            "\u001b[?25hCollecting requests-futures>=1.0.0\n",
            "  Downloading https://files.pythonhosted.org/packages/47/c4/fd48d1ac5110a5457c71ac7cc4caa93da10a80b8de71112430e439bdee22/requests-futures-1.0.0.tar.gz\n",
            "Collecting tqdm>=4.54.1\n",
            "\u001b[?25l  Downloading https://files.pythonhosted.org/packages/80/02/8f8880a4fd6625461833abcf679d4c12a44c76f9925f92bf212bb6cefaad/tqdm-4.56.0-py2.py3-none-any.whl (72kB)\n",
            "\u001b[K     |████████████████████████████████| 81kB 7.6MB/s \n",
            "\u001b[?25hRequirement already satisfied: pandas>=0.24.0 in /usr/local/lib/python3.6/dist-packages (from yahooquery) (1.1.5)\n",
            "Requirement already satisfied: requests>=1.2.0 in /usr/local/lib/python3.6/dist-packages (from requests-futures>=1.0.0->yahooquery) (2.23.0)\n",
            "Requirement already satisfied: numpy>=1.15.4 in /usr/local/lib/python3.6/dist-packages (from pandas>=0.24.0->yahooquery) (1.19.5)\n",
            "Requirement already satisfied: pytz>=2017.2 in /usr/local/lib/python3.6/dist-packages (from pandas>=0.24.0->yahooquery) (2018.9)\n",
            "Requirement already satisfied: python-dateutil>=2.7.3 in /usr/local/lib/python3.6/dist-packages (from pandas>=0.24.0->yahooquery) (2.8.1)\n",
            "Requirement already satisfied: idna<3,>=2.5 in /usr/local/lib/python3.6/dist-packages (from requests>=1.2.0->requests-futures>=1.0.0->yahooquery) (2.10)\n",
            "Requirement already satisfied: urllib3!=1.25.0,!=1.25.1,<1.26,>=1.21.1 in /usr/local/lib/python3.6/dist-packages (from requests>=1.2.0->requests-futures>=1.0.0->yahooquery) (1.24.3)\n",
            "Requirement already satisfied: certifi>=2017.4.17 in /usr/local/lib/python3.6/dist-packages (from requests>=1.2.0->requests-futures>=1.0.0->yahooquery) (2020.12.5)\n",
            "Requirement already satisfied: chardet<4,>=3.0.2 in /usr/local/lib/python3.6/dist-packages (from requests>=1.2.0->requests-futures>=1.0.0->yahooquery) (3.0.4)\n",
            "Requirement already satisfied: six>=1.5 in /usr/local/lib/python3.6/dist-packages (from python-dateutil>=2.7.3->pandas>=0.24.0->yahooquery) (1.15.0)\n",
            "Building wheels for collected packages: requests-futures\n",
            "  Building wheel for requests-futures (setup.py) ... \u001b[?25l\u001b[?25hdone\n",
            "  Created wheel for requests-futures: filename=requests_futures-1.0.0-cp36-none-any.whl size=7013 sha256=c56afa76761a3c9b4229ad0aa71a7e296df41b1671da4833e307f44d3ea95d9c\n",
            "  Stored in directory: /root/.cache/pip/wheels/26/d0/f5/dc4e4a37bbe55c9acf967d2bd899152412c1e49c227f5395ff\n",
            "Successfully built requests-futures\n",
            "Installing collected packages: lxml, requests-futures, tqdm, yahooquery\n",
            "  Found existing installation: lxml 4.2.6\n",
            "    Uninstalling lxml-4.2.6:\n",
            "      Successfully uninstalled lxml-4.2.6\n",
            "  Found existing installation: tqdm 4.41.1\n",
            "    Uninstalling tqdm-4.41.1:\n",
            "      Successfully uninstalled tqdm-4.41.1\n",
            "Successfully installed lxml-4.6.2 requests-futures-1.0.0 tqdm-4.56.0 yahooquery-2.2.12\n"
          ],
          "name": "stdout"
        }
      ]
    },
    {
      "cell_type": "markdown",
      "metadata": {
        "id": "EAQ5pYtxK7WV"
      },
      "source": [
        "Nesse estudo iremos mostrar que o VaR (Value at Risk), em sua versão paramétrica mais comum, não é uma medida adequada de risco e apresentaremos uma versão modificada, com aplicações na construção de portfólios.\r\n",
        "\r\n",
        "O VaR calcula a perda máxima esperada para um portfólio em determinado intervalo de tempo, dado um nível de confiança. Como exemplo, podemos dizer que a perda máxima é de 100000 reais em um dia, com nível de confiança de 95%. Chegamos nesse valor multiplicando o Valor do Portfolio, o Z-Score (assumindo distribuição normal para os retornos) e o desvio padrão do portfólio.\r\n",
        "\r\n",
        "No entanto, o VaR não diz nada sobre as piores perdas (acima de 95% de confiança), e também desconsidera outros momentos da distrubuição estatística, como o Skew e a Curtose. Skew é uma medida de assimetria, enquanto a Curtose é uma medida de achatamento, indicando a \"gordura\" das caudas. A Distribuição Normal tem Skew=0 e Curtose=3.\r\n",
        "\r\n",
        "A Versão Modificada do VaR (ModifiedVar), também chamada de Cornish-Fisher VaR, calcula o VaR considerando o skew e a Curtose pela fórmula:\r\n",
        "\r\n",
        "CFVaR= sigma*(z+(z^2-1)*s/6+(z^3-3z)*(k-3)/24-(2z^3-5z)*(s^2)/36), onde:\r\n",
        "\r\n",
        "sigma = desvio padrão\r\n",
        "\r\n",
        "z= Z-Score\r\n",
        "\r\n",
        "s= Skew\r\n",
        "\r\n",
        "k= Kurtosis\r\n"
      ]
    },
    {
      "cell_type": "code",
      "metadata": {
        "id": "VEr7nx4IIWOH"
      },
      "source": [
        "def skewness(r):\r\n",
        "    \"\"\"\r\n",
        "    Calcula o skew (assimetria na distribuição) dos retornos\r\n",
        "\r\n",
        "    \"\"\"\r\n",
        "    demeaned_r = r - r.mean()\r\n",
        "    sigma_r = r.std()\r\n",
        "    exp = (demeaned_r**3).mean()\r\n",
        "    return exp/sigma_r**3\r\n",
        "\r\n",
        "\r\n",
        "def kurtosis(r):\r\n",
        "    \"\"\"\r\n",
        "    Calcula a Curtose da série de retornos\r\n",
        "    \"\"\"\r\n",
        "    demeaned_r = r - r.mean()\r\n",
        "    sigma_r = r.std()\r\n",
        "    exp = (demeaned_r**4).mean()\r\n",
        "    return exp/sigma_r**4\r\n",
        "\r\n",
        "                         \r\n",
        "def annualize_rets(r, periods_per_year):\r\n",
        "    \"\"\"\r\n",
        "    Retorno Anualizado\r\n",
        "    \"\"\"\r\n",
        "    compounded_growth = (1+r).prod()\r\n",
        "    n_periods = r.shape[0]\r\n",
        "    return compounded_growth**(periods_per_year/n_periods)-1\r\n",
        "\r\n",
        "\r\n",
        "def annualize_vol(r, periods_per_year):\r\n",
        "    \"\"\"\r\n",
        "    Volatilidade dos retornos em formato anualizado\r\n",
        "    \"\"\"\r\n",
        "    return r.std()*(periods_per_year**0.5)\r\n",
        "\r\n",
        "\r\n",
        "def sharpe_ratio(r, riskfree_rate, periods_per_year):\r\n",
        "    \"\"\"\r\n",
        "    Calcula o Sharpe anualizado\r\n",
        "    \"\"\"\r\n",
        "    rf_per_period = (1+riskfree_rate)**(1/periods_per_year)-1\r\n",
        "    excess_ret = r - rf_per_period\r\n",
        "    ann_ex_ret = annualize_rets(excess_ret, periods_per_year)\r\n",
        "    ann_vol = annualize_vol(r, periods_per_year)\r\n",
        "    return ann_ex_ret/ann_vol\r\n",
        "\r\n",
        "\r\n",
        "def drawdown(return_series: pd.Series):\r\n",
        "    \"\"\"Recebe uma série de retornos e\r\n",
        "       retorna um dataframe com o valor acumulado,\r\n",
        "       picos prévios, e o drawdown\r\n",
        "    \"\"\"\r\n",
        "    wealth_index = 1000*(1+return_series).cumprod()\r\n",
        "    previous_peaks = wealth_index.cummax()\r\n",
        "    drawdowns = (wealth_index - previous_peaks)/previous_peaks\r\n",
        "    return pd.DataFrame({\"Wealth\": wealth_index, \r\n",
        "                         \"Previous Peak\": previous_peaks, \r\n",
        "                         \"Drawdown\": drawdowns})\r\n",
        "\r\n",
        "def var_gaussian(r, level=5, modified=False):\r\n",
        "    \"\"\"\r\n",
        "    Retorna o VaR Gaussiano Paramétrico de uma Série ou DataFrame\r\n",
        "    Se \"modified\" for True, o VaR Modificado é retornado,\r\n",
        "    usando a modificação Cornish-Fisher\r\n",
        "    \"\"\"\r\n",
        "    # Calcula o Z Score assumindo distribuição Normal\r\n",
        "    z = norm.ppf(level/100)\r\n",
        "    if modified:\r\n",
        "        # Modifica o Z Score com base no Skew e Curtose observados\r\n",
        "        s = skewness(r)\r\n",
        "        k = kurtosis(r)\r\n",
        "        z = (z+(z**2-1)*s/6+(z**3-3*z)*(k-3)/24-(2*z**3-5*z)*(s**2)/36)\r\n",
        "    return -z*r.std()"
      ],
      "execution_count": 2,
      "outputs": []
    },
    {
      "cell_type": "markdown",
      "metadata": {
        "id": "pZOZ4rgAiw68"
      },
      "source": [
        "No exemplo abaixo, vamos verificar como o valor em risco altera de acordo com o skew e a Curtose:"
      ]
    },
    {
      "cell_type": "code",
      "metadata": {
        "colab": {
          "base_uri": "https://localhost:8080/",
          "height": 297
        },
        "id": "ywcCkpqtkI_6",
        "outputId": "e31ce052-b1b8-4463-f812-1c667ce789b0"
      },
      "source": [
        "skewlist=np.array([-0.5,0.5,-0.5,0.5,-0.5,0.5,-0.5,0.5])\n",
        "level=np.array([0.1,0.1,1,1,2.5,2.5,5,5])\n",
        "x=np.arange(len(level))\n",
        "sigma=0.01\n",
        "VaR=list()\n",
        "for i in x:\n",
        "  z=norm.ppf(level[x]/100)\n",
        "  VaR.append(sigma*z)\n",
        "  \n",
        "data=pd.DataFrame(index=level,data=VaR[0])\n",
        "data=pd.DataFrame(data=[level,skewlist])\n",
        "data=data.T\n",
        "data.columns=[\"Alfa\",\"Skew\"]\n",
        "data[\"VaR\"]=VaR[0]\n",
        "k=3\n",
        "s=data[\"Skew\"]\n",
        "z=norm.ppf(data[\"Alfa\"]/100)\n",
        "data[\"ModifiedVar\"]=sigma*(z+(z**2-1)*s/6+(z**3-3*z)*(k-3)/24 -(2*z**3-5*z)*(s**2)/36)\n",
        "data"
      ],
      "execution_count": 3,
      "outputs": [
        {
          "output_type": "execute_result",
          "data": {
            "text/html": [
              "<div>\n",
              "<style scoped>\n",
              "    .dataframe tbody tr th:only-of-type {\n",
              "        vertical-align: middle;\n",
              "    }\n",
              "\n",
              "    .dataframe tbody tr th {\n",
              "        vertical-align: top;\n",
              "    }\n",
              "\n",
              "    .dataframe thead th {\n",
              "        text-align: right;\n",
              "    }\n",
              "</style>\n",
              "<table border=\"1\" class=\"dataframe\">\n",
              "  <thead>\n",
              "    <tr style=\"text-align: right;\">\n",
              "      <th></th>\n",
              "      <th>Alfa</th>\n",
              "      <th>Skew</th>\n",
              "      <th>VaR</th>\n",
              "      <th>ModifiedVar</th>\n",
              "    </tr>\n",
              "  </thead>\n",
              "  <tbody>\n",
              "    <tr>\n",
              "      <th>0</th>\n",
              "      <td>0.1</td>\n",
              "      <td>-0.5</td>\n",
              "      <td>-0.030902</td>\n",
              "      <td>-0.035001</td>\n",
              "    </tr>\n",
              "    <tr>\n",
              "      <th>1</th>\n",
              "      <td>0.1</td>\n",
              "      <td>0.5</td>\n",
              "      <td>-0.030902</td>\n",
              "      <td>-0.020752</td>\n",
              "    </tr>\n",
              "    <tr>\n",
              "      <th>2</th>\n",
              "      <td>1.0</td>\n",
              "      <td>-0.5</td>\n",
              "      <td>-0.023263</td>\n",
              "      <td>-0.025999</td>\n",
              "    </tr>\n",
              "    <tr>\n",
              "      <th>3</th>\n",
              "      <td>1.0</td>\n",
              "      <td>0.5</td>\n",
              "      <td>-0.023263</td>\n",
              "      <td>-0.018646</td>\n",
              "    </tr>\n",
              "    <tr>\n",
              "      <th>4</th>\n",
              "      <td>2.5</td>\n",
              "      <td>-0.5</td>\n",
              "      <td>-0.019600</td>\n",
              "      <td>-0.021602</td>\n",
              "    </tr>\n",
              "    <tr>\n",
              "      <th>5</th>\n",
              "      <td>2.5</td>\n",
              "      <td>0.5</td>\n",
              "      <td>-0.019600</td>\n",
              "      <td>-0.016867</td>\n",
              "    </tr>\n",
              "    <tr>\n",
              "      <th>6</th>\n",
              "      <td>5.0</td>\n",
              "      <td>-0.5</td>\n",
              "      <td>-0.016449</td>\n",
              "      <td>-0.017823</td>\n",
              "    </tr>\n",
              "    <tr>\n",
              "      <th>7</th>\n",
              "      <td>5.0</td>\n",
              "      <td>0.5</td>\n",
              "      <td>-0.016449</td>\n",
              "      <td>-0.014980</td>\n",
              "    </tr>\n",
              "  </tbody>\n",
              "</table>\n",
              "</div>"
            ],
            "text/plain": [
              "   Alfa  Skew       VaR  ModifiedVar\n",
              "0   0.1  -0.5 -0.030902    -0.035001\n",
              "1   0.1   0.5 -0.030902    -0.020752\n",
              "2   1.0  -0.5 -0.023263    -0.025999\n",
              "3   1.0   0.5 -0.023263    -0.018646\n",
              "4   2.5  -0.5 -0.019600    -0.021602\n",
              "5   2.5   0.5 -0.019600    -0.016867\n",
              "6   5.0  -0.5 -0.016449    -0.017823\n",
              "7   5.0   0.5 -0.016449    -0.014980"
            ]
          },
          "metadata": {
            "tags": []
          },
          "execution_count": 3
        }
      ]
    },
    {
      "cell_type": "markdown",
      "metadata": {
        "id": "170XaTyCrRX4"
      },
      "source": [
        "Para um mesmo alfa, o verdadeiro Valor em Risco, em valores absolutos, é sempre maior se o Skew for negativo, e menor se for positivo. Ter assimetria de retornos positiva diminui o risco."
      ]
    },
    {
      "cell_type": "code",
      "metadata": {
        "colab": {
          "base_uri": "https://localhost:8080/",
          "height": 297
        },
        "id": "YZXbG7A-G6r_",
        "outputId": "8b8591e0-48f6-40a2-9ba6-c09ed7ace5db"
      },
      "source": [
        "kurtlist=np.array([1,10,1,10,1,10,1,10])\r\n",
        "level=np.array([0.1,0.1,1,1,2.5,2.5,5,5])\r\n",
        "x=np.arange(len(level))\r\n",
        "sigma=0.01\r\n",
        "VaR=list()\r\n",
        "for i in x:\r\n",
        "  z=norm.ppf(level[x]/100)\r\n",
        "  VaR.append(sigma*z)\r\n",
        "  \r\n",
        "data=pd.DataFrame(index=level,data=VaR[0])\r\n",
        "data=pd.DataFrame(data=[level,kurtlist])\r\n",
        "data=data.T\r\n",
        "data.columns=[\"Alfa\",\"Kurtosis\"]\r\n",
        "data[\"VaR\"]=VaR[0]\r\n",
        "s=0\r\n",
        "k=data[\"Kurtosis\"]\r\n",
        "z=norm.ppf(data[\"Alfa\"]/100)\r\n",
        "data[\"ModifiedVar\"]=sigma*(z+(z**2-1)*s/6+(z**3-3*z)*(k-3)/24 -(2*z**3-5*z)*(s**2)/36)\r\n",
        "data"
      ],
      "execution_count": 4,
      "outputs": [
        {
          "output_type": "execute_result",
          "data": {
            "text/html": [
              "<div>\n",
              "<style scoped>\n",
              "    .dataframe tbody tr th:only-of-type {\n",
              "        vertical-align: middle;\n",
              "    }\n",
              "\n",
              "    .dataframe tbody tr th {\n",
              "        vertical-align: top;\n",
              "    }\n",
              "\n",
              "    .dataframe thead th {\n",
              "        text-align: right;\n",
              "    }\n",
              "</style>\n",
              "<table border=\"1\" class=\"dataframe\">\n",
              "  <thead>\n",
              "    <tr style=\"text-align: right;\">\n",
              "      <th></th>\n",
              "      <th>Alfa</th>\n",
              "      <th>Kurtosis</th>\n",
              "      <th>VaR</th>\n",
              "      <th>ModifiedVar</th>\n",
              "    </tr>\n",
              "  </thead>\n",
              "  <tbody>\n",
              "    <tr>\n",
              "      <th>0</th>\n",
              "      <td>0.1</td>\n",
              "      <td>1.0</td>\n",
              "      <td>-0.030902</td>\n",
              "      <td>-0.014036</td>\n",
              "    </tr>\n",
              "    <tr>\n",
              "      <th>1</th>\n",
              "      <td>0.1</td>\n",
              "      <td>10.0</td>\n",
              "      <td>-0.030902</td>\n",
              "      <td>-0.089934</td>\n",
              "    </tr>\n",
              "    <tr>\n",
              "      <th>2</th>\n",
              "      <td>1.0</td>\n",
              "      <td>1.0</td>\n",
              "      <td>-0.023263</td>\n",
              "      <td>-0.018588</td>\n",
              "    </tr>\n",
              "    <tr>\n",
              "      <th>3</th>\n",
              "      <td>1.0</td>\n",
              "      <td>10.0</td>\n",
              "      <td>-0.023263</td>\n",
              "      <td>-0.039629</td>\n",
              "    </tr>\n",
              "    <tr>\n",
              "      <th>4</th>\n",
              "      <td>2.5</td>\n",
              "      <td>1.0</td>\n",
              "      <td>-0.019600</td>\n",
              "      <td>-0.018225</td>\n",
              "    </tr>\n",
              "    <tr>\n",
              "      <th>5</th>\n",
              "      <td>2.5</td>\n",
              "      <td>10.0</td>\n",
              "      <td>-0.019600</td>\n",
              "      <td>-0.024410</td>\n",
              "    </tr>\n",
              "    <tr>\n",
              "      <th>6</th>\n",
              "      <td>5.0</td>\n",
              "      <td>1.0</td>\n",
              "      <td>-0.016449</td>\n",
              "      <td>-0.016852</td>\n",
              "    </tr>\n",
              "    <tr>\n",
              "      <th>7</th>\n",
              "      <td>5.0</td>\n",
              "      <td>10.0</td>\n",
              "      <td>-0.016449</td>\n",
              "      <td>-0.015036</td>\n",
              "    </tr>\n",
              "  </tbody>\n",
              "</table>\n",
              "</div>"
            ],
            "text/plain": [
              "   Alfa  Kurtosis       VaR  ModifiedVar\n",
              "0   0.1       1.0 -0.030902    -0.014036\n",
              "1   0.1      10.0 -0.030902    -0.089934\n",
              "2   1.0       1.0 -0.023263    -0.018588\n",
              "3   1.0      10.0 -0.023263    -0.039629\n",
              "4   2.5       1.0 -0.019600    -0.018225\n",
              "5   2.5      10.0 -0.019600    -0.024410\n",
              "6   5.0       1.0 -0.016449    -0.016852\n",
              "7   5.0      10.0 -0.016449    -0.015036"
            ]
          },
          "metadata": {
            "tags": []
          },
          "execution_count": 4
        }
      ]
    },
    {
      "cell_type": "markdown",
      "metadata": {
        "id": "eALr4Z32wI80"
      },
      "source": [
        "Observe que o Valor em Risco considerando a Curtose somente se torna relevante nos extremos da distribuição. Para um alfa de 5%, o valor em risco é maior com  Curtose=1 do que com  Curtose=10. À primeira vista isso pode parecer estranho, mas já é um resultado esperado, pois distribuições com alta  Curtose possuem caudas gordas, mas o centro da distribuição possui um pico mais alto, concentrando a maior parte dos resultados. Com alfa=0,1%, vemos que o risco na distribuição com excesso de  Curtose é muito maior, indicando a presença de caudas gordas (-0,08934 contra -0,030902 e -0,014036)."
      ]
    },
    {
      "cell_type": "markdown",
      "metadata": {
        "id": "cAtZuaoexpfs"
      },
      "source": [
        "Ir além das premissas de normalidade é fundamental na avaliação de riscos. Em um portfólio, podemos construir estratégias com assimetria negativa e alta curtose enquanto nosso VaR parece controlado. Quando se otimiza um portfólio analisando apenas a volatilidade, corre-se o risco de alterar negativamente outros momentos da distribuição de probabilidades dos retornos. Assim, podemos ter um portfólio com excelente Sharpe Ratio, mas cujo risco esteja escondido tanto na presença de assimetria negativa como de excesso de curtose. O que muitas vezes é reportado como \"Outlier\" ou \"Cisno Negro\" está totalmente dentro do esperado, quando outras medidas de risco são consideradas."
      ]
    },
    {
      "cell_type": "markdown",
      "metadata": {
        "id": "eCNEocgOzhJT"
      },
      "source": [
        "Para testar esse conceitos em prática, vamos construir um portfólio com o SPY e o VIX. O VIX, apesar de não ser diretamente investível, possui propriedades estatísticas interessantes, como excesso de curtose e assimetria positiva nos retornos.\r\n",
        "\r\n",
        "*É possível investir no VIX por meio de contratos futuros, mas como sua estrutura a termo geralmente é do tipo contango, há um forte decaimento ao longo do tempo, então as performances apresentadas são irreais. O que podemos tirar de lição é se a análise de outros momentos estatísticos melhoram o desempenho do portfólio e, caso positivo, tentarmos replicar essas propriedades estatísticas por meio de outras estratégias."
      ]
    },
    {
      "cell_type": "markdown",
      "metadata": {
        "id": "mf9NCKgnPo1f"
      },
      "source": [
        "Após coletar os dados do SPY e do VIX de 2010 a 2015, vamos montar dois portfólios e testá-los no período de 2016 a 2020.\r\n",
        "O Portfólio 1 terá pesos inversamente proporcionais ao VaR, enquanto o Portfólio 2 terá pesos inversamente proporcionais ao ModifiedVar, ambos com 99% de confiança."
      ]
    },
    {
      "cell_type": "code",
      "metadata": {
        "id": "cx4UbKhzKXCb"
      },
      "source": [
        "lista=[\"SPY\",\"^VIX\"]"
      ],
      "execution_count": 5,
      "outputs": []
    },
    {
      "cell_type": "code",
      "metadata": {
        "id": "Dj2pV1egKXZt"
      },
      "source": [
        "portfolio=pd.DataFrame()\r\n",
        "i=np.arange(len(lista))\r\n",
        "for i in i:\r\n",
        "  try:\r\n",
        "    a=Ticker(lista[i])\r\n",
        "    df=a.history(start=\"2010-01-01\",end=\"2015-12-31\",interval='1d')\r\n",
        "    df=df['adjclose']\r\n",
        "    df=df.pct_change()\r\n",
        "    df=df.droplevel(\"symbol\")\r\n",
        "    portfolio[lista[i]]=df\r\n",
        "  except:\r\n",
        "    pass"
      ],
      "execution_count": 6,
      "outputs": []
    },
    {
      "cell_type": "code",
      "metadata": {
        "colab": {
          "base_uri": "https://localhost:8080/",
          "height": 235
        },
        "id": "tS-bGde_Kaca",
        "outputId": "cbf5c85d-cfea-4546-88e0-20185a5b130e"
      },
      "source": [
        "portfolio.dropna(inplace=True)\r\n",
        "portfolio.head()"
      ],
      "execution_count": 7,
      "outputs": [
        {
          "output_type": "execute_result",
          "data": {
            "text/html": [
              "<div>\n",
              "<style scoped>\n",
              "    .dataframe tbody tr th:only-of-type {\n",
              "        vertical-align: middle;\n",
              "    }\n",
              "\n",
              "    .dataframe tbody tr th {\n",
              "        vertical-align: top;\n",
              "    }\n",
              "\n",
              "    .dataframe thead th {\n",
              "        text-align: right;\n",
              "    }\n",
              "</style>\n",
              "<table border=\"1\" class=\"dataframe\">\n",
              "  <thead>\n",
              "    <tr style=\"text-align: right;\">\n",
              "      <th></th>\n",
              "      <th>SPY</th>\n",
              "      <th>^VIX</th>\n",
              "    </tr>\n",
              "    <tr>\n",
              "      <th>date</th>\n",
              "      <th></th>\n",
              "      <th></th>\n",
              "    </tr>\n",
              "  </thead>\n",
              "  <tbody>\n",
              "    <tr>\n",
              "      <th>2010-01-05</th>\n",
              "      <td>0.002647</td>\n",
              "      <td>-0.034431</td>\n",
              "    </tr>\n",
              "    <tr>\n",
              "      <th>2010-01-06</th>\n",
              "      <td>0.000704</td>\n",
              "      <td>-0.009819</td>\n",
              "    </tr>\n",
              "    <tr>\n",
              "      <th>2010-01-07</th>\n",
              "      <td>0.004222</td>\n",
              "      <td>-0.005219</td>\n",
              "    </tr>\n",
              "    <tr>\n",
              "      <th>2010-01-08</th>\n",
              "      <td>0.003327</td>\n",
              "      <td>-0.048793</td>\n",
              "    </tr>\n",
              "    <tr>\n",
              "      <th>2010-01-11</th>\n",
              "      <td>0.001397</td>\n",
              "      <td>-0.031991</td>\n",
              "    </tr>\n",
              "  </tbody>\n",
              "</table>\n",
              "</div>"
            ],
            "text/plain": [
              "                 SPY      ^VIX\n",
              "date                          \n",
              "2010-01-05  0.002647 -0.034431\n",
              "2010-01-06  0.000704 -0.009819\n",
              "2010-01-07  0.004222 -0.005219\n",
              "2010-01-08  0.003327 -0.048793\n",
              "2010-01-11  0.001397 -0.031991"
            ]
          },
          "metadata": {
            "tags": []
          },
          "execution_count": 7
        }
      ]
    },
    {
      "cell_type": "code",
      "metadata": {
        "id": "Geup_RFhJmTD"
      },
      "source": [
        "spy=dict()\r\n",
        "spy[\"Annualized Return\"]=annualize_rets(portfolio[\"SPY\"],252)*100\r\n",
        "spy[\"Annualized Vol\"]=annualize_vol(portfolio[\"SPY\"],252)*100\r\n",
        "spy[\"Skewness\"]=skewness(portfolio[\"SPY\"])\r\n",
        "spy[\"Kurtosis\"]=kurtosis(portfolio[\"SPY\"])\r\n",
        "spy[\"Sharpe Ratio\"]=sharpe_ratio(portfolio[\"SPY\"],0,252)\r\n",
        "spy[\"Max Drawdown\"]=drawdown(portfolio[\"SPY\"]).Drawdown.min()*100\r\n",
        "spy[\"Calmar Ratio\"]=abs(spy[\"Annualized Return\"]/spy[\"Max Drawdown\"])\r\n",
        "spy[\"VaR\"]=var_gaussian(portfolio[\"SPY\"],level=1)\r\n",
        "spy[\"ModifiedVar\"]=var_gaussian(portfolio[\"SPY\"],level=1,modified=True)\r\n",
        "spy=pd.DataFrame.from_dict(spy.items())\r\n",
        "spy=spy.set_index(0)\r\n",
        "spy.index.name=None\r\n",
        "spy.columns=[\"SPY\"]\r\n",
        "\r\n",
        "VIX=dict()\r\n",
        "VIX[\"Annualized Return\"]=annualize_rets(portfolio[\"^VIX\"],252)*100\r\n",
        "VIX[\"Annualized Vol\"]=annualize_vol(portfolio[\"^VIX\"],252)*100\r\n",
        "VIX[\"Skewness\"]=skewness(portfolio[\"^VIX\"])\r\n",
        "VIX[\"Kurtosis\"]=kurtosis(portfolio[\"^VIX\"])\r\n",
        "VIX[\"Sharpe Ratio\"]=sharpe_ratio(portfolio[\"^VIX\"],0,252)\r\n",
        "VIX[\"Max Drawdown\"]=drawdown(portfolio[\"^VIX\"]).Drawdown.min()*100\r\n",
        "VIX[\"Calmar Ratio\"]=abs(VIX[\"Annualized Return\"]/VIX[\"Max Drawdown\"])\r\n",
        "VIX[\"VaR\"]=var_gaussian(portfolio[\"^VIX\"],level=1)\r\n",
        "VIX[\"ModifiedVar\"]=var_gaussian(portfolio[\"^VIX\"],level=1,modified=True)\r\n",
        "VIX=pd.DataFrame.from_dict(VIX.items())\r\n",
        "VIX=VIX.set_index(0)\r\n",
        "VIX.index.name=None\r\n",
        "VIX.columns=[\"^VIX\"]\r\n",
        "\r\n",
        "resumo=pd.concat([spy,VIX],axis=1)"
      ],
      "execution_count": 8,
      "outputs": []
    },
    {
      "cell_type": "code",
      "metadata": {
        "colab": {
          "base_uri": "https://localhost:8080/",
          "height": 328
        },
        "id": "lvX4xnfPMoX2",
        "outputId": "b7ed1071-4ccc-490a-ddfc-87dbc2ebee1d"
      },
      "source": [
        "resumo"
      ],
      "execution_count": 9,
      "outputs": [
        {
          "output_type": "execute_result",
          "data": {
            "text/html": [
              "<div>\n",
              "<style scoped>\n",
              "    .dataframe tbody tr th:only-of-type {\n",
              "        vertical-align: middle;\n",
              "    }\n",
              "\n",
              "    .dataframe tbody tr th {\n",
              "        vertical-align: top;\n",
              "    }\n",
              "\n",
              "    .dataframe thead th {\n",
              "        text-align: right;\n",
              "    }\n",
              "</style>\n",
              "<table border=\"1\" class=\"dataframe\">\n",
              "  <thead>\n",
              "    <tr style=\"text-align: right;\">\n",
              "      <th></th>\n",
              "      <th>SPY</th>\n",
              "      <th>^VIX</th>\n",
              "    </tr>\n",
              "  </thead>\n",
              "  <tbody>\n",
              "    <tr>\n",
              "      <th>Annualized Return</th>\n",
              "      <td>12.769317</td>\n",
              "      <td>-2.436387</td>\n",
              "    </tr>\n",
              "    <tr>\n",
              "      <th>Annualized Vol</th>\n",
              "      <td>15.792163</td>\n",
              "      <td>123.175402</td>\n",
              "    </tr>\n",
              "    <tr>\n",
              "      <th>Skewness</th>\n",
              "      <td>-0.371239</td>\n",
              "      <td>1.276167</td>\n",
              "    </tr>\n",
              "    <tr>\n",
              "      <th>Kurtosis</th>\n",
              "      <td>6.961975</td>\n",
              "      <td>8.081613</td>\n",
              "    </tr>\n",
              "    <tr>\n",
              "      <th>Sharpe Ratio</th>\n",
              "      <td>0.808586</td>\n",
              "      <td>-0.019780</td>\n",
              "    </tr>\n",
              "    <tr>\n",
              "      <th>Max Drawdown</th>\n",
              "      <td>-18.605475</td>\n",
              "      <td>-78.500001</td>\n",
              "    </tr>\n",
              "    <tr>\n",
              "      <th>Calmar Ratio</th>\n",
              "      <td>0.686320</td>\n",
              "      <td>0.031037</td>\n",
              "    </tr>\n",
              "    <tr>\n",
              "      <th>VaR</th>\n",
              "      <td>0.023143</td>\n",
              "      <td>0.180509</td>\n",
              "    </tr>\n",
              "    <tr>\n",
              "      <th>ModifiedVar</th>\n",
              "      <td>0.034557</td>\n",
              "      <td>0.152321</td>\n",
              "    </tr>\n",
              "  </tbody>\n",
              "</table>\n",
              "</div>"
            ],
            "text/plain": [
              "                         SPY        ^VIX\n",
              "Annualized Return  12.769317   -2.436387\n",
              "Annualized Vol     15.792163  123.175402\n",
              "Skewness           -0.371239    1.276167\n",
              "Kurtosis            6.961975    8.081613\n",
              "Sharpe Ratio        0.808586   -0.019780\n",
              "Max Drawdown      -18.605475  -78.500001\n",
              "Calmar Ratio        0.686320    0.031037\n",
              "VaR                 0.023143    0.180509\n",
              "ModifiedVar         0.034557    0.152321"
            ]
          },
          "metadata": {
            "tags": []
          },
          "execution_count": 9
        }
      ]
    },
    {
      "cell_type": "code",
      "metadata": {
        "id": "sQB_RoxjR5Sf",
        "colab": {
          "base_uri": "https://localhost:8080/"
        },
        "outputId": "a06faeec-8347-4279-eb5a-1175f63e761a"
      },
      "source": [
        "pesos1=(1/resumo.loc['VaR'])/(1/resumo.loc['VaR']).sum()\r\n",
        "pesos1"
      ],
      "execution_count": 10,
      "outputs": [
        {
          "output_type": "execute_result",
          "data": {
            "text/plain": [
              "SPY     0.886361\n",
              "^VIX    0.113639\n",
              "Name: VaR, dtype: float64"
            ]
          },
          "metadata": {
            "tags": []
          },
          "execution_count": 10
        }
      ]
    },
    {
      "cell_type": "code",
      "metadata": {
        "id": "hGtrg3FBVDrG",
        "colab": {
          "base_uri": "https://localhost:8080/"
        },
        "outputId": "83ee26e5-8460-4c81-fcb0-de2b6d9d599e"
      },
      "source": [
        "pesos2=(1/resumo.loc['ModifiedVar'])/(1/resumo.loc['ModifiedVar']).sum()\r\n",
        "pesos2"
      ],
      "execution_count": 11,
      "outputs": [
        {
          "output_type": "execute_result",
          "data": {
            "text/plain": [
              "SPY     0.815083\n",
              "^VIX    0.184917\n",
              "Name: ModifiedVar, dtype: float64"
            ]
          },
          "metadata": {
            "tags": []
          },
          "execution_count": 11
        }
      ]
    },
    {
      "cell_type": "code",
      "metadata": {
        "id": "ARwh-Dc3LM4L"
      },
      "source": [
        "portfolio[\"Portfolio1\"]=(1+0.886361*portfolio[\"SPY\"])*(1+0.113639*portfolio[\"^VIX\"])-1"
      ],
      "execution_count": 12,
      "outputs": []
    },
    {
      "cell_type": "code",
      "metadata": {
        "id": "Oe22R3VXXBod"
      },
      "source": [
        "portfolio[\"Portfolio2\"]=(1+0.815083*portfolio[\"SPY\"])*(1+0.184917*portfolio[\"^VIX\"])-1"
      ],
      "execution_count": 13,
      "outputs": []
    },
    {
      "cell_type": "code",
      "metadata": {
        "id": "eElP4uCTVXPz"
      },
      "source": [
        "portfolio.dropna(inplace=True)"
      ],
      "execution_count": 14,
      "outputs": []
    },
    {
      "cell_type": "code",
      "metadata": {
        "id": "YHkGbaotMAnp"
      },
      "source": [
        "portfolio[\"Acumulado1\"]=(1+portfolio[\"Portfolio1\"]).cumprod()*100\r\n",
        "portfolio[\"Acumulado2\"]=(1+portfolio[\"Portfolio2\"]).cumprod()*100\r\n",
        "portfolio[\"Acumulado1\"]=portfolio[\"Acumulado1\"]/portfolio[\"Acumulado1\"][0]\r\n",
        "portfolio[\"Acumulado2\"]=portfolio[\"Acumulado2\"]/portfolio[\"Acumulado2\"][0]"
      ],
      "execution_count": 15,
      "outputs": []
    },
    {
      "cell_type": "code",
      "metadata": {
        "colab": {
          "base_uri": "https://localhost:8080/",
          "height": 450
        },
        "id": "sXyEFMRrMSUo",
        "outputId": "044ff731-5681-40f7-c851-8dd66f6c62b8"
      },
      "source": [
        "portfolio"
      ],
      "execution_count": 16,
      "outputs": [
        {
          "output_type": "execute_result",
          "data": {
            "text/html": [
              "<div>\n",
              "<style scoped>\n",
              "    .dataframe tbody tr th:only-of-type {\n",
              "        vertical-align: middle;\n",
              "    }\n",
              "\n",
              "    .dataframe tbody tr th {\n",
              "        vertical-align: top;\n",
              "    }\n",
              "\n",
              "    .dataframe thead th {\n",
              "        text-align: right;\n",
              "    }\n",
              "</style>\n",
              "<table border=\"1\" class=\"dataframe\">\n",
              "  <thead>\n",
              "    <tr style=\"text-align: right;\">\n",
              "      <th></th>\n",
              "      <th>SPY</th>\n",
              "      <th>^VIX</th>\n",
              "      <th>Portfolio1</th>\n",
              "      <th>Portfolio2</th>\n",
              "      <th>Acumulado1</th>\n",
              "      <th>Acumulado2</th>\n",
              "    </tr>\n",
              "    <tr>\n",
              "      <th>date</th>\n",
              "      <th></th>\n",
              "      <th></th>\n",
              "      <th></th>\n",
              "      <th></th>\n",
              "      <th></th>\n",
              "      <th></th>\n",
              "    </tr>\n",
              "  </thead>\n",
              "  <tbody>\n",
              "    <tr>\n",
              "      <th>2010-01-05</th>\n",
              "      <td>0.002647</td>\n",
              "      <td>-0.034431</td>\n",
              "      <td>-0.001575</td>\n",
              "      <td>-0.004223</td>\n",
              "      <td>1.000000</td>\n",
              "      <td>1.000000</td>\n",
              "    </tr>\n",
              "    <tr>\n",
              "      <th>2010-01-06</th>\n",
              "      <td>0.000704</td>\n",
              "      <td>-0.009819</td>\n",
              "      <td>-0.000493</td>\n",
              "      <td>-0.001243</td>\n",
              "      <td>0.999507</td>\n",
              "      <td>0.998757</td>\n",
              "    </tr>\n",
              "    <tr>\n",
              "      <th>2010-01-07</th>\n",
              "      <td>0.004222</td>\n",
              "      <td>-0.005219</td>\n",
              "      <td>0.003147</td>\n",
              "      <td>0.002473</td>\n",
              "      <td>1.002652</td>\n",
              "      <td>1.001226</td>\n",
              "    </tr>\n",
              "    <tr>\n",
              "      <th>2010-01-08</th>\n",
              "      <td>0.003327</td>\n",
              "      <td>-0.048793</td>\n",
              "      <td>-0.002612</td>\n",
              "      <td>-0.006335</td>\n",
              "      <td>1.000034</td>\n",
              "      <td>0.994884</td>\n",
              "    </tr>\n",
              "    <tr>\n",
              "      <th>2010-01-11</th>\n",
              "      <td>0.001397</td>\n",
              "      <td>-0.031991</td>\n",
              "      <td>-0.002402</td>\n",
              "      <td>-0.004784</td>\n",
              "      <td>0.997632</td>\n",
              "      <td>0.990124</td>\n",
              "    </tr>\n",
              "    <tr>\n",
              "      <th>...</th>\n",
              "      <td>...</td>\n",
              "      <td>...</td>\n",
              "      <td>...</td>\n",
              "      <td>...</td>\n",
              "      <td>...</td>\n",
              "      <td>...</td>\n",
              "    </tr>\n",
              "    <tr>\n",
              "      <th>2015-12-23</th>\n",
              "      <td>0.012383</td>\n",
              "      <td>-0.062048</td>\n",
              "      <td>0.003848</td>\n",
              "      <td>-0.001496</td>\n",
              "      <td>2.855566</td>\n",
              "      <td>3.313954</td>\n",
              "    </tr>\n",
              "    <tr>\n",
              "      <th>2015-12-24</th>\n",
              "      <td>-0.001651</td>\n",
              "      <td>0.010918</td>\n",
              "      <td>-0.000224</td>\n",
              "      <td>0.000671</td>\n",
              "      <td>2.854926</td>\n",
              "      <td>3.316178</td>\n",
              "    </tr>\n",
              "    <tr>\n",
              "      <th>2015-12-28</th>\n",
              "      <td>-0.002285</td>\n",
              "      <td>0.074333</td>\n",
              "      <td>0.006405</td>\n",
              "      <td>0.011857</td>\n",
              "      <td>2.873211</td>\n",
              "      <td>3.355499</td>\n",
              "    </tr>\n",
              "    <tr>\n",
              "      <th>2015-12-29</th>\n",
              "      <td>0.010672</td>\n",
              "      <td>-0.049083</td>\n",
              "      <td>0.003828</td>\n",
              "      <td>-0.000457</td>\n",
              "      <td>2.884211</td>\n",
              "      <td>3.353966</td>\n",
              "    </tr>\n",
              "    <tr>\n",
              "      <th>2015-12-30</th>\n",
              "      <td>-0.007088</td>\n",
              "      <td>0.075249</td>\n",
              "      <td>0.002215</td>\n",
              "      <td>0.008057</td>\n",
              "      <td>2.890600</td>\n",
              "      <td>3.380990</td>\n",
              "    </tr>\n",
              "  </tbody>\n",
              "</table>\n",
              "<p>1508 rows × 6 columns</p>\n",
              "</div>"
            ],
            "text/plain": [
              "                 SPY      ^VIX  Portfolio1  Portfolio2  Acumulado1  Acumulado2\n",
              "date                                                                          \n",
              "2010-01-05  0.002647 -0.034431   -0.001575   -0.004223    1.000000    1.000000\n",
              "2010-01-06  0.000704 -0.009819   -0.000493   -0.001243    0.999507    0.998757\n",
              "2010-01-07  0.004222 -0.005219    0.003147    0.002473    1.002652    1.001226\n",
              "2010-01-08  0.003327 -0.048793   -0.002612   -0.006335    1.000034    0.994884\n",
              "2010-01-11  0.001397 -0.031991   -0.002402   -0.004784    0.997632    0.990124\n",
              "...              ...       ...         ...         ...         ...         ...\n",
              "2015-12-23  0.012383 -0.062048    0.003848   -0.001496    2.855566    3.313954\n",
              "2015-12-24 -0.001651  0.010918   -0.000224    0.000671    2.854926    3.316178\n",
              "2015-12-28 -0.002285  0.074333    0.006405    0.011857    2.873211    3.355499\n",
              "2015-12-29  0.010672 -0.049083    0.003828   -0.000457    2.884211    3.353966\n",
              "2015-12-30 -0.007088  0.075249    0.002215    0.008057    2.890600    3.380990\n",
              "\n",
              "[1508 rows x 6 columns]"
            ]
          },
          "metadata": {
            "tags": []
          },
          "execution_count": 16
        }
      ]
    },
    {
      "cell_type": "code",
      "metadata": {
        "id": "Oh961Ie2HZ8Z"
      },
      "source": [
        "portfolio.dropna(inplace=True)"
      ],
      "execution_count": 17,
      "outputs": []
    },
    {
      "cell_type": "code",
      "metadata": {
        "id": "L1FSk_nnHgjB"
      },
      "source": [
        "Portfolio1=dict()\r\n",
        "Portfolio1[\"Annualized Return\"]=annualize_rets(portfolio[\"Portfolio1\"],252)*100\r\n",
        "Portfolio1[\"Annualized Vol\"]=annualize_vol(portfolio[\"Portfolio1\"],252)*100\r\n",
        "Portfolio1[\"Skewness\"]=skewness(portfolio[\"Portfolio1\"])\r\n",
        "Portfolio1[\"Kurtosis\"]=kurtosis(portfolio[\"Portfolio1\"])\r\n",
        "Portfolio1[\"Sharpe Ratio\"]=sharpe_ratio(portfolio[\"Portfolio1\"],0,252)\r\n",
        "Portfolio1[\"Max Drawdown\"]=drawdown(portfolio[\"Portfolio1\"]).Drawdown.min()*100\r\n",
        "Portfolio1[\"Calmar Ratio\"]=abs(Portfolio1[\"Annualized Return\"]/Portfolio1[\"Max Drawdown\"])\r\n",
        "Portfolio1[\"VaR\"]=var_gaussian(portfolio[\"Portfolio1\"],level=1)\r\n",
        "Portfolio1[\"ModifiedVar\"]=var_gaussian(portfolio[\"Portfolio1\"],level=1,modified=True)\r\n",
        "Portfolio1=pd.DataFrame.from_dict(Portfolio1.items())\r\n",
        "Portfolio1=Portfolio1.set_index(0)\r\n",
        "Portfolio1.index.name=None\r\n",
        "Portfolio1.columns=[\"Portfolio1\"]\r\n",
        "\r\n",
        "Portfolio2=dict()\r\n",
        "Portfolio2[\"Annualized Return\"]=annualize_rets(portfolio[\"Portfolio2\"],252)*100\r\n",
        "Portfolio2[\"Annualized Vol\"]=annualize_vol(portfolio[\"Portfolio2\"],252)*100\r\n",
        "Portfolio2[\"Skewness\"]=skewness(portfolio[\"Portfolio2\"])\r\n",
        "Portfolio2[\"Kurtosis\"]=kurtosis(portfolio[\"Portfolio2\"])\r\n",
        "Portfolio2[\"Sharpe Ratio\"]=sharpe_ratio(portfolio[\"Portfolio2\"],0,252)\r\n",
        "Portfolio2[\"Max Drawdown\"]=drawdown(portfolio[\"Portfolio2\"]).Drawdown.min()*100\r\n",
        "Portfolio2[\"Calmar Ratio\"]=abs(Portfolio2[\"Annualized Return\"]/Portfolio2[\"Max Drawdown\"])\r\n",
        "Portfolio2[\"VaR\"]=var_gaussian(portfolio[\"Portfolio2\"],level=1)\r\n",
        "Portfolio2[\"ModifiedVar\"]=var_gaussian(portfolio[\"Portfolio2\"],level=1,modified=True)\r\n",
        "Portfolio2=pd.DataFrame.from_dict(Portfolio2.items())\r\n",
        "Portfolio2=Portfolio2.set_index(0)\r\n",
        "Portfolio2.index.name=None\r\n",
        "Portfolio2.columns=[\"Portfolio2\"]\r\n",
        "\r\n",
        "resumo=pd.concat([resumo[\"SPY\"],resumo[\"^VIX\"],Portfolio1,Portfolio2],axis=1)"
      ],
      "execution_count": 18,
      "outputs": []
    },
    {
      "cell_type": "code",
      "metadata": {
        "colab": {
          "base_uri": "https://localhost:8080/",
          "height": 328
        },
        "id": "78ykd8nMIuQD",
        "outputId": "ac762d2e-6703-4ee5-d7f3-16145af27d78"
      },
      "source": [
        "resumo"
      ],
      "execution_count": 19,
      "outputs": [
        {
          "output_type": "execute_result",
          "data": {
            "text/html": [
              "<div>\n",
              "<style scoped>\n",
              "    .dataframe tbody tr th:only-of-type {\n",
              "        vertical-align: middle;\n",
              "    }\n",
              "\n",
              "    .dataframe tbody tr th {\n",
              "        vertical-align: top;\n",
              "    }\n",
              "\n",
              "    .dataframe thead th {\n",
              "        text-align: right;\n",
              "    }\n",
              "</style>\n",
              "<table border=\"1\" class=\"dataframe\">\n",
              "  <thead>\n",
              "    <tr style=\"text-align: right;\">\n",
              "      <th></th>\n",
              "      <th>SPY</th>\n",
              "      <th>^VIX</th>\n",
              "      <th>Portfolio1</th>\n",
              "      <th>Portfolio2</th>\n",
              "    </tr>\n",
              "  </thead>\n",
              "  <tbody>\n",
              "    <tr>\n",
              "      <th>Annualized Return</th>\n",
              "      <td>12.769317</td>\n",
              "      <td>-2.436387</td>\n",
              "      <td>19.377013</td>\n",
              "      <td>22.490027</td>\n",
              "    </tr>\n",
              "    <tr>\n",
              "      <th>Annualized Vol</th>\n",
              "      <td>15.792163</td>\n",
              "      <td>123.175402</td>\n",
              "      <td>8.267066</td>\n",
              "      <td>14.050665</td>\n",
              "    </tr>\n",
              "    <tr>\n",
              "      <th>Skewness</th>\n",
              "      <td>-0.371239</td>\n",
              "      <td>1.276167</td>\n",
              "      <td>0.386694</td>\n",
              "      <td>1.152650</td>\n",
              "    </tr>\n",
              "    <tr>\n",
              "      <th>Kurtosis</th>\n",
              "      <td>6.961975</td>\n",
              "      <td>8.081613</td>\n",
              "      <td>6.036888</td>\n",
              "      <td>8.219756</td>\n",
              "    </tr>\n",
              "    <tr>\n",
              "      <th>Sharpe Ratio</th>\n",
              "      <td>0.808586</td>\n",
              "      <td>-0.019780</td>\n",
              "      <td>2.343880</td>\n",
              "      <td>1.600638</td>\n",
              "    </tr>\n",
              "    <tr>\n",
              "      <th>Max Drawdown</th>\n",
              "      <td>-18.605475</td>\n",
              "      <td>-78.500001</td>\n",
              "      <td>-8.271528</td>\n",
              "      <td>-9.722678</td>\n",
              "    </tr>\n",
              "    <tr>\n",
              "      <th>Calmar Ratio</th>\n",
              "      <td>0.686320</td>\n",
              "      <td>0.031037</td>\n",
              "      <td>2.342616</td>\n",
              "      <td>2.313151</td>\n",
              "    </tr>\n",
              "    <tr>\n",
              "      <th>VaR</th>\n",
              "      <td>0.023143</td>\n",
              "      <td>0.180509</td>\n",
              "      <td>0.012115</td>\n",
              "      <td>0.020591</td>\n",
              "    </tr>\n",
              "    <tr>\n",
              "      <th>ModifiedVar</th>\n",
              "      <td>0.034557</td>\n",
              "      <td>0.152321</td>\n",
              "      <td>0.014039</td>\n",
              "      <td>0.019464</td>\n",
              "    </tr>\n",
              "  </tbody>\n",
              "</table>\n",
              "</div>"
            ],
            "text/plain": [
              "                         SPY        ^VIX  Portfolio1  Portfolio2\n",
              "Annualized Return  12.769317   -2.436387   19.377013   22.490027\n",
              "Annualized Vol     15.792163  123.175402    8.267066   14.050665\n",
              "Skewness           -0.371239    1.276167    0.386694    1.152650\n",
              "Kurtosis            6.961975    8.081613    6.036888    8.219756\n",
              "Sharpe Ratio        0.808586   -0.019780    2.343880    1.600638\n",
              "Max Drawdown      -18.605475  -78.500001   -8.271528   -9.722678\n",
              "Calmar Ratio        0.686320    0.031037    2.342616    2.313151\n",
              "VaR                 0.023143    0.180509    0.012115    0.020591\n",
              "ModifiedVar         0.034557    0.152321    0.014039    0.019464"
            ]
          },
          "metadata": {
            "tags": []
          },
          "execution_count": 19
        }
      ]
    },
    {
      "cell_type": "markdown",
      "metadata": {
        "id": "fpcS7z7Ohwg4"
      },
      "source": [
        "No período entre 2010 a 2015, veja que o sharpe do Portfolio1 é significativamente maior (2,34 vs 1,60), mas tanto o Máximo Drawdown quanto o Calmar Ratio (Retorno Anualizado/Máximo Drawdown) são praticamente iguais. Isso indica que o excesso de volatilidade do Portfolio2 está voltado para o Upside, e isso é bom, pois os retornos são assimetricamente positivos."
      ]
    },
    {
      "cell_type": "code",
      "metadata": {
        "colab": {
          "base_uri": "https://localhost:8080/",
          "height": 405
        },
        "id": "WUxLzgXnIHEV",
        "outputId": "99262e65-cdc3-4f35-9be9-100017d73571"
      },
      "source": [
        "portfolio[[\"Acumulado1\",\"Acumulado2\"]].plot(figsize=(20,6))"
      ],
      "execution_count": 20,
      "outputs": [
        {
          "output_type": "execute_result",
          "data": {
            "text/plain": [
              "<matplotlib.axes._subplots.AxesSubplot at 0x7fea961ffac8>"
            ]
          },
          "metadata": {
            "tags": []
          },
          "execution_count": 20
        },
        {
          "output_type": "display_data",
          "data": {
            "image/png": "[encoded data removed]",
            "text/plain": [
              "<Figure size 1440x432 with 1 Axes>"
            ]
          },
          "metadata": {
            "tags": [],
            "needs_background": "light"
          }
        }
      ]
    },
    {
      "cell_type": "code",
      "metadata": {
        "id": "eVRJV3zjjC5g"
      },
      "source": [
        "lista=[\"SPY\",\"^VIX\"]\r\n",
        "portfolio=pd.DataFrame()\r\n",
        "i=np.arange(len(lista))\r\n",
        "for i in i:\r\n",
        "  try:\r\n",
        "    a=Ticker(lista[i])\r\n",
        "    df=a.history(start=\"2015-12-31\",end=\"2020-12-31\",interval='1d')\r\n",
        "    df=df['adjclose']\r\n",
        "    df=df.pct_change()\r\n",
        "    df=df.droplevel(\"symbol\")\r\n",
        "    portfolio[lista[i]]=df\r\n",
        "  except:\r\n",
        "    pass"
      ],
      "execution_count": 21,
      "outputs": []
    },
    {
      "cell_type": "code",
      "metadata": {
        "id": "cw5cDdJ8kNDD"
      },
      "source": [
        "portfolio[\"Portfolio1\"]=(1+0.886361*portfolio[\"SPY\"])*(1+0.113639*portfolio[\"^VIX\"])-1\r\n",
        "portfolio[\"Portfolio2\"]=(1+0.815083*portfolio[\"SPY\"])*(1+0.184917*portfolio[\"^VIX\"])-1\r\n",
        "portfolio[\"Acumulado1\"]=(1+portfolio[\"Portfolio1\"]).cumprod()*100\r\n",
        "portfolio[\"Acumulado2\"]=(1+portfolio[\"Portfolio2\"]).cumprod()*100\r\n",
        "portfolio[\"Acumulado1\"]=portfolio[\"Acumulado1\"]/portfolio[\"Acumulado1\"][1]\r\n",
        "portfolio[\"Acumulado2\"]=portfolio[\"Acumulado2\"]/portfolio[\"Acumulado2\"][1]"
      ],
      "execution_count": 22,
      "outputs": []
    },
    {
      "cell_type": "code",
      "metadata": {
        "id": "pjRbtNQDkTQ4"
      },
      "source": [
        "spy=dict()\r\n",
        "spy[\"Annualized Return\"]=annualize_rets(portfolio[\"SPY\"],252)*100\r\n",
        "spy[\"Annualized Vol\"]=annualize_vol(portfolio[\"SPY\"],252)*100\r\n",
        "spy[\"Skewness\"]=skewness(portfolio[\"SPY\"])\r\n",
        "spy[\"Kurtosis\"]=kurtosis(portfolio[\"SPY\"])\r\n",
        "spy[\"Sharpe Ratio\"]=sharpe_ratio(portfolio[\"SPY\"],0,252)\r\n",
        "spy[\"Max Drawdown\"]=drawdown(portfolio[\"SPY\"]).Drawdown.min()*100\r\n",
        "spy[\"Calmar Ratio\"]=abs(spy[\"Annualized Return\"]/spy[\"Max Drawdown\"])\r\n",
        "spy[\"VaR\"]=var_gaussian(portfolio[\"SPY\"],level=1)\r\n",
        "spy[\"ModifiedVar\"]=var_gaussian(portfolio[\"SPY\"],level=1,modified=True)\r\n",
        "spy=pd.DataFrame.from_dict(spy.items())\r\n",
        "spy=spy.set_index(0)\r\n",
        "spy.index.name=None\r\n",
        "spy.columns=[\"SPY\"]\r\n",
        "\r\n",
        "VIX=dict()\r\n",
        "VIX[\"Annualized Return\"]=annualize_rets(portfolio[\"^VIX\"],252)*100\r\n",
        "VIX[\"Annualized Vol\"]=annualize_vol(portfolio[\"^VIX\"],252)*100\r\n",
        "VIX[\"Skewness\"]=skewness(portfolio[\"^VIX\"])\r\n",
        "VIX[\"Kurtosis\"]=kurtosis(portfolio[\"^VIX\"])\r\n",
        "VIX[\"Sharpe Ratio\"]=sharpe_ratio(portfolio[\"^VIX\"],0,252)\r\n",
        "VIX[\"Max Drawdown\"]=drawdown(portfolio[\"^VIX\"]).Drawdown.min()*100\r\n",
        "VIX[\"Calmar Ratio\"]=abs(VIX[\"Annualized Return\"]/VIX[\"Max Drawdown\"])\r\n",
        "VIX[\"VaR\"]=var_gaussian(portfolio[\"^VIX\"],level=1)\r\n",
        "VIX[\"ModifiedVar\"]=var_gaussian(portfolio[\"^VIX\"],level=1,modified=True)\r\n",
        "VIX=pd.DataFrame.from_dict(VIX.items())\r\n",
        "VIX=VIX.set_index(0)\r\n",
        "VIX.index.name=None\r\n",
        "VIX.columns=[\"^VIX\"]\r\n",
        "\r\n",
        "Portfolio1=dict()\r\n",
        "Portfolio1[\"Annualized Return\"]=annualize_rets(portfolio[\"Portfolio1\"],252)*100\r\n",
        "Portfolio1[\"Annualized Vol\"]=annualize_vol(portfolio[\"Portfolio1\"],252)*100\r\n",
        "Portfolio1[\"Skewness\"]=skewness(portfolio[\"Portfolio1\"])\r\n",
        "Portfolio1[\"Kurtosis\"]=kurtosis(portfolio[\"Portfolio1\"])\r\n",
        "Portfolio1[\"Sharpe Ratio\"]=sharpe_ratio(portfolio[\"Portfolio1\"],0,252)\r\n",
        "Portfolio1[\"Max Drawdown\"]=drawdown(portfolio[\"Portfolio1\"]).Drawdown.min()*100\r\n",
        "Portfolio1[\"Calmar Ratio\"]=abs(Portfolio1[\"Annualized Return\"]/Portfolio1[\"Max Drawdown\"])\r\n",
        "Portfolio1[\"VaR\"]=var_gaussian(portfolio[\"Portfolio1\"],level=1)\r\n",
        "Portfolio1[\"ModifiedVar\"]=var_gaussian(portfolio[\"Portfolio1\"],level=1,modified=True)\r\n",
        "Portfolio1=pd.DataFrame.from_dict(Portfolio1.items())\r\n",
        "Portfolio1=Portfolio1.set_index(0)\r\n",
        "Portfolio1.index.name=None\r\n",
        "Portfolio1.columns=[\"Portfolio1\"]\r\n",
        "\r\n",
        "Portfolio2=dict()\r\n",
        "Portfolio2[\"Annualized Return\"]=annualize_rets(portfolio[\"Portfolio2\"],252)*100\r\n",
        "Portfolio2[\"Annualized Vol\"]=annualize_vol(portfolio[\"Portfolio2\"],252)*100\r\n",
        "Portfolio2[\"Skewness\"]=skewness(portfolio[\"Portfolio2\"])\r\n",
        "Portfolio2[\"Kurtosis\"]=kurtosis(portfolio[\"Portfolio2\"])\r\n",
        "Portfolio2[\"Sharpe Ratio\"]=sharpe_ratio(portfolio[\"Portfolio2\"],0,252)\r\n",
        "Portfolio2[\"Max Drawdown\"]=drawdown(portfolio[\"Portfolio2\"]).Drawdown.min()*100\r\n",
        "Portfolio2[\"Calmar Ratio\"]=abs(Portfolio2[\"Annualized Return\"]/Portfolio2[\"Max Drawdown\"])\r\n",
        "Portfolio2[\"VaR\"]=var_gaussian(portfolio[\"Portfolio2\"],level=1)\r\n",
        "Portfolio2[\"ModifiedVar\"]=var_gaussian(portfolio[\"Portfolio2\"],level=1,modified=True)\r\n",
        "Portfolio2=pd.DataFrame.from_dict(Portfolio2.items())\r\n",
        "Portfolio2=Portfolio2.set_index(0)\r\n",
        "Portfolio2.index.name=None\r\n",
        "Portfolio2.columns=[\"Portfolio2\"]\r\n",
        "\r\n",
        "resumo=pd.concat([spy,VIX,Portfolio1,Portfolio2],axis=1)"
      ],
      "execution_count": 23,
      "outputs": []
    },
    {
      "cell_type": "code",
      "metadata": {
        "colab": {
          "base_uri": "https://localhost:8080/",
          "height": 328
        },
        "id": "cKboS6EOkeix",
        "outputId": "6ecb4ba8-0c9a-4aa1-bf42-75526343ae68"
      },
      "source": [
        "resumo"
      ],
      "execution_count": 24,
      "outputs": [
        {
          "output_type": "execute_result",
          "data": {
            "text/html": [
              "<div>\n",
              "<style scoped>\n",
              "    .dataframe tbody tr th:only-of-type {\n",
              "        vertical-align: middle;\n",
              "    }\n",
              "\n",
              "    .dataframe tbody tr th {\n",
              "        vertical-align: top;\n",
              "    }\n",
              "\n",
              "    .dataframe thead th {\n",
              "        text-align: right;\n",
              "    }\n",
              "</style>\n",
              "<table border=\"1\" class=\"dataframe\">\n",
              "  <thead>\n",
              "    <tr style=\"text-align: right;\">\n",
              "      <th></th>\n",
              "      <th>SPY</th>\n",
              "      <th>^VIX</th>\n",
              "      <th>Portfolio1</th>\n",
              "      <th>Portfolio2</th>\n",
              "    </tr>\n",
              "  </thead>\n",
              "  <tbody>\n",
              "    <tr>\n",
              "      <th>Annualized Return</th>\n",
              "      <td>14.993298</td>\n",
              "      <td>4.574559</td>\n",
              "      <td>24.623559</td>\n",
              "      <td>29.378217</td>\n",
              "    </tr>\n",
              "    <tr>\n",
              "      <th>Annualized Vol</th>\n",
              "      <td>18.871510</td>\n",
              "      <td>142.645032</td>\n",
              "      <td>12.888343</td>\n",
              "      <td>19.004897</td>\n",
              "    </tr>\n",
              "    <tr>\n",
              "      <th>Skewness</th>\n",
              "      <td>-0.773843</td>\n",
              "      <td>2.974331</td>\n",
              "      <td>1.776119</td>\n",
              "      <td>3.331182</td>\n",
              "    </tr>\n",
              "    <tr>\n",
              "      <th>Kurtosis</th>\n",
              "      <td>21.153992</td>\n",
              "      <td>28.710536</td>\n",
              "      <td>29.282498</td>\n",
              "      <td>40.530493</td>\n",
              "    </tr>\n",
              "    <tr>\n",
              "      <th>Sharpe Ratio</th>\n",
              "      <td>0.794494</td>\n",
              "      <td>0.032070</td>\n",
              "      <td>1.910530</td>\n",
              "      <td>1.545823</td>\n",
              "    </tr>\n",
              "    <tr>\n",
              "      <th>Max Drawdown</th>\n",
              "      <td>-33.717258</td>\n",
              "      <td>-75.123958</td>\n",
              "      <td>-17.481554</td>\n",
              "      <td>-12.602562</td>\n",
              "    </tr>\n",
              "    <tr>\n",
              "      <th>Calmar Ratio</th>\n",
              "      <td>0.444677</td>\n",
              "      <td>0.060893</td>\n",
              "      <td>1.408545</td>\n",
              "      <td>2.331130</td>\n",
              "    </tr>\n",
              "    <tr>\n",
              "      <th>VaR</th>\n",
              "      <td>0.027655</td>\n",
              "      <td>0.209041</td>\n",
              "      <td>0.018887</td>\n",
              "      <td>0.027851</td>\n",
              "    </tr>\n",
              "    <tr>\n",
              "      <th>ModifiedVar</th>\n",
              "      <td>0.082195</td>\n",
              "      <td>0.253467</td>\n",
              "      <td>0.048532</td>\n",
              "      <td>0.053573</td>\n",
              "    </tr>\n",
              "  </tbody>\n",
              "</table>\n",
              "</div>"
            ],
            "text/plain": [
              "                         SPY        ^VIX  Portfolio1  Portfolio2\n",
              "Annualized Return  14.993298    4.574559   24.623559   29.378217\n",
              "Annualized Vol     18.871510  142.645032   12.888343   19.004897\n",
              "Skewness           -0.773843    2.974331    1.776119    3.331182\n",
              "Kurtosis           21.153992   28.710536   29.282498   40.530493\n",
              "Sharpe Ratio        0.794494    0.032070    1.910530    1.545823\n",
              "Max Drawdown      -33.717258  -75.123958  -17.481554  -12.602562\n",
              "Calmar Ratio        0.444677    0.060893    1.408545    2.331130\n",
              "VaR                 0.027655    0.209041    0.018887    0.027851\n",
              "ModifiedVar         0.082195    0.253467    0.048532    0.053573"
            ]
          },
          "metadata": {
            "tags": []
          },
          "execution_count": 24
        }
      ]
    },
    {
      "cell_type": "markdown",
      "metadata": {
        "id": "3GRS9cCCq2lI"
      },
      "source": [
        "No Período de 2016-2020, ainda que o Sharpe do Portfolio1 (alocação inversamente proporcional ao VaR) tenha sido superior ao Portfolio2 (alocação inversamente proporcional ao ModifiedVar), vemos um retorno anualizado com menor drawdown no Portfólio2, gerando grande diferença no Calmar Ratio (2,33 vs 1,40). Assim, a maior volatilidade do Portfólio2 se deve à assimetria positiva de retornos. O período de 2016-2020 teve dois eventos extremos, o \"Volmageddon\" em Fevereiro de 2018 (Veja que as curvam começam a se diferenciar a partir desse evento) e Março de 2020. Vemos que o uso do ModifiedVar foi efetivo, pois o portfólio ajustado por essa métrica reagiu melhor a períodos turbulentos. Assim, concluímos nossa análise, mostrando a importância de não se limitar à análise de volatilidade e premissas de normalidade como métricas de risco. Entender o conceito de assimetria e curtose é útil tanto para alocadores de fundos como para gestores, que devem adaptar seus portfólios e estratégias para enfrentar qualquer cenário."
      ]
    },
    {
      "cell_type": "code",
      "metadata": {
        "id": "C1cOGYn8nihO",
        "colab": {
          "base_uri": "https://localhost:8080/",
          "height": 514
        },
        "outputId": "5d0f7b6c-e64e-422e-de30-576fb8a06a89"
      },
      "source": [
        "portfolio[[\"Acumulado1\",\"Acumulado2\"]].plot(figsize=(20,8))"
      ],
      "execution_count": 25,
      "outputs": [
        {
          "output_type": "execute_result",
          "data": {
            "text/plain": [
              "<matplotlib.axes._subplots.AxesSubplot at 0x7fea96147588>"
            ]
          },
          "metadata": {
            "tags": []
          },
          "execution_count": 25
        },
        {
          "output_type": "display_data",
          "data": {
            "image/png": "[encoded data removed]",
            "text/plain": [
              "<Figure size 1440x576 with 1 Axes>"
            ]
          },
          "metadata": {
            "tags": [],
            "needs_background": "light"
          }
        }
      ]
    }
  ]
}