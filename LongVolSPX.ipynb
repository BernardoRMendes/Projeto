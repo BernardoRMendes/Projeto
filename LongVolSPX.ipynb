{
  "nbformat": 4,
  "nbformat_minor": 0,
  "metadata": {
    "colab": {
      "name": "LongVolSPX.ipynb",
      "provenance": [],
      "collapsed_sections": [],
      "authorship_tag": "ABX9TyOjVdZj+yRz32Z/WotmpgQt",
      "include_colab_link": true
    },
    "kernelspec": {
      "display_name": "Python 3",
      "name": "python3"
    }
  },
  "cells": [
    {
      "cell_type": "markdown",
      "metadata": {
        "id": "view-in-github",
        "colab_type": "text"
      },
      "source": [
        "<a href=\"https://colab.research.google.com/github/BernardoRMendes/Projeto/blob/main/LongVolSPX.ipynb\" target=\"_parent\"><img src=\"https://colab.research.google.com/assets/colab-badge.svg\" alt=\"Open In Colab\"/></a>"
      ]
    },
    {
      "cell_type": "code",
      "metadata": {
        "id": "0zmx3RI6Lin2"
      },
      "source": [
        "import numpy as np\n",
        "from scipy import stats\n",
        "import pandas as pd\n",
        "import matplotlib.pyplot as plt\n",
        "from google.colab import files"
      ],
      "execution_count": 1,
      "outputs": []
    },
    {
      "cell_type": "markdown",
      "metadata": {
        "id": "fi3y_9MesDAw"
      },
      "source": [
        "Nesse estudo, iremos mostrar que , na construção de portfólios, a interação entre as estratégias é mais importante do que a performance individual de cada uma delas. Estratégias que à primeira vista parecem ruins podem gerar valor a um portfólio de ações. Para isso, foi selecionado o índice \"CBOE Eurekahedge Long Volatility Hedge Fund Index\". Esse índice rastreia a performance de alguns fundos que mantêm exposição comprada em volatilidade, ou seja, tendem a se beneficiar quando há aumento de incerteza no mercado."
      ]
    },
    {
      "cell_type": "markdown",
      "metadata": {
        "id": "N9-3LRNntTpH"
      },
      "source": [
        "Os dados foram baixados no endereço https://www.eurekahedge.com/Indices/IndexView/Eurekahedge/640/CBOE-Eurekahedge-Long-Volatility-Hedge-Fund-Index\n",
        "e normalizados em planilha do excel (O SPY foi ajustado para começar em 100 na mesma data do índice Long Volatility)."
      ]
    },
    {
      "cell_type": "code",
      "metadata": {
        "id": "SKfz6Hm3NS20"
      },
      "source": [
        "url=\"https://raw.githubusercontent.com/BernardoRMendes/Projeto/main/LongVolSPX.csv\""
      ],
      "execution_count": 2,
      "outputs": []
    },
    {
      "cell_type": "code",
      "metadata": {
        "id": "MLO4R6u4SfWY"
      },
      "source": [
        "df=pd.read_csv(url,sep=';',index_col=0)"
      ],
      "execution_count": 3,
      "outputs": []
    },
    {
      "cell_type": "code",
      "metadata": {
        "id": "p4DqwHRORlZy",
        "colab": {
          "base_uri": "https://localhost:8080/"
        },
        "outputId": "a7b667cd-d173-47bb-b16a-2897c5af6166"
      },
      "source": [
        "df.info()"
      ],
      "execution_count": 4,
      "outputs": [
        {
          "output_type": "stream",
          "name": "stdout",
          "text": [
            "<class 'pandas.core.frame.DataFrame'>\n",
            "Index: 193 entries, 01/01/2005 to 01/01/2021\n",
            "Data columns (total 2 columns):\n",
            " #   Column          Non-Null Count  Dtype  \n",
            "---  ------          --------------  -----  \n",
            " 0   LongVolatility  193 non-null    float64\n",
            " 1   SPY             193 non-null    object \n",
            "dtypes: float64(1), object(1)\n",
            "memory usage: 4.5+ KB\n"
          ]
        }
      ]
    },
    {
      "cell_type": "code",
      "metadata": {
        "colab": {
          "base_uri": "https://localhost:8080/",
          "height": 708
        },
        "id": "PmSQ-0Q5TJHM",
        "outputId": "deb38021-3bf4-4673-a52f-6329f0b74a7d"
      },
      "source": [
        "df.head(20)"
      ],
      "execution_count": 5,
      "outputs": [
        {
          "output_type": "execute_result",
          "data": {
            "text/html": [
              "\n",
              "  <div id=\"df-c7f1d1b0-e67f-4fce-b380-65ee8e52a092\">\n",
              "    <div class=\"colab-df-container\">\n",
              "      <div>\n",
              "<style scoped>\n",
              "    .dataframe tbody tr th:only-of-type {\n",
              "        vertical-align: middle;\n",
              "    }\n",
              "\n",
              "    .dataframe tbody tr th {\n",
              "        vertical-align: top;\n",
              "    }\n",
              "\n",
              "    .dataframe thead th {\n",
              "        text-align: right;\n",
              "    }\n",
              "</style>\n",
              "<table border=\"1\" class=\"dataframe\">\n",
              "  <thead>\n",
              "    <tr style=\"text-align: right;\">\n",
              "      <th></th>\n",
              "      <th>LongVolatility</th>\n",
              "      <th>SPY</th>\n",
              "    </tr>\n",
              "    <tr>\n",
              "      <th>Date</th>\n",
              "      <th></th>\n",
              "      <th></th>\n",
              "    </tr>\n",
              "  </thead>\n",
              "  <tbody>\n",
              "    <tr>\n",
              "      <th>01/01/2005</th>\n",
              "      <td>100.00</td>\n",
              "      <td>100</td>\n",
              "    </tr>\n",
              "    <tr>\n",
              "      <th>01/02/2005</th>\n",
              "      <td>100.31</td>\n",
              "      <td>101,8903384</td>\n",
              "    </tr>\n",
              "    <tr>\n",
              "      <th>01/03/2005</th>\n",
              "      <td>100.63</td>\n",
              "      <td>99,94243484</td>\n",
              "    </tr>\n",
              "    <tr>\n",
              "      <th>01/04/2005</th>\n",
              "      <td>99.56</td>\n",
              "      <td>97,93273341</td>\n",
              "    </tr>\n",
              "    <tr>\n",
              "      <th>01/05/2005</th>\n",
              "      <td>98.96</td>\n",
              "      <td>100,8660171</td>\n",
              "    </tr>\n",
              "    <tr>\n",
              "      <th>01/06/2005</th>\n",
              "      <td>99.05</td>\n",
              "      <td>100,8516258</td>\n",
              "    </tr>\n",
              "    <tr>\n",
              "      <th>01/07/2005</th>\n",
              "      <td>100.61</td>\n",
              "      <td>104,4790776</td>\n",
              "    </tr>\n",
              "    <tr>\n",
              "      <th>01/08/2005</th>\n",
              "      <td>100.48</td>\n",
              "      <td>103,3066107</td>\n",
              "    </tr>\n",
              "    <tr>\n",
              "      <th>01/09/2005</th>\n",
              "      <td>99.84</td>\n",
              "      <td>104,0244821</td>\n",
              "    </tr>\n",
              "    <tr>\n",
              "      <th>01/10/2005</th>\n",
              "      <td>102.81</td>\n",
              "      <td>102,1790107</td>\n",
              "    </tr>\n",
              "    <tr>\n",
              "      <th>01/11/2005</th>\n",
              "      <td>100.43</td>\n",
              "      <td>105,7742938</td>\n",
              "    </tr>\n",
              "    <tr>\n",
              "      <th>01/12/2005</th>\n",
              "      <td>103.95</td>\n",
              "      <td>105,6735547</td>\n",
              "    </tr>\n",
              "    <tr>\n",
              "      <th>01/01/2006</th>\n",
              "      <td>105.21</td>\n",
              "      <td>108,3647261</td>\n",
              "    </tr>\n",
              "    <tr>\n",
              "      <th>01/02/2006</th>\n",
              "      <td>107.77</td>\n",
              "      <td>108,4138258</td>\n",
              "    </tr>\n",
              "    <tr>\n",
              "      <th>01/03/2006</th>\n",
              "      <td>108.08</td>\n",
              "      <td>109,6167684</td>\n",
              "    </tr>\n",
              "    <tr>\n",
              "      <th>01/04/2006</th>\n",
              "      <td>107.88</td>\n",
              "      <td>110,9492326</td>\n",
              "    </tr>\n",
              "    <tr>\n",
              "      <th>01/05/2006</th>\n",
              "      <td>111.02</td>\n",
              "      <td>107,5190261</td>\n",
              "    </tr>\n",
              "    <tr>\n",
              "      <th>01/06/2006</th>\n",
              "      <td>109.69</td>\n",
              "      <td>107,5283381</td>\n",
              "    </tr>\n",
              "    <tr>\n",
              "      <th>01/07/2006</th>\n",
              "      <td>106.95</td>\n",
              "      <td>108,0752072</td>\n",
              "    </tr>\n",
              "    <tr>\n",
              "      <th>01/08/2006</th>\n",
              "      <td>106.74</td>\n",
              "      <td>110,3744275</td>\n",
              "    </tr>\n",
              "  </tbody>\n",
              "</table>\n",
              "</div>\n",
              "      <button class=\"colab-df-convert\" onclick=\"convertToInteractive('df-c7f1d1b0-e67f-4fce-b380-65ee8e52a092')\"\n",
              "              title=\"Convert this dataframe to an interactive table.\"\n",
              "              style=\"display:none;\">\n",
              "        \n",
              "  <svg xmlns=\"http://www.w3.org/2000/svg\" height=\"24px\"viewBox=\"0 0 24 24\"\n",
              "       width=\"24px\">\n",
              "    <path d=\"M0 0h24v24H0V0z\" fill=\"none\"/>\n",
              "    <path d=\"M18.56 5.44l.94 2.06.94-2.06 2.06-.94-2.06-.94-.94-2.06-.94 2.06-2.06.94zm-11 1L8.5 8.5l.94-2.06 2.06-.94-2.06-.94L8.5 2.5l-.94 2.06-2.06.94zm10 10l.94 2.06.94-2.06 2.06-.94-2.06-.94-.94-2.06-.94 2.06-2.06.94z\"/><path d=\"M17.41 7.96l-1.37-1.37c-.4-.4-.92-.59-1.43-.59-.52 0-1.04.2-1.43.59L10.3 9.45l-7.72 7.72c-.78.78-.78 2.05 0 2.83L4 21.41c.39.39.9.59 1.41.59.51 0 1.02-.2 1.41-.59l7.78-7.78 2.81-2.81c.8-.78.8-2.07 0-2.86zM5.41 20L4 18.59l7.72-7.72 1.47 1.35L5.41 20z\"/>\n",
              "  </svg>\n",
              "      </button>\n",
              "      \n",
              "  <style>\n",
              "    .colab-df-container {\n",
              "      display:flex;\n",
              "      flex-wrap:wrap;\n",
              "      gap: 12px;\n",
              "    }\n",
              "\n",
              "    .colab-df-convert {\n",
              "      background-color: #E8F0FE;\n",
              "      border: none;\n",
              "      border-radius: 50%;\n",
              "      cursor: pointer;\n",
              "      display: none;\n",
              "      fill: #1967D2;\n",
              "      height: 32px;\n",
              "      padding: 0 0 0 0;\n",
              "      width: 32px;\n",
              "    }\n",
              "\n",
              "    .colab-df-convert:hover {\n",
              "      background-color: #E2EBFA;\n",
              "      box-shadow: 0px 1px 2px rgba(60, 64, 67, 0.3), 0px 1px 3px 1px rgba(60, 64, 67, 0.15);\n",
              "      fill: #174EA6;\n",
              "    }\n",
              "\n",
              "    [theme=dark] .colab-df-convert {\n",
              "      background-color: #3B4455;\n",
              "      fill: #D2E3FC;\n",
              "    }\n",
              "\n",
              "    [theme=dark] .colab-df-convert:hover {\n",
              "      background-color: #434B5C;\n",
              "      box-shadow: 0px 1px 3px 1px rgba(0, 0, 0, 0.15);\n",
              "      filter: drop-shadow(0px 1px 2px rgba(0, 0, 0, 0.3));\n",
              "      fill: #FFFFFF;\n",
              "    }\n",
              "  </style>\n",
              "\n",
              "      <script>\n",
              "        const buttonEl =\n",
              "          document.querySelector('#df-c7f1d1b0-e67f-4fce-b380-65ee8e52a092 button.colab-df-convert');\n",
              "        buttonEl.style.display =\n",
              "          google.colab.kernel.accessAllowed ? 'block' : 'none';\n",
              "\n",
              "        async function convertToInteractive(key) {\n",
              "          const element = document.querySelector('#df-c7f1d1b0-e67f-4fce-b380-65ee8e52a092');\n",
              "          const dataTable =\n",
              "            await google.colab.kernel.invokeFunction('convertToInteractive',\n",
              "                                                     [key], {});\n",
              "          if (!dataTable) return;\n",
              "\n",
              "          const docLinkHtml = 'Like what you see? Visit the ' +\n",
              "            '<a target=\"_blank\" href=https://colab.research.google.com/notebooks/data_table.ipynb>data table notebook</a>'\n",
              "            + ' to learn more about interactive tables.';\n",
              "          element.innerHTML = '';\n",
              "          dataTable['output_type'] = 'display_data';\n",
              "          await google.colab.output.renderOutput(dataTable, element);\n",
              "          const docLink = document.createElement('div');\n",
              "          docLink.innerHTML = docLinkHtml;\n",
              "          element.appendChild(docLink);\n",
              "        }\n",
              "      </script>\n",
              "    </div>\n",
              "  </div>\n",
              "  "
            ],
            "text/plain": [
              "            LongVolatility          SPY\n",
              "Date                                   \n",
              "01/01/2005          100.00          100\n",
              "01/02/2005          100.31  101,8903384\n",
              "01/03/2005          100.63  99,94243484\n",
              "01/04/2005           99.56  97,93273341\n",
              "01/05/2005           98.96  100,8660171\n",
              "01/06/2005           99.05  100,8516258\n",
              "01/07/2005          100.61  104,4790776\n",
              "01/08/2005          100.48  103,3066107\n",
              "01/09/2005           99.84  104,0244821\n",
              "01/10/2005          102.81  102,1790107\n",
              "01/11/2005          100.43  105,7742938\n",
              "01/12/2005          103.95  105,6735547\n",
              "01/01/2006          105.21  108,3647261\n",
              "01/02/2006          107.77  108,4138258\n",
              "01/03/2006          108.08  109,6167684\n",
              "01/04/2006          107.88  110,9492326\n",
              "01/05/2006          111.02  107,5190261\n",
              "01/06/2006          109.69  107,5283381\n",
              "01/07/2006          106.95  108,0752072\n",
              "01/08/2006          106.74  110,3744275"
            ]
          },
          "metadata": {},
          "execution_count": 5
        }
      ]
    },
    {
      "cell_type": "code",
      "metadata": {
        "colab": {
          "base_uri": "https://localhost:8080/"
        },
        "id": "bPAZRujcFAu_",
        "outputId": "02df567d-5361-4367-c18c-95bdb35cabf4"
      },
      "source": [
        "df.isnull().sum()"
      ],
      "execution_count": 6,
      "outputs": [
        {
          "output_type": "execute_result",
          "data": {
            "text/plain": [
              "LongVolatility    0\n",
              "SPY               0\n",
              "dtype: int64"
            ]
          },
          "metadata": {},
          "execution_count": 6
        }
      ]
    },
    {
      "cell_type": "code",
      "metadata": {
        "id": "y1_YDWcTbttX"
      },
      "source": [
        "df[\"SPY\"]=df[\"SPY\"].str.replace(\",\",\".\")"
      ],
      "execution_count": 7,
      "outputs": []
    },
    {
      "cell_type": "code",
      "metadata": {
        "id": "fNICGI3jmG2u"
      },
      "source": [
        "df[\"SPY\"]=df[\"SPY\"].astype(float)\n",
        "df[\"LongVolatility\"]=df[\"LongVolatility\"].astype(float)"
      ],
      "execution_count": 8,
      "outputs": []
    },
    {
      "cell_type": "code",
      "metadata": {
        "colab": {
          "base_uri": "https://localhost:8080/"
        },
        "id": "0Kn899KSVZJV",
        "outputId": "cd4e396f-a576-4db7-db33-0a561303d5a4"
      },
      "source": [
        "df.info()"
      ],
      "execution_count": 9,
      "outputs": [
        {
          "output_type": "stream",
          "name": "stdout",
          "text": [
            "<class 'pandas.core.frame.DataFrame'>\n",
            "Index: 193 entries, 01/01/2005 to 01/01/2021\n",
            "Data columns (total 2 columns):\n",
            " #   Column          Non-Null Count  Dtype  \n",
            "---  ------          --------------  -----  \n",
            " 0   LongVolatility  193 non-null    float64\n",
            " 1   SPY             193 non-null    float64\n",
            "dtypes: float64(2)\n",
            "memory usage: 4.5+ KB\n"
          ]
        }
      ]
    },
    {
      "cell_type": "code",
      "metadata": {
        "colab": {
          "base_uri": "https://localhost:8080/",
          "height": 708
        },
        "id": "n5LNchBUtnS0",
        "outputId": "4a9130fb-85a7-4c42-f9ec-372e52b42e0c"
      },
      "source": [
        "df.tail(20)"
      ],
      "execution_count": 10,
      "outputs": [
        {
          "output_type": "execute_result",
          "data": {
            "text/html": [
              "\n",
              "  <div id=\"df-e49555bf-87f4-4475-a18d-37719a1f37bb\">\n",
              "    <div class=\"colab-df-container\">\n",
              "      <div>\n",
              "<style scoped>\n",
              "    .dataframe tbody tr th:only-of-type {\n",
              "        vertical-align: middle;\n",
              "    }\n",
              "\n",
              "    .dataframe tbody tr th {\n",
              "        vertical-align: top;\n",
              "    }\n",
              "\n",
              "    .dataframe thead th {\n",
              "        text-align: right;\n",
              "    }\n",
              "</style>\n",
              "<table border=\"1\" class=\"dataframe\">\n",
              "  <thead>\n",
              "    <tr style=\"text-align: right;\">\n",
              "      <th></th>\n",
              "      <th>LongVolatility</th>\n",
              "      <th>SPY</th>\n",
              "    </tr>\n",
              "    <tr>\n",
              "      <th>Date</th>\n",
              "      <th></th>\n",
              "      <th></th>\n",
              "    </tr>\n",
              "  </thead>\n",
              "  <tbody>\n",
              "    <tr>\n",
              "      <th>01/06/2019</th>\n",
              "      <td>173.62</td>\n",
              "      <td>249.033667</td>\n",
              "    </tr>\n",
              "    <tr>\n",
              "      <th>01/07/2019</th>\n",
              "      <td>171.26</td>\n",
              "      <td>252.303030</td>\n",
              "    </tr>\n",
              "    <tr>\n",
              "      <th>01/08/2019</th>\n",
              "      <td>169.81</td>\n",
              "      <td>247.738451</td>\n",
              "    </tr>\n",
              "    <tr>\n",
              "      <th>01/09/2019</th>\n",
              "      <td>175.14</td>\n",
              "      <td>251.994887</td>\n",
              "    </tr>\n",
              "    <tr>\n",
              "      <th>01/10/2019</th>\n",
              "      <td>172.15</td>\n",
              "      <td>257.143583</td>\n",
              "    </tr>\n",
              "    <tr>\n",
              "      <th>01/11/2019</th>\n",
              "      <td>170.11</td>\n",
              "      <td>265.898567</td>\n",
              "    </tr>\n",
              "    <tr>\n",
              "      <th>01/12/2019</th>\n",
              "      <td>167.65</td>\n",
              "      <td>273.500555</td>\n",
              "    </tr>\n",
              "    <tr>\n",
              "      <th>01/01/2020</th>\n",
              "      <td>165.05</td>\n",
              "      <td>273.055271</td>\n",
              "    </tr>\n",
              "    <tr>\n",
              "      <th>01/02/2020</th>\n",
              "      <td>165.65</td>\n",
              "      <td>250.088464</td>\n",
              "    </tr>\n",
              "    <tr>\n",
              "      <th>01/03/2020</th>\n",
              "      <td>181.00</td>\n",
              "      <td>218.797565</td>\n",
              "    </tr>\n",
              "    <tr>\n",
              "      <th>01/04/2020</th>\n",
              "      <td>217.58</td>\n",
              "      <td>246.550746</td>\n",
              "    </tr>\n",
              "    <tr>\n",
              "      <th>01/05/2020</th>\n",
              "      <td>213.75</td>\n",
              "      <td>257.715002</td>\n",
              "    </tr>\n",
              "    <tr>\n",
              "      <th>01/06/2020</th>\n",
              "      <td>212.97</td>\n",
              "      <td>262.453969</td>\n",
              "    </tr>\n",
              "    <tr>\n",
              "      <th>01/07/2020</th>\n",
              "      <td>214.32</td>\n",
              "      <td>276.915523</td>\n",
              "    </tr>\n",
              "    <tr>\n",
              "      <th>01/08/2020</th>\n",
              "      <td>216.57</td>\n",
              "      <td>296.317523</td>\n",
              "    </tr>\n",
              "    <tr>\n",
              "      <th>01/09/2020</th>\n",
              "      <td>216.42</td>\n",
              "      <td>284.693593</td>\n",
              "    </tr>\n",
              "    <tr>\n",
              "      <th>01/10/2020</th>\n",
              "      <td>213.13</td>\n",
              "      <td>276.817324</td>\n",
              "    </tr>\n",
              "    <tr>\n",
              "      <th>01/11/2020</th>\n",
              "      <td>211.60</td>\n",
              "      <td>306.587825</td>\n",
              "    </tr>\n",
              "    <tr>\n",
              "      <th>01/12/2020</th>\n",
              "      <td>203.63</td>\n",
              "      <td>317.968796</td>\n",
              "    </tr>\n",
              "    <tr>\n",
              "      <th>01/01/2021</th>\n",
              "      <td>203.96</td>\n",
              "      <td>323.776952</td>\n",
              "    </tr>\n",
              "  </tbody>\n",
              "</table>\n",
              "</div>\n",
              "      <button class=\"colab-df-convert\" onclick=\"convertToInteractive('df-e49555bf-87f4-4475-a18d-37719a1f37bb')\"\n",
              "              title=\"Convert this dataframe to an interactive table.\"\n",
              "              style=\"display:none;\">\n",
              "        \n",
              "  <svg xmlns=\"http://www.w3.org/2000/svg\" height=\"24px\"viewBox=\"0 0 24 24\"\n",
              "       width=\"24px\">\n",
              "    <path d=\"M0 0h24v24H0V0z\" fill=\"none\"/>\n",
              "    <path d=\"M18.56 5.44l.94 2.06.94-2.06 2.06-.94-2.06-.94-.94-2.06-.94 2.06-2.06.94zm-11 1L8.5 8.5l.94-2.06 2.06-.94-2.06-.94L8.5 2.5l-.94 2.06-2.06.94zm10 10l.94 2.06.94-2.06 2.06-.94-2.06-.94-.94-2.06-.94 2.06-2.06.94z\"/><path d=\"M17.41 7.96l-1.37-1.37c-.4-.4-.92-.59-1.43-.59-.52 0-1.04.2-1.43.59L10.3 9.45l-7.72 7.72c-.78.78-.78 2.05 0 2.83L4 21.41c.39.39.9.59 1.41.59.51 0 1.02-.2 1.41-.59l7.78-7.78 2.81-2.81c.8-.78.8-2.07 0-2.86zM5.41 20L4 18.59l7.72-7.72 1.47 1.35L5.41 20z\"/>\n",
              "  </svg>\n",
              "      </button>\n",
              "      \n",
              "  <style>\n",
              "    .colab-df-container {\n",
              "      display:flex;\n",
              "      flex-wrap:wrap;\n",
              "      gap: 12px;\n",
              "    }\n",
              "\n",
              "    .colab-df-convert {\n",
              "      background-color: #E8F0FE;\n",
              "      border: none;\n",
              "      border-radius: 50%;\n",
              "      cursor: pointer;\n",
              "      display: none;\n",
              "      fill: #1967D2;\n",
              "      height: 32px;\n",
              "      padding: 0 0 0 0;\n",
              "      width: 32px;\n",
              "    }\n",
              "\n",
              "    .colab-df-convert:hover {\n",
              "      background-color: #E2EBFA;\n",
              "      box-shadow: 0px 1px 2px rgba(60, 64, 67, 0.3), 0px 1px 3px 1px rgba(60, 64, 67, 0.15);\n",
              "      fill: #174EA6;\n",
              "    }\n",
              "\n",
              "    [theme=dark] .colab-df-convert {\n",
              "      background-color: #3B4455;\n",
              "      fill: #D2E3FC;\n",
              "    }\n",
              "\n",
              "    [theme=dark] .colab-df-convert:hover {\n",
              "      background-color: #434B5C;\n",
              "      box-shadow: 0px 1px 3px 1px rgba(0, 0, 0, 0.15);\n",
              "      filter: drop-shadow(0px 1px 2px rgba(0, 0, 0, 0.3));\n",
              "      fill: #FFFFFF;\n",
              "    }\n",
              "  </style>\n",
              "\n",
              "      <script>\n",
              "        const buttonEl =\n",
              "          document.querySelector('#df-e49555bf-87f4-4475-a18d-37719a1f37bb button.colab-df-convert');\n",
              "        buttonEl.style.display =\n",
              "          google.colab.kernel.accessAllowed ? 'block' : 'none';\n",
              "\n",
              "        async function convertToInteractive(key) {\n",
              "          const element = document.querySelector('#df-e49555bf-87f4-4475-a18d-37719a1f37bb');\n",
              "          const dataTable =\n",
              "            await google.colab.kernel.invokeFunction('convertToInteractive',\n",
              "                                                     [key], {});\n",
              "          if (!dataTable) return;\n",
              "\n",
              "          const docLinkHtml = 'Like what you see? Visit the ' +\n",
              "            '<a target=\"_blank\" href=https://colab.research.google.com/notebooks/data_table.ipynb>data table notebook</a>'\n",
              "            + ' to learn more about interactive tables.';\n",
              "          element.innerHTML = '';\n",
              "          dataTable['output_type'] = 'display_data';\n",
              "          await google.colab.output.renderOutput(dataTable, element);\n",
              "          const docLink = document.createElement('div');\n",
              "          docLink.innerHTML = docLinkHtml;\n",
              "          element.appendChild(docLink);\n",
              "        }\n",
              "      </script>\n",
              "    </div>\n",
              "  </div>\n",
              "  "
            ],
            "text/plain": [
              "            LongVolatility         SPY\n",
              "Date                                  \n",
              "01/06/2019          173.62  249.033667\n",
              "01/07/2019          171.26  252.303030\n",
              "01/08/2019          169.81  247.738451\n",
              "01/09/2019          175.14  251.994887\n",
              "01/10/2019          172.15  257.143583\n",
              "01/11/2019          170.11  265.898567\n",
              "01/12/2019          167.65  273.500555\n",
              "01/01/2020          165.05  273.055271\n",
              "01/02/2020          165.65  250.088464\n",
              "01/03/2020          181.00  218.797565\n",
              "01/04/2020          217.58  246.550746\n",
              "01/05/2020          213.75  257.715002\n",
              "01/06/2020          212.97  262.453969\n",
              "01/07/2020          214.32  276.915523\n",
              "01/08/2020          216.57  296.317523\n",
              "01/09/2020          216.42  284.693593\n",
              "01/10/2020          213.13  276.817324\n",
              "01/11/2020          211.60  306.587825\n",
              "01/12/2020          203.63  317.968796\n",
              "01/01/2021          203.96  323.776952"
            ]
          },
          "metadata": {},
          "execution_count": 10
        }
      ]
    },
    {
      "cell_type": "markdown",
      "metadata": {
        "id": "QKH_w4nVtuL7"
      },
      "source": [
        "Observando os retornos no período de Janeiro-Março/2020, percebi que as colunas não estavam alinhadas ao retorno real, então vou deslocar a coluna do SPY em 1 período."
      ]
    },
    {
      "cell_type": "code",
      "metadata": {
        "id": "JTz8DiM7OgYK"
      },
      "source": [
        "df[\"SPY\"]=df[\"SPY\"].shift(1)"
      ],
      "execution_count": 11,
      "outputs": []
    },
    {
      "cell_type": "code",
      "metadata": {
        "id": "H8hkgjOz-CsS"
      },
      "source": [
        "df=df.dropna(axis=0)"
      ],
      "execution_count": 12,
      "outputs": []
    },
    {
      "cell_type": "markdown",
      "metadata": {
        "id": "PP8-MMRQxbAo"
      },
      "source": [
        "Antes da crise de 2008, muitos fundos de volatilidade, tanto os comprados como vendidos em volatilidade, se expunham nesse mercado por meio de derivativos de balcão. Após a crise e as mudanças regulatórias subsequentes no setor bancário, uma boa parte do volume feito com estratégias customizadas via balcão migrou para os produtos das exchanges.Foi nessa época também que os produtos relacionados ao VIX ganharam tração, trazendo mudanças na forma de exposição à volatilidade. Desse modo, iremos considerar retornos apenas a partir de 2010."
      ]
    },
    {
      "cell_type": "code",
      "metadata": {
        "id": "Ma_IegoeATqx"
      },
      "source": [
        "df[\"SPY\"]=df[\"SPY\"][59:]\n",
        "df[\"LongVolatility\"]=df[\"LongVolatility\"][59:]"
      ],
      "execution_count": 13,
      "outputs": []
    },
    {
      "cell_type": "code",
      "metadata": {
        "id": "8GOHl2lcBoUD"
      },
      "source": [
        "df=df.dropna(axis=0)"
      ],
      "execution_count": 14,
      "outputs": []
    },
    {
      "cell_type": "code",
      "metadata": {
        "colab": {
          "base_uri": "https://localhost:8080/",
          "height": 455
        },
        "id": "QU2UetalsJw5",
        "outputId": "8c74b0b3-c813-4c26-ea82-5c1b442237d2"
      },
      "source": [
        "df"
      ],
      "execution_count": 15,
      "outputs": [
        {
          "output_type": "execute_result",
          "data": {
            "text/html": [
              "\n",
              "  <div id=\"df-d1d862c8-6774-4350-9d6a-77a8465b1e8d\">\n",
              "    <div class=\"colab-df-container\">\n",
              "      <div>\n",
              "<style scoped>\n",
              "    .dataframe tbody tr th:only-of-type {\n",
              "        vertical-align: middle;\n",
              "    }\n",
              "\n",
              "    .dataframe tbody tr th {\n",
              "        vertical-align: top;\n",
              "    }\n",
              "\n",
              "    .dataframe thead th {\n",
              "        text-align: right;\n",
              "    }\n",
              "</style>\n",
              "<table border=\"1\" class=\"dataframe\">\n",
              "  <thead>\n",
              "    <tr style=\"text-align: right;\">\n",
              "      <th></th>\n",
              "      <th>LongVolatility</th>\n",
              "      <th>SPY</th>\n",
              "    </tr>\n",
              "    <tr>\n",
              "      <th>Date</th>\n",
              "      <th></th>\n",
              "      <th></th>\n",
              "    </tr>\n",
              "  </thead>\n",
              "  <tbody>\n",
              "    <tr>\n",
              "      <th>01/01/2010</th>\n",
              "      <td>173.86</td>\n",
              "      <td>94.398402</td>\n",
              "    </tr>\n",
              "    <tr>\n",
              "      <th>01/02/2010</th>\n",
              "      <td>174.33</td>\n",
              "      <td>90.908090</td>\n",
              "    </tr>\n",
              "    <tr>\n",
              "      <th>01/03/2010</th>\n",
              "      <td>175.62</td>\n",
              "      <td>93.500216</td>\n",
              "    </tr>\n",
              "    <tr>\n",
              "      <th>01/04/2010</th>\n",
              "      <td>173.25</td>\n",
              "      <td>98.997689</td>\n",
              "    </tr>\n",
              "    <tr>\n",
              "      <th>01/05/2010</th>\n",
              "      <td>175.81</td>\n",
              "      <td>100.458828</td>\n",
              "    </tr>\n",
              "    <tr>\n",
              "      <th>...</th>\n",
              "      <td>...</td>\n",
              "      <td>...</td>\n",
              "    </tr>\n",
              "    <tr>\n",
              "      <th>01/09/2020</th>\n",
              "      <td>216.42</td>\n",
              "      <td>296.317523</td>\n",
              "    </tr>\n",
              "    <tr>\n",
              "      <th>01/10/2020</th>\n",
              "      <td>213.13</td>\n",
              "      <td>284.693593</td>\n",
              "    </tr>\n",
              "    <tr>\n",
              "      <th>01/11/2020</th>\n",
              "      <td>211.60</td>\n",
              "      <td>276.817324</td>\n",
              "    </tr>\n",
              "    <tr>\n",
              "      <th>01/12/2020</th>\n",
              "      <td>203.63</td>\n",
              "      <td>306.587825</td>\n",
              "    </tr>\n",
              "    <tr>\n",
              "      <th>01/01/2021</th>\n",
              "      <td>203.96</td>\n",
              "      <td>317.968796</td>\n",
              "    </tr>\n",
              "  </tbody>\n",
              "</table>\n",
              "<p>133 rows × 2 columns</p>\n",
              "</div>\n",
              "      <button class=\"colab-df-convert\" onclick=\"convertToInteractive('df-d1d862c8-6774-4350-9d6a-77a8465b1e8d')\"\n",
              "              title=\"Convert this dataframe to an interactive table.\"\n",
              "              style=\"display:none;\">\n",
              "        \n",
              "  <svg xmlns=\"http://www.w3.org/2000/svg\" height=\"24px\"viewBox=\"0 0 24 24\"\n",
              "       width=\"24px\">\n",
              "    <path d=\"M0 0h24v24H0V0z\" fill=\"none\"/>\n",
              "    <path d=\"M18.56 5.44l.94 2.06.94-2.06 2.06-.94-2.06-.94-.94-2.06-.94 2.06-2.06.94zm-11 1L8.5 8.5l.94-2.06 2.06-.94-2.06-.94L8.5 2.5l-.94 2.06-2.06.94zm10 10l.94 2.06.94-2.06 2.06-.94-2.06-.94-.94-2.06-.94 2.06-2.06.94z\"/><path d=\"M17.41 7.96l-1.37-1.37c-.4-.4-.92-.59-1.43-.59-.52 0-1.04.2-1.43.59L10.3 9.45l-7.72 7.72c-.78.78-.78 2.05 0 2.83L4 21.41c.39.39.9.59 1.41.59.51 0 1.02-.2 1.41-.59l7.78-7.78 2.81-2.81c.8-.78.8-2.07 0-2.86zM5.41 20L4 18.59l7.72-7.72 1.47 1.35L5.41 20z\"/>\n",
              "  </svg>\n",
              "      </button>\n",
              "      \n",
              "  <style>\n",
              "    .colab-df-container {\n",
              "      display:flex;\n",
              "      flex-wrap:wrap;\n",
              "      gap: 12px;\n",
              "    }\n",
              "\n",
              "    .colab-df-convert {\n",
              "      background-color: #E8F0FE;\n",
              "      border: none;\n",
              "      border-radius: 50%;\n",
              "      cursor: pointer;\n",
              "      display: none;\n",
              "      fill: #1967D2;\n",
              "      height: 32px;\n",
              "      padding: 0 0 0 0;\n",
              "      width: 32px;\n",
              "    }\n",
              "\n",
              "    .colab-df-convert:hover {\n",
              "      background-color: #E2EBFA;\n",
              "      box-shadow: 0px 1px 2px rgba(60, 64, 67, 0.3), 0px 1px 3px 1px rgba(60, 64, 67, 0.15);\n",
              "      fill: #174EA6;\n",
              "    }\n",
              "\n",
              "    [theme=dark] .colab-df-convert {\n",
              "      background-color: #3B4455;\n",
              "      fill: #D2E3FC;\n",
              "    }\n",
              "\n",
              "    [theme=dark] .colab-df-convert:hover {\n",
              "      background-color: #434B5C;\n",
              "      box-shadow: 0px 1px 3px 1px rgba(0, 0, 0, 0.15);\n",
              "      filter: drop-shadow(0px 1px 2px rgba(0, 0, 0, 0.3));\n",
              "      fill: #FFFFFF;\n",
              "    }\n",
              "  </style>\n",
              "\n",
              "      <script>\n",
              "        const buttonEl =\n",
              "          document.querySelector('#df-d1d862c8-6774-4350-9d6a-77a8465b1e8d button.colab-df-convert');\n",
              "        buttonEl.style.display =\n",
              "          google.colab.kernel.accessAllowed ? 'block' : 'none';\n",
              "\n",
              "        async function convertToInteractive(key) {\n",
              "          const element = document.querySelector('#df-d1d862c8-6774-4350-9d6a-77a8465b1e8d');\n",
              "          const dataTable =\n",
              "            await google.colab.kernel.invokeFunction('convertToInteractive',\n",
              "                                                     [key], {});\n",
              "          if (!dataTable) return;\n",
              "\n",
              "          const docLinkHtml = 'Like what you see? Visit the ' +\n",
              "            '<a target=\"_blank\" href=https://colab.research.google.com/notebooks/data_table.ipynb>data table notebook</a>'\n",
              "            + ' to learn more about interactive tables.';\n",
              "          element.innerHTML = '';\n",
              "          dataTable['output_type'] = 'display_data';\n",
              "          await google.colab.output.renderOutput(dataTable, element);\n",
              "          const docLink = document.createElement('div');\n",
              "          docLink.innerHTML = docLinkHtml;\n",
              "          element.appendChild(docLink);\n",
              "        }\n",
              "      </script>\n",
              "    </div>\n",
              "  </div>\n",
              "  "
            ],
            "text/plain": [
              "            LongVolatility         SPY\n",
              "Date                                  \n",
              "01/01/2010          173.86   94.398402\n",
              "01/02/2010          174.33   90.908090\n",
              "01/03/2010          175.62   93.500216\n",
              "01/04/2010          173.25   98.997689\n",
              "01/05/2010          175.81  100.458828\n",
              "...                    ...         ...\n",
              "01/09/2020          216.42  296.317523\n",
              "01/10/2020          213.13  284.693593\n",
              "01/11/2020          211.60  276.817324\n",
              "01/12/2020          203.63  306.587825\n",
              "01/01/2021          203.96  317.968796\n",
              "\n",
              "[133 rows x 2 columns]"
            ]
          },
          "metadata": {},
          "execution_count": 15
        }
      ]
    },
    {
      "cell_type": "code",
      "metadata": {
        "id": "fIo8xwVeRojo"
      },
      "source": [
        "df[\"LongVolatility\"]=df[\"LongVolatility\"]/df[\"LongVolatility\"][0]*100\n",
        "df[\"SPY\"]=df[\"SPY\"]/df[\"SPY\"][0]*100"
      ],
      "execution_count": null,
      "outputs": []
    },
    {
      "cell_type": "code",
      "metadata": {
        "colab": {
          "base_uri": "https://localhost:8080/",
          "height": 238
        },
        "id": "uip3q5_7Oxmy",
        "outputId": "a4dfc859-1635-473e-c75b-c94e12ab2fcf"
      },
      "source": [
        "df.head()"
      ],
      "execution_count": 17,
      "outputs": [
        {
          "output_type": "execute_result",
          "data": {
            "text/html": [
              "\n",
              "  <div id=\"df-9d872e96-344a-49f1-a21c-13283bea3acf\">\n",
              "    <div class=\"colab-df-container\">\n",
              "      <div>\n",
              "<style scoped>\n",
              "    .dataframe tbody tr th:only-of-type {\n",
              "        vertical-align: middle;\n",
              "    }\n",
              "\n",
              "    .dataframe tbody tr th {\n",
              "        vertical-align: top;\n",
              "    }\n",
              "\n",
              "    .dataframe thead th {\n",
              "        text-align: right;\n",
              "    }\n",
              "</style>\n",
              "<table border=\"1\" class=\"dataframe\">\n",
              "  <thead>\n",
              "    <tr style=\"text-align: right;\">\n",
              "      <th></th>\n",
              "      <th>LongVolatility</th>\n",
              "      <th>SPY</th>\n",
              "    </tr>\n",
              "    <tr>\n",
              "      <th>Date</th>\n",
              "      <th></th>\n",
              "      <th></th>\n",
              "    </tr>\n",
              "  </thead>\n",
              "  <tbody>\n",
              "    <tr>\n",
              "      <th>01/01/2010</th>\n",
              "      <td>100.000000</td>\n",
              "      <td>100.000000</td>\n",
              "    </tr>\n",
              "    <tr>\n",
              "      <th>01/02/2010</th>\n",
              "      <td>100.270332</td>\n",
              "      <td>96.302574</td>\n",
              "    </tr>\n",
              "    <tr>\n",
              "      <th>01/03/2010</th>\n",
              "      <td>101.012309</td>\n",
              "      <td>99.048516</td>\n",
              "    </tr>\n",
              "    <tr>\n",
              "      <th>01/04/2010</th>\n",
              "      <td>99.649143</td>\n",
              "      <td>104.872209</td>\n",
              "    </tr>\n",
              "    <tr>\n",
              "      <th>01/05/2010</th>\n",
              "      <td>101.121592</td>\n",
              "      <td>106.420052</td>\n",
              "    </tr>\n",
              "  </tbody>\n",
              "</table>\n",
              "</div>\n",
              "      <button class=\"colab-df-convert\" onclick=\"convertToInteractive('df-9d872e96-344a-49f1-a21c-13283bea3acf')\"\n",
              "              title=\"Convert this dataframe to an interactive table.\"\n",
              "              style=\"display:none;\">\n",
              "        \n",
              "  <svg xmlns=\"http://www.w3.org/2000/svg\" height=\"24px\"viewBox=\"0 0 24 24\"\n",
              "       width=\"24px\">\n",
              "    <path d=\"M0 0h24v24H0V0z\" fill=\"none\"/>\n",
              "    <path d=\"M18.56 5.44l.94 2.06.94-2.06 2.06-.94-2.06-.94-.94-2.06-.94 2.06-2.06.94zm-11 1L8.5 8.5l.94-2.06 2.06-.94-2.06-.94L8.5 2.5l-.94 2.06-2.06.94zm10 10l.94 2.06.94-2.06 2.06-.94-2.06-.94-.94-2.06-.94 2.06-2.06.94z\"/><path d=\"M17.41 7.96l-1.37-1.37c-.4-.4-.92-.59-1.43-.59-.52 0-1.04.2-1.43.59L10.3 9.45l-7.72 7.72c-.78.78-.78 2.05 0 2.83L4 21.41c.39.39.9.59 1.41.59.51 0 1.02-.2 1.41-.59l7.78-7.78 2.81-2.81c.8-.78.8-2.07 0-2.86zM5.41 20L4 18.59l7.72-7.72 1.47 1.35L5.41 20z\"/>\n",
              "  </svg>\n",
              "      </button>\n",
              "      \n",
              "  <style>\n",
              "    .colab-df-container {\n",
              "      display:flex;\n",
              "      flex-wrap:wrap;\n",
              "      gap: 12px;\n",
              "    }\n",
              "\n",
              "    .colab-df-convert {\n",
              "      background-color: #E8F0FE;\n",
              "      border: none;\n",
              "      border-radius: 50%;\n",
              "      cursor: pointer;\n",
              "      display: none;\n",
              "      fill: #1967D2;\n",
              "      height: 32px;\n",
              "      padding: 0 0 0 0;\n",
              "      width: 32px;\n",
              "    }\n",
              "\n",
              "    .colab-df-convert:hover {\n",
              "      background-color: #E2EBFA;\n",
              "      box-shadow: 0px 1px 2px rgba(60, 64, 67, 0.3), 0px 1px 3px 1px rgba(60, 64, 67, 0.15);\n",
              "      fill: #174EA6;\n",
              "    }\n",
              "\n",
              "    [theme=dark] .colab-df-convert {\n",
              "      background-color: #3B4455;\n",
              "      fill: #D2E3FC;\n",
              "    }\n",
              "\n",
              "    [theme=dark] .colab-df-convert:hover {\n",
              "      background-color: #434B5C;\n",
              "      box-shadow: 0px 1px 3px 1px rgba(0, 0, 0, 0.15);\n",
              "      filter: drop-shadow(0px 1px 2px rgba(0, 0, 0, 0.3));\n",
              "      fill: #FFFFFF;\n",
              "    }\n",
              "  </style>\n",
              "\n",
              "      <script>\n",
              "        const buttonEl =\n",
              "          document.querySelector('#df-9d872e96-344a-49f1-a21c-13283bea3acf button.colab-df-convert');\n",
              "        buttonEl.style.display =\n",
              "          google.colab.kernel.accessAllowed ? 'block' : 'none';\n",
              "\n",
              "        async function convertToInteractive(key) {\n",
              "          const element = document.querySelector('#df-9d872e96-344a-49f1-a21c-13283bea3acf');\n",
              "          const dataTable =\n",
              "            await google.colab.kernel.invokeFunction('convertToInteractive',\n",
              "                                                     [key], {});\n",
              "          if (!dataTable) return;\n",
              "\n",
              "          const docLinkHtml = 'Like what you see? Visit the ' +\n",
              "            '<a target=\"_blank\" href=https://colab.research.google.com/notebooks/data_table.ipynb>data table notebook</a>'\n",
              "            + ' to learn more about interactive tables.';\n",
              "          element.innerHTML = '';\n",
              "          dataTable['output_type'] = 'display_data';\n",
              "          await google.colab.output.renderOutput(dataTable, element);\n",
              "          const docLink = document.createElement('div');\n",
              "          docLink.innerHTML = docLinkHtml;\n",
              "          element.appendChild(docLink);\n",
              "        }\n",
              "      </script>\n",
              "    </div>\n",
              "  </div>\n",
              "  "
            ],
            "text/plain": [
              "            LongVolatility         SPY\n",
              "Date                                  \n",
              "01/01/2010      100.000000  100.000000\n",
              "01/02/2010      100.270332   96.302574\n",
              "01/03/2010      101.012309   99.048516\n",
              "01/04/2010       99.649143  104.872209\n",
              "01/05/2010      101.121592  106.420052"
            ]
          },
          "metadata": {},
          "execution_count": 17
        }
      ]
    },
    {
      "cell_type": "markdown",
      "metadata": {
        "id": "Pe1WiH2cf0te"
      },
      "source": [
        "Você teria essa estratégia em seu portfólio?"
      ]
    },
    {
      "cell_type": "code",
      "metadata": {
        "colab": {
          "base_uri": "https://localhost:8080/",
          "height": 514
        },
        "id": "obpfpoSADWfJ",
        "outputId": "59aab546-d97a-42e8-d9e3-1570353bb324"
      },
      "source": [
        "df[\"LongVolatility\"].plot(figsize=(16,8))"
      ],
      "execution_count": 18,
      "outputs": [
        {
          "output_type": "execute_result",
          "data": {
            "text/plain": [
              "<matplotlib.axes._subplots.AxesSubplot at 0x7fba9f2659d0>"
            ]
          },
          "metadata": {},
          "execution_count": 18
        },
        {
          "output_type": "display_data",
          "data": {
            "image/png": "[encoded data removed]",
            "text/plain": [
              "<Figure size 1152x576 with 1 Axes>"
            ]
          },
          "metadata": {
            "needs_background": "light"
          }
        }
      ]
    },
    {
      "cell_type": "markdown",
      "metadata": {
        "id": "XCQN4BMhf96M"
      },
      "source": [
        "Comparando com o SPY:"
      ]
    },
    {
      "cell_type": "code",
      "metadata": {
        "colab": {
          "base_uri": "https://localhost:8080/",
          "height": 514
        },
        "id": "DIJsIViG-E-E",
        "outputId": "839508e3-69bc-4f04-c45f-54e776b55447"
      },
      "source": [
        "df[[\"SPY\",\"LongVolatility\"]].plot(figsize=(16,8))"
      ],
      "execution_count": 19,
      "outputs": [
        {
          "output_type": "execute_result",
          "data": {
            "text/plain": [
              "<matplotlib.axes._subplots.AxesSubplot at 0x7fba9f1bec50>"
            ]
          },
          "metadata": {},
          "execution_count": 19
        },
        {
          "output_type": "display_data",
          "data": {
            "image/png": "[encoded data removed]",
            "text/plain": [
              "<Figure size 1152x576 with 1 Axes>"
            ]
          },
          "metadata": {
            "needs_background": "light"
          }
        }
      ]
    },
    {
      "cell_type": "code",
      "metadata": {
        "id": "RtwZuQLnoFTH"
      },
      "source": [
        "df[\"SPYReturn\"]=df[\"SPY\"]/df[\"SPY\"].shift(1)-1\n",
        "df[\"LongVolatilityReturn\"]=df[\"LongVolatility\"]/df[\"LongVolatility\"].shift(1)-1"
      ],
      "execution_count": 20,
      "outputs": []
    },
    {
      "cell_type": "code",
      "metadata": {
        "colab": {
          "base_uri": "https://localhost:8080/",
          "height": 238
        },
        "id": "vIVHqHsSK3RY",
        "outputId": "468cf60a-9684-423b-fd26-1a1f3c6fafb8"
      },
      "source": [
        "df.head()"
      ],
      "execution_count": 21,
      "outputs": [
        {
          "output_type": "execute_result",
          "data": {
            "text/html": [
              "\n",
              "  <div id=\"df-ae9ce641-f353-4e3a-a820-b3e016d28598\">\n",
              "    <div class=\"colab-df-container\">\n",
              "      <div>\n",
              "<style scoped>\n",
              "    .dataframe tbody tr th:only-of-type {\n",
              "        vertical-align: middle;\n",
              "    }\n",
              "\n",
              "    .dataframe tbody tr th {\n",
              "        vertical-align: top;\n",
              "    }\n",
              "\n",
              "    .dataframe thead th {\n",
              "        text-align: right;\n",
              "    }\n",
              "</style>\n",
              "<table border=\"1\" class=\"dataframe\">\n",
              "  <thead>\n",
              "    <tr style=\"text-align: right;\">\n",
              "      <th></th>\n",
              "      <th>LongVolatility</th>\n",
              "      <th>SPY</th>\n",
              "      <th>SPYReturn</th>\n",
              "      <th>LongVolatilityReturn</th>\n",
              "    </tr>\n",
              "    <tr>\n",
              "      <th>Date</th>\n",
              "      <th></th>\n",
              "      <th></th>\n",
              "      <th></th>\n",
              "      <th></th>\n",
              "    </tr>\n",
              "  </thead>\n",
              "  <tbody>\n",
              "    <tr>\n",
              "      <th>01/01/2010</th>\n",
              "      <td>100.000000</td>\n",
              "      <td>100.000000</td>\n",
              "      <td>NaN</td>\n",
              "      <td>NaN</td>\n",
              "    </tr>\n",
              "    <tr>\n",
              "      <th>01/02/2010</th>\n",
              "      <td>100.270332</td>\n",
              "      <td>96.302574</td>\n",
              "      <td>-0.036974</td>\n",
              "      <td>0.002703</td>\n",
              "    </tr>\n",
              "    <tr>\n",
              "      <th>01/03/2010</th>\n",
              "      <td>101.012309</td>\n",
              "      <td>99.048516</td>\n",
              "      <td>0.028514</td>\n",
              "      <td>0.007400</td>\n",
              "    </tr>\n",
              "    <tr>\n",
              "      <th>01/04/2010</th>\n",
              "      <td>99.649143</td>\n",
              "      <td>104.872209</td>\n",
              "      <td>0.058796</td>\n",
              "      <td>-0.013495</td>\n",
              "    </tr>\n",
              "    <tr>\n",
              "      <th>01/05/2010</th>\n",
              "      <td>101.121592</td>\n",
              "      <td>106.420052</td>\n",
              "      <td>0.014759</td>\n",
              "      <td>0.014776</td>\n",
              "    </tr>\n",
              "  </tbody>\n",
              "</table>\n",
              "</div>\n",
              "      <button class=\"colab-df-convert\" onclick=\"convertToInteractive('df-ae9ce641-f353-4e3a-a820-b3e016d28598')\"\n",
              "              title=\"Convert this dataframe to an interactive table.\"\n",
              "              style=\"display:none;\">\n",
              "        \n",
              "  <svg xmlns=\"http://www.w3.org/2000/svg\" height=\"24px\"viewBox=\"0 0 24 24\"\n",
              "       width=\"24px\">\n",
              "    <path d=\"M0 0h24v24H0V0z\" fill=\"none\"/>\n",
              "    <path d=\"M18.56 5.44l.94 2.06.94-2.06 2.06-.94-2.06-.94-.94-2.06-.94 2.06-2.06.94zm-11 1L8.5 8.5l.94-2.06 2.06-.94-2.06-.94L8.5 2.5l-.94 2.06-2.06.94zm10 10l.94 2.06.94-2.06 2.06-.94-2.06-.94-.94-2.06-.94 2.06-2.06.94z\"/><path d=\"M17.41 7.96l-1.37-1.37c-.4-.4-.92-.59-1.43-.59-.52 0-1.04.2-1.43.59L10.3 9.45l-7.72 7.72c-.78.78-.78 2.05 0 2.83L4 21.41c.39.39.9.59 1.41.59.51 0 1.02-.2 1.41-.59l7.78-7.78 2.81-2.81c.8-.78.8-2.07 0-2.86zM5.41 20L4 18.59l7.72-7.72 1.47 1.35L5.41 20z\"/>\n",
              "  </svg>\n",
              "      </button>\n",
              "      \n",
              "  <style>\n",
              "    .colab-df-container {\n",
              "      display:flex;\n",
              "      flex-wrap:wrap;\n",
              "      gap: 12px;\n",
              "    }\n",
              "\n",
              "    .colab-df-convert {\n",
              "      background-color: #E8F0FE;\n",
              "      border: none;\n",
              "      border-radius: 50%;\n",
              "      cursor: pointer;\n",
              "      display: none;\n",
              "      fill: #1967D2;\n",
              "      height: 32px;\n",
              "      padding: 0 0 0 0;\n",
              "      width: 32px;\n",
              "    }\n",
              "\n",
              "    .colab-df-convert:hover {\n",
              "      background-color: #E2EBFA;\n",
              "      box-shadow: 0px 1px 2px rgba(60, 64, 67, 0.3), 0px 1px 3px 1px rgba(60, 64, 67, 0.15);\n",
              "      fill: #174EA6;\n",
              "    }\n",
              "\n",
              "    [theme=dark] .colab-df-convert {\n",
              "      background-color: #3B4455;\n",
              "      fill: #D2E3FC;\n",
              "    }\n",
              "\n",
              "    [theme=dark] .colab-df-convert:hover {\n",
              "      background-color: #434B5C;\n",
              "      box-shadow: 0px 1px 3px 1px rgba(0, 0, 0, 0.15);\n",
              "      filter: drop-shadow(0px 1px 2px rgba(0, 0, 0, 0.3));\n",
              "      fill: #FFFFFF;\n",
              "    }\n",
              "  </style>\n",
              "\n",
              "      <script>\n",
              "        const buttonEl =\n",
              "          document.querySelector('#df-ae9ce641-f353-4e3a-a820-b3e016d28598 button.colab-df-convert');\n",
              "        buttonEl.style.display =\n",
              "          google.colab.kernel.accessAllowed ? 'block' : 'none';\n",
              "\n",
              "        async function convertToInteractive(key) {\n",
              "          const element = document.querySelector('#df-ae9ce641-f353-4e3a-a820-b3e016d28598');\n",
              "          const dataTable =\n",
              "            await google.colab.kernel.invokeFunction('convertToInteractive',\n",
              "                                                     [key], {});\n",
              "          if (!dataTable) return;\n",
              "\n",
              "          const docLinkHtml = 'Like what you see? Visit the ' +\n",
              "            '<a target=\"_blank\" href=https://colab.research.google.com/notebooks/data_table.ipynb>data table notebook</a>'\n",
              "            + ' to learn more about interactive tables.';\n",
              "          element.innerHTML = '';\n",
              "          dataTable['output_type'] = 'display_data';\n",
              "          await google.colab.output.renderOutput(dataTable, element);\n",
              "          const docLink = document.createElement('div');\n",
              "          docLink.innerHTML = docLinkHtml;\n",
              "          element.appendChild(docLink);\n",
              "        }\n",
              "      </script>\n",
              "    </div>\n",
              "  </div>\n",
              "  "
            ],
            "text/plain": [
              "            LongVolatility         SPY  SPYReturn  LongVolatilityReturn\n",
              "Date                                                                   \n",
              "01/01/2010      100.000000  100.000000        NaN                   NaN\n",
              "01/02/2010      100.270332   96.302574  -0.036974              0.002703\n",
              "01/03/2010      101.012309   99.048516   0.028514              0.007400\n",
              "01/04/2010       99.649143  104.872209   0.058796             -0.013495\n",
              "01/05/2010      101.121592  106.420052   0.014759              0.014776"
            ]
          },
          "metadata": {},
          "execution_count": 21
        }
      ]
    },
    {
      "cell_type": "code",
      "metadata": {
        "id": "rm3WsnuUWs8W"
      },
      "source": [
        "def skewness(r):\n",
        "    \"\"\"\n",
        "    Calcula o skewness (assimetria na distribuição) dos retornos\n",
        "\n",
        "    \"\"\"\n",
        "    demeaned_r = r - r.mean()\n",
        "    sigma_r = r.std()\n",
        "    exp = (demeaned_r**3).mean()\n",
        "    return exp/sigma_r**3\n",
        "\n",
        "\n",
        "def kurtosis(r):\n",
        "    \"\"\"\n",
        "    Calcula a kurtosis da série de retornos\n",
        "    \"\"\"\n",
        "    demeaned_r = r - r.mean()\n",
        "    sigma_r = r.std()\n",
        "    exp = (demeaned_r**4).mean()\n",
        "    return exp/sigma_r**4\n",
        "\n",
        "                         \n",
        "def annualize_rets(r, periods_per_year):\n",
        "    \"\"\"\n",
        "    Retorno Anualizado\n",
        "    \"\"\"\n",
        "    compounded_growth = (1+r).prod()\n",
        "    n_periods = r.shape[0]\n",
        "    return compounded_growth**(periods_per_year/n_periods)-1\n",
        "\n",
        "\n",
        "def annualize_vol(r, periods_per_year):\n",
        "    \"\"\"\n",
        "    Volatilidade dos retornos em formato anualizado\n",
        "    \"\"\"\n",
        "    return r.std()*(periods_per_year**0.5)\n",
        "\n",
        "\n",
        "def sharpe_ratio(r, riskfree_rate, periods_per_year):\n",
        "    \"\"\"\n",
        "    Calcula o Sharpe anualizado\n",
        "    \"\"\"\n",
        "    rf_per_period = (1+riskfree_rate)**(1/periods_per_year)-1\n",
        "    excess_ret = r - rf_per_period\n",
        "    ann_ex_ret = annualize_rets(excess_ret, periods_per_year)\n",
        "    ann_vol = annualize_vol(r, periods_per_year)\n",
        "    return ann_ex_ret/ann_vol\n",
        "\n",
        "\n",
        "def drawdown(return_series: pd.Series):\n",
        "    \"\"\"Recebe uma série de retornos e\n",
        "       retorna um dataframe com o valor acumulado,\n",
        "       picos prévios, e o drawdown\n",
        "    \"\"\"\n",
        "    wealth_index = 1000*(1+return_series).cumprod()\n",
        "    previous_peaks = wealth_index.cummax()\n",
        "    drawdowns = (wealth_index - previous_peaks)/previous_peaks\n",
        "    return pd.DataFrame({\"Wealth\": wealth_index, \n",
        "                         \"Previous Peak\": previous_peaks, \n",
        "                         \"Drawdown\": drawdowns})\n"
      ],
      "execution_count": 22,
      "outputs": []
    },
    {
      "cell_type": "code",
      "metadata": {
        "id": "udRBUi1hphGy"
      },
      "source": [
        "spy=dict()\n",
        "spy[\"Annualized Return\"]=annualize_rets(df[\"SPYReturn\"],12)*100\n",
        "spy[\"Annualized Vol\"]=annualize_vol(df[\"SPYReturn\"],12)*100\n",
        "spy[\"Skewness\"]=skewness(df[\"SPYReturn\"])\n",
        "spy[\"Kurtosis\"]=kurtosis(df[\"SPYReturn\"])\n",
        "spy[\"Sharpe Ratio\"]=sharpe_ratio(df[\"SPYReturn\"],0,12)\n",
        "spy[\"Max Drawdown\"]=drawdown(df[\"SPYReturn\"]).Drawdown.min()*100\n",
        "spy[\"Calmar Ratio\"]=abs(spy[\"Annualized Return\"]/spy[\"Max Drawdown\"])\n",
        "spy=pd.DataFrame.from_dict(spy.items())\n",
        "spy=spy.set_index(0)\n",
        "spy.index.name=None\n",
        "spy.columns=[\"SPY\"]\n",
        "LongVol=dict()\n",
        "LongVol[\"Annualized Return\"]=annualize_rets(df[\"LongVolatilityReturn\"],12)*100\n",
        "LongVol[\"Annualized Vol\"]=annualize_vol(df[\"LongVolatilityReturn\"],12)*100\n",
        "LongVol[\"Skewness\"]=skewness(df[\"LongVolatilityReturn\"])\n",
        "LongVol[\"Kurtosis\"]=kurtosis(df[\"LongVolatilityReturn\"])\n",
        "LongVol[\"Sharpe Ratio\"]=sharpe_ratio(df[\"LongVolatilityReturn\"],0,12)\n",
        "LongVol[\"Max Drawdown\"]=drawdown(df[\"LongVolatilityReturn\"]).Drawdown.min()*100\n",
        "LongVol[\"Calmar Ratio\"]=abs(LongVol[\"Annualized Return\"]/LongVol[\"Max Drawdown\"])\n",
        "LongVol=pd.DataFrame.from_dict(LongVol.items())\n",
        "LongVol=LongVol.set_index(0)\n",
        "LongVol.index.name=None\n",
        "LongVol.columns=[\"LongVolatility\"]\n",
        "portfolio=pd.concat([LongVol,spy],axis=1)"
      ],
      "execution_count": 23,
      "outputs": []
    },
    {
      "cell_type": "code",
      "metadata": {
        "colab": {
          "base_uri": "https://localhost:8080/",
          "height": 269
        },
        "id": "GiPSl6KLz202",
        "outputId": "3edffb54-1746-446e-fb62-5f0bfbc45f4d"
      },
      "source": [
        "portfolio"
      ],
      "execution_count": 24,
      "outputs": [
        {
          "output_type": "execute_result",
          "data": {
            "text/html": [
              "\n",
              "  <div id=\"df-1052ba47-b06e-4ded-981b-2f0860b3bd28\">\n",
              "    <div class=\"colab-df-container\">\n",
              "      <div>\n",
              "<style scoped>\n",
              "    .dataframe tbody tr th:only-of-type {\n",
              "        vertical-align: middle;\n",
              "    }\n",
              "\n",
              "    .dataframe tbody tr th {\n",
              "        vertical-align: top;\n",
              "    }\n",
              "\n",
              "    .dataframe thead th {\n",
              "        text-align: right;\n",
              "    }\n",
              "</style>\n",
              "<table border=\"1\" class=\"dataframe\">\n",
              "  <thead>\n",
              "    <tr style=\"text-align: right;\">\n",
              "      <th></th>\n",
              "      <th>LongVolatility</th>\n",
              "      <th>SPY</th>\n",
              "    </tr>\n",
              "  </thead>\n",
              "  <tbody>\n",
              "    <tr>\n",
              "      <th>Annualized Return</th>\n",
              "      <td>1.451091</td>\n",
              "      <td>11.580102</td>\n",
              "    </tr>\n",
              "    <tr>\n",
              "      <th>Annualized Vol</th>\n",
              "      <td>8.447673</td>\n",
              "      <td>14.073137</td>\n",
              "    </tr>\n",
              "    <tr>\n",
              "      <th>Skewness</th>\n",
              "      <td>4.660649</td>\n",
              "      <td>-0.312715</td>\n",
              "    </tr>\n",
              "    <tr>\n",
              "      <th>Kurtosis</th>\n",
              "      <td>36.799550</td>\n",
              "      <td>3.932601</td>\n",
              "    </tr>\n",
              "    <tr>\n",
              "      <th>Sharpe Ratio</th>\n",
              "      <td>0.171774</td>\n",
              "      <td>0.822852</td>\n",
              "    </tr>\n",
              "    <tr>\n",
              "      <th>Max Drawdown</th>\n",
              "      <td>-28.602327</td>\n",
              "      <td>-20.001052</td>\n",
              "    </tr>\n",
              "    <tr>\n",
              "      <th>Calmar Ratio</th>\n",
              "      <td>0.050733</td>\n",
              "      <td>0.578975</td>\n",
              "    </tr>\n",
              "  </tbody>\n",
              "</table>\n",
              "</div>\n",
              "      <button class=\"colab-df-convert\" onclick=\"convertToInteractive('df-1052ba47-b06e-4ded-981b-2f0860b3bd28')\"\n",
              "              title=\"Convert this dataframe to an interactive table.\"\n",
              "              style=\"display:none;\">\n",
              "        \n",
              "  <svg xmlns=\"http://www.w3.org/2000/svg\" height=\"24px\"viewBox=\"0 0 24 24\"\n",
              "       width=\"24px\">\n",
              "    <path d=\"M0 0h24v24H0V0z\" fill=\"none\"/>\n",
              "    <path d=\"M18.56 5.44l.94 2.06.94-2.06 2.06-.94-2.06-.94-.94-2.06-.94 2.06-2.06.94zm-11 1L8.5 8.5l.94-2.06 2.06-.94-2.06-.94L8.5 2.5l-.94 2.06-2.06.94zm10 10l.94 2.06.94-2.06 2.06-.94-2.06-.94-.94-2.06-.94 2.06-2.06.94z\"/><path d=\"M17.41 7.96l-1.37-1.37c-.4-.4-.92-.59-1.43-.59-.52 0-1.04.2-1.43.59L10.3 9.45l-7.72 7.72c-.78.78-.78 2.05 0 2.83L4 21.41c.39.39.9.59 1.41.59.51 0 1.02-.2 1.41-.59l7.78-7.78 2.81-2.81c.8-.78.8-2.07 0-2.86zM5.41 20L4 18.59l7.72-7.72 1.47 1.35L5.41 20z\"/>\n",
              "  </svg>\n",
              "      </button>\n",
              "      \n",
              "  <style>\n",
              "    .colab-df-container {\n",
              "      display:flex;\n",
              "      flex-wrap:wrap;\n",
              "      gap: 12px;\n",
              "    }\n",
              "\n",
              "    .colab-df-convert {\n",
              "      background-color: #E8F0FE;\n",
              "      border: none;\n",
              "      border-radius: 50%;\n",
              "      cursor: pointer;\n",
              "      display: none;\n",
              "      fill: #1967D2;\n",
              "      height: 32px;\n",
              "      padding: 0 0 0 0;\n",
              "      width: 32px;\n",
              "    }\n",
              "\n",
              "    .colab-df-convert:hover {\n",
              "      background-color: #E2EBFA;\n",
              "      box-shadow: 0px 1px 2px rgba(60, 64, 67, 0.3), 0px 1px 3px 1px rgba(60, 64, 67, 0.15);\n",
              "      fill: #174EA6;\n",
              "    }\n",
              "\n",
              "    [theme=dark] .colab-df-convert {\n",
              "      background-color: #3B4455;\n",
              "      fill: #D2E3FC;\n",
              "    }\n",
              "\n",
              "    [theme=dark] .colab-df-convert:hover {\n",
              "      background-color: #434B5C;\n",
              "      box-shadow: 0px 1px 3px 1px rgba(0, 0, 0, 0.15);\n",
              "      filter: drop-shadow(0px 1px 2px rgba(0, 0, 0, 0.3));\n",
              "      fill: #FFFFFF;\n",
              "    }\n",
              "  </style>\n",
              "\n",
              "      <script>\n",
              "        const buttonEl =\n",
              "          document.querySelector('#df-1052ba47-b06e-4ded-981b-2f0860b3bd28 button.colab-df-convert');\n",
              "        buttonEl.style.display =\n",
              "          google.colab.kernel.accessAllowed ? 'block' : 'none';\n",
              "\n",
              "        async function convertToInteractive(key) {\n",
              "          const element = document.querySelector('#df-1052ba47-b06e-4ded-981b-2f0860b3bd28');\n",
              "          const dataTable =\n",
              "            await google.colab.kernel.invokeFunction('convertToInteractive',\n",
              "                                                     [key], {});\n",
              "          if (!dataTable) return;\n",
              "\n",
              "          const docLinkHtml = 'Like what you see? Visit the ' +\n",
              "            '<a target=\"_blank\" href=https://colab.research.google.com/notebooks/data_table.ipynb>data table notebook</a>'\n",
              "            + ' to learn more about interactive tables.';\n",
              "          element.innerHTML = '';\n",
              "          dataTable['output_type'] = 'display_data';\n",
              "          await google.colab.output.renderOutput(dataTable, element);\n",
              "          const docLink = document.createElement('div');\n",
              "          docLink.innerHTML = docLinkHtml;\n",
              "          element.appendChild(docLink);\n",
              "        }\n",
              "      </script>\n",
              "    </div>\n",
              "  </div>\n",
              "  "
            ],
            "text/plain": [
              "                   LongVolatility        SPY\n",
              "Annualized Return        1.451091  11.580102\n",
              "Annualized Vol           8.447673  14.073137\n",
              "Skewness                 4.660649  -0.312715\n",
              "Kurtosis                36.799550   3.932601\n",
              "Sharpe Ratio             0.171774   0.822852\n",
              "Max Drawdown           -28.602327 -20.001052\n",
              "Calmar Ratio             0.050733   0.578975"
            ]
          },
          "metadata": {},
          "execution_count": 24
        }
      ]
    },
    {
      "cell_type": "markdown",
      "metadata": {
        "id": "-rznACTRykws"
      },
      "source": [
        "Montaremos um portfólio que une o retorno das duas estratégias, mantendo 100% do notional no SPY e 100% no produto comprado em Volatilidade. Esse tipo de exposição pode ser facilmente alcançado via futuros e derivativos, sobretudo quando a gestão das duas partes é realizada pela mesma gestora, facilitando o rebalanceamento."
      ]
    },
    {
      "cell_type": "code",
      "metadata": {
        "id": "WLYIYGh-MrSI"
      },
      "source": [
        "df[\"PortfolioReturn\"]=df[\"LongVolatilityReturn\"]+df[\"SPYReturn\"]"
      ],
      "execution_count": 25,
      "outputs": []
    },
    {
      "cell_type": "code",
      "metadata": {
        "id": "BQ24dROKV1bP"
      },
      "source": [
        "df[\"Portfolio\"]=100*(1+df[\"PortfolioReturn\"]).cumprod()"
      ],
      "execution_count": 26,
      "outputs": []
    },
    {
      "cell_type": "code",
      "metadata": {
        "colab": {
          "base_uri": "https://localhost:8080/",
          "height": 238
        },
        "id": "WZRoXxKrDFBt",
        "outputId": "9081e67f-6b23-4a41-a56d-33e33e4c54f6"
      },
      "source": [
        "df.head()"
      ],
      "execution_count": 27,
      "outputs": [
        {
          "output_type": "execute_result",
          "data": {
            "text/html": [
              "\n",
              "  <div id=\"df-90872660-b3b7-45d9-91ad-e1b69b9159e4\">\n",
              "    <div class=\"colab-df-container\">\n",
              "      <div>\n",
              "<style scoped>\n",
              "    .dataframe tbody tr th:only-of-type {\n",
              "        vertical-align: middle;\n",
              "    }\n",
              "\n",
              "    .dataframe tbody tr th {\n",
              "        vertical-align: top;\n",
              "    }\n",
              "\n",
              "    .dataframe thead th {\n",
              "        text-align: right;\n",
              "    }\n",
              "</style>\n",
              "<table border=\"1\" class=\"dataframe\">\n",
              "  <thead>\n",
              "    <tr style=\"text-align: right;\">\n",
              "      <th></th>\n",
              "      <th>LongVolatility</th>\n",
              "      <th>SPY</th>\n",
              "      <th>SPYReturn</th>\n",
              "      <th>LongVolatilityReturn</th>\n",
              "      <th>PortfolioReturn</th>\n",
              "      <th>Portfolio</th>\n",
              "    </tr>\n",
              "    <tr>\n",
              "      <th>Date</th>\n",
              "      <th></th>\n",
              "      <th></th>\n",
              "      <th></th>\n",
              "      <th></th>\n",
              "      <th></th>\n",
              "      <th></th>\n",
              "    </tr>\n",
              "  </thead>\n",
              "  <tbody>\n",
              "    <tr>\n",
              "      <th>01/01/2010</th>\n",
              "      <td>100.000000</td>\n",
              "      <td>100.000000</td>\n",
              "      <td>NaN</td>\n",
              "      <td>NaN</td>\n",
              "      <td>NaN</td>\n",
              "      <td>NaN</td>\n",
              "    </tr>\n",
              "    <tr>\n",
              "      <th>01/02/2010</th>\n",
              "      <td>100.270332</td>\n",
              "      <td>96.302574</td>\n",
              "      <td>-0.036974</td>\n",
              "      <td>0.002703</td>\n",
              "      <td>-0.034271</td>\n",
              "      <td>96.572906</td>\n",
              "    </tr>\n",
              "    <tr>\n",
              "      <th>01/03/2010</th>\n",
              "      <td>101.012309</td>\n",
              "      <td>99.048516</td>\n",
              "      <td>0.028514</td>\n",
              "      <td>0.007400</td>\n",
              "      <td>0.035913</td>\n",
              "      <td>100.041173</td>\n",
              "    </tr>\n",
              "    <tr>\n",
              "      <th>01/04/2010</th>\n",
              "      <td>99.649143</td>\n",
              "      <td>104.872209</td>\n",
              "      <td>0.058796</td>\n",
              "      <td>-0.013495</td>\n",
              "      <td>0.045301</td>\n",
              "      <td>104.573170</td>\n",
              "    </tr>\n",
              "    <tr>\n",
              "      <th>01/05/2010</th>\n",
              "      <td>101.121592</td>\n",
              "      <td>106.420052</td>\n",
              "      <td>0.014759</td>\n",
              "      <td>0.014776</td>\n",
              "      <td>0.029536</td>\n",
              "      <td>107.661808</td>\n",
              "    </tr>\n",
              "  </tbody>\n",
              "</table>\n",
              "</div>\n",
              "      <button class=\"colab-df-convert\" onclick=\"convertToInteractive('df-90872660-b3b7-45d9-91ad-e1b69b9159e4')\"\n",
              "              title=\"Convert this dataframe to an interactive table.\"\n",
              "              style=\"display:none;\">\n",
              "        \n",
              "  <svg xmlns=\"http://www.w3.org/2000/svg\" height=\"24px\"viewBox=\"0 0 24 24\"\n",
              "       width=\"24px\">\n",
              "    <path d=\"M0 0h24v24H0V0z\" fill=\"none\"/>\n",
              "    <path d=\"M18.56 5.44l.94 2.06.94-2.06 2.06-.94-2.06-.94-.94-2.06-.94 2.06-2.06.94zm-11 1L8.5 8.5l.94-2.06 2.06-.94-2.06-.94L8.5 2.5l-.94 2.06-2.06.94zm10 10l.94 2.06.94-2.06 2.06-.94-2.06-.94-.94-2.06-.94 2.06-2.06.94z\"/><path d=\"M17.41 7.96l-1.37-1.37c-.4-.4-.92-.59-1.43-.59-.52 0-1.04.2-1.43.59L10.3 9.45l-7.72 7.72c-.78.78-.78 2.05 0 2.83L4 21.41c.39.39.9.59 1.41.59.51 0 1.02-.2 1.41-.59l7.78-7.78 2.81-2.81c.8-.78.8-2.07 0-2.86zM5.41 20L4 18.59l7.72-7.72 1.47 1.35L5.41 20z\"/>\n",
              "  </svg>\n",
              "      </button>\n",
              "      \n",
              "  <style>\n",
              "    .colab-df-container {\n",
              "      display:flex;\n",
              "      flex-wrap:wrap;\n",
              "      gap: 12px;\n",
              "    }\n",
              "\n",
              "    .colab-df-convert {\n",
              "      background-color: #E8F0FE;\n",
              "      border: none;\n",
              "      border-radius: 50%;\n",
              "      cursor: pointer;\n",
              "      display: none;\n",
              "      fill: #1967D2;\n",
              "      height: 32px;\n",
              "      padding: 0 0 0 0;\n",
              "      width: 32px;\n",
              "    }\n",
              "\n",
              "    .colab-df-convert:hover {\n",
              "      background-color: #E2EBFA;\n",
              "      box-shadow: 0px 1px 2px rgba(60, 64, 67, 0.3), 0px 1px 3px 1px rgba(60, 64, 67, 0.15);\n",
              "      fill: #174EA6;\n",
              "    }\n",
              "\n",
              "    [theme=dark] .colab-df-convert {\n",
              "      background-color: #3B4455;\n",
              "      fill: #D2E3FC;\n",
              "    }\n",
              "\n",
              "    [theme=dark] .colab-df-convert:hover {\n",
              "      background-color: #434B5C;\n",
              "      box-shadow: 0px 1px 3px 1px rgba(0, 0, 0, 0.15);\n",
              "      filter: drop-shadow(0px 1px 2px rgba(0, 0, 0, 0.3));\n",
              "      fill: #FFFFFF;\n",
              "    }\n",
              "  </style>\n",
              "\n",
              "      <script>\n",
              "        const buttonEl =\n",
              "          document.querySelector('#df-90872660-b3b7-45d9-91ad-e1b69b9159e4 button.colab-df-convert');\n",
              "        buttonEl.style.display =\n",
              "          google.colab.kernel.accessAllowed ? 'block' : 'none';\n",
              "\n",
              "        async function convertToInteractive(key) {\n",
              "          const element = document.querySelector('#df-90872660-b3b7-45d9-91ad-e1b69b9159e4');\n",
              "          const dataTable =\n",
              "            await google.colab.kernel.invokeFunction('convertToInteractive',\n",
              "                                                     [key], {});\n",
              "          if (!dataTable) return;\n",
              "\n",
              "          const docLinkHtml = 'Like what you see? Visit the ' +\n",
              "            '<a target=\"_blank\" href=https://colab.research.google.com/notebooks/data_table.ipynb>data table notebook</a>'\n",
              "            + ' to learn more about interactive tables.';\n",
              "          element.innerHTML = '';\n",
              "          dataTable['output_type'] = 'display_data';\n",
              "          await google.colab.output.renderOutput(dataTable, element);\n",
              "          const docLink = document.createElement('div');\n",
              "          docLink.innerHTML = docLinkHtml;\n",
              "          element.appendChild(docLink);\n",
              "        }\n",
              "      </script>\n",
              "    </div>\n",
              "  </div>\n",
              "  "
            ],
            "text/plain": [
              "            LongVolatility         SPY  ...  PortfolioReturn   Portfolio\n",
              "Date                                    ...                             \n",
              "01/01/2010      100.000000  100.000000  ...              NaN         NaN\n",
              "01/02/2010      100.270332   96.302574  ...        -0.034271   96.572906\n",
              "01/03/2010      101.012309   99.048516  ...         0.035913  100.041173\n",
              "01/04/2010       99.649143  104.872209  ...         0.045301  104.573170\n",
              "01/05/2010      101.121592  106.420052  ...         0.029536  107.661808\n",
              "\n",
              "[5 rows x 6 columns]"
            ]
          },
          "metadata": {},
          "execution_count": 27
        }
      ]
    },
    {
      "cell_type": "code",
      "metadata": {
        "colab": {
          "base_uri": "https://localhost:8080/",
          "height": 514
        },
        "id": "QmaU17odVpAL",
        "outputId": "c0477fa8-1bfb-4f05-ebee-03d9ef4ac9c4"
      },
      "source": [
        "df[[\"Portfolio\",\"SPY\",\"LongVolatility\"]].plot(figsize=(16,8))"
      ],
      "execution_count": 28,
      "outputs": [
        {
          "output_type": "execute_result",
          "data": {
            "text/plain": [
              "<matplotlib.axes._subplots.AxesSubplot at 0x7fba9f1bef10>"
            ]
          },
          "metadata": {},
          "execution_count": 28
        },
        {
          "output_type": "display_data",
          "data": {
            "image/png": "[encoded data removed]",
            "text/plain": [
              "<Figure size 1152x576 with 1 Axes>"
            ]
          },
          "metadata": {
            "needs_background": "light"
          }
        }
      ]
    },
    {
      "cell_type": "code",
      "metadata": {
        "id": "NWH0Dto8Xfva"
      },
      "source": [
        "port=dict()\n",
        "port[\"Annualized Return\"]=annualize_rets(df[\"PortfolioReturn\"],12)*100\n",
        "port[\"Annualized Vol\"]=annualize_vol(df[\"PortfolioReturn\"],12)*100\n",
        "port[\"Skewness\"]=skewness(df[\"PortfolioReturn\"])\n",
        "port[\"Kurtosis\"]=kurtosis(df[\"PortfolioReturn\"])\n",
        "port[\"Sharpe Ratio\"]=sharpe_ratio(df[\"PortfolioReturn\"],0,12)\n",
        "port[\"Max Drawdown\"]=drawdown(df[\"PortfolioReturn\"]).Drawdown.min()*100\n",
        "port[\"Calmar Ratio\"]=abs(port[\"Annualized Return\"]/port[\"Max Drawdown\"])\n",
        "port=pd.DataFrame.from_dict(port.items())\n",
        "port=port.set_index(0)\n",
        "port.index.name=None\n",
        "port.columns=[\"Portfolio\"]"
      ],
      "execution_count": 29,
      "outputs": []
    },
    {
      "cell_type": "code",
      "metadata": {
        "id": "LDJ3aZj_21X5"
      },
      "source": [
        "portfolio=pd.concat([portfolio,port],axis=1)"
      ],
      "execution_count": 30,
      "outputs": []
    },
    {
      "cell_type": "code",
      "metadata": {
        "colab": {
          "base_uri": "https://localhost:8080/",
          "height": 269
        },
        "id": "xgun9AbG28fu",
        "outputId": "7cecacc3-043c-4a21-f88a-de77b5bbaa0d"
      },
      "source": [
        "portfolio"
      ],
      "execution_count": 31,
      "outputs": [
        {
          "output_type": "execute_result",
          "data": {
            "text/html": [
              "\n",
              "  <div id=\"df-5d3fbbbe-2780-477d-bc34-48eaf4b032ea\">\n",
              "    <div class=\"colab-df-container\">\n",
              "      <div>\n",
              "<style scoped>\n",
              "    .dataframe tbody tr th:only-of-type {\n",
              "        vertical-align: middle;\n",
              "    }\n",
              "\n",
              "    .dataframe tbody tr th {\n",
              "        vertical-align: top;\n",
              "    }\n",
              "\n",
              "    .dataframe thead th {\n",
              "        text-align: right;\n",
              "    }\n",
              "</style>\n",
              "<table border=\"1\" class=\"dataframe\">\n",
              "  <thead>\n",
              "    <tr style=\"text-align: right;\">\n",
              "      <th></th>\n",
              "      <th>LongVolatility</th>\n",
              "      <th>SPY</th>\n",
              "      <th>Portfolio</th>\n",
              "    </tr>\n",
              "  </thead>\n",
              "  <tbody>\n",
              "    <tr>\n",
              "      <th>Annualized Return</th>\n",
              "      <td>1.451091</td>\n",
              "      <td>11.580102</td>\n",
              "      <td>13.944474</td>\n",
              "    </tr>\n",
              "    <tr>\n",
              "      <th>Annualized Vol</th>\n",
              "      <td>8.447673</td>\n",
              "      <td>14.073137</td>\n",
              "      <td>11.387187</td>\n",
              "    </tr>\n",
              "    <tr>\n",
              "      <th>Skewness</th>\n",
              "      <td>4.660649</td>\n",
              "      <td>-0.312715</td>\n",
              "      <td>0.340614</td>\n",
              "    </tr>\n",
              "    <tr>\n",
              "      <th>Kurtosis</th>\n",
              "      <td>36.799550</td>\n",
              "      <td>3.932601</td>\n",
              "      <td>3.294003</td>\n",
              "    </tr>\n",
              "    <tr>\n",
              "      <th>Sharpe Ratio</th>\n",
              "      <td>0.171774</td>\n",
              "      <td>0.822852</td>\n",
              "      <td>1.224576</td>\n",
              "    </tr>\n",
              "    <tr>\n",
              "      <th>Max Drawdown</th>\n",
              "      <td>-28.602327</td>\n",
              "      <td>-20.001052</td>\n",
              "      <td>-11.871032</td>\n",
              "    </tr>\n",
              "    <tr>\n",
              "      <th>Calmar Ratio</th>\n",
              "      <td>0.050733</td>\n",
              "      <td>0.578975</td>\n",
              "      <td>1.174664</td>\n",
              "    </tr>\n",
              "  </tbody>\n",
              "</table>\n",
              "</div>\n",
              "      <button class=\"colab-df-convert\" onclick=\"convertToInteractive('df-5d3fbbbe-2780-477d-bc34-48eaf4b032ea')\"\n",
              "              title=\"Convert this dataframe to an interactive table.\"\n",
              "              style=\"display:none;\">\n",
              "        \n",
              "  <svg xmlns=\"http://www.w3.org/2000/svg\" height=\"24px\"viewBox=\"0 0 24 24\"\n",
              "       width=\"24px\">\n",
              "    <path d=\"M0 0h24v24H0V0z\" fill=\"none\"/>\n",
              "    <path d=\"M18.56 5.44l.94 2.06.94-2.06 2.06-.94-2.06-.94-.94-2.06-.94 2.06-2.06.94zm-11 1L8.5 8.5l.94-2.06 2.06-.94-2.06-.94L8.5 2.5l-.94 2.06-2.06.94zm10 10l.94 2.06.94-2.06 2.06-.94-2.06-.94-.94-2.06-.94 2.06-2.06.94z\"/><path d=\"M17.41 7.96l-1.37-1.37c-.4-.4-.92-.59-1.43-.59-.52 0-1.04.2-1.43.59L10.3 9.45l-7.72 7.72c-.78.78-.78 2.05 0 2.83L4 21.41c.39.39.9.59 1.41.59.51 0 1.02-.2 1.41-.59l7.78-7.78 2.81-2.81c.8-.78.8-2.07 0-2.86zM5.41 20L4 18.59l7.72-7.72 1.47 1.35L5.41 20z\"/>\n",
              "  </svg>\n",
              "      </button>\n",
              "      \n",
              "  <style>\n",
              "    .colab-df-container {\n",
              "      display:flex;\n",
              "      flex-wrap:wrap;\n",
              "      gap: 12px;\n",
              "    }\n",
              "\n",
              "    .colab-df-convert {\n",
              "      background-color: #E8F0FE;\n",
              "      border: none;\n",
              "      border-radius: 50%;\n",
              "      cursor: pointer;\n",
              "      display: none;\n",
              "      fill: #1967D2;\n",
              "      height: 32px;\n",
              "      padding: 0 0 0 0;\n",
              "      width: 32px;\n",
              "    }\n",
              "\n",
              "    .colab-df-convert:hover {\n",
              "      background-color: #E2EBFA;\n",
              "      box-shadow: 0px 1px 2px rgba(60, 64, 67, 0.3), 0px 1px 3px 1px rgba(60, 64, 67, 0.15);\n",
              "      fill: #174EA6;\n",
              "    }\n",
              "\n",
              "    [theme=dark] .colab-df-convert {\n",
              "      background-color: #3B4455;\n",
              "      fill: #D2E3FC;\n",
              "    }\n",
              "\n",
              "    [theme=dark] .colab-df-convert:hover {\n",
              "      background-color: #434B5C;\n",
              "      box-shadow: 0px 1px 3px 1px rgba(0, 0, 0, 0.15);\n",
              "      filter: drop-shadow(0px 1px 2px rgba(0, 0, 0, 0.3));\n",
              "      fill: #FFFFFF;\n",
              "    }\n",
              "  </style>\n",
              "\n",
              "      <script>\n",
              "        const buttonEl =\n",
              "          document.querySelector('#df-5d3fbbbe-2780-477d-bc34-48eaf4b032ea button.colab-df-convert');\n",
              "        buttonEl.style.display =\n",
              "          google.colab.kernel.accessAllowed ? 'block' : 'none';\n",
              "\n",
              "        async function convertToInteractive(key) {\n",
              "          const element = document.querySelector('#df-5d3fbbbe-2780-477d-bc34-48eaf4b032ea');\n",
              "          const dataTable =\n",
              "            await google.colab.kernel.invokeFunction('convertToInteractive',\n",
              "                                                     [key], {});\n",
              "          if (!dataTable) return;\n",
              "\n",
              "          const docLinkHtml = 'Like what you see? Visit the ' +\n",
              "            '<a target=\"_blank\" href=https://colab.research.google.com/notebooks/data_table.ipynb>data table notebook</a>'\n",
              "            + ' to learn more about interactive tables.';\n",
              "          element.innerHTML = '';\n",
              "          dataTable['output_type'] = 'display_data';\n",
              "          await google.colab.output.renderOutput(dataTable, element);\n",
              "          const docLink = document.createElement('div');\n",
              "          docLink.innerHTML = docLinkHtml;\n",
              "          element.appendChild(docLink);\n",
              "        }\n",
              "      </script>\n",
              "    </div>\n",
              "  </div>\n",
              "  "
            ],
            "text/plain": [
              "                   LongVolatility        SPY  Portfolio\n",
              "Annualized Return        1.451091  11.580102  13.944474\n",
              "Annualized Vol           8.447673  14.073137  11.387187\n",
              "Skewness                 4.660649  -0.312715   0.340614\n",
              "Kurtosis                36.799550   3.932601   3.294003\n",
              "Sharpe Ratio             0.171774   0.822852   1.224576\n",
              "Max Drawdown           -28.602327 -20.001052 -11.871032\n",
              "Calmar Ratio             0.050733   0.578975   1.174664"
            ]
          },
          "metadata": {},
          "execution_count": 31
        }
      ]
    },
    {
      "cell_type": "markdown",
      "metadata": {
        "id": "RmjSEhT9jDYd"
      },
      "source": [
        "O Valor da estratégia se deve ao fato de ser, na maior parte do tempo, negativamente correlacionada aos retornos do SPY."
      ]
    },
    {
      "cell_type": "code",
      "metadata": {
        "colab": {
          "base_uri": "https://localhost:8080/",
          "height": 405
        },
        "id": "qETlbsldBt_Q",
        "outputId": "90e19fc2-378e-447a-b226-c2148467a7ac"
      },
      "source": [
        "df['SPYReturn'].rolling(12).corr(df['LongVolatilityReturn']).plot(figsize=(20,6))"
      ],
      "execution_count": 32,
      "outputs": [
        {
          "output_type": "execute_result",
          "data": {
            "text/plain": [
              "<matplotlib.axes._subplots.AxesSubplot at 0x7fba9ebd6590>"
            ]
          },
          "metadata": {},
          "execution_count": 32
        },
        {
          "output_type": "display_data",
          "data": {
            "image/png": "[encoded data removed]",
            "text/plain": [
              "<Figure size 1440x432 with 1 Axes>"
            ]
          },
          "metadata": {
            "needs_background": "light"
          }
        }
      ]
    },
    {
      "cell_type": "markdown",
      "metadata": {
        "id": "TQUCeyGFB6q_"
      },
      "source": [
        "Abaixo, definiremos a medida \"Efetividade\" para verificar em quantas ocasiões o portfólio Long Volatility sobe enquanto o SPY cai em janelas mensais. Para esse teste, usamos três janela de quedas do SPY.\n",
        "1)Retornos entre -1% e -3%;\n",
        "2)Retornos entre -3% e -5%;\n",
        "3)Retornos abaixo de -5%.\n",
        "\n",
        "Além disso, printaremos o número de vezes em que tais situações ocorreram.\n",
        "\n",
        "Vemos que à medida que os retornos ficam mais extremos, a estratégia Long Volatility se torna mais efetiva. Ou seja, apesar de retornos ruins do SPY não serem tão frequentes, podemos construir uma estratégia que de certa forma contrabalanceie essas quedas, gerando um maior retorno anualizado (CAGR) e ainda com melhoria nas métricas de retorno ajustado ao risco,se comparado com o buy and hold do SPY."
      ]
    },
    {
      "cell_type": "code",
      "metadata": {
        "colab": {
          "base_uri": "https://localhost:8080/"
        },
        "id": "iL9LT1Eqa4SE",
        "outputId": "31eb5b24-a388-4ce9-fa34-fa69da85ef7b"
      },
      "source": [
        "Efetividade=df[(df[\"SPYReturn\"]<-0.01)&(df[\"SPYReturn\"]>-0.03)&(df[\"LongVolatilityReturn\"]>0)].shape[0]/df[(df[\"SPYReturn\"]<-0.01)&(df[\"SPYReturn\"]>-0.03)].shape[0]\n",
        "subset_df = df[(df[\"SPYReturn\"]<-0.01)&(df[\"SPYReturn\"]>-0.03)]\n",
        "print(\"Efetividade = {:.2%}\".format(Efetividade))\n",
        "print(subset_df.shape[0])"
      ],
      "execution_count": 33,
      "outputs": [
        {
          "output_type": "stream",
          "name": "stdout",
          "text": [
            "Efetividade = 26.67%\n",
            "15\n"
          ]
        }
      ]
    },
    {
      "cell_type": "code",
      "metadata": {
        "colab": {
          "base_uri": "https://localhost:8080/"
        },
        "id": "dtDz_vw36B4p",
        "outputId": "81a0090f-bc0b-4fd3-dd73-691e6c7a879e"
      },
      "source": [
        "Efetividade=df[(df[\"SPYReturn\"]<-0.03)&(df[\"SPYReturn\"]>-0.05)&(df[\"LongVolatilityReturn\"]>0)].shape[0]/df[(df[\"SPYReturn\"]<-0.03)&(df[\"SPYReturn\"]>-0.05)].shape[0]\n",
        "subset_df = df[(df[\"SPYReturn\"]<-0.03)&(df[\"SPYReturn\"]>-0.05)]\n",
        "print(\"Efetividade = {:.2%}\".format(Efetividade))\n",
        "print(subset_df.shape[0])"
      ],
      "execution_count": 34,
      "outputs": [
        {
          "output_type": "stream",
          "name": "stdout",
          "text": [
            "Efetividade = 71.43%\n",
            "7\n"
          ]
        }
      ]
    },
    {
      "cell_type": "code",
      "metadata": {
        "colab": {
          "base_uri": "https://localhost:8080/"
        },
        "id": "lBI3GvlP6Mif",
        "outputId": "6324964a-0429-4f5f-d8b5-cbdd89e5a4e1"
      },
      "source": [
        "Efetividade=df[(df[\"SPYReturn\"]<-0.05)&(df[\"LongVolatilityReturn\"]>0)].shape[0]/df[df[\"SPYReturn\"]<-0.05].shape[0]\n",
        "subset_df = df[df[\"SPYReturn\"]<-0.05]\n",
        "print(\"Efetividade = {:.2%}\".format(Efetividade))\n",
        "print(subset_df.shape[0])"
      ],
      "execution_count": 35,
      "outputs": [
        {
          "output_type": "stream",
          "name": "stdout",
          "text": [
            "Efetividade = 100.00%\n",
            "12\n"
          ]
        }
      ]
    }
  ]
}