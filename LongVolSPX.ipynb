{
  "nbformat": 4,
  "nbformat_minor": 0,
  "metadata": {
    "colab": {
      "name": "LongVolSPX.ipynb",
      "provenance": [],
      "collapsed_sections": [],
      "authorship_tag": "ABX9TyOI50TRzaLyM0ikgowB4DWq",
      "include_colab_link": true
    },
    "kernelspec": {
      "display_name": "Python 3",
      "name": "python3"
    }
  },
  "cells": [
    {
      "cell_type": "markdown",
      "metadata": {
        "id": "view-in-github",
        "colab_type": "text"
      },
      "source": [
        "<a href=\"https://colab.research.google.com/github/BernardoRMendes/Projeto/blob/main/LongVolSPX.ipynb\" target=\"_parent\"><img src=\"https://colab.research.google.com/assets/colab-badge.svg\" alt=\"Open In Colab\"/></a>"
      ]
    },
    {
      "cell_type": "code",
      "metadata": {
        "id": "0zmx3RI6Lin2"
      },
      "source": [
        "import numpy as np\r\n",
        "from scipy import stats\r\n",
        "import pandas as pd\r\n",
        "import matplotlib.pyplot as plt\r\n",
        "from google.colab import files\r\n",
        "from scipy.stats import norm"
      ],
      "execution_count": 1,
      "outputs": []
    },
    {
      "cell_type": "markdown",
      "metadata": {
        "id": "fi3y_9MesDAw"
      },
      "source": [
        "Nesse estudo, iremos mostrar que , na construção de portfólios, a interação entre as estratégias é mais importante do que a performance individual de cada uma delas. Estratégias que à primeira vista parecem ruins podem gerar valor a um portfólio de ações. Para isso, foi selecionado o índice \"CBOE Eurekahedge Long Volatility Hedge Fund Index\". Esse índice rastreia a performance de alguns fundos que mantêm exposição comprada em volatilidade, ou seja, tendem a se beneficiar quando há aumento de incerteza no mercado."
      ]
    },
    {
      "cell_type": "markdown",
      "metadata": {
        "id": "N9-3LRNntTpH"
      },
      "source": [
        "Os dados foram baixados no endereço https://www.eurekahedge.com/Indices/IndexView/Eurekahedge/640/CBOE-Eurekahedge-Long-Volatility-Hedge-Fund-Index\r\n",
        "e normalizados em planilha do excel (O SPY foi ajustado para começar em 100 na mesma data do índice Long Volatility)."
      ]
    },
    {
      "cell_type": "code",
      "metadata": {
        "id": "SKfz6Hm3NS20"
      },
      "source": [
        "url=\"https://raw.githubusercontent.com/BernardoRMendes/Projeto/main/LongVolSPX.csv\""
      ],
      "execution_count": 2,
      "outputs": []
    },
    {
      "cell_type": "code",
      "metadata": {
        "id": "MLO4R6u4SfWY"
      },
      "source": [
        "df=pd.read_csv(url,sep=';',index_col=0)"
      ],
      "execution_count": 3,
      "outputs": []
    },
    {
      "cell_type": "code",
      "metadata": {
        "id": "p4DqwHRORlZy",
        "colab": {
          "base_uri": "https://localhost:8080/"
        },
        "outputId": "62b76e2d-78f6-4ad3-a0c6-f9a02be6ada8"
      },
      "source": [
        "df.info()"
      ],
      "execution_count": 4,
      "outputs": [
        {
          "output_type": "stream",
          "text": [
            "<class 'pandas.core.frame.DataFrame'>\n",
            "Index: 193 entries, 01/01/2005 to 01/01/2021\n",
            "Data columns (total 2 columns):\n",
            " #   Column          Non-Null Count  Dtype  \n",
            "---  ------          --------------  -----  \n",
            " 0   LongVolatility  193 non-null    float64\n",
            " 1   SPY             193 non-null    object \n",
            "dtypes: float64(1), object(1)\n",
            "memory usage: 4.5+ KB\n"
          ],
          "name": "stdout"
        }
      ]
    },
    {
      "cell_type": "code",
      "metadata": {
        "colab": {
          "base_uri": "https://localhost:8080/",
          "height": 700
        },
        "id": "PmSQ-0Q5TJHM",
        "outputId": "0ae57397-0063-49c8-f381-e63c0a8fa462"
      },
      "source": [
        "df.head(20)"
      ],
      "execution_count": 5,
      "outputs": [
        {
          "output_type": "execute_result",
          "data": {
            "text/html": [
              "<div>\n",
              "<style scoped>\n",
              "    .dataframe tbody tr th:only-of-type {\n",
              "        vertical-align: middle;\n",
              "    }\n",
              "\n",
              "    .dataframe tbody tr th {\n",
              "        vertical-align: top;\n",
              "    }\n",
              "\n",
              "    .dataframe thead th {\n",
              "        text-align: right;\n",
              "    }\n",
              "</style>\n",
              "<table border=\"1\" class=\"dataframe\">\n",
              "  <thead>\n",
              "    <tr style=\"text-align: right;\">\n",
              "      <th></th>\n",
              "      <th>LongVolatility</th>\n",
              "      <th>SPY</th>\n",
              "    </tr>\n",
              "    <tr>\n",
              "      <th>Date</th>\n",
              "      <th></th>\n",
              "      <th></th>\n",
              "    </tr>\n",
              "  </thead>\n",
              "  <tbody>\n",
              "    <tr>\n",
              "      <th>01/01/2005</th>\n",
              "      <td>100.00</td>\n",
              "      <td>100</td>\n",
              "    </tr>\n",
              "    <tr>\n",
              "      <th>01/02/2005</th>\n",
              "      <td>100.31</td>\n",
              "      <td>101,8903384</td>\n",
              "    </tr>\n",
              "    <tr>\n",
              "      <th>01/03/2005</th>\n",
              "      <td>100.63</td>\n",
              "      <td>99,94243484</td>\n",
              "    </tr>\n",
              "    <tr>\n",
              "      <th>01/04/2005</th>\n",
              "      <td>99.56</td>\n",
              "      <td>97,93273341</td>\n",
              "    </tr>\n",
              "    <tr>\n",
              "      <th>01/05/2005</th>\n",
              "      <td>98.96</td>\n",
              "      <td>100,8660171</td>\n",
              "    </tr>\n",
              "    <tr>\n",
              "      <th>01/06/2005</th>\n",
              "      <td>99.05</td>\n",
              "      <td>100,8516258</td>\n",
              "    </tr>\n",
              "    <tr>\n",
              "      <th>01/07/2005</th>\n",
              "      <td>100.61</td>\n",
              "      <td>104,4790776</td>\n",
              "    </tr>\n",
              "    <tr>\n",
              "      <th>01/08/2005</th>\n",
              "      <td>100.48</td>\n",
              "      <td>103,3066107</td>\n",
              "    </tr>\n",
              "    <tr>\n",
              "      <th>01/09/2005</th>\n",
              "      <td>99.84</td>\n",
              "      <td>104,0244821</td>\n",
              "    </tr>\n",
              "    <tr>\n",
              "      <th>01/10/2005</th>\n",
              "      <td>102.81</td>\n",
              "      <td>102,1790107</td>\n",
              "    </tr>\n",
              "    <tr>\n",
              "      <th>01/11/2005</th>\n",
              "      <td>100.43</td>\n",
              "      <td>105,7742938</td>\n",
              "    </tr>\n",
              "    <tr>\n",
              "      <th>01/12/2005</th>\n",
              "      <td>103.95</td>\n",
              "      <td>105,6735547</td>\n",
              "    </tr>\n",
              "    <tr>\n",
              "      <th>01/01/2006</th>\n",
              "      <td>105.21</td>\n",
              "      <td>108,3647261</td>\n",
              "    </tr>\n",
              "    <tr>\n",
              "      <th>01/02/2006</th>\n",
              "      <td>107.77</td>\n",
              "      <td>108,4138258</td>\n",
              "    </tr>\n",
              "    <tr>\n",
              "      <th>01/03/2006</th>\n",
              "      <td>108.08</td>\n",
              "      <td>109,6167684</td>\n",
              "    </tr>\n",
              "    <tr>\n",
              "      <th>01/04/2006</th>\n",
              "      <td>107.88</td>\n",
              "      <td>110,9492326</td>\n",
              "    </tr>\n",
              "    <tr>\n",
              "      <th>01/05/2006</th>\n",
              "      <td>111.02</td>\n",
              "      <td>107,5190261</td>\n",
              "    </tr>\n",
              "    <tr>\n",
              "      <th>01/06/2006</th>\n",
              "      <td>109.69</td>\n",
              "      <td>107,5283381</td>\n",
              "    </tr>\n",
              "    <tr>\n",
              "      <th>01/07/2006</th>\n",
              "      <td>106.95</td>\n",
              "      <td>108,0752072</td>\n",
              "    </tr>\n",
              "    <tr>\n",
              "      <th>01/08/2006</th>\n",
              "      <td>106.74</td>\n",
              "      <td>110,3744275</td>\n",
              "    </tr>\n",
              "  </tbody>\n",
              "</table>\n",
              "</div>"
            ],
            "text/plain": [
              "            LongVolatility          SPY\n",
              "Date                                   \n",
              "01/01/2005          100.00          100\n",
              "01/02/2005          100.31  101,8903384\n",
              "01/03/2005          100.63  99,94243484\n",
              "01/04/2005           99.56  97,93273341\n",
              "01/05/2005           98.96  100,8660171\n",
              "01/06/2005           99.05  100,8516258\n",
              "01/07/2005          100.61  104,4790776\n",
              "01/08/2005          100.48  103,3066107\n",
              "01/09/2005           99.84  104,0244821\n",
              "01/10/2005          102.81  102,1790107\n",
              "01/11/2005          100.43  105,7742938\n",
              "01/12/2005          103.95  105,6735547\n",
              "01/01/2006          105.21  108,3647261\n",
              "01/02/2006          107.77  108,4138258\n",
              "01/03/2006          108.08  109,6167684\n",
              "01/04/2006          107.88  110,9492326\n",
              "01/05/2006          111.02  107,5190261\n",
              "01/06/2006          109.69  107,5283381\n",
              "01/07/2006          106.95  108,0752072\n",
              "01/08/2006          106.74  110,3744275"
            ]
          },
          "metadata": {
            "tags": []
          },
          "execution_count": 5
        }
      ]
    },
    {
      "cell_type": "code",
      "metadata": {
        "colab": {
          "base_uri": "https://localhost:8080/"
        },
        "id": "bPAZRujcFAu_",
        "outputId": "287258ba-e08c-49f7-9bd1-9f5a6ee7f84f"
      },
      "source": [
        "df.isnull().sum()"
      ],
      "execution_count": 6,
      "outputs": [
        {
          "output_type": "execute_result",
          "data": {
            "text/plain": [
              "LongVolatility    0\n",
              "SPY               0\n",
              "dtype: int64"
            ]
          },
          "metadata": {
            "tags": []
          },
          "execution_count": 6
        }
      ]
    },
    {
      "cell_type": "code",
      "metadata": {
        "id": "y1_YDWcTbttX"
      },
      "source": [
        "df[\"SPY\"]=df[\"SPY\"].str.replace(\",\",\".\")"
      ],
      "execution_count": 7,
      "outputs": []
    },
    {
      "cell_type": "code",
      "metadata": {
        "id": "fNICGI3jmG2u"
      },
      "source": [
        "df[\"SPY\"]=df[\"SPY\"].astype(float)\r\n",
        "df[\"LongVolatility\"]=df[\"LongVolatility\"].astype(float)"
      ],
      "execution_count": 8,
      "outputs": []
    },
    {
      "cell_type": "code",
      "metadata": {
        "colab": {
          "base_uri": "https://localhost:8080/"
        },
        "id": "0Kn899KSVZJV",
        "outputId": "d80230b4-d7fc-4885-d03d-a84f807b9d5c"
      },
      "source": [
        "df.info()"
      ],
      "execution_count": 9,
      "outputs": [
        {
          "output_type": "stream",
          "text": [
            "<class 'pandas.core.frame.DataFrame'>\n",
            "Index: 193 entries, 01/01/2005 to 01/01/2021\n",
            "Data columns (total 2 columns):\n",
            " #   Column          Non-Null Count  Dtype  \n",
            "---  ------          --------------  -----  \n",
            " 0   LongVolatility  193 non-null    float64\n",
            " 1   SPY             193 non-null    float64\n",
            "dtypes: float64(2)\n",
            "memory usage: 4.5+ KB\n"
          ],
          "name": "stdout"
        }
      ]
    },
    {
      "cell_type": "code",
      "metadata": {
        "colab": {
          "base_uri": "https://localhost:8080/",
          "height": 700
        },
        "id": "n5LNchBUtnS0",
        "outputId": "d5ae2bda-fd3b-4aaf-fe89-ba0ed5a09f3f"
      },
      "source": [
        "df.tail(20)"
      ],
      "execution_count": 10,
      "outputs": [
        {
          "output_type": "execute_result",
          "data": {
            "text/html": [
              "<div>\n",
              "<style scoped>\n",
              "    .dataframe tbody tr th:only-of-type {\n",
              "        vertical-align: middle;\n",
              "    }\n",
              "\n",
              "    .dataframe tbody tr th {\n",
              "        vertical-align: top;\n",
              "    }\n",
              "\n",
              "    .dataframe thead th {\n",
              "        text-align: right;\n",
              "    }\n",
              "</style>\n",
              "<table border=\"1\" class=\"dataframe\">\n",
              "  <thead>\n",
              "    <tr style=\"text-align: right;\">\n",
              "      <th></th>\n",
              "      <th>LongVolatility</th>\n",
              "      <th>SPY</th>\n",
              "    </tr>\n",
              "    <tr>\n",
              "      <th>Date</th>\n",
              "      <th></th>\n",
              "      <th></th>\n",
              "    </tr>\n",
              "  </thead>\n",
              "  <tbody>\n",
              "    <tr>\n",
              "      <th>01/06/2019</th>\n",
              "      <td>173.62</td>\n",
              "      <td>249.033667</td>\n",
              "    </tr>\n",
              "    <tr>\n",
              "      <th>01/07/2019</th>\n",
              "      <td>171.26</td>\n",
              "      <td>252.303030</td>\n",
              "    </tr>\n",
              "    <tr>\n",
              "      <th>01/08/2019</th>\n",
              "      <td>169.81</td>\n",
              "      <td>247.738451</td>\n",
              "    </tr>\n",
              "    <tr>\n",
              "      <th>01/09/2019</th>\n",
              "      <td>175.14</td>\n",
              "      <td>251.994887</td>\n",
              "    </tr>\n",
              "    <tr>\n",
              "      <th>01/10/2019</th>\n",
              "      <td>172.15</td>\n",
              "      <td>257.143583</td>\n",
              "    </tr>\n",
              "    <tr>\n",
              "      <th>01/11/2019</th>\n",
              "      <td>170.11</td>\n",
              "      <td>265.898567</td>\n",
              "    </tr>\n",
              "    <tr>\n",
              "      <th>01/12/2019</th>\n",
              "      <td>167.65</td>\n",
              "      <td>273.500555</td>\n",
              "    </tr>\n",
              "    <tr>\n",
              "      <th>01/01/2020</th>\n",
              "      <td>165.05</td>\n",
              "      <td>273.055271</td>\n",
              "    </tr>\n",
              "    <tr>\n",
              "      <th>01/02/2020</th>\n",
              "      <td>165.65</td>\n",
              "      <td>250.088464</td>\n",
              "    </tr>\n",
              "    <tr>\n",
              "      <th>01/03/2020</th>\n",
              "      <td>181.00</td>\n",
              "      <td>218.797565</td>\n",
              "    </tr>\n",
              "    <tr>\n",
              "      <th>01/04/2020</th>\n",
              "      <td>217.58</td>\n",
              "      <td>246.550746</td>\n",
              "    </tr>\n",
              "    <tr>\n",
              "      <th>01/05/2020</th>\n",
              "      <td>213.75</td>\n",
              "      <td>257.715002</td>\n",
              "    </tr>\n",
              "    <tr>\n",
              "      <th>01/06/2020</th>\n",
              "      <td>212.97</td>\n",
              "      <td>262.453969</td>\n",
              "    </tr>\n",
              "    <tr>\n",
              "      <th>01/07/2020</th>\n",
              "      <td>214.32</td>\n",
              "      <td>276.915523</td>\n",
              "    </tr>\n",
              "    <tr>\n",
              "      <th>01/08/2020</th>\n",
              "      <td>216.57</td>\n",
              "      <td>296.317523</td>\n",
              "    </tr>\n",
              "    <tr>\n",
              "      <th>01/09/2020</th>\n",
              "      <td>216.42</td>\n",
              "      <td>284.693593</td>\n",
              "    </tr>\n",
              "    <tr>\n",
              "      <th>01/10/2020</th>\n",
              "      <td>213.13</td>\n",
              "      <td>276.817324</td>\n",
              "    </tr>\n",
              "    <tr>\n",
              "      <th>01/11/2020</th>\n",
              "      <td>211.60</td>\n",
              "      <td>306.587825</td>\n",
              "    </tr>\n",
              "    <tr>\n",
              "      <th>01/12/2020</th>\n",
              "      <td>203.63</td>\n",
              "      <td>317.968796</td>\n",
              "    </tr>\n",
              "    <tr>\n",
              "      <th>01/01/2021</th>\n",
              "      <td>203.96</td>\n",
              "      <td>323.776952</td>\n",
              "    </tr>\n",
              "  </tbody>\n",
              "</table>\n",
              "</div>"
            ],
            "text/plain": [
              "            LongVolatility         SPY\n",
              "Date                                  \n",
              "01/06/2019          173.62  249.033667\n",
              "01/07/2019          171.26  252.303030\n",
              "01/08/2019          169.81  247.738451\n",
              "01/09/2019          175.14  251.994887\n",
              "01/10/2019          172.15  257.143583\n",
              "01/11/2019          170.11  265.898567\n",
              "01/12/2019          167.65  273.500555\n",
              "01/01/2020          165.05  273.055271\n",
              "01/02/2020          165.65  250.088464\n",
              "01/03/2020          181.00  218.797565\n",
              "01/04/2020          217.58  246.550746\n",
              "01/05/2020          213.75  257.715002\n",
              "01/06/2020          212.97  262.453969\n",
              "01/07/2020          214.32  276.915523\n",
              "01/08/2020          216.57  296.317523\n",
              "01/09/2020          216.42  284.693593\n",
              "01/10/2020          213.13  276.817324\n",
              "01/11/2020          211.60  306.587825\n",
              "01/12/2020          203.63  317.968796\n",
              "01/01/2021          203.96  323.776952"
            ]
          },
          "metadata": {
            "tags": []
          },
          "execution_count": 10
        }
      ]
    },
    {
      "cell_type": "markdown",
      "metadata": {
        "id": "QKH_w4nVtuL7"
      },
      "source": [
        "Observando os retornos no período de Janeiro-Março/2020, percebi que as colunas não estavam alinhadas ao retorno real, então vou deslocar a coluna do SPY em 1 período."
      ]
    },
    {
      "cell_type": "code",
      "metadata": {
        "id": "JTz8DiM7OgYK"
      },
      "source": [
        "df[\"SPY\"]=df[\"SPY\"].shift(1)"
      ],
      "execution_count": 11,
      "outputs": []
    },
    {
      "cell_type": "code",
      "metadata": {
        "id": "H8hkgjOz-CsS"
      },
      "source": [
        "df=df.dropna(axis=0)"
      ],
      "execution_count": 12,
      "outputs": []
    },
    {
      "cell_type": "markdown",
      "metadata": {
        "id": "PP8-MMRQxbAo"
      },
      "source": [
        "Antes da crise de 2008, muitos fundos de volatilidade, tanto os comprados como vendidos em volatilidade, se expunham nesse mercado por meio de derivativos de balcão. Após a crise e as mudanças regulatórias subsequentes no setor bancário, uma boa parte do volume feito com estratégias customizadas via balcão migrou para os produtos das exchanges.Foi nessa época também que os produtos relacionados ao VIX ganharam tração, trazendo mudanças na forma de exposição à volatilidade. Desse modo, iremos considerar retornos apenas a partir de 2010."
      ]
    },
    {
      "cell_type": "code",
      "metadata": {
        "id": "Ma_IegoeATqx"
      },
      "source": [
        "df[\"SPY\"]=df[\"SPY\"][59:]\r\n",
        "df[\"LongVolatility\"]=df[\"LongVolatility\"][59:]"
      ],
      "execution_count": 13,
      "outputs": []
    },
    {
      "cell_type": "code",
      "metadata": {
        "id": "8GOHl2lcBoUD"
      },
      "source": [
        "df=df.dropna(axis=0)"
      ],
      "execution_count": 14,
      "outputs": []
    },
    {
      "cell_type": "code",
      "metadata": {
        "colab": {
          "base_uri": "https://localhost:8080/",
          "height": 450
        },
        "id": "QU2UetalsJw5",
        "outputId": "31e1629d-8e66-44c9-90be-8fded76df8f7"
      },
      "source": [
        "df"
      ],
      "execution_count": 15,
      "outputs": [
        {
          "output_type": "execute_result",
          "data": {
            "text/html": [
              "<div>\n",
              "<style scoped>\n",
              "    .dataframe tbody tr th:only-of-type {\n",
              "        vertical-align: middle;\n",
              "    }\n",
              "\n",
              "    .dataframe tbody tr th {\n",
              "        vertical-align: top;\n",
              "    }\n",
              "\n",
              "    .dataframe thead th {\n",
              "        text-align: right;\n",
              "    }\n",
              "</style>\n",
              "<table border=\"1\" class=\"dataframe\">\n",
              "  <thead>\n",
              "    <tr style=\"text-align: right;\">\n",
              "      <th></th>\n",
              "      <th>LongVolatility</th>\n",
              "      <th>SPY</th>\n",
              "    </tr>\n",
              "    <tr>\n",
              "      <th>Date</th>\n",
              "      <th></th>\n",
              "      <th></th>\n",
              "    </tr>\n",
              "  </thead>\n",
              "  <tbody>\n",
              "    <tr>\n",
              "      <th>01/01/2010</th>\n",
              "      <td>173.86</td>\n",
              "      <td>94.398402</td>\n",
              "    </tr>\n",
              "    <tr>\n",
              "      <th>01/02/2010</th>\n",
              "      <td>174.33</td>\n",
              "      <td>90.908090</td>\n",
              "    </tr>\n",
              "    <tr>\n",
              "      <th>01/03/2010</th>\n",
              "      <td>175.62</td>\n",
              "      <td>93.500216</td>\n",
              "    </tr>\n",
              "    <tr>\n",
              "      <th>01/04/2010</th>\n",
              "      <td>173.25</td>\n",
              "      <td>98.997689</td>\n",
              "    </tr>\n",
              "    <tr>\n",
              "      <th>01/05/2010</th>\n",
              "      <td>175.81</td>\n",
              "      <td>100.458828</td>\n",
              "    </tr>\n",
              "    <tr>\n",
              "      <th>...</th>\n",
              "      <td>...</td>\n",
              "      <td>...</td>\n",
              "    </tr>\n",
              "    <tr>\n",
              "      <th>01/09/2020</th>\n",
              "      <td>216.42</td>\n",
              "      <td>296.317523</td>\n",
              "    </tr>\n",
              "    <tr>\n",
              "      <th>01/10/2020</th>\n",
              "      <td>213.13</td>\n",
              "      <td>284.693593</td>\n",
              "    </tr>\n",
              "    <tr>\n",
              "      <th>01/11/2020</th>\n",
              "      <td>211.60</td>\n",
              "      <td>276.817324</td>\n",
              "    </tr>\n",
              "    <tr>\n",
              "      <th>01/12/2020</th>\n",
              "      <td>203.63</td>\n",
              "      <td>306.587825</td>\n",
              "    </tr>\n",
              "    <tr>\n",
              "      <th>01/01/2021</th>\n",
              "      <td>203.96</td>\n",
              "      <td>317.968796</td>\n",
              "    </tr>\n",
              "  </tbody>\n",
              "</table>\n",
              "<p>133 rows × 2 columns</p>\n",
              "</div>"
            ],
            "text/plain": [
              "            LongVolatility         SPY\n",
              "Date                                  \n",
              "01/01/2010          173.86   94.398402\n",
              "01/02/2010          174.33   90.908090\n",
              "01/03/2010          175.62   93.500216\n",
              "01/04/2010          173.25   98.997689\n",
              "01/05/2010          175.81  100.458828\n",
              "...                    ...         ...\n",
              "01/09/2020          216.42  296.317523\n",
              "01/10/2020          213.13  284.693593\n",
              "01/11/2020          211.60  276.817324\n",
              "01/12/2020          203.63  306.587825\n",
              "01/01/2021          203.96  317.968796\n",
              "\n",
              "[133 rows x 2 columns]"
            ]
          },
          "metadata": {
            "tags": []
          },
          "execution_count": 15
        }
      ]
    },
    {
      "cell_type": "code",
      "metadata": {
        "id": "fIo8xwVeRojo"
      },
      "source": [
        "df[\"LongVolatility\"]=df[\"LongVolatility\"]/df[\"LongVolatility\"][0]*100\r\n",
        "df[\"SPY\"]=df[\"SPY\"]/df[\"SPY\"][0]*100"
      ],
      "execution_count": 16,
      "outputs": []
    },
    {
      "cell_type": "code",
      "metadata": {
        "colab": {
          "base_uri": "https://localhost:8080/",
          "height": 235
        },
        "id": "uip3q5_7Oxmy",
        "outputId": "13a6eddc-8292-46d4-a63d-9586ceead3c7"
      },
      "source": [
        "df.head()"
      ],
      "execution_count": 17,
      "outputs": [
        {
          "output_type": "execute_result",
          "data": {
            "text/html": [
              "<div>\n",
              "<style scoped>\n",
              "    .dataframe tbody tr th:only-of-type {\n",
              "        vertical-align: middle;\n",
              "    }\n",
              "\n",
              "    .dataframe tbody tr th {\n",
              "        vertical-align: top;\n",
              "    }\n",
              "\n",
              "    .dataframe thead th {\n",
              "        text-align: right;\n",
              "    }\n",
              "</style>\n",
              "<table border=\"1\" class=\"dataframe\">\n",
              "  <thead>\n",
              "    <tr style=\"text-align: right;\">\n",
              "      <th></th>\n",
              "      <th>LongVolatility</th>\n",
              "      <th>SPY</th>\n",
              "    </tr>\n",
              "    <tr>\n",
              "      <th>Date</th>\n",
              "      <th></th>\n",
              "      <th></th>\n",
              "    </tr>\n",
              "  </thead>\n",
              "  <tbody>\n",
              "    <tr>\n",
              "      <th>01/01/2010</th>\n",
              "      <td>100.000000</td>\n",
              "      <td>100.000000</td>\n",
              "    </tr>\n",
              "    <tr>\n",
              "      <th>01/02/2010</th>\n",
              "      <td>100.270332</td>\n",
              "      <td>96.302574</td>\n",
              "    </tr>\n",
              "    <tr>\n",
              "      <th>01/03/2010</th>\n",
              "      <td>101.012309</td>\n",
              "      <td>99.048516</td>\n",
              "    </tr>\n",
              "    <tr>\n",
              "      <th>01/04/2010</th>\n",
              "      <td>99.649143</td>\n",
              "      <td>104.872209</td>\n",
              "    </tr>\n",
              "    <tr>\n",
              "      <th>01/05/2010</th>\n",
              "      <td>101.121592</td>\n",
              "      <td>106.420052</td>\n",
              "    </tr>\n",
              "  </tbody>\n",
              "</table>\n",
              "</div>"
            ],
            "text/plain": [
              "            LongVolatility         SPY\n",
              "Date                                  \n",
              "01/01/2010      100.000000  100.000000\n",
              "01/02/2010      100.270332   96.302574\n",
              "01/03/2010      101.012309   99.048516\n",
              "01/04/2010       99.649143  104.872209\n",
              "01/05/2010      101.121592  106.420052"
            ]
          },
          "metadata": {
            "tags": []
          },
          "execution_count": 17
        }
      ]
    },
    {
      "cell_type": "markdown",
      "metadata": {
        "id": "Pe1WiH2cf0te"
      },
      "source": [
        "Você teria essa estratégia em seu portfólio?"
      ]
    },
    {
      "cell_type": "code",
      "metadata": {
        "colab": {
          "base_uri": "https://localhost:8080/",
          "height": 514
        },
        "id": "obpfpoSADWfJ",
        "outputId": "7aadea1a-de88-4948-e6d1-637a160288f5"
      },
      "source": [
        "df[\"LongVolatility\"].plot(figsize=(16,8))"
      ],
      "execution_count": 18,
      "outputs": [
        {
          "output_type": "execute_result",
          "data": {
            "text/plain": [
              "<matplotlib.axes._subplots.AxesSubplot at 0x7f0de11a97b8>"
            ]
          },
          "metadata": {
            "tags": []
          },
          "execution_count": 18
        },
        {
          "output_type": "display_data",
          "data": {
            "image/png": "[encoded data removed]",
            "text/plain": [
              "<Figure size 1152x576 with 1 Axes>"
            ]
          },
          "metadata": {
            "tags": [],
            "needs_background": "light"
          }
        }
      ]
    },
    {
      "cell_type": "markdown",
      "metadata": {
        "id": "XCQN4BMhf96M"
      },
      "source": [
        "Comparando com o SPY:"
      ]
    },
    {
      "cell_type": "code",
      "metadata": {
        "colab": {
          "base_uri": "https://localhost:8080/",
          "height": 514
        },
        "id": "DIJsIViG-E-E",
        "outputId": "e4b1f28e-ee97-4624-8714-dc76372f7eda"
      },
      "source": [
        "df[[\"SPY\",\"LongVolatility\"]].plot(figsize=(16,8))"
      ],
      "execution_count": 19,
      "outputs": [
        {
          "output_type": "execute_result",
          "data": {
            "text/plain": [
              "<matplotlib.axes._subplots.AxesSubplot at 0x7f0de11069b0>"
            ]
          },
          "metadata": {
            "tags": []
          },
          "execution_count": 19
        },
        {
          "output_type": "display_data",
          "data": {
            "image/png": "[encoded data removed]",
            "text/plain": [
              "<Figure size 1152x576 with 1 Axes>"
            ]
          },
          "metadata": {
            "tags": [],
            "needs_background": "light"
          }
        }
      ]
    },
    {
      "cell_type": "code",
      "metadata": {
        "id": "RtwZuQLnoFTH"
      },
      "source": [
        "df[\"SPYReturn\"]=df[\"SPY\"]/df[\"SPY\"].shift(1)-1\r\n",
        "df[\"LongVolatilityReturn\"]=df[\"LongVolatility\"]/df[\"LongVolatility\"].shift(1)-1"
      ],
      "execution_count": 20,
      "outputs": []
    },
    {
      "cell_type": "code",
      "metadata": {
        "colab": {
          "base_uri": "https://localhost:8080/",
          "height": 235
        },
        "id": "vIVHqHsSK3RY",
        "outputId": "99cf9294-0a03-4491-c553-543daea68e56"
      },
      "source": [
        "df.head()"
      ],
      "execution_count": 21,
      "outputs": [
        {
          "output_type": "execute_result",
          "data": {
            "text/html": [
              "<div>\n",
              "<style scoped>\n",
              "    .dataframe tbody tr th:only-of-type {\n",
              "        vertical-align: middle;\n",
              "    }\n",
              "\n",
              "    .dataframe tbody tr th {\n",
              "        vertical-align: top;\n",
              "    }\n",
              "\n",
              "    .dataframe thead th {\n",
              "        text-align: right;\n",
              "    }\n",
              "</style>\n",
              "<table border=\"1\" class=\"dataframe\">\n",
              "  <thead>\n",
              "    <tr style=\"text-align: right;\">\n",
              "      <th></th>\n",
              "      <th>LongVolatility</th>\n",
              "      <th>SPY</th>\n",
              "      <th>SPYReturn</th>\n",
              "      <th>LongVolatilityReturn</th>\n",
              "    </tr>\n",
              "    <tr>\n",
              "      <th>Date</th>\n",
              "      <th></th>\n",
              "      <th></th>\n",
              "      <th></th>\n",
              "      <th></th>\n",
              "    </tr>\n",
              "  </thead>\n",
              "  <tbody>\n",
              "    <tr>\n",
              "      <th>01/01/2010</th>\n",
              "      <td>100.000000</td>\n",
              "      <td>100.000000</td>\n",
              "      <td>NaN</td>\n",
              "      <td>NaN</td>\n",
              "    </tr>\n",
              "    <tr>\n",
              "      <th>01/02/2010</th>\n",
              "      <td>100.270332</td>\n",
              "      <td>96.302574</td>\n",
              "      <td>-0.036974</td>\n",
              "      <td>0.002703</td>\n",
              "    </tr>\n",
              "    <tr>\n",
              "      <th>01/03/2010</th>\n",
              "      <td>101.012309</td>\n",
              "      <td>99.048516</td>\n",
              "      <td>0.028514</td>\n",
              "      <td>0.007400</td>\n",
              "    </tr>\n",
              "    <tr>\n",
              "      <th>01/04/2010</th>\n",
              "      <td>99.649143</td>\n",
              "      <td>104.872209</td>\n",
              "      <td>0.058796</td>\n",
              "      <td>-0.013495</td>\n",
              "    </tr>\n",
              "    <tr>\n",
              "      <th>01/05/2010</th>\n",
              "      <td>101.121592</td>\n",
              "      <td>106.420052</td>\n",
              "      <td>0.014759</td>\n",
              "      <td>0.014776</td>\n",
              "    </tr>\n",
              "  </tbody>\n",
              "</table>\n",
              "</div>"
            ],
            "text/plain": [
              "            LongVolatility         SPY  SPYReturn  LongVolatilityReturn\n",
              "Date                                                                   \n",
              "01/01/2010      100.000000  100.000000        NaN                   NaN\n",
              "01/02/2010      100.270332   96.302574  -0.036974              0.002703\n",
              "01/03/2010      101.012309   99.048516   0.028514              0.007400\n",
              "01/04/2010       99.649143  104.872209   0.058796             -0.013495\n",
              "01/05/2010      101.121592  106.420052   0.014759              0.014776"
            ]
          },
          "metadata": {
            "tags": []
          },
          "execution_count": 21
        }
      ]
    },
    {
      "cell_type": "code",
      "metadata": {
        "id": "rm3WsnuUWs8W"
      },
      "source": [
        "def skewness(r):\r\n",
        "    \"\"\"\r\n",
        "    Calcula o skewness (assimetria na distribuição) dos retornos\r\n",
        "\r\n",
        "    \"\"\"\r\n",
        "    demeaned_r = r - r.mean()\r\n",
        "    sigma_r = r.std()\r\n",
        "    exp = (demeaned_r**3).mean()\r\n",
        "    return exp/sigma_r**3\r\n",
        "\r\n",
        "\r\n",
        "def kurtosis(r):\r\n",
        "    \"\"\"\r\n",
        "    Calcula a kurtosis da série de retornos\r\n",
        "    \"\"\"\r\n",
        "    demeaned_r = r - r.mean()\r\n",
        "    sigma_r = r.std()\r\n",
        "    exp = (demeaned_r**4).mean()\r\n",
        "    return exp/sigma_r**4\r\n",
        "\r\n",
        "                         \r\n",
        "def annualize_rets(r, periods_per_year):\r\n",
        "    \"\"\"\r\n",
        "    Retorno Anualizado\r\n",
        "    \"\"\"\r\n",
        "    compounded_growth = (1+r).prod()\r\n",
        "    n_periods = r.shape[0]\r\n",
        "    return compounded_growth**(periods_per_year/n_periods)-1\r\n",
        "\r\n",
        "\r\n",
        "def annualize_vol(r, periods_per_year):\r\n",
        "    \"\"\"\r\n",
        "    Volatilidade dos retornos em formato anualizado\r\n",
        "    \"\"\"\r\n",
        "    return r.std()*(periods_per_year**0.5)\r\n",
        "\r\n",
        "\r\n",
        "def sharpe_ratio(r, riskfree_rate, periods_per_year):\r\n",
        "    \"\"\"\r\n",
        "    Calcula o Sharpe anualizado\r\n",
        "    \"\"\"\r\n",
        "    rf_per_period = (1+riskfree_rate)**(1/periods_per_year)-1\r\n",
        "    excess_ret = r - rf_per_period\r\n",
        "    ann_ex_ret = annualize_rets(excess_ret, periods_per_year)\r\n",
        "    ann_vol = annualize_vol(r, periods_per_year)\r\n",
        "    return ann_ex_ret/ann_vol\r\n",
        "\r\n",
        "\r\n",
        "def drawdown(return_series: pd.Series):\r\n",
        "    \"\"\"Recebe uma série de retornos e\r\n",
        "       retorna um dataframe com o valor acumulado,\r\n",
        "       picos prévios, e o drawdown\r\n",
        "    \"\"\"\r\n",
        "    wealth_index = 1000*(1+return_series).cumprod()\r\n",
        "    previous_peaks = wealth_index.cummax()\r\n",
        "    drawdowns = (wealth_index - previous_peaks)/previous_peaks\r\n",
        "    return pd.DataFrame({\"Wealth\": wealth_index, \r\n",
        "                         \"Previous Peak\": previous_peaks, \r\n",
        "                         \"Drawdown\": drawdowns})\r\n"
      ],
      "execution_count": 22,
      "outputs": []
    },
    {
      "cell_type": "code",
      "metadata": {
        "id": "udRBUi1hphGy"
      },
      "source": [
        "spy=dict()\r\n",
        "spy[\"Annualized Return\"]=annualize_rets(df[\"SPYReturn\"],12)*100\r\n",
        "spy[\"Annualized Vol\"]=annualize_vol(df[\"SPYReturn\"],12)*100\r\n",
        "spy[\"Skewness\"]=skewness(df[\"SPYReturn\"])\r\n",
        "spy[\"Kurtosis\"]=kurtosis(df[\"SPYReturn\"])\r\n",
        "spy[\"Sharpe Ratio\"]=sharpe_ratio(df[\"SPYReturn\"],0,12)\r\n",
        "spy[\"Max Drawdown\"]=drawdown(df[\"SPYReturn\"]).Drawdown.min()*100\r\n",
        "spy[\"Calmar Ratio\"]=abs(spy[\"Annualized Return\"]/spy[\"Max Drawdown\"])\r\n",
        "spy=pd.DataFrame.from_dict(spy.items())\r\n",
        "spy=spy.set_index(0)\r\n",
        "spy.index.name=None\r\n",
        "spy.columns=[\"SPY\"]\r\n",
        "LongVol=dict()\r\n",
        "LongVol[\"Annualized Return\"]=annualize_rets(df[\"LongVolatilityReturn\"],12)*100\r\n",
        "LongVol[\"Annualized Vol\"]=annualize_vol(df[\"LongVolatilityReturn\"],12)*100\r\n",
        "LongVol[\"Skewness\"]=skewness(df[\"LongVolatilityReturn\"])\r\n",
        "LongVol[\"Kurtosis\"]=kurtosis(df[\"LongVolatilityReturn\"])\r\n",
        "LongVol[\"Sharpe Ratio\"]=sharpe_ratio(df[\"LongVolatilityReturn\"],0,12)\r\n",
        "LongVol[\"Max Drawdown\"]=drawdown(df[\"LongVolatilityReturn\"]).Drawdown.min()*100\r\n",
        "LongVol[\"Calmar Ratio\"]=abs(LongVol[\"Annualized Return\"]/LongVol[\"Max Drawdown\"])\r\n",
        "LongVol=pd.DataFrame.from_dict(LongVol.items())\r\n",
        "LongVol=LongVol.set_index(0)\r\n",
        "LongVol.index.name=None\r\n",
        "LongVol.columns=[\"LongVolatility\"]\r\n",
        "portfolio=pd.concat([LongVol,spy],axis=1)"
      ],
      "execution_count": 23,
      "outputs": []
    },
    {
      "cell_type": "code",
      "metadata": {
        "colab": {
          "base_uri": "https://localhost:8080/",
          "height": 266
        },
        "id": "GiPSl6KLz202",
        "outputId": "cfae980a-0f41-4672-8a2c-397cda4f24c1"
      },
      "source": [
        "portfolio"
      ],
      "execution_count": 24,
      "outputs": [
        {
          "output_type": "execute_result",
          "data": {
            "text/html": [
              "<div>\n",
              "<style scoped>\n",
              "    .dataframe tbody tr th:only-of-type {\n",
              "        vertical-align: middle;\n",
              "    }\n",
              "\n",
              "    .dataframe tbody tr th {\n",
              "        vertical-align: top;\n",
              "    }\n",
              "\n",
              "    .dataframe thead th {\n",
              "        text-align: right;\n",
              "    }\n",
              "</style>\n",
              "<table border=\"1\" class=\"dataframe\">\n",
              "  <thead>\n",
              "    <tr style=\"text-align: right;\">\n",
              "      <th></th>\n",
              "      <th>LongVolatility</th>\n",
              "      <th>SPY</th>\n",
              "    </tr>\n",
              "  </thead>\n",
              "  <tbody>\n",
              "    <tr>\n",
              "      <th>Annualized Return</th>\n",
              "      <td>1.451091</td>\n",
              "      <td>11.580102</td>\n",
              "    </tr>\n",
              "    <tr>\n",
              "      <th>Annualized Vol</th>\n",
              "      <td>8.447673</td>\n",
              "      <td>14.073137</td>\n",
              "    </tr>\n",
              "    <tr>\n",
              "      <th>Skewness</th>\n",
              "      <td>4.660649</td>\n",
              "      <td>-0.312715</td>\n",
              "    </tr>\n",
              "    <tr>\n",
              "      <th>Kurtosis</th>\n",
              "      <td>36.799550</td>\n",
              "      <td>3.932601</td>\n",
              "    </tr>\n",
              "    <tr>\n",
              "      <th>Sharpe Ratio</th>\n",
              "      <td>0.171774</td>\n",
              "      <td>0.822852</td>\n",
              "    </tr>\n",
              "    <tr>\n",
              "      <th>Max Drawdown</th>\n",
              "      <td>-28.602327</td>\n",
              "      <td>-20.001052</td>\n",
              "    </tr>\n",
              "    <tr>\n",
              "      <th>Calmar Ratio</th>\n",
              "      <td>0.050733</td>\n",
              "      <td>0.578975</td>\n",
              "    </tr>\n",
              "  </tbody>\n",
              "</table>\n",
              "</div>"
            ],
            "text/plain": [
              "                   LongVolatility        SPY\n",
              "Annualized Return        1.451091  11.580102\n",
              "Annualized Vol           8.447673  14.073137\n",
              "Skewness                 4.660649  -0.312715\n",
              "Kurtosis                36.799550   3.932601\n",
              "Sharpe Ratio             0.171774   0.822852\n",
              "Max Drawdown           -28.602327 -20.001052\n",
              "Calmar Ratio             0.050733   0.578975"
            ]
          },
          "metadata": {
            "tags": []
          },
          "execution_count": 24
        }
      ]
    },
    {
      "cell_type": "markdown",
      "metadata": {
        "id": "-rznACTRykws"
      },
      "source": [
        "Montaremos um portfólio que une o retorno das duas estratégias, mantendo 100% do notional no SPY e 100% no produto comprado em Volatilidade. Esse tipo de exposição pode ser facilmente alcançado via futuros e derivativos, sobretudo quando a gestão das duas partes é realizada pela mesma gestora, facilitando o rebalanceamento."
      ]
    },
    {
      "cell_type": "code",
      "metadata": {
        "id": "WLYIYGh-MrSI"
      },
      "source": [
        "df[\"PortfolioReturn\"]=(1+df[\"LongVolatilityReturn\"])*(1+df[\"SPYReturn\"])-1"
      ],
      "execution_count": 25,
      "outputs": []
    },
    {
      "cell_type": "code",
      "metadata": {
        "id": "BQ24dROKV1bP"
      },
      "source": [
        "df[\"Portfolio\"]=100*(1+df[\"PortfolioReturn\"]).cumprod()"
      ],
      "execution_count": 26,
      "outputs": []
    },
    {
      "cell_type": "code",
      "metadata": {
        "colab": {
          "base_uri": "https://localhost:8080/",
          "height": 235
        },
        "id": "WZRoXxKrDFBt",
        "outputId": "3662c1c7-ee34-4c6f-afa6-7983aea5f6a5"
      },
      "source": [
        "df.head()"
      ],
      "execution_count": 27,
      "outputs": [
        {
          "output_type": "execute_result",
          "data": {
            "text/html": [
              "<div>\n",
              "<style scoped>\n",
              "    .dataframe tbody tr th:only-of-type {\n",
              "        vertical-align: middle;\n",
              "    }\n",
              "\n",
              "    .dataframe tbody tr th {\n",
              "        vertical-align: top;\n",
              "    }\n",
              "\n",
              "    .dataframe thead th {\n",
              "        text-align: right;\n",
              "    }\n",
              "</style>\n",
              "<table border=\"1\" class=\"dataframe\">\n",
              "  <thead>\n",
              "    <tr style=\"text-align: right;\">\n",
              "      <th></th>\n",
              "      <th>LongVolatility</th>\n",
              "      <th>SPY</th>\n",
              "      <th>SPYReturn</th>\n",
              "      <th>LongVolatilityReturn</th>\n",
              "      <th>PortfolioReturn</th>\n",
              "      <th>Portfolio</th>\n",
              "    </tr>\n",
              "    <tr>\n",
              "      <th>Date</th>\n",
              "      <th></th>\n",
              "      <th></th>\n",
              "      <th></th>\n",
              "      <th></th>\n",
              "      <th></th>\n",
              "      <th></th>\n",
              "    </tr>\n",
              "  </thead>\n",
              "  <tbody>\n",
              "    <tr>\n",
              "      <th>01/01/2010</th>\n",
              "      <td>100.000000</td>\n",
              "      <td>100.000000</td>\n",
              "      <td>NaN</td>\n",
              "      <td>NaN</td>\n",
              "      <td>NaN</td>\n",
              "      <td>NaN</td>\n",
              "    </tr>\n",
              "    <tr>\n",
              "      <th>01/02/2010</th>\n",
              "      <td>100.270332</td>\n",
              "      <td>96.302574</td>\n",
              "      <td>-0.036974</td>\n",
              "      <td>0.002703</td>\n",
              "      <td>-0.034371</td>\n",
              "      <td>96.562911</td>\n",
              "    </tr>\n",
              "    <tr>\n",
              "      <th>01/03/2010</th>\n",
              "      <td>101.012309</td>\n",
              "      <td>99.048516</td>\n",
              "      <td>0.028514</td>\n",
              "      <td>0.007400</td>\n",
              "      <td>0.036124</td>\n",
              "      <td>100.051193</td>\n",
              "    </tr>\n",
              "    <tr>\n",
              "      <th>01/04/2010</th>\n",
              "      <td>99.649143</td>\n",
              "      <td>104.872209</td>\n",
              "      <td>0.058796</td>\n",
              "      <td>-0.013495</td>\n",
              "      <td>0.044508</td>\n",
              "      <td>104.504257</td>\n",
              "    </tr>\n",
              "    <tr>\n",
              "      <th>01/05/2010</th>\n",
              "      <td>101.121592</td>\n",
              "      <td>106.420052</td>\n",
              "      <td>0.014759</td>\n",
              "      <td>0.014776</td>\n",
              "      <td>0.029754</td>\n",
              "      <td>107.613651</td>\n",
              "    </tr>\n",
              "  </tbody>\n",
              "</table>\n",
              "</div>"
            ],
            "text/plain": [
              "            LongVolatility         SPY  ...  PortfolioReturn   Portfolio\n",
              "Date                                    ...                             \n",
              "01/01/2010      100.000000  100.000000  ...              NaN         NaN\n",
              "01/02/2010      100.270332   96.302574  ...        -0.034371   96.562911\n",
              "01/03/2010      101.012309   99.048516  ...         0.036124  100.051193\n",
              "01/04/2010       99.649143  104.872209  ...         0.044508  104.504257\n",
              "01/05/2010      101.121592  106.420052  ...         0.029754  107.613651\n",
              "\n",
              "[5 rows x 6 columns]"
            ]
          },
          "metadata": {
            "tags": []
          },
          "execution_count": 27
        }
      ]
    },
    {
      "cell_type": "code",
      "metadata": {
        "colab": {
          "base_uri": "https://localhost:8080/",
          "height": 514
        },
        "id": "QmaU17odVpAL",
        "outputId": "28e50035-e0dc-4c08-e62a-d9562c2107bd"
      },
      "source": [
        "df[[\"Portfolio\",\"SPY\",\"LongVolatility\"]].plot(figsize=(16,8))"
      ],
      "execution_count": 28,
      "outputs": [
        {
          "output_type": "execute_result",
          "data": {
            "text/plain": [
              "<matplotlib.axes._subplots.AxesSubplot at 0x7f0de1c79710>"
            ]
          },
          "metadata": {
            "tags": []
          },
          "execution_count": 28
        },
        {
          "output_type": "display_data",
          "data": {
            "image/png": "[encoded data removed]",
            "text/plain": [
              "<Figure size 1152x576 with 1 Axes>"
            ]
          },
          "metadata": {
            "tags": [],
            "needs_background": "light"
          }
        }
      ]
    },
    {
      "cell_type": "code",
      "metadata": {
        "id": "NWH0Dto8Xfva"
      },
      "source": [
        "port=dict()\r\n",
        "port[\"Annualized Return\"]=annualize_rets(df[\"PortfolioReturn\"],12)*100\r\n",
        "port[\"Annualized Vol\"]=annualize_vol(df[\"PortfolioReturn\"],12)*100\r\n",
        "port[\"Skewness\"]=skewness(df[\"PortfolioReturn\"])\r\n",
        "port[\"Kurtosis\"]=kurtosis(df[\"PortfolioReturn\"])\r\n",
        "port[\"Sharpe Ratio\"]=sharpe_ratio(df[\"PortfolioReturn\"],0,12)\r\n",
        "port[\"Max Drawdown\"]=drawdown(df[\"PortfolioReturn\"]).Drawdown.min()*100\r\n",
        "port[\"Calmar Ratio\"]=abs(port[\"Annualized Return\"]/port[\"Max Drawdown\"])\r\n",
        "port=pd.DataFrame.from_dict(port.items())\r\n",
        "port=port.set_index(0)\r\n",
        "port.index.name=None\r\n",
        "port.columns=[\"Portfolio\"]"
      ],
      "execution_count": 29,
      "outputs": []
    },
    {
      "cell_type": "code",
      "metadata": {
        "id": "LDJ3aZj_21X5"
      },
      "source": [
        "portfolio=pd.concat([portfolio,port],axis=1)"
      ],
      "execution_count": 30,
      "outputs": []
    },
    {
      "cell_type": "code",
      "metadata": {
        "colab": {
          "base_uri": "https://localhost:8080/",
          "height": 266
        },
        "id": "xgun9AbG28fu",
        "outputId": "405cd206-6b10-4d31-bd35-acd1d36d2be2"
      },
      "source": [
        "portfolio"
      ],
      "execution_count": 31,
      "outputs": [
        {
          "output_type": "execute_result",
          "data": {
            "text/html": [
              "<div>\n",
              "<style scoped>\n",
              "    .dataframe tbody tr th:only-of-type {\n",
              "        vertical-align: middle;\n",
              "    }\n",
              "\n",
              "    .dataframe tbody tr th {\n",
              "        vertical-align: top;\n",
              "    }\n",
              "\n",
              "    .dataframe thead th {\n",
              "        text-align: right;\n",
              "    }\n",
              "</style>\n",
              "<table border=\"1\" class=\"dataframe\">\n",
              "  <thead>\n",
              "    <tr style=\"text-align: right;\">\n",
              "      <th></th>\n",
              "      <th>LongVolatility</th>\n",
              "      <th>SPY</th>\n",
              "      <th>Portfolio</th>\n",
              "    </tr>\n",
              "  </thead>\n",
              "  <tbody>\n",
              "    <tr>\n",
              "      <th>Annualized Return</th>\n",
              "      <td>1.451091</td>\n",
              "      <td>11.580102</td>\n",
              "      <td>13.199231</td>\n",
              "    </tr>\n",
              "    <tr>\n",
              "      <th>Annualized Vol</th>\n",
              "      <td>8.447673</td>\n",
              "      <td>14.073137</td>\n",
              "      <td>11.313600</td>\n",
              "    </tr>\n",
              "    <tr>\n",
              "      <th>Skewness</th>\n",
              "      <td>4.660649</td>\n",
              "      <td>-0.312715</td>\n",
              "      <td>0.302172</td>\n",
              "    </tr>\n",
              "    <tr>\n",
              "      <th>Kurtosis</th>\n",
              "      <td>36.799550</td>\n",
              "      <td>3.932601</td>\n",
              "      <td>3.311896</td>\n",
              "    </tr>\n",
              "    <tr>\n",
              "      <th>Sharpe Ratio</th>\n",
              "      <td>0.171774</td>\n",
              "      <td>0.822852</td>\n",
              "      <td>1.166669</td>\n",
              "    </tr>\n",
              "    <tr>\n",
              "      <th>Max Drawdown</th>\n",
              "      <td>-28.602327</td>\n",
              "      <td>-20.001052</td>\n",
              "      <td>-12.176990</td>\n",
              "    </tr>\n",
              "    <tr>\n",
              "      <th>Calmar Ratio</th>\n",
              "      <td>0.050733</td>\n",
              "      <td>0.578975</td>\n",
              "      <td>1.083949</td>\n",
              "    </tr>\n",
              "  </tbody>\n",
              "</table>\n",
              "</div>"
            ],
            "text/plain": [
              "                   LongVolatility        SPY  Portfolio\n",
              "Annualized Return        1.451091  11.580102  13.199231\n",
              "Annualized Vol           8.447673  14.073137  11.313600\n",
              "Skewness                 4.660649  -0.312715   0.302172\n",
              "Kurtosis                36.799550   3.932601   3.311896\n",
              "Sharpe Ratio             0.171774   0.822852   1.166669\n",
              "Max Drawdown           -28.602327 -20.001052 -12.176990\n",
              "Calmar Ratio             0.050733   0.578975   1.083949"
            ]
          },
          "metadata": {
            "tags": []
          },
          "execution_count": 31
        }
      ]
    },
    {
      "cell_type": "markdown",
      "metadata": {
        "id": "RmjSEhT9jDYd"
      },
      "source": [
        "O Valor da estratégia se deve ao fato de ser, na maior parte do tempo, negativamente correlacionada aos retornos do SPY."
      ]
    },
    {
      "cell_type": "code",
      "metadata": {
        "colab": {
          "base_uri": "https://localhost:8080/",
          "height": 405
        },
        "id": "qETlbsldBt_Q",
        "outputId": "1ad57e13-2a93-4a75-9e51-bfbb1f9a6393"
      },
      "source": [
        "df['SPYReturn'].rolling(12).corr(df['LongVolatilityReturn']).plot(figsize=(20,6))"
      ],
      "execution_count": 33,
      "outputs": [
        {
          "output_type": "execute_result",
          "data": {
            "text/plain": [
              "<matplotlib.axes._subplots.AxesSubplot at 0x7f0ddf31fef0>"
            ]
          },
          "metadata": {
            "tags": []
          },
          "execution_count": 33
        },
        {
          "output_type": "display_data",
          "data": {
            "image/png": "[encoded data removed]",
            "text/plain": [
              "<Figure size 1440x432 with 1 Axes>"
            ]
          },
          "metadata": {
            "tags": [],
            "needs_background": "light"
          }
        }
      ]
    },
    {
      "cell_type": "markdown",
      "metadata": {
        "id": "TQUCeyGFB6q_"
      },
      "source": [
        "Abaixo, definiremos a medida \"Efetividade\" para verificar em quantas ocasiões o portfólio Long Volatility sobe enquanto o SPY cai em janelas mensais. Para esse teste, usamos três janela de quedas do SPY.\r\n",
        "1)Retornos entre -1% e -3%;\r\n",
        "2)Retornos entre -3% e -5%;\r\n",
        "3)Retornos abaixo de -5%.\r\n",
        "\r\n",
        "Além disso, printaremos o número de vezes em que tais situações ocorreram.\r\n",
        "\r\n",
        "Vemos que à medida que os retornos ficam mais extremos, a estratégia Long Volatility se torna mais efetiva. Ou seja, apesar de retornos ruins do SPY não serem tão frequentes, podemos construir uma estratégia que de certa forma contrabalanceie essas quedas, gerando um maior retorno anualizado (CAGR) e ainda com melhoria nas métricas de retorno ajustado ao risco,se comparado com o buy and hold do SPY."
      ]
    },
    {
      "cell_type": "code",
      "metadata": {
        "colab": {
          "base_uri": "https://localhost:8080/"
        },
        "id": "iL9LT1Eqa4SE",
        "outputId": "b7bb3c85-0c9e-42dd-b8b6-1a47717ac4de"
      },
      "source": [
        "Efetividade=df[(df[\"SPYReturn\"]<-0.01)&(df[\"SPYReturn\"]>-0.03)&(df[\"LongVolatilityReturn\"]>0)].shape[0]/df[(df[\"SPYReturn\"]<-0.01)&(df[\"SPYReturn\"]>-0.03)].shape[0]\r\n",
        "subset_df = df[(df[\"SPYReturn\"]<-0.01)&(df[\"SPYReturn\"]>-0.03)]\r\n",
        "print(\"Efetividade = {:.2%}\".format(Efetividade))\r\n",
        "print(subset_df.shape[0])"
      ],
      "execution_count": 34,
      "outputs": [
        {
          "output_type": "stream",
          "text": [
            "Efetividade = 26.67%\n",
            "15\n"
          ],
          "name": "stdout"
        }
      ]
    },
    {
      "cell_type": "code",
      "metadata": {
        "colab": {
          "base_uri": "https://localhost:8080/"
        },
        "id": "dtDz_vw36B4p",
        "outputId": "20b93ce7-6111-4b9f-b90d-9bcb4545ac81"
      },
      "source": [
        "Efetividade=df[(df[\"SPYReturn\"]<-0.03)&(df[\"SPYReturn\"]>-0.05)&(df[\"LongVolatilityReturn\"]>0)].shape[0]/df[(df[\"SPYReturn\"]<-0.03)&(df[\"SPYReturn\"]>-0.05)].shape[0]\r\n",
        "subset_df = df[(df[\"SPYReturn\"]<-0.03)&(df[\"SPYReturn\"]>-0.05)]\r\n",
        "print(\"Efetividade = {:.2%}\".format(Efetividade))\r\n",
        "print(subset_df.shape[0])"
      ],
      "execution_count": 35,
      "outputs": [
        {
          "output_type": "stream",
          "text": [
            "Efetividade = 71.43%\n",
            "7\n"
          ],
          "name": "stdout"
        }
      ]
    },
    {
      "cell_type": "code",
      "metadata": {
        "colab": {
          "base_uri": "https://localhost:8080/"
        },
        "id": "lBI3GvlP6Mif",
        "outputId": "f6d7a940-861a-4364-e757-f9a0310afa94"
      },
      "source": [
        "Efetividade=df[(df[\"SPYReturn\"]<-0.05)&(df[\"LongVolatilityReturn\"]>0)].shape[0]/df[df[\"SPYReturn\"]<-0.05].shape[0]\r\n",
        "subset_df = df[df[\"SPYReturn\"]<-0.05]\r\n",
        "print(\"Efetividade = {:.2%}\".format(Efetividade))\r\n",
        "print(subset_df.shape[0])"
      ],
      "execution_count": 38,
      "outputs": [
        {
          "output_type": "stream",
          "text": [
            "Efetividade = 100.00%\n",
            "12\n"
          ],
          "name": "stdout"
        }
      ]
    }
  ]
}