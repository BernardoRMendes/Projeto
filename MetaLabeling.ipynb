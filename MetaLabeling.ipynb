{
  "nbformat": 4,
  "nbformat_minor": 0,
  "metadata": {
    "colab": {
      "name": "MetaLabeling.ipynb",
      "provenance": [],
      "collapsed_sections": [],
      "authorship_tag": "ABX9TyOwuPCINuwvRN2/GZMWGGna",
      "include_colab_link": true
    },
    "kernelspec": {
      "name": "python3",
      "display_name": "Python 3"
    }
  },
  "cells": [
    {
      "cell_type": "markdown",
      "metadata": {
        "id": "view-in-github",
        "colab_type": "text"
      },
      "source": [
        "<a href=\"https://colab.research.google.com/github/BernardoRMendes/Projeto/blob/main/MetaLabeling.ipynb\" target=\"_parent\"><img src=\"https://colab.research.google.com/assets/colab-badge.svg\" alt=\"Open In Colab\"/></a>"
      ]
    },
    {
      "cell_type": "code",
      "metadata": {
        "id": "hI4ZYiV6viKl"
      },
      "source": [
        "import numpy as np\n",
        "import pandas as pd\n",
        "import sklearn as sklearn\n",
        "from matplotlib import pyplot as plt\n",
        "import seaborn as sns\n",
        "from sklearn.ensemble import RandomForestClassifier\n",
        "from sklearn.model_selection import train_test_split\n",
        "from sklearn.metrics import accuracy_score\n",
        "from sklearn.model_selection import GridSearchCV"
      ],
      "execution_count": 1,
      "outputs": []
    },
    {
      "cell_type": "markdown",
      "metadata": {
        "id": "uZJcY4KuWX2c"
      },
      "source": [
        "**Em finanças, não basta sabermos a direção de determinado ativo. Para ter ganhos consistentes no longo prazo, precisamos saber qual será o tamanho da posição. Em geral, os modelos que indicam compra ou venda não são úteis para determinar o position sizing. Para isso, podemos criar um modelo secundário com o objetivo de mostrar em quais momentos (e consequentemente calibrar a posição) nosso modelo primário deve ser aplicado.**\n",
        "\n",
        "**Usando um exemplo concreto, suponha que já temos um modelo de Trend-Following aplicado ao milho. Esse modelo tem uma taxa de acerto ao redor de 40%. No entanto, sabemos que variáveis exógenas influenciam o preço do milho, como por exemplo a cotação do dólar, volatilidade, preço do petróleo, curva de juros, estrutura a termo dos futuros de milho, sazonalidade, entre outros inúmeros fatores. Então, podemos criar um modelo secundário que indique quando nossa estratégia de Trend-Following tem maior assertividade, reduzindo o número de falso-positivos.**"
      ]
    },
    {
      "cell_type": "markdown",
      "metadata": {
        "id": "72FVnjqDavSP"
      },
      "source": [
        "**No exemplo a seguir, utilizei uma estratégia de Trend-Following no CCMFUT (Milho) no período entre 2016 à 2019. Atribuí \"1\" quando o retorno foi positivo e \"0\" quando negativo. Em seguida, criei 6 atributos não utilizados no modelo primário, mas que possuem relação com a dinâmica de preços do milho. A parte de Engenharia de Atributos (Feature Engineering) é a etapa do processo de Machine Learning com maior potencial para geração de alpha. Logo, por motivos óbvios, não vou revelar quais são os atributos desse estudo. Os atributos ainda foram transformados em variáveis Dummy (0 ou 1).**"
      ]
    },
    {
      "cell_type": "markdown",
      "metadata": {
        "id": "ebK7yWYKf7CO"
      },
      "source": [
        "**Para esse estudo, criaremos o Meta-Modelo com o algoritmo de Floresta Aleatória (Random Forest).**"
      ]
    },
    {
      "cell_type": "code",
      "metadata": {
        "id": "-wPpmlhCwFpU"
      },
      "source": [
        "url=\"https://raw.githubusercontent.com/BernardoRMendes/Projeto/main/MetaLabeling.xlsx\""
      ],
      "execution_count": 2,
      "outputs": []
    },
    {
      "cell_type": "code",
      "metadata": {
        "id": "HwUt6B5bwXFc"
      },
      "source": [
        "df=pd.read_excel(url,index_col=0)"
      ],
      "execution_count": 3,
      "outputs": []
    },
    {
      "cell_type": "code",
      "metadata": {
        "colab": {
          "base_uri": "https://localhost:8080/",
          "height": 235
        },
        "id": "dy-dDTNXwdpK",
        "outputId": "3aebecdf-95ef-447f-e276-3d631f982b65"
      },
      "source": [
        "df.head()"
      ],
      "execution_count": 4,
      "outputs": [
        {
          "output_type": "execute_result",
          "data": {
            "text/html": [
              "<div>\n",
              "<style scoped>\n",
              "    .dataframe tbody tr th:only-of-type {\n",
              "        vertical-align: middle;\n",
              "    }\n",
              "\n",
              "    .dataframe tbody tr th {\n",
              "        vertical-align: top;\n",
              "    }\n",
              "\n",
              "    .dataframe thead th {\n",
              "        text-align: right;\n",
              "    }\n",
              "</style>\n",
              "<table border=\"1\" class=\"dataframe\">\n",
              "  <thead>\n",
              "    <tr style=\"text-align: right;\">\n",
              "      <th></th>\n",
              "      <th>Retorno</th>\n",
              "      <th>Sucesso/Fracasso</th>\n",
              "      <th>Atributo1</th>\n",
              "      <th>Atributo2</th>\n",
              "      <th>Atributo3</th>\n",
              "      <th>Atributo4</th>\n",
              "      <th>Atributo5</th>\n",
              "      <th>Atributo6</th>\n",
              "    </tr>\n",
              "    <tr>\n",
              "      <th>Trade</th>\n",
              "      <th></th>\n",
              "      <th></th>\n",
              "      <th></th>\n",
              "      <th></th>\n",
              "      <th></th>\n",
              "      <th></th>\n",
              "      <th></th>\n",
              "      <th></th>\n",
              "    </tr>\n",
              "  </thead>\n",
              "  <tbody>\n",
              "    <tr>\n",
              "      <th>1</th>\n",
              "      <td>0.103820</td>\n",
              "      <td>1</td>\n",
              "      <td>0</td>\n",
              "      <td>0</td>\n",
              "      <td>0</td>\n",
              "      <td>0</td>\n",
              "      <td>1</td>\n",
              "      <td>0</td>\n",
              "    </tr>\n",
              "    <tr>\n",
              "      <th>2</th>\n",
              "      <td>0.016335</td>\n",
              "      <td>1</td>\n",
              "      <td>0</td>\n",
              "      <td>0</td>\n",
              "      <td>0</td>\n",
              "      <td>0</td>\n",
              "      <td>1</td>\n",
              "      <td>1</td>\n",
              "    </tr>\n",
              "    <tr>\n",
              "      <th>3</th>\n",
              "      <td>0.130632</td>\n",
              "      <td>1</td>\n",
              "      <td>0</td>\n",
              "      <td>0</td>\n",
              "      <td>1</td>\n",
              "      <td>0</td>\n",
              "      <td>1</td>\n",
              "      <td>1</td>\n",
              "    </tr>\n",
              "    <tr>\n",
              "      <th>4</th>\n",
              "      <td>0.012956</td>\n",
              "      <td>1</td>\n",
              "      <td>0</td>\n",
              "      <td>0</td>\n",
              "      <td>0</td>\n",
              "      <td>0</td>\n",
              "      <td>1</td>\n",
              "      <td>1</td>\n",
              "    </tr>\n",
              "    <tr>\n",
              "      <th>5</th>\n",
              "      <td>-0.011578</td>\n",
              "      <td>0</td>\n",
              "      <td>0</td>\n",
              "      <td>0</td>\n",
              "      <td>1</td>\n",
              "      <td>0</td>\n",
              "      <td>0</td>\n",
              "      <td>1</td>\n",
              "    </tr>\n",
              "  </tbody>\n",
              "</table>\n",
              "</div>"
            ],
            "text/plain": [
              "        Retorno  Sucesso/Fracasso  Atributo1  ...  Atributo4  Atributo5  Atributo6\n",
              "Trade                                         ...                                 \n",
              "1      0.103820                 1          0  ...          0          1          0\n",
              "2      0.016335                 1          0  ...          0          1          1\n",
              "3      0.130632                 1          0  ...          0          1          1\n",
              "4      0.012956                 1          0  ...          0          1          1\n",
              "5     -0.011578                 0          0  ...          0          0          1\n",
              "\n",
              "[5 rows x 8 columns]"
            ]
          },
          "metadata": {
            "tags": []
          },
          "execution_count": 4
        }
      ]
    },
    {
      "cell_type": "code",
      "metadata": {
        "colab": {
          "base_uri": "https://localhost:8080/"
        },
        "id": "UMt3q9Lbwfm6",
        "outputId": "a6485f82-5bcd-4ef5-815a-d7165ee53d5f"
      },
      "source": [
        "df.info()"
      ],
      "execution_count": 5,
      "outputs": [
        {
          "output_type": "stream",
          "text": [
            "<class 'pandas.core.frame.DataFrame'>\n",
            "Int64Index: 73 entries, 1 to 73\n",
            "Data columns (total 8 columns):\n",
            " #   Column            Non-Null Count  Dtype  \n",
            "---  ------            --------------  -----  \n",
            " 0   Retorno           73 non-null     float64\n",
            " 1   Sucesso/Fracasso  73 non-null     int64  \n",
            " 2   Atributo1         73 non-null     int64  \n",
            " 3   Atributo2         73 non-null     int64  \n",
            " 4   Atributo3         73 non-null     int64  \n",
            " 5   Atributo4         73 non-null     int64  \n",
            " 6   Atributo5         73 non-null     int64  \n",
            " 7   Atributo6         73 non-null     int64  \n",
            "dtypes: float64(1), int64(7)\n",
            "memory usage: 5.1 KB\n"
          ],
          "name": "stdout"
        }
      ]
    },
    {
      "cell_type": "code",
      "metadata": {
        "colab": {
          "base_uri": "https://localhost:8080/",
          "height": 297
        },
        "id": "sqSITfD8wh7y",
        "outputId": "2a6077ba-47ca-4fa7-f62c-14b8ebfa5864"
      },
      "source": [
        "df.describe()"
      ],
      "execution_count": 6,
      "outputs": [
        {
          "output_type": "execute_result",
          "data": {
            "text/html": [
              "<div>\n",
              "<style scoped>\n",
              "    .dataframe tbody tr th:only-of-type {\n",
              "        vertical-align: middle;\n",
              "    }\n",
              "\n",
              "    .dataframe tbody tr th {\n",
              "        vertical-align: top;\n",
              "    }\n",
              "\n",
              "    .dataframe thead th {\n",
              "        text-align: right;\n",
              "    }\n",
              "</style>\n",
              "<table border=\"1\" class=\"dataframe\">\n",
              "  <thead>\n",
              "    <tr style=\"text-align: right;\">\n",
              "      <th></th>\n",
              "      <th>Retorno</th>\n",
              "      <th>Sucesso/Fracasso</th>\n",
              "      <th>Atributo1</th>\n",
              "      <th>Atributo2</th>\n",
              "      <th>Atributo3</th>\n",
              "      <th>Atributo4</th>\n",
              "      <th>Atributo5</th>\n",
              "      <th>Atributo6</th>\n",
              "    </tr>\n",
              "  </thead>\n",
              "  <tbody>\n",
              "    <tr>\n",
              "      <th>count</th>\n",
              "      <td>73.000000</td>\n",
              "      <td>73.000000</td>\n",
              "      <td>73.000000</td>\n",
              "      <td>73.000000</td>\n",
              "      <td>73.000000</td>\n",
              "      <td>73.000000</td>\n",
              "      <td>73.000000</td>\n",
              "      <td>73.000000</td>\n",
              "    </tr>\n",
              "    <tr>\n",
              "      <th>mean</th>\n",
              "      <td>0.013172</td>\n",
              "      <td>0.383562</td>\n",
              "      <td>0.383562</td>\n",
              "      <td>0.273973</td>\n",
              "      <td>0.287671</td>\n",
              "      <td>0.301370</td>\n",
              "      <td>0.410959</td>\n",
              "      <td>0.383562</td>\n",
              "    </tr>\n",
              "    <tr>\n",
              "      <th>std</th>\n",
              "      <td>0.051010</td>\n",
              "      <td>0.489618</td>\n",
              "      <td>0.489618</td>\n",
              "      <td>0.449082</td>\n",
              "      <td>0.455810</td>\n",
              "      <td>0.462028</td>\n",
              "      <td>0.495413</td>\n",
              "      <td>0.489618</td>\n",
              "    </tr>\n",
              "    <tr>\n",
              "      <th>min</th>\n",
              "      <td>-0.039145</td>\n",
              "      <td>0.000000</td>\n",
              "      <td>0.000000</td>\n",
              "      <td>0.000000</td>\n",
              "      <td>0.000000</td>\n",
              "      <td>0.000000</td>\n",
              "      <td>0.000000</td>\n",
              "      <td>0.000000</td>\n",
              "    </tr>\n",
              "    <tr>\n",
              "      <th>25%</th>\n",
              "      <td>-0.013639</td>\n",
              "      <td>0.000000</td>\n",
              "      <td>0.000000</td>\n",
              "      <td>0.000000</td>\n",
              "      <td>0.000000</td>\n",
              "      <td>0.000000</td>\n",
              "      <td>0.000000</td>\n",
              "      <td>0.000000</td>\n",
              "    </tr>\n",
              "    <tr>\n",
              "      <th>50%</th>\n",
              "      <td>-0.005226</td>\n",
              "      <td>0.000000</td>\n",
              "      <td>0.000000</td>\n",
              "      <td>0.000000</td>\n",
              "      <td>0.000000</td>\n",
              "      <td>0.000000</td>\n",
              "      <td>0.000000</td>\n",
              "      <td>0.000000</td>\n",
              "    </tr>\n",
              "    <tr>\n",
              "      <th>75%</th>\n",
              "      <td>0.014731</td>\n",
              "      <td>1.000000</td>\n",
              "      <td>1.000000</td>\n",
              "      <td>1.000000</td>\n",
              "      <td>1.000000</td>\n",
              "      <td>1.000000</td>\n",
              "      <td>1.000000</td>\n",
              "      <td>1.000000</td>\n",
              "    </tr>\n",
              "    <tr>\n",
              "      <th>max</th>\n",
              "      <td>0.255204</td>\n",
              "      <td>1.000000</td>\n",
              "      <td>1.000000</td>\n",
              "      <td>1.000000</td>\n",
              "      <td>1.000000</td>\n",
              "      <td>1.000000</td>\n",
              "      <td>1.000000</td>\n",
              "      <td>1.000000</td>\n",
              "    </tr>\n",
              "  </tbody>\n",
              "</table>\n",
              "</div>"
            ],
            "text/plain": [
              "         Retorno  Sucesso/Fracasso  Atributo1  ...  Atributo4  Atributo5  Atributo6\n",
              "count  73.000000         73.000000  73.000000  ...  73.000000  73.000000  73.000000\n",
              "mean    0.013172          0.383562   0.383562  ...   0.301370   0.410959   0.383562\n",
              "std     0.051010          0.489618   0.489618  ...   0.462028   0.495413   0.489618\n",
              "min    -0.039145          0.000000   0.000000  ...   0.000000   0.000000   0.000000\n",
              "25%    -0.013639          0.000000   0.000000  ...   0.000000   0.000000   0.000000\n",
              "50%    -0.005226          0.000000   0.000000  ...   0.000000   0.000000   0.000000\n",
              "75%     0.014731          1.000000   1.000000  ...   1.000000   1.000000   1.000000\n",
              "max     0.255204          1.000000   1.000000  ...   1.000000   1.000000   1.000000\n",
              "\n",
              "[8 rows x 8 columns]"
            ]
          },
          "metadata": {
            "tags": []
          },
          "execution_count": 6
        }
      ]
    },
    {
      "cell_type": "code",
      "metadata": {
        "colab": {
          "base_uri": "https://localhost:8080/",
          "height": 297
        },
        "id": "m45Z92FCxfA9",
        "outputId": "86fcd455-2a48-42d9-be88-fe7e8a211275"
      },
      "source": [
        "df.corr()"
      ],
      "execution_count": 7,
      "outputs": [
        {
          "output_type": "execute_result",
          "data": {
            "text/html": [
              "<div>\n",
              "<style scoped>\n",
              "    .dataframe tbody tr th:only-of-type {\n",
              "        vertical-align: middle;\n",
              "    }\n",
              "\n",
              "    .dataframe tbody tr th {\n",
              "        vertical-align: top;\n",
              "    }\n",
              "\n",
              "    .dataframe thead th {\n",
              "        text-align: right;\n",
              "    }\n",
              "</style>\n",
              "<table border=\"1\" class=\"dataframe\">\n",
              "  <thead>\n",
              "    <tr style=\"text-align: right;\">\n",
              "      <th></th>\n",
              "      <th>Retorno</th>\n",
              "      <th>Sucesso/Fracasso</th>\n",
              "      <th>Atributo1</th>\n",
              "      <th>Atributo2</th>\n",
              "      <th>Atributo3</th>\n",
              "      <th>Atributo4</th>\n",
              "      <th>Atributo5</th>\n",
              "      <th>Atributo6</th>\n",
              "    </tr>\n",
              "  </thead>\n",
              "  <tbody>\n",
              "    <tr>\n",
              "      <th>Retorno</th>\n",
              "      <td>1.000000</td>\n",
              "      <td>0.656921</td>\n",
              "      <td>0.037415</td>\n",
              "      <td>-0.133395</td>\n",
              "      <td>-0.112198</td>\n",
              "      <td>0.101512</td>\n",
              "      <td>0.185591</td>\n",
              "      <td>-0.099783</td>\n",
              "    </tr>\n",
              "    <tr>\n",
              "      <th>Sucesso/Fracasso</th>\n",
              "      <td>0.656921</td>\n",
              "      <td>1.000000</td>\n",
              "      <td>-0.100794</td>\n",
              "      <td>-0.105565</td>\n",
              "      <td>-0.127878</td>\n",
              "      <td>0.157275</td>\n",
              "      <td>0.142755</td>\n",
              "      <td>-0.158730</td>\n",
              "    </tr>\n",
              "    <tr>\n",
              "      <th>Atributo1</th>\n",
              "      <td>0.037415</td>\n",
              "      <td>-0.100794</td>\n",
              "      <td>1.000000</td>\n",
              "      <td>-0.168732</td>\n",
              "      <td>-0.252345</td>\n",
              "      <td>0.034483</td>\n",
              "      <td>-0.029022</td>\n",
              "      <td>0.073016</td>\n",
              "    </tr>\n",
              "    <tr>\n",
              "      <th>Atributo2</th>\n",
              "      <td>-0.133395</td>\n",
              "      <td>-0.105565</td>\n",
              "      <td>-0.168732</td>\n",
              "      <td>1.000000</td>\n",
              "      <td>0.084582</td>\n",
              "      <td>0.065104</td>\n",
              "      <td>-0.200965</td>\n",
              "      <td>0.020767</td>\n",
              "    </tr>\n",
              "    <tr>\n",
              "      <th>Atributo3</th>\n",
              "      <td>-0.112198</td>\n",
              "      <td>-0.127878</td>\n",
              "      <td>-0.252345</td>\n",
              "      <td>0.084582</td>\n",
              "      <td>1.000000</td>\n",
              "      <td>-0.153582</td>\n",
              "      <td>-0.100263</td>\n",
              "      <td>0.058824</td>\n",
              "    </tr>\n",
              "    <tr>\n",
              "      <th>Atributo4</th>\n",
              "      <td>0.101512</td>\n",
              "      <td>0.157275</td>\n",
              "      <td>0.034483</td>\n",
              "      <td>0.065104</td>\n",
              "      <td>-0.153582</td>\n",
              "      <td>1.000000</td>\n",
              "      <td>0.118862</td>\n",
              "      <td>-0.149706</td>\n",
              "    </tr>\n",
              "    <tr>\n",
              "      <th>Atributo5</th>\n",
              "      <td>0.185591</td>\n",
              "      <td>0.142755</td>\n",
              "      <td>-0.029022</td>\n",
              "      <td>-0.200965</td>\n",
              "      <td>-0.100263</td>\n",
              "      <td>0.118862</td>\n",
              "      <td>1.000000</td>\n",
              "      <td>0.085496</td>\n",
              "    </tr>\n",
              "    <tr>\n",
              "      <th>Atributo6</th>\n",
              "      <td>-0.099783</td>\n",
              "      <td>-0.158730</td>\n",
              "      <td>0.073016</td>\n",
              "      <td>0.020767</td>\n",
              "      <td>0.058824</td>\n",
              "      <td>-0.149706</td>\n",
              "      <td>0.085496</td>\n",
              "      <td>1.000000</td>\n",
              "    </tr>\n",
              "  </tbody>\n",
              "</table>\n",
              "</div>"
            ],
            "text/plain": [
              "                   Retorno  Sucesso/Fracasso  ...  Atributo5  Atributo6\n",
              "Retorno           1.000000          0.656921  ...   0.185591  -0.099783\n",
              "Sucesso/Fracasso  0.656921          1.000000  ...   0.142755  -0.158730\n",
              "Atributo1         0.037415         -0.100794  ...  -0.029022   0.073016\n",
              "Atributo2        -0.133395         -0.105565  ...  -0.200965   0.020767\n",
              "Atributo3        -0.112198         -0.127878  ...  -0.100263   0.058824\n",
              "Atributo4         0.101512          0.157275  ...   0.118862  -0.149706\n",
              "Atributo5         0.185591          0.142755  ...   1.000000   0.085496\n",
              "Atributo6        -0.099783         -0.158730  ...   0.085496   1.000000\n",
              "\n",
              "[8 rows x 8 columns]"
            ]
          },
          "metadata": {
            "tags": []
          },
          "execution_count": 7
        }
      ]
    },
    {
      "cell_type": "code",
      "metadata": {
        "id": "TEczQq5wxn2K"
      },
      "source": [
        "atributos=df[[\"Atributo1\",\"Atributo2\",\"Atributo3\",\"Atributo4\",\"Atributo5\",\"Atributo6\"]]\n",
        "target=df[\"Sucesso/Fracasso\"]"
      ],
      "execution_count": 8,
      "outputs": []
    },
    {
      "cell_type": "markdown",
      "metadata": {
        "id": "MHljpTD2qgqo"
      },
      "source": [
        "**shuffle=False para manter a ordem das observações.**"
      ]
    },
    {
      "cell_type": "code",
      "metadata": {
        "id": "eMEz9H56xzJV"
      },
      "source": [
        "atributosTrain, atributosTest, targetTrain, targetTest = train_test_split(atributos,target, test_size=0.3,shuffle=False)"
      ],
      "execution_count": 9,
      "outputs": []
    },
    {
      "cell_type": "code",
      "metadata": {
        "colab": {
          "base_uri": "https://localhost:8080/"
        },
        "id": "A5nq9RH_cHBq",
        "outputId": "f0133949-61fb-42a1-9414-b97bb19a2497"
      },
      "source": [
        "print(atributosTrain.shape)\n",
        "print(atributosTest.shape)\n",
        "print(targetTrain.shape)\n",
        "print(targetTest.shape)"
      ],
      "execution_count": 10,
      "outputs": [
        {
          "output_type": "stream",
          "text": [
            "(51, 6)\n",
            "(22, 6)\n",
            "(51,)\n",
            "(22,)\n"
          ],
          "name": "stdout"
        }
      ]
    },
    {
      "cell_type": "markdown",
      "metadata": {
        "id": "JyY3cvpxb0oc"
      },
      "source": [
        "**Veja que, no período analisado, a estratégia acerta 40% das vezes. Essa taxa está em linha com modelos tradicionais seguidores de tendência.**"
      ]
    },
    {
      "cell_type": "code",
      "metadata": {
        "colab": {
          "base_uri": "https://localhost:8080/"
        },
        "id": "a0_lAPR-x0Qz",
        "outputId": "3bf8148b-6d62-4d92-aa56-fd0ae3f871e0"
      },
      "source": [
        "Assertividade=round(target[target==1].count()/len(target)*100,2)\n",
        "print(f'Assertividade: {Assertividade}%')"
      ],
      "execution_count": 11,
      "outputs": [
        {
          "output_type": "stream",
          "text": [
            "Assertividade: 38.36%\n"
          ],
          "name": "stdout"
        }
      ]
    },
    {
      "cell_type": "markdown",
      "metadata": {
        "id": "roLb4NEhhP3X"
      },
      "source": [
        "**Inicialmente, criamos o modelo de machine learning sem qualquer otimização.**"
      ]
    },
    {
      "cell_type": "code",
      "metadata": {
        "colab": {
          "base_uri": "https://localhost:8080/"
        },
        "id": "HtkoPandzozS",
        "outputId": "9cd9cf47-8973-47ca-d10a-900daf067b70"
      },
      "source": [
        "clf=RandomForestClassifier()\n",
        "print(clf)"
      ],
      "execution_count": 12,
      "outputs": [
        {
          "output_type": "stream",
          "text": [
            "RandomForestClassifier(bootstrap=True, ccp_alpha=0.0, class_weight=None,\n",
            "                       criterion='gini', max_depth=None, max_features='auto',\n",
            "                       max_leaf_nodes=None, max_samples=None,\n",
            "                       min_impurity_decrease=0.0, min_impurity_split=None,\n",
            "                       min_samples_leaf=1, min_samples_split=2,\n",
            "                       min_weight_fraction_leaf=0.0, n_estimators=100,\n",
            "                       n_jobs=None, oob_score=False, random_state=None,\n",
            "                       verbose=0, warm_start=False)\n"
          ],
          "name": "stdout"
        }
      ]
    },
    {
      "cell_type": "code",
      "metadata": {
        "id": "T962YUoy1KNU"
      },
      "source": [
        "modelo1=clf.fit(atributosTrain, targetTrain)"
      ],
      "execution_count": 13,
      "outputs": []
    },
    {
      "cell_type": "markdown",
      "metadata": {
        "id": "bm-5VBTUp3hr"
      },
      "source": [
        "**Idealmente, deveríamos testar nosso modelo em um conjunto de validação para ajuste de hiperparâmetros e, somente após atingir uma performance satisfatória, colocarmos em teste para averiguar a capacidade de generalização em um dataset não visto. Como temos poucos dados, esse ajuste de hiperparâmetros será feito no próprio conjunto de treino de forma parcimoniosa, para evitar overfitting.**"
      ]
    },
    {
      "cell_type": "code",
      "metadata": {
        "id": "xVVkUBM3k4C-"
      },
      "source": [
        "previsao=modelo1.predict(atributosTrain)"
      ],
      "execution_count": 14,
      "outputs": []
    },
    {
      "cell_type": "markdown",
      "metadata": {
        "id": "uxDJq8avrt7M"
      },
      "source": [
        "**Importância dos atributos no modelo inicial:**"
      ]
    },
    {
      "cell_type": "code",
      "metadata": {
        "colab": {
          "base_uri": "https://localhost:8080/",
          "height": 296
        },
        "id": "Loi6LYOxs2kb",
        "outputId": "af24421c-9d9c-4b1c-843f-301c37fa1795"
      },
      "source": [
        "importancia=modelo1.feature_importances_\n",
        "indices=np.argsort(importancia)\n",
        "ind=[]\n",
        "for i in indices:\n",
        "    ind.append(atributosTrain.columns[i])\n",
        "plt.figure()\n",
        "plt.title('Importância dos Atributos')\n",
        "plt.barh(range(len(indices)), importancia[indices])\n",
        "plt.yticks(range(len(indices)),ind)\n",
        "plt.xlabel('Importância Relativa')\n",
        "plt.show()"
      ],
      "execution_count": 15,
      "outputs": [
        {
          "output_type": "display_data",
          "data": {
            "image/png": "[encoded data removed]",
            "text/plain": [
              "<Figure size 432x288 with 1 Axes>"
            ]
          },
          "metadata": {
            "tags": [],
            "needs_background": "light"
          }
        }
      ]
    },
    {
      "cell_type": "markdown",
      "metadata": {
        "id": "aFRfriXJcbqF"
      },
      "source": [
        "**Cálculo das métricas de performance em treino:**"
      ]
    },
    {
      "cell_type": "code",
      "metadata": {
        "colab": {
          "base_uri": "https://localhost:8080/",
          "height": 551
        },
        "id": "N0Q27gM4lPeb",
        "outputId": "c7be6290-cc54-4618-9450-9836a11befa4"
      },
      "source": [
        "from sklearn.metrics import confusion_matrix\n",
        "cf_matrix=confusion_matrix(targetTrain,previsao)\n",
        "group_names=[\"True Negative\",\"False Positive\",\"False Negative\",\"True Positive\"]\n",
        "group_counts=[\"{0:0.0f}\".format(value) for value in\n",
        "                cf_matrix.flatten()]\n",
        "group_percentages = [\"{0:.2%}\".format(value) for value in cf_matrix.flatten()/np.sum(cf_matrix)]\n",
        "labels=[f\"{v1}\\n{v2}\\n{v3}\" for v1, v2, v3 in\n",
        "          zip(group_names,group_counts,group_percentages)]\n",
        "labels = np.asarray(labels).reshape(2,2)\n",
        "plt.figure(figsize=(16,8))\n",
        "sns.heatmap(cf_matrix, annot=labels, fmt='',cmap='Blues')\n",
        "\n",
        "f1_score=round(sklearn.metrics.f1_score(targetTrain,previsao)*100,2)\n",
        "print(f'F1_Score: {f1_score}%')\n",
        "recall=round(sklearn.metrics.recall_score(targetTrain,previsao)*100,2)\n",
        "print(f'Recall: {recall}%')\n",
        "precision=round(sklearn.metrics.precision_score(targetTrain,previsao)*100,2)\n",
        "print(f'Precision: {precision}%')\n",
        "acuracia=round(sklearn.metrics.accuracy_score(targetTrain,previsao)*100,2)\n",
        "print(f'Acurácia: {acuracia}%')"
      ],
      "execution_count": 16,
      "outputs": [
        {
          "output_type": "stream",
          "text": [
            "F1_Score: 85.71%\n",
            "Recall: 90.0%\n",
            "Precision: 81.82%\n",
            "Acurácia: 88.24%\n"
          ],
          "name": "stdout"
        },
        {
          "output_type": "display_data",
          "data": {
            "image/png": "[encoded data removed]",
            "text/plain": [
              "<Figure size 1152x576 with 2 Axes>"
            ]
          },
          "metadata": {
            "tags": [],
            "needs_background": "light"
          }
        }
      ]
    },
    {
      "cell_type": "markdown",
      "metadata": {
        "id": "Axx6OkZ6hcEr"
      },
      "source": [
        "**No primeiro modelo, os scores de avaliação estão extremamente elevados, indicando Overfitting. Para mitigar esse problema, aplicaremos o GridSearch, buscando a melhor combinação de hiperparâmetros, entre as opções disponíveis.\n",
        "A lista de valores possíveis que o algoritmo deve buscar foi limitada, para mitigar as changes de overfitting.**"
      ]
    },
    {
      "cell_type": "markdown",
      "metadata": {
        "id": "dotncAfRjRTz"
      },
      "source": [
        "**n_estimators: Número de árvores de decisão construídas**\n",
        "\n",
        "**max_depth: Regula a profundidade máxima da árvore de decisão na floresta**\n",
        "\n",
        "**max_features: subconjunto aleatório dos atributos que serão considerados quando houver divisão em um nó da árvore de decisão**\n"
      ]
    },
    {
      "cell_type": "code",
      "metadata": {
        "id": "AdZR9A1S2i4K"
      },
      "source": [
        "clf=RandomForestClassifier()"
      ],
      "execution_count": 17,
      "outputs": []
    },
    {
      "cell_type": "code",
      "metadata": {
        "colab": {
          "base_uri": "https://localhost:8080/"
        },
        "id": "j093lm2Cl6RY",
        "outputId": "736f9d6a-989c-4031-df07-dae734498fb0"
      },
      "source": [
        "i=range(5)\n",
        "for i in i:\n",
        "  param_grid = {\n",
        "                 'n_estimators': [50,100,200],\n",
        "                 'max_depth': [2,3],\n",
        "               'max_features':[2,3]}\n",
        "\n",
        "\n",
        "  grid_clf= GridSearchCV(clf, param_grid,scoring=\"f1\")\n",
        "  grid_clf.fit(atributosTrain, targetTrain)\n",
        "  print(grid_clf. best_params_)"
      ],
      "execution_count": 18,
      "outputs": [
        {
          "output_type": "stream",
          "text": [
            "{'max_depth': 2, 'max_features': 2, 'n_estimators': 50}\n",
            "{'max_depth': 2, 'max_features': 2, 'n_estimators': 50}\n",
            "{'max_depth': 3, 'max_features': 2, 'n_estimators': 50}\n",
            "{'max_depth': 2, 'max_features': 3, 'n_estimators': 50}\n",
            "{'max_depth': 2, 'max_features': 2, 'n_estimators': 50}\n"
          ],
          "name": "stdout"
        }
      ]
    },
    {
      "cell_type": "markdown",
      "metadata": {
        "id": "h_PPSduITZKf"
      },
      "source": [
        "**Observe que o GridSearch indica combinações diferentes de hiperparâmetros, mostrando que não existe apenas um modelo ideal. Portanto, na escolha do modelo final, existe um componente de subjetividade, cabendo ao analista escolher um dos modelos de acordo com seu conhecimento sobre a área de negócio.**"
      ]
    },
    {
      "cell_type": "markdown",
      "metadata": {
        "id": "VCZ0ZC3JT3t_"
      },
      "source": [
        "**Criando o modelo final:**"
      ]
    },
    {
      "cell_type": "code",
      "metadata": {
        "id": "LCvQGJrzptUt"
      },
      "source": [
        "clf=RandomForestClassifier(max_depth=2, max_features=3, n_estimators=100,random_state=30)"
      ],
      "execution_count": 19,
      "outputs": []
    },
    {
      "cell_type": "code",
      "metadata": {
        "id": "S2ZRKblIe8Yf"
      },
      "source": [
        "modelo_final=clf.fit(atributosTrain, targetTrain)"
      ],
      "execution_count": 20,
      "outputs": []
    },
    {
      "cell_type": "code",
      "metadata": {
        "id": "OHEHOCehR-9Z"
      },
      "source": [
        "previsao=modelo_final.predict(atributosTrain)"
      ],
      "execution_count": 21,
      "outputs": []
    },
    {
      "cell_type": "markdown",
      "metadata": {
        "id": "nPUamkVFWS2c"
      },
      "source": [
        "**Importância dos atributos no modelo final:**"
      ]
    },
    {
      "cell_type": "code",
      "metadata": {
        "colab": {
          "base_uri": "https://localhost:8080/",
          "height": 296
        },
        "id": "A6hLpBVUtgi3",
        "outputId": "2574a19a-2822-47d5-9b35-f580a5183f3a"
      },
      "source": [
        "importancia=modelo_final.feature_importances_\n",
        "indices=np.argsort(importancia)\n",
        "ind=[]\n",
        "for i in indices:\n",
        "    ind.append(atributosTrain.columns[i])\n",
        "plt.figure()\n",
        "plt.title('Importância dos Atributos')\n",
        "plt.barh(range(len(indices)), importancia[indices])\n",
        "plt.yticks(range(len(indices)),ind)\n",
        "plt.xlabel('Importância Relativa')\n",
        "plt.show()"
      ],
      "execution_count": 22,
      "outputs": [
        {
          "output_type": "display_data",
          "data": {
            "image/png": "[encoded data removed]",
            "text/plain": [
              "<Figure size 432x288 with 1 Axes>"
            ]
          },
          "metadata": {
            "tags": [],
            "needs_background": "light"
          }
        }
      ]
    },
    {
      "cell_type": "markdown",
      "metadata": {
        "id": "bsQIMe4Rum-8"
      },
      "source": [
        "**Alterando o random_state, podemos testar novamente o modelo e verificar se há mudança na ordem de importância dos atributos. Para os valores que eu testei, os atributos 5 e 6 permaneceram como mais importantes, indicando que esses atributos são realmente importantes para nossa estratégia.**"
      ]
    },
    {
      "cell_type": "markdown",
      "metadata": {
        "id": "CB5L416pc-RA"
      },
      "source": [
        "**Cálculo das métricas de performance em treino com o modelo final:**"
      ]
    },
    {
      "cell_type": "code",
      "metadata": {
        "colab": {
          "base_uri": "https://localhost:8080/",
          "height": 551
        },
        "id": "btAqi48N4ua0",
        "outputId": "8dcd0604-71e3-4bf1-8e74-866b29865313"
      },
      "source": [
        "cf_matrix=confusion_matrix(targetTrain,previsao)\n",
        "group_names=[\"True Negative\",\"False Positive\",\"False Negative\",\"True Positive\"]\n",
        "group_counts=[\"{0:0.0f}\".format(value) for value in\n",
        "                cf_matrix.flatten()]\n",
        "group_percentages = [\"{0:.2%}\".format(value) for value in cf_matrix.flatten()/np.sum(cf_matrix)]\n",
        "labels=[f\"{v1}\\n{v2}\\n{v3}\" for v1, v2, v3 in\n",
        "          zip(group_names,group_counts,group_percentages)]\n",
        "labels = np.asarray(labels).reshape(2,2)\n",
        "plt.figure(figsize=(16,8))\n",
        "sns.heatmap(cf_matrix, annot=labels, fmt='', cmap='Blues')\n",
        "\n",
        "f1_score=round(sklearn.metrics.f1_score(targetTrain,previsao)*100,2)\n",
        "print(f'F1_Score: {f1_score}%')\n",
        "recall=round(sklearn.metrics.recall_score(targetTrain,previsao)*100,2)\n",
        "print(f'Recall: {recall}%')\n",
        "precision=round(sklearn.metrics.precision_score(targetTrain,previsao)*100,2)\n",
        "print(f'Precision: {precision}%')\n",
        "acuracia=round(sklearn.metrics.accuracy_score(targetTrain,previsao)*100,2)\n",
        "print(f'Acuracia: {acuracia}%')"
      ],
      "execution_count": 23,
      "outputs": [
        {
          "output_type": "stream",
          "text": [
            "F1_Score: 42.86%\n",
            "Recall: 30.0%\n",
            "Precision: 75.0%\n",
            "Acuracia: 68.63%\n"
          ],
          "name": "stdout"
        },
        {
          "output_type": "display_data",
          "data": {
            "image/png": "[encoded data removed]",
            "text/plain": [
              "<Figure size 1152x576 with 2 Axes>"
            ]
          },
          "metadata": {
            "tags": [],
            "needs_background": "light"
          }
        }
      ]
    },
    {
      "cell_type": "markdown",
      "metadata": {
        "id": "7OZJXJFmr1AJ"
      },
      "source": [
        "**Cálculo das métricas de performance em teste com o modelo final:**"
      ]
    },
    {
      "cell_type": "code",
      "metadata": {
        "id": "oUJkCoiMqZvW"
      },
      "source": [
        "previsao_teste=modelo_final.predict(atributosTest)\n",
        "cf_matrix=confusion_matrix(targetTest,previsao_teste)"
      ],
      "execution_count": 24,
      "outputs": []
    },
    {
      "cell_type": "code",
      "metadata": {
        "colab": {
          "base_uri": "https://localhost:8080/",
          "height": 551
        },
        "id": "j0IcvBsj84vg",
        "outputId": "5610664f-7614-4731-f6b0-db17eff8a59f"
      },
      "source": [
        "group_names=[\"True Negative\",\"False Positive\",\"False Negative\",\"True Positive\"]\n",
        "group_counts=[\"{0:0.0f}\".format(value) for value in\n",
        "                cf_matrix.flatten()]\n",
        "group_percentages = [\"{0:.2%}\".format(value) for value in cf_matrix.flatten()/np.sum(cf_matrix)]\n",
        "labels=[f\"{v1}\\n{v2}\\n{v3}\" for v1, v2, v3 in\n",
        "          zip(group_names,group_counts,group_percentages)]\n",
        "labels = np.asarray(labels).reshape(2,2)\n",
        "plt.figure(figsize=(16,8))\n",
        "sns.heatmap(cf_matrix, annot=labels, fmt='', cmap='Blues')\n",
        "\n",
        "f1_score=round(sklearn.metrics.f1_score(targetTest,previsao_teste)*100,2)\n",
        "print(f'F1_Score: {f1_score}%')\n",
        "recall=round(sklearn.metrics.recall_score(targetTest,previsao_teste)*100,2)\n",
        "print(f'Recall: {recall}%')\n",
        "precision=round(sklearn.metrics.precision_score(targetTest,previsao_teste)*100,2)\n",
        "print(f'Precision: {precision}%')\n",
        "acuracia=round(sklearn.metrics.accuracy_score(targetTest,previsao_teste)*100,2)\n",
        "print(f'Acuracia: {acuracia}%')"
      ],
      "execution_count": 25,
      "outputs": [
        {
          "output_type": "stream",
          "text": [
            "F1_Score: 36.36%\n",
            "Recall: 25.0%\n",
            "Precision: 66.67%\n",
            "Acuracia: 68.18%\n"
          ],
          "name": "stdout"
        },
        {
          "output_type": "display_data",
          "data": {
            "image/png": "[encoded data removed]",
            "text/plain": [
              "<Figure size 1152x576 with 2 Axes>"
            ]
          },
          "metadata": {
            "tags": [],
            "needs_background": "light"
          }
        }
      ]
    },
    {
      "cell_type": "markdown",
      "metadata": {
        "id": "v18ANIggXzpn"
      },
      "source": [
        "**Modelo Final em treino:**\n",
        "\n",
        "**F1_Score: 42.86%**\n",
        "\n",
        "**Recall: 30.0%**\n",
        "\n",
        "**Precision: 75.0%**\n",
        "\n",
        "**Acuracia: 68.63%**\n",
        "\n",
        "**Modelo Final em teste:**\n",
        "\n",
        "**F1_Score: 36.36%**\n",
        "\n",
        "**Recall: 25.0%**\n",
        "\n",
        "**Precision: 66.67%**\n",
        "\n",
        "**Acuracia: 68.18%**\n",
        "\n",
        "**Como as métricas de performance do modelo final em treino e teste não foram muito diferentes, temos um indicativo de que os hiperparâmetros foram modificados de forma que o modelo pudesse generalizar para novos dados sem overfitting.**"
      ]
    },
    {
      "cell_type": "markdown",
      "metadata": {
        "id": "9qeD5PVXsSBR"
      },
      "source": [
        "**Para cada conjunto de atributos, podemos calcular a probabilidade de o próximo trade dar certo. Como o modelo de Meta-Labeling tende a aumentar a assertividade do modelo primário, podemos tirar vantagem disso por meio do position sizing. No exemplo abaixo, quando a probabilidade de retorno positivo for maior que 50%, entraremos com o dobro da posição original e, quando for menor que 50%, entraremos com metade da posição original.**"
      ]
    },
    {
      "cell_type": "code",
      "metadata": {
        "id": "7G5fDIbU7CpS"
      },
      "source": [
        "#Lista de inputs\n",
        "i=range(1,74)\n",
        "l=list()\n",
        "for i in i:\n",
        "  lista=[df['Atributo1'][i],df['Atributo2'][i],df['Atributo3'][i],df['Atributo4'][i],df['Atributo5'][i],df['Atributo6'][i]]\n",
        "  x=np.asarray(lista)\n",
        "  clf.predict(x.reshape(1,-1))\n",
        "  l.append(clf.predict_proba(x.reshape(1,-1))[0][1])"
      ],
      "execution_count": 26,
      "outputs": []
    },
    {
      "cell_type": "code",
      "metadata": {
        "id": "y0e6b5gC9F3T",
        "colab": {
          "base_uri": "https://localhost:8080/"
        },
        "outputId": "425132c4-c8dc-446f-b94d-3746ff2c969f"
      },
      "source": [
        "print(l)"
      ],
      "execution_count": 27,
      "outputs": [
        {
          "output_type": "stream",
          "text": [
            "[0.5498499739652519, 0.42726834677676306, 0.43131139665288276, 0.42726834677676306, 0.2245334971014536, 0.43365630763771157, 0.1522401581114328, 0.4005133237124522, 0.16447087162923069, 0.41724947434410015, 0.45171509555639316, 0.49706430226606235, 0.17004699068561288, 0.41135517622436785, 0.5611737415547317, 0.34544123896698276, 0.48936638864605264, 0.5611737415547317, 0.5611737415547317, 0.33421327936582346, 0.43683823953935996, 0.43683823953935996, 0.5474412205049404, 0.46639267524738315, 0.3464946071263207, 0.35138441000041815, 0.41311503998686, 0.49706430226606235, 0.43935832654393364, 0.15272112111613725, 0.4000434989824342, 0.1522401581114328, 0.4000434989824342, 0.15272112111613725, 0.41135517622436785, 0.41135517622436785, 0.35138441000041815, 0.5474412205049404, 0.4827941106843381, 0.48936638864605264, 0.5474412205049404, 0.35467741084165233, 0.48520778333293796, 0.43131139665288276, 0.5498499739652519, 0.47373969296956914, 0.23403540983066812, 0.35138441000041815, 0.3300948553080905, 0.24657803142849566, 0.4000434989824342, 0.35138441000041815, 0.35138441000041815, 0.46639267524738315, 0.47961237720192496, 0.43131139665288276, 0.5856960679839297, 0.5498499739652519, 0.34544123896698276, 0.5498499739652519, 0.34544123896698276, 0.48936638864605264, 0.2245334971014536, 0.43365630763771157, 0.41724947434410015, 0.43365630763771157, 0.41724947434410015, 0.41135517622436785, 0.35138441000041815, 0.24657803142849566, 0.31193138268119763, 0.23403540983066812, 0.42726834677676306]\n"
          ],
          "name": "stdout"
        }
      ]
    },
    {
      "cell_type": "code",
      "metadata": {
        "id": "-Fur0UCj-ksH"
      },
      "source": [
        "df2=pd.DataFrame(l,columns=['Probabilidade'],index=df.index)\n",
        "df[\"Probabilidade\"]=df2\n",
        "df[\"RetornoML\"]=np.where(df[\"Probabilidade\"]>0.5,2*df[\"Retorno\"],0.5*df[\"Retorno\"])\n",
        "df[\"Portfolio\"]=100*(1+df[\"Retorno\"]).cumprod()\n",
        "df[\"PortfolioML\"]=100*(1+df[\"RetornoML\"]).cumprod()"
      ],
      "execution_count": 28,
      "outputs": []
    },
    {
      "cell_type": "code",
      "metadata": {
        "id": "to05hK0Q-5sC",
        "colab": {
          "base_uri": "https://localhost:8080/",
          "height": 450
        },
        "outputId": "c02e42a9-c0f1-4a45-93ed-1189d172aa62"
      },
      "source": [
        "df2"
      ],
      "execution_count": 29,
      "outputs": [
        {
          "output_type": "execute_result",
          "data": {
            "text/html": [
              "<div>\n",
              "<style scoped>\n",
              "    .dataframe tbody tr th:only-of-type {\n",
              "        vertical-align: middle;\n",
              "    }\n",
              "\n",
              "    .dataframe tbody tr th {\n",
              "        vertical-align: top;\n",
              "    }\n",
              "\n",
              "    .dataframe thead th {\n",
              "        text-align: right;\n",
              "    }\n",
              "</style>\n",
              "<table border=\"1\" class=\"dataframe\">\n",
              "  <thead>\n",
              "    <tr style=\"text-align: right;\">\n",
              "      <th></th>\n",
              "      <th>Probabilidade</th>\n",
              "    </tr>\n",
              "    <tr>\n",
              "      <th>Trade</th>\n",
              "      <th></th>\n",
              "    </tr>\n",
              "  </thead>\n",
              "  <tbody>\n",
              "    <tr>\n",
              "      <th>1</th>\n",
              "      <td>0.549850</td>\n",
              "    </tr>\n",
              "    <tr>\n",
              "      <th>2</th>\n",
              "      <td>0.427268</td>\n",
              "    </tr>\n",
              "    <tr>\n",
              "      <th>3</th>\n",
              "      <td>0.431311</td>\n",
              "    </tr>\n",
              "    <tr>\n",
              "      <th>4</th>\n",
              "      <td>0.427268</td>\n",
              "    </tr>\n",
              "    <tr>\n",
              "      <th>5</th>\n",
              "      <td>0.224533</td>\n",
              "    </tr>\n",
              "    <tr>\n",
              "      <th>...</th>\n",
              "      <td>...</td>\n",
              "    </tr>\n",
              "    <tr>\n",
              "      <th>69</th>\n",
              "      <td>0.351384</td>\n",
              "    </tr>\n",
              "    <tr>\n",
              "      <th>70</th>\n",
              "      <td>0.246578</td>\n",
              "    </tr>\n",
              "    <tr>\n",
              "      <th>71</th>\n",
              "      <td>0.311931</td>\n",
              "    </tr>\n",
              "    <tr>\n",
              "      <th>72</th>\n",
              "      <td>0.234035</td>\n",
              "    </tr>\n",
              "    <tr>\n",
              "      <th>73</th>\n",
              "      <td>0.427268</td>\n",
              "    </tr>\n",
              "  </tbody>\n",
              "</table>\n",
              "<p>73 rows × 1 columns</p>\n",
              "</div>"
            ],
            "text/plain": [
              "       Probabilidade\n",
              "Trade               \n",
              "1           0.549850\n",
              "2           0.427268\n",
              "3           0.431311\n",
              "4           0.427268\n",
              "5           0.224533\n",
              "...              ...\n",
              "69          0.351384\n",
              "70          0.246578\n",
              "71          0.311931\n",
              "72          0.234035\n",
              "73          0.427268\n",
              "\n",
              "[73 rows x 1 columns]"
            ]
          },
          "metadata": {
            "tags": []
          },
          "execution_count": 29
        }
      ]
    },
    {
      "cell_type": "code",
      "metadata": {
        "id": "mGw33DtBCT1b",
        "colab": {
          "base_uri": "https://localhost:8080/",
          "height": 450
        },
        "outputId": "76837915-81ad-46fe-c3a2-fba50bbea6b5"
      },
      "source": [
        "df"
      ],
      "execution_count": 30,
      "outputs": [
        {
          "output_type": "execute_result",
          "data": {
            "text/html": [
              "<div>\n",
              "<style scoped>\n",
              "    .dataframe tbody tr th:only-of-type {\n",
              "        vertical-align: middle;\n",
              "    }\n",
              "\n",
              "    .dataframe tbody tr th {\n",
              "        vertical-align: top;\n",
              "    }\n",
              "\n",
              "    .dataframe thead th {\n",
              "        text-align: right;\n",
              "    }\n",
              "</style>\n",
              "<table border=\"1\" class=\"dataframe\">\n",
              "  <thead>\n",
              "    <tr style=\"text-align: right;\">\n",
              "      <th></th>\n",
              "      <th>Retorno</th>\n",
              "      <th>Sucesso/Fracasso</th>\n",
              "      <th>Atributo1</th>\n",
              "      <th>Atributo2</th>\n",
              "      <th>Atributo3</th>\n",
              "      <th>Atributo4</th>\n",
              "      <th>Atributo5</th>\n",
              "      <th>Atributo6</th>\n",
              "      <th>Probabilidade</th>\n",
              "      <th>RetornoML</th>\n",
              "      <th>Portfolio</th>\n",
              "      <th>PortfolioML</th>\n",
              "    </tr>\n",
              "    <tr>\n",
              "      <th>Trade</th>\n",
              "      <th></th>\n",
              "      <th></th>\n",
              "      <th></th>\n",
              "      <th></th>\n",
              "      <th></th>\n",
              "      <th></th>\n",
              "      <th></th>\n",
              "      <th></th>\n",
              "      <th></th>\n",
              "      <th></th>\n",
              "      <th></th>\n",
              "      <th></th>\n",
              "    </tr>\n",
              "  </thead>\n",
              "  <tbody>\n",
              "    <tr>\n",
              "      <th>1</th>\n",
              "      <td>0.103820</td>\n",
              "      <td>1</td>\n",
              "      <td>0</td>\n",
              "      <td>0</td>\n",
              "      <td>0</td>\n",
              "      <td>0</td>\n",
              "      <td>1</td>\n",
              "      <td>0</td>\n",
              "      <td>0.549850</td>\n",
              "      <td>0.207640</td>\n",
              "      <td>110.382022</td>\n",
              "      <td>120.764045</td>\n",
              "    </tr>\n",
              "    <tr>\n",
              "      <th>2</th>\n",
              "      <td>0.016335</td>\n",
              "      <td>1</td>\n",
              "      <td>0</td>\n",
              "      <td>0</td>\n",
              "      <td>0</td>\n",
              "      <td>0</td>\n",
              "      <td>1</td>\n",
              "      <td>1</td>\n",
              "      <td>0.427268</td>\n",
              "      <td>0.008167</td>\n",
              "      <td>112.185075</td>\n",
              "      <td>121.750365</td>\n",
              "    </tr>\n",
              "    <tr>\n",
              "      <th>3</th>\n",
              "      <td>0.130632</td>\n",
              "      <td>1</td>\n",
              "      <td>0</td>\n",
              "      <td>0</td>\n",
              "      <td>1</td>\n",
              "      <td>0</td>\n",
              "      <td>1</td>\n",
              "      <td>1</td>\n",
              "      <td>0.431311</td>\n",
              "      <td>0.065316</td>\n",
              "      <td>126.840074</td>\n",
              "      <td>129.702632</td>\n",
              "    </tr>\n",
              "    <tr>\n",
              "      <th>4</th>\n",
              "      <td>0.012956</td>\n",
              "      <td>1</td>\n",
              "      <td>0</td>\n",
              "      <td>0</td>\n",
              "      <td>0</td>\n",
              "      <td>0</td>\n",
              "      <td>1</td>\n",
              "      <td>1</td>\n",
              "      <td>0.427268</td>\n",
              "      <td>0.006478</td>\n",
              "      <td>128.483416</td>\n",
              "      <td>130.542847</td>\n",
              "    </tr>\n",
              "    <tr>\n",
              "      <th>5</th>\n",
              "      <td>-0.011578</td>\n",
              "      <td>0</td>\n",
              "      <td>0</td>\n",
              "      <td>0</td>\n",
              "      <td>1</td>\n",
              "      <td>0</td>\n",
              "      <td>0</td>\n",
              "      <td>1</td>\n",
              "      <td>0.224533</td>\n",
              "      <td>-0.005789</td>\n",
              "      <td>126.995848</td>\n",
              "      <td>129.787141</td>\n",
              "    </tr>\n",
              "    <tr>\n",
              "      <th>...</th>\n",
              "      <td>...</td>\n",
              "      <td>...</td>\n",
              "      <td>...</td>\n",
              "      <td>...</td>\n",
              "      <td>...</td>\n",
              "      <td>...</td>\n",
              "      <td>...</td>\n",
              "      <td>...</td>\n",
              "      <td>...</td>\n",
              "      <td>...</td>\n",
              "      <td>...</td>\n",
              "      <td>...</td>\n",
              "    </tr>\n",
              "    <tr>\n",
              "      <th>69</th>\n",
              "      <td>0.010590</td>\n",
              "      <td>1</td>\n",
              "      <td>1</td>\n",
              "      <td>0</td>\n",
              "      <td>0</td>\n",
              "      <td>0</td>\n",
              "      <td>0</td>\n",
              "      <td>0</td>\n",
              "      <td>0.351384</td>\n",
              "      <td>0.005295</td>\n",
              "      <td>204.142097</td>\n",
              "      <td>277.478170</td>\n",
              "    </tr>\n",
              "    <tr>\n",
              "      <th>70</th>\n",
              "      <td>0.027567</td>\n",
              "      <td>1</td>\n",
              "      <td>0</td>\n",
              "      <td>1</td>\n",
              "      <td>0</td>\n",
              "      <td>0</td>\n",
              "      <td>0</td>\n",
              "      <td>1</td>\n",
              "      <td>0.246578</td>\n",
              "      <td>0.013784</td>\n",
              "      <td>209.769765</td>\n",
              "      <td>281.302846</td>\n",
              "    </tr>\n",
              "    <tr>\n",
              "      <th>71</th>\n",
              "      <td>0.052539</td>\n",
              "      <td>1</td>\n",
              "      <td>1</td>\n",
              "      <td>0</td>\n",
              "      <td>0</td>\n",
              "      <td>1</td>\n",
              "      <td>0</td>\n",
              "      <td>1</td>\n",
              "      <td>0.311931</td>\n",
              "      <td>0.026270</td>\n",
              "      <td>220.790943</td>\n",
              "      <td>288.692588</td>\n",
              "    </tr>\n",
              "    <tr>\n",
              "      <th>72</th>\n",
              "      <td>0.092273</td>\n",
              "      <td>1</td>\n",
              "      <td>0</td>\n",
              "      <td>0</td>\n",
              "      <td>0</td>\n",
              "      <td>0</td>\n",
              "      <td>0</td>\n",
              "      <td>1</td>\n",
              "      <td>0.234035</td>\n",
              "      <td>0.046137</td>\n",
              "      <td>241.164093</td>\n",
              "      <td>302.011924</td>\n",
              "    </tr>\n",
              "    <tr>\n",
              "      <th>73</th>\n",
              "      <td>-0.009586</td>\n",
              "      <td>0</td>\n",
              "      <td>0</td>\n",
              "      <td>0</td>\n",
              "      <td>0</td>\n",
              "      <td>0</td>\n",
              "      <td>1</td>\n",
              "      <td>1</td>\n",
              "      <td>0.427268</td>\n",
              "      <td>-0.004793</td>\n",
              "      <td>238.852227</td>\n",
              "      <td>300.564339</td>\n",
              "    </tr>\n",
              "  </tbody>\n",
              "</table>\n",
              "<p>73 rows × 12 columns</p>\n",
              "</div>"
            ],
            "text/plain": [
              "        Retorno  Sucesso/Fracasso  ...   Portfolio  PortfolioML\n",
              "Trade                              ...                         \n",
              "1      0.103820                 1  ...  110.382022   120.764045\n",
              "2      0.016335                 1  ...  112.185075   121.750365\n",
              "3      0.130632                 1  ...  126.840074   129.702632\n",
              "4      0.012956                 1  ...  128.483416   130.542847\n",
              "5     -0.011578                 0  ...  126.995848   129.787141\n",
              "...         ...               ...  ...         ...          ...\n",
              "69     0.010590                 1  ...  204.142097   277.478170\n",
              "70     0.027567                 1  ...  209.769765   281.302846\n",
              "71     0.052539                 1  ...  220.790943   288.692588\n",
              "72     0.092273                 1  ...  241.164093   302.011924\n",
              "73    -0.009586                 0  ...  238.852227   300.564339\n",
              "\n",
              "[73 rows x 12 columns]"
            ]
          },
          "metadata": {
            "tags": []
          },
          "execution_count": 30
        }
      ]
    },
    {
      "cell_type": "code",
      "metadata": {
        "id": "mznv-hfaBlhA"
      },
      "source": [
        "def drawdown(return_series: pd.Series):\n",
        "    \"\"\"Recebe uma série de retornos e\n",
        "       retorna um dataframe com o valor acumulado,\n",
        "       picos prévios, e o drawdown\n",
        "    \"\"\"\n",
        "    wealth_index = 1000*(1+return_series).cumprod()\n",
        "    previous_peaks = wealth_index.cummax()\n",
        "    drawdowns = (wealth_index - previous_peaks)/previous_peaks\n",
        "    return pd.DataFrame({\"Wealth\": wealth_index, \n",
        "                         \"Previous Peak\": previous_peaks, \n",
        "                         \"Drawdown\": drawdowns})"
      ],
      "execution_count": 31,
      "outputs": []
    },
    {
      "cell_type": "code",
      "metadata": {
        "id": "nMYkx-i5UN3k"
      },
      "source": [
        "df3=df[[\"Portfolio\",\"PortfolioML\"]][-22:]\n",
        "df3[\"Portfolio\"]=df3[\"Portfolio\"]/df3[\"Portfolio\"][:1].values\n",
        "df3[\"PortfolioML\"]=df3[\"PortfolioML\"]/df3[\"PortfolioML\"][:1].values\n",
        "df4=df[[\"Retorno\",\"RetornoML\"]][-22:]"
      ],
      "execution_count": 32,
      "outputs": []
    },
    {
      "cell_type": "code",
      "metadata": {
        "id": "aTXV5XXPUWPy"
      },
      "source": [
        "Portfolio=dict()\n",
        "Portfolio[\"Retorno\"]=((df3[\"Portfolio\"][-1:]/df3[\"Portfolio\"][:1].values-1)*100).values[0]\n",
        "Portfolio[\"Max Drawdown\"]=drawdown(df4[\"Retorno\"]).Drawdown.min()*100\n",
        "Portfolio[\"Calmar\"]=abs(Portfolio[\"Retorno\"]/Portfolio[\"Max Drawdown\"])\n",
        "Portfolio=pd.DataFrame.from_dict(Portfolio.items())\n",
        "Portfolio=Portfolio.set_index(0)\n",
        "Portfolio.index.name=None\n",
        "Portfolio.columns=[\"Portfolio\"]\n",
        "PortfolioML=dict()\n",
        "PortfolioML[\"Retorno\"]=((df3[\"PortfolioML\"][-1:]/df3[\"PortfolioML\"][:1].values-1)*100).values[0]\n",
        "PortfolioML[\"Max Drawdown\"]=drawdown(df4[\"RetornoML\"]).Drawdown.min()*100\n",
        "PortfolioML[\"Calmar\"]=abs(PortfolioML[\"Retorno\"]/PortfolioML[\"Max Drawdown\"])\n",
        "PortfolioML=pd.DataFrame.from_dict(PortfolioML.items())\n",
        "PortfolioML=PortfolioML.set_index(0)\n",
        "PortfolioML.index.name=None\n",
        "PortfolioML.columns=[\"PortfolioML\"]\n",
        "portfolio=pd.concat([PortfolioML,Portfolio],axis=1)"
      ],
      "execution_count": 33,
      "outputs": []
    },
    {
      "cell_type": "markdown",
      "metadata": {
        "id": "CZs0oo6QUpbD"
      },
      "source": [
        "**PERFORMANCE DO MODELO APENAS NO DATASET DE TESTE:**"
      ]
    },
    {
      "cell_type": "markdown",
      "metadata": {
        "id": "bRmOOjLGZTZL"
      },
      "source": [
        "**Apesar de o modelo com utilização de Machine Learning ter tido retorno levemente inferior na amostra de teste, o retorno ajustado ao risco foi melhor, pois reduzimos o Drawdown praticamente pela metade, indicando que o processo de Meta-Labeling realmente melhorou a assertividade do modelo primário, além de auxiliar no position sizing.**"
      ]
    },
    {
      "cell_type": "code",
      "metadata": {
        "colab": {
          "base_uri": "https://localhost:8080/",
          "height": 142
        },
        "id": "G0H4_FU2Ufd9",
        "outputId": "1616781c-e49d-464d-d431-58a071e1a1ac"
      },
      "source": [
        "portfolio"
      ],
      "execution_count": 34,
      "outputs": [
        {
          "output_type": "execute_result",
          "data": {
            "text/html": [
              "<div>\n",
              "<style scoped>\n",
              "    .dataframe tbody tr th:only-of-type {\n",
              "        vertical-align: middle;\n",
              "    }\n",
              "\n",
              "    .dataframe tbody tr th {\n",
              "        vertical-align: top;\n",
              "    }\n",
              "\n",
              "    .dataframe thead th {\n",
              "        text-align: right;\n",
              "    }\n",
              "</style>\n",
              "<table border=\"1\" class=\"dataframe\">\n",
              "  <thead>\n",
              "    <tr style=\"text-align: right;\">\n",
              "      <th></th>\n",
              "      <th>PortfolioML</th>\n",
              "      <th>Portfolio</th>\n",
              "    </tr>\n",
              "  </thead>\n",
              "  <tbody>\n",
              "    <tr>\n",
              "      <th>Retorno</th>\n",
              "      <td>36.784456</td>\n",
              "      <td>39.136749</td>\n",
              "    </tr>\n",
              "    <tr>\n",
              "      <th>Max Drawdown</th>\n",
              "      <td>-5.621832</td>\n",
              "      <td>-10.990699</td>\n",
              "    </tr>\n",
              "    <tr>\n",
              "      <th>Calmar</th>\n",
              "      <td>6.543144</td>\n",
              "      <td>3.560897</td>\n",
              "    </tr>\n",
              "  </tbody>\n",
              "</table>\n",
              "</div>"
            ],
            "text/plain": [
              "              PortfolioML  Portfolio\n",
              "Retorno         36.784456  39.136749\n",
              "Max Drawdown    -5.621832 -10.990699\n",
              "Calmar           6.543144   3.560897"
            ]
          },
          "metadata": {
            "tags": []
          },
          "execution_count": 34
        }
      ]
    },
    {
      "cell_type": "code",
      "metadata": {
        "colab": {
          "base_uri": "https://localhost:8080/",
          "height": 514
        },
        "id": "GWr9pqD4Uf6x",
        "outputId": "df094d6f-6a26-470b-e99a-8ef24bae3a47"
      },
      "source": [
        "df3[[\"Portfolio\",\"PortfolioML\"]].plot(figsize=(16,8))"
      ],
      "execution_count": 35,
      "outputs": [
        {
          "output_type": "execute_result",
          "data": {
            "text/plain": [
              "<matplotlib.axes._subplots.AxesSubplot at 0x7f3f450effd0>"
            ]
          },
          "metadata": {
            "tags": []
          },
          "execution_count": 35
        },
        {
          "output_type": "display_data",
          "data": {
            "image/png": "[encoded data removed]",
            "text/plain": [
              "<Figure size 1152x576 with 1 Axes>"
            ]
          },
          "metadata": {
            "tags": [],
            "needs_background": "light"
          }
        }
      ]
    },
    {
      "cell_type": "code",
      "metadata": {
        "id": "BBQMV899H0cf"
      },
      "source": [
        "Portfolio=dict()\n",
        "Portfolio[\"Retorno Anualizado\"]=((df[\"Portfolio\"][-1:].values[0]/100)**(1/4)-1)*100\n",
        "Portfolio[\"Max Drawdown\"]=drawdown(df[\"Retorno\"]).Drawdown.min()*100\n",
        "Portfolio[\"Calmar\"]=abs(Portfolio[\"Retorno Anualizado\"]/Portfolio[\"Max Drawdown\"])\n",
        "Portfolio=pd.DataFrame.from_dict(Portfolio.items())\n",
        "Portfolio=Portfolio.set_index(0)\n",
        "Portfolio.index.name=None\n",
        "Portfolio.columns=[\"Portfolio\"]\n",
        "PortfolioML=dict()\n",
        "PortfolioML[\"Retorno Anualizado\"]=((df[\"PortfolioML\"][-1:].values[0]/100)**(1/4)-1)*100\n",
        "PortfolioML[\"Max Drawdown\"]=drawdown(df[\"RetornoML\"]).Drawdown.min()*100\n",
        "PortfolioML[\"Calmar\"]=abs(PortfolioML[\"Retorno Anualizado\"]/PortfolioML[\"Max Drawdown\"])\n",
        "PortfolioML=pd.DataFrame.from_dict(PortfolioML.items())\n",
        "PortfolioML=PortfolioML.set_index(0)\n",
        "PortfolioML.index.name=None\n",
        "PortfolioML.columns=[\"PortfolioML\"]\n",
        "portfolio=pd.concat([PortfolioML,Portfolio],axis=1)"
      ],
      "execution_count": 36,
      "outputs": []
    },
    {
      "cell_type": "markdown",
      "metadata": {
        "id": "rX90UEL6Uxoy"
      },
      "source": [
        "**PERFORMANCE DO MODELO CONSIDERANDO A AMOSTRA TODA:**"
      ]
    },
    {
      "cell_type": "code",
      "metadata": {
        "id": "4qOgLteUJOFW",
        "colab": {
          "base_uri": "https://localhost:8080/",
          "height": 142
        },
        "outputId": "699a1d60-26f9-4e79-b764-fda546c2218c"
      },
      "source": [
        "portfolio"
      ],
      "execution_count": 37,
      "outputs": [
        {
          "output_type": "execute_result",
          "data": {
            "text/html": [
              "<div>\n",
              "<style scoped>\n",
              "    .dataframe tbody tr th:only-of-type {\n",
              "        vertical-align: middle;\n",
              "    }\n",
              "\n",
              "    .dataframe tbody tr th {\n",
              "        vertical-align: top;\n",
              "    }\n",
              "\n",
              "    .dataframe thead th {\n",
              "        text-align: right;\n",
              "    }\n",
              "</style>\n",
              "<table border=\"1\" class=\"dataframe\">\n",
              "  <thead>\n",
              "    <tr style=\"text-align: right;\">\n",
              "      <th></th>\n",
              "      <th>PortfolioML</th>\n",
              "      <th>Portfolio</th>\n",
              "    </tr>\n",
              "  </thead>\n",
              "  <tbody>\n",
              "    <tr>\n",
              "      <th>Retorno Anualizado</th>\n",
              "      <td>31.669250</td>\n",
              "      <td>24.317516</td>\n",
              "    </tr>\n",
              "    <tr>\n",
              "      <th>Max Drawdown</th>\n",
              "      <td>-14.903970</td>\n",
              "      <td>-19.127532</td>\n",
              "    </tr>\n",
              "    <tr>\n",
              "      <th>Calmar</th>\n",
              "      <td>2.124887</td>\n",
              "      <td>1.271336</td>\n",
              "    </tr>\n",
              "  </tbody>\n",
              "</table>\n",
              "</div>"
            ],
            "text/plain": [
              "                    PortfolioML  Portfolio\n",
              "Retorno Anualizado    31.669250  24.317516\n",
              "Max Drawdown         -14.903970 -19.127532\n",
              "Calmar                 2.124887   1.271336"
            ]
          },
          "metadata": {
            "tags": []
          },
          "execution_count": 37
        }
      ]
    },
    {
      "cell_type": "code",
      "metadata": {
        "id": "NDx5dr0WLyUn",
        "colab": {
          "base_uri": "https://localhost:8080/",
          "height": 514
        },
        "outputId": "1c421499-f3a7-4d1a-8616-9847e9055ce6"
      },
      "source": [
        "df[[\"Portfolio\",\"PortfolioML\"]].plot(figsize=(16,8))"
      ],
      "execution_count": 38,
      "outputs": [
        {
          "output_type": "execute_result",
          "data": {
            "text/plain": [
              "<matplotlib.axes._subplots.AxesSubplot at 0x7f3f45068950>"
            ]
          },
          "metadata": {
            "tags": []
          },
          "execution_count": 38
        },
        {
          "output_type": "display_data",
          "data": {
            "image/png": "[encoded data removed]",
            "text/plain": [
              "<Figure size 1152x576 with 1 Axes>"
            ]
          },
          "metadata": {
            "tags": [],
            "needs_background": "light"
          }
        }
      ]
    }
  ]
}
