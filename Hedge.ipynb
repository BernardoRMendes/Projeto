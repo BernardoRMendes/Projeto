{
  "nbformat": 4,
  "nbformat_minor": 0,
  "metadata": {
    "colab": {
      "name": "Hedge.ipynb",
      "provenance": [],
      "collapsed_sections": [],
      "authorship_tag": "ABX9TyOqEdxdIU+y3CcI81yxxN2P",
      "include_colab_link": true
    },
    "kernelspec": {
      "name": "python3",
      "display_name": "Python 3"
    }
  },
  "cells": [
    {
      "cell_type": "markdown",
      "metadata": {
        "id": "view-in-github",
        "colab_type": "text"
      },
      "source": [
        "<a href=\"https://colab.research.google.com/github/BernardoRMendes/Projeto/blob/main/Hedge.ipynb\" target=\"_parent\"><img src=\"https://colab.research.google.com/assets/colab-badge.svg\" alt=\"Open In Colab\"/></a>"
      ]
    },
    {
      "cell_type": "code",
      "metadata": {
        "id": "NgWdeYJea9KZ"
      },
      "source": [
        "import numpy as np\r\n",
        "import pandas as pd"
      ],
      "execution_count": null,
      "outputs": []
    },
    {
      "cell_type": "markdown",
      "metadata": {
        "id": "XDG73KJVn83C"
      },
      "source": [
        "Nesse projeto iremos verificar quais ativos servem de Hedge para o Ibovespa ao longo de toda a distribuição de retornos calculando a correlação condicional. Os dados foram retirados da ferramenta Profit e colocados em formato CSV."
      ]
    },
    {
      "cell_type": "code",
      "metadata": {
        "id": "1zxM_5hKeV1L"
      },
      "source": [
        "url=\"https://raw.githubusercontent.com/BernardoRMendes/Projeto/main/Hedge.csv\""
      ],
      "execution_count": null,
      "outputs": []
    },
    {
      "cell_type": "code",
      "metadata": {
        "id": "Okrlt2noeXZx"
      },
      "source": [
        "df=pd.read_csv(url,sep=';',index_col=0)"
      ],
      "execution_count": null,
      "outputs": []
    },
    {
      "cell_type": "code",
      "metadata": {
        "colab": {
          "base_uri": "https://localhost:8080/"
        },
        "id": "FZQ388QPekoB",
        "outputId": "96d31153-2253-4fc9-c95a-7c76f2f0643b"
      },
      "source": [
        "df.info()"
      ],
      "execution_count": null,
      "outputs": [
        {
          "output_type": "stream",
          "text": [
            "<class 'pandas.core.frame.DataFrame'>\n",
            "Index: 1660 entries, 22/01/2021 to 30/04/2014\n",
            "Data columns (total 5 columns):\n",
            " #   Column    Non-Null Count  Dtype \n",
            "---  ------    --------------  ----- \n",
            " 0   IBOVESPA  1660 non-null   object\n",
            " 1   IVVB11    1660 non-null   object\n",
            " 2   DÓLAR     1660 non-null   object\n",
            " 3   IFIX      1660 non-null   object\n",
            " 4   OZ1D      1660 non-null   object\n",
            "dtypes: object(5)\n",
            "memory usage: 77.8+ KB\n"
          ],
          "name": "stdout"
        }
      ]
    },
    {
      "cell_type": "code",
      "metadata": {
        "colab": {
          "base_uri": "https://localhost:8080/",
          "height": 538
        },
        "id": "2FkC1vWJla5-",
        "outputId": "dee56fd4-0e1d-422d-87df-bcab0242f72d"
      },
      "source": [
        "df"
      ],
      "execution_count": null,
      "outputs": [
        {
          "output_type": "execute_result",
          "data": {
            "text/html": [
              "<div>\n",
              "<style scoped>\n",
              "    .dataframe tbody tr th:only-of-type {\n",
              "        vertical-align: middle;\n",
              "    }\n",
              "\n",
              "    .dataframe tbody tr th {\n",
              "        vertical-align: top;\n",
              "    }\n",
              "\n",
              "    .dataframe thead th {\n",
              "        text-align: right;\n",
              "    }\n",
              "</style>\n",
              "<table border=\"1\" class=\"dataframe\">\n",
              "  <thead>\n",
              "    <tr style=\"text-align: right;\">\n",
              "      <th></th>\n",
              "      <th>IBOVESPA</th>\n",
              "      <th>IVVB11</th>\n",
              "      <th>DÓLAR</th>\n",
              "      <th>IFIX</th>\n",
              "      <th>OZ1D</th>\n",
              "    </tr>\n",
              "    <tr>\n",
              "      <th>Data</th>\n",
              "      <th></th>\n",
              "      <th></th>\n",
              "      <th></th>\n",
              "      <th></th>\n",
              "      <th></th>\n",
              "    </tr>\n",
              "  </thead>\n",
              "  <tbody>\n",
              "    <tr>\n",
              "      <th>22/01/2021</th>\n",
              "      <td>-0.008</td>\n",
              "      <td>0.0137</td>\n",
              "      <td>0.0214</td>\n",
              "      <td>-0.0027</td>\n",
              "      <td>0.0063</td>\n",
              "    </tr>\n",
              "    <tr>\n",
              "      <th>21/01/2021</th>\n",
              "      <td>-0.011</td>\n",
              "      <td>0.0112</td>\n",
              "      <td>0.0025</td>\n",
              "      <td>0.0001</td>\n",
              "      <td>0.0159</td>\n",
              "    </tr>\n",
              "    <tr>\n",
              "      <th>20/01/2021</th>\n",
              "      <td>-0.0082</td>\n",
              "      <td>0.005</td>\n",
              "      <td>0.0017</td>\n",
              "      <td>0.0014</td>\n",
              "      <td>-0.0031</td>\n",
              "    </tr>\n",
              "    <tr>\n",
              "      <th>19/01/2021</th>\n",
              "      <td>-0.005</td>\n",
              "      <td>0.0237</td>\n",
              "      <td>0.003</td>\n",
              "      <td>0.0021</td>\n",
              "      <td>0.0086</td>\n",
              "    </tr>\n",
              "    <tr>\n",
              "      <th>18/01/2021</th>\n",
              "      <td>0.0074</td>\n",
              "      <td>-0.0012</td>\n",
              "      <td>0.0014</td>\n",
              "      <td>0.0008</td>\n",
              "      <td>0.0139</td>\n",
              "    </tr>\n",
              "    <tr>\n",
              "      <th>...</th>\n",
              "      <td>...</td>\n",
              "      <td>...</td>\n",
              "      <td>...</td>\n",
              "      <td>...</td>\n",
              "      <td>...</td>\n",
              "    </tr>\n",
              "    <tr>\n",
              "      <th>07/05/2014</th>\n",
              "      <td>-0.0102</td>\n",
              "      <td>-0.0002</td>\n",
              "      <td>0.0078</td>\n",
              "      <td>0.0013</td>\n",
              "      <td>-0.0108</td>\n",
              "    </tr>\n",
              "    <tr>\n",
              "      <th>06/05/2014</th>\n",
              "      <td>0.0094</td>\n",
              "      <td>0.0014</td>\n",
              "      <td>-0.0015</td>\n",
              "      <td>0.0027</td>\n",
              "      <td>-0.0108</td>\n",
              "    </tr>\n",
              "    <tr>\n",
              "      <th>05/05/2014</th>\n",
              "      <td>-0.0027</td>\n",
              "      <td>-0.0045</td>\n",
              "      <td>0.0019</td>\n",
              "      <td>0,0000</td>\n",
              "      <td>0.0022</td>\n",
              "    </tr>\n",
              "    <tr>\n",
              "      <th>02/05/2014</th>\n",
              "      <td>0.0179</td>\n",
              "      <td>-0.0045</td>\n",
              "      <td>-0.0001</td>\n",
              "      <td>-0.0003</td>\n",
              "      <td>-0.0022</td>\n",
              "    </tr>\n",
              "    <tr>\n",
              "      <th>30/04/2014</th>\n",
              "      <td>-0.006</td>\n",
              "      <td>0.0081</td>\n",
              "      <td>0.0005</td>\n",
              "      <td>0.0001</td>\n",
              "      <td>-0.0211</td>\n",
              "    </tr>\n",
              "  </tbody>\n",
              "</table>\n",
              "<p>1660 rows × 5 columns</p>\n",
              "</div>"
            ],
            "text/plain": [
              "           IBOVESPA   IVVB11    DÓLAR     IFIX     OZ1D\n",
              "Data                                                   \n",
              "22/01/2021   -0.008   0.0137   0.0214  -0.0027   0.0063\n",
              "21/01/2021   -0.011   0.0112   0.0025   0.0001   0.0159\n",
              "20/01/2021  -0.0082    0.005   0.0017   0.0014  -0.0031\n",
              "19/01/2021   -0.005   0.0237    0.003   0.0021   0.0086\n",
              "18/01/2021   0.0074  -0.0012   0.0014   0.0008   0.0139\n",
              "...             ...      ...      ...      ...      ...\n",
              "07/05/2014  -0.0102  -0.0002   0.0078   0.0013  -0.0108\n",
              "06/05/2014   0.0094   0.0014  -0.0015   0.0027  -0.0108\n",
              "05/05/2014  -0.0027  -0.0045   0.0019   0,0000   0.0022\n",
              "02/05/2014   0.0179  -0.0045  -0.0001  -0.0003  -0.0022\n",
              "30/04/2014   -0.006   0.0081   0.0005   0.0001  -0.0211\n",
              "\n",
              "[1660 rows x 5 columns]"
            ]
          },
          "metadata": {
            "tags": []
          },
          "execution_count": 5
        }
      ]
    },
    {
      "cell_type": "code",
      "metadata": {
        "id": "zON7kpAJosB1"
      },
      "source": [
        "df.replace(\"0,0000\",\"0.0000\",inplace=True)"
      ],
      "execution_count": null,
      "outputs": []
    },
    {
      "cell_type": "code",
      "metadata": {
        "id": "f34y8ygWo58_"
      },
      "source": [
        "df['IBOVESPA']=df['IBOVESPA'].astype(float)\r\n",
        "df['IVVB11']=df['IVVB11'].astype(float)\r\n",
        "df['DÓLAR']=df['DÓLAR'].astype(float)\r\n",
        "df['IFIX']=df['IFIX'].astype(float)\r\n",
        "df['OZ1D']=df['OZ1D'].astype(float)"
      ],
      "execution_count": null,
      "outputs": []
    },
    {
      "cell_type": "code",
      "metadata": {
        "colab": {
          "base_uri": "https://localhost:8080/"
        },
        "id": "HWgkSaxOpLbp",
        "outputId": "af5378fa-dbf9-4fbc-84d8-e29f57123943"
      },
      "source": [
        "df.info()"
      ],
      "execution_count": null,
      "outputs": [
        {
          "output_type": "stream",
          "text": [
            "<class 'pandas.core.frame.DataFrame'>\n",
            "Index: 1660 entries, 22/01/2021 to 30/04/2014\n",
            "Data columns (total 5 columns):\n",
            " #   Column    Non-Null Count  Dtype  \n",
            "---  ------    --------------  -----  \n",
            " 0   IBOVESPA  1660 non-null   float64\n",
            " 1   IVVB11    1660 non-null   float64\n",
            " 2   DÓLAR     1660 non-null   float64\n",
            " 3   IFIX      1660 non-null   float64\n",
            " 4   OZ1D      1660 non-null   float64\n",
            "dtypes: float64(5)\n",
            "memory usage: 77.8+ KB\n"
          ],
          "name": "stdout"
        }
      ]
    },
    {
      "cell_type": "markdown",
      "metadata": {
        "id": "DDKlreYqpR-R"
      },
      "source": [
        "Vamos colocar os retornos do Ibovespa em forma crescente e calcular a função de distribuição acumulada (CDF) empírica."
      ]
    },
    {
      "cell_type": "code",
      "metadata": {
        "id": "_wxUtYY-enQK"
      },
      "source": [
        "df2=df.sort_values(by=['IBOVESPA'])"
      ],
      "execution_count": null,
      "outputs": []
    },
    {
      "cell_type": "code",
      "metadata": {
        "colab": {
          "base_uri": "https://localhost:8080/",
          "height": 720
        },
        "id": "TITS2em2lBFt",
        "outputId": "9aa88366-3494-4903-9db3-0c559ecd1a6d"
      },
      "source": [
        "df2.head(20)"
      ],
      "execution_count": null,
      "outputs": [
        {
          "output_type": "execute_result",
          "data": {
            "text/html": [
              "<div>\n",
              "<style scoped>\n",
              "    .dataframe tbody tr th:only-of-type {\n",
              "        vertical-align: middle;\n",
              "    }\n",
              "\n",
              "    .dataframe tbody tr th {\n",
              "        vertical-align: top;\n",
              "    }\n",
              "\n",
              "    .dataframe thead th {\n",
              "        text-align: right;\n",
              "    }\n",
              "</style>\n",
              "<table border=\"1\" class=\"dataframe\">\n",
              "  <thead>\n",
              "    <tr style=\"text-align: right;\">\n",
              "      <th></th>\n",
              "      <th>IBOVESPA</th>\n",
              "      <th>IVVB11</th>\n",
              "      <th>DÓLAR</th>\n",
              "      <th>IFIX</th>\n",
              "      <th>OZ1D</th>\n",
              "    </tr>\n",
              "    <tr>\n",
              "      <th>Data</th>\n",
              "      <th></th>\n",
              "      <th></th>\n",
              "      <th></th>\n",
              "      <th></th>\n",
              "      <th></th>\n",
              "    </tr>\n",
              "  </thead>\n",
              "  <tbody>\n",
              "    <tr>\n",
              "      <th>12/03/2020</th>\n",
              "      <td>-0.1478</td>\n",
              "      <td>-0.0873</td>\n",
              "      <td>0.0448</td>\n",
              "      <td>-0.0657</td>\n",
              "      <td>-0.0218</td>\n",
              "    </tr>\n",
              "    <tr>\n",
              "      <th>16/03/2020</th>\n",
              "      <td>-0.1392</td>\n",
              "      <td>-0.0773</td>\n",
              "      <td>0.0445</td>\n",
              "      <td>-0.0464</td>\n",
              "      <td>-0.0163</td>\n",
              "    </tr>\n",
              "    <tr>\n",
              "      <th>09/03/2020</th>\n",
              "      <td>-0.1217</td>\n",
              "      <td>-0.0604</td>\n",
              "      <td>0.0198</td>\n",
              "      <td>-0.0355</td>\n",
              "      <td>0.0373</td>\n",
              "    </tr>\n",
              "    <tr>\n",
              "      <th>18/03/2020</th>\n",
              "      <td>-0.1035</td>\n",
              "      <td>-0.0220</td>\n",
              "      <td>0.0121</td>\n",
              "      <td>-0.1323</td>\n",
              "      <td>-0.0078</td>\n",
              "    </tr>\n",
              "    <tr>\n",
              "      <th>18/05/2017</th>\n",
              "      <td>-0.0880</td>\n",
              "      <td>0.0858</td>\n",
              "      <td>0.0129</td>\n",
              "      <td>-0.0301</td>\n",
              "      <td>-0.0073</td>\n",
              "    </tr>\n",
              "    <tr>\n",
              "      <th>11/03/2020</th>\n",
              "      <td>-0.0764</td>\n",
              "      <td>-0.0337</td>\n",
              "      <td>0.0010</td>\n",
              "      <td>-0.0183</td>\n",
              "      <td>0.0244</td>\n",
              "    </tr>\n",
              "    <tr>\n",
              "      <th>26/02/2020</th>\n",
              "      <td>-0.0700</td>\n",
              "      <td>-0.0587</td>\n",
              "      <td>0.0099</td>\n",
              "      <td>-0.0149</td>\n",
              "      <td>0.0272</td>\n",
              "    </tr>\n",
              "    <tr>\n",
              "      <th>27/03/2020</th>\n",
              "      <td>-0.0551</td>\n",
              "      <td>-0.0124</td>\n",
              "      <td>0.0220</td>\n",
              "      <td>0.0105</td>\n",
              "      <td>0.0231</td>\n",
              "    </tr>\n",
              "    <tr>\n",
              "      <th>24/04/2020</th>\n",
              "      <td>-0.0545</td>\n",
              "      <td>0.0368</td>\n",
              "      <td>0.0375</td>\n",
              "      <td>-0.0247</td>\n",
              "      <td>-0.0307</td>\n",
              "    </tr>\n",
              "    <tr>\n",
              "      <th>23/03/2020</th>\n",
              "      <td>-0.0522</td>\n",
              "      <td>-0.0080</td>\n",
              "      <td>0.0111</td>\n",
              "      <td>-0.0471</td>\n",
              "      <td>0.0412</td>\n",
              "    </tr>\n",
              "    <tr>\n",
              "      <th>02/02/2016</th>\n",
              "      <td>-0.0487</td>\n",
              "      <td>-0.0168</td>\n",
              "      <td>0.0054</td>\n",
              "      <td>-0.0008</td>\n",
              "      <td>-0.0333</td>\n",
              "    </tr>\n",
              "    <tr>\n",
              "      <th>05/03/2020</th>\n",
              "      <td>-0.0465</td>\n",
              "      <td>-0.0256</td>\n",
              "      <td>0.0210</td>\n",
              "      <td>-0.0029</td>\n",
              "      <td>0.0378</td>\n",
              "    </tr>\n",
              "    <tr>\n",
              "      <th>25/09/2014</th>\n",
              "      <td>-0.0452</td>\n",
              "      <td>0.0010</td>\n",
              "      <td>-0.0210</td>\n",
              "      <td>-0.0042</td>\n",
              "      <td>0.0000</td>\n",
              "    </tr>\n",
              "    <tr>\n",
              "      <th>28/05/2018</th>\n",
              "      <td>-0.0449</td>\n",
              "      <td>0.0195</td>\n",
              "      <td>-0.0250</td>\n",
              "      <td>-0.0099</td>\n",
              "      <td>0.0066</td>\n",
              "    </tr>\n",
              "    <tr>\n",
              "      <th>01/12/2014</th>\n",
              "      <td>-0.0447</td>\n",
              "      <td>-0.0139</td>\n",
              "      <td>0.0000</td>\n",
              "      <td>-0.0048</td>\n",
              "      <td>0.0051</td>\n",
              "    </tr>\n",
              "    <tr>\n",
              "      <th>28/10/2020</th>\n",
              "      <td>-0.0425</td>\n",
              "      <td>-0.0221</td>\n",
              "      <td>-0.0015</td>\n",
              "      <td>-0.0107</td>\n",
              "      <td>0.0012</td>\n",
              "    </tr>\n",
              "    <tr>\n",
              "      <th>06/03/2020</th>\n",
              "      <td>-0.0414</td>\n",
              "      <td>-0.0155</td>\n",
              "      <td>0.0055</td>\n",
              "      <td>-0.0092</td>\n",
              "      <td>-0.0020</td>\n",
              "    </tr>\n",
              "    <tr>\n",
              "      <th>13/10/2015</th>\n",
              "      <td>-0.0400</td>\n",
              "      <td>0.0200</td>\n",
              "      <td>-0.0034</td>\n",
              "      <td>-0.0020</td>\n",
              "      <td>-0.0414</td>\n",
              "    </tr>\n",
              "    <tr>\n",
              "      <th>01/12/2016</th>\n",
              "      <td>-0.0388</td>\n",
              "      <td>0.0178</td>\n",
              "      <td>-0.0086</td>\n",
              "      <td>-0.0005</td>\n",
              "      <td>-0.0017</td>\n",
              "    </tr>\n",
              "    <tr>\n",
              "      <th>03/04/2020</th>\n",
              "      <td>-0.0376</td>\n",
              "      <td>0.0000</td>\n",
              "      <td>0.0066</td>\n",
              "      <td>-0.0114</td>\n",
              "      <td>0.0198</td>\n",
              "    </tr>\n",
              "  </tbody>\n",
              "</table>\n",
              "</div>"
            ],
            "text/plain": [
              "            IBOVESPA  IVVB11   DÓLAR    IFIX    OZ1D\n",
              "Data                                                \n",
              "12/03/2020   -0.1478 -0.0873  0.0448 -0.0657 -0.0218\n",
              "16/03/2020   -0.1392 -0.0773  0.0445 -0.0464 -0.0163\n",
              "09/03/2020   -0.1217 -0.0604  0.0198 -0.0355  0.0373\n",
              "18/03/2020   -0.1035 -0.0220  0.0121 -0.1323 -0.0078\n",
              "18/05/2017   -0.0880  0.0858  0.0129 -0.0301 -0.0073\n",
              "11/03/2020   -0.0764 -0.0337  0.0010 -0.0183  0.0244\n",
              "26/02/2020   -0.0700 -0.0587  0.0099 -0.0149  0.0272\n",
              "27/03/2020   -0.0551 -0.0124  0.0220  0.0105  0.0231\n",
              "24/04/2020   -0.0545  0.0368  0.0375 -0.0247 -0.0307\n",
              "23/03/2020   -0.0522 -0.0080  0.0111 -0.0471  0.0412\n",
              "02/02/2016   -0.0487 -0.0168  0.0054 -0.0008 -0.0333\n",
              "05/03/2020   -0.0465 -0.0256  0.0210 -0.0029  0.0378\n",
              "25/09/2014   -0.0452  0.0010 -0.0210 -0.0042  0.0000\n",
              "28/05/2018   -0.0449  0.0195 -0.0250 -0.0099  0.0066\n",
              "01/12/2014   -0.0447 -0.0139  0.0000 -0.0048  0.0051\n",
              "28/10/2020   -0.0425 -0.0221 -0.0015 -0.0107  0.0012\n",
              "06/03/2020   -0.0414 -0.0155  0.0055 -0.0092 -0.0020\n",
              "13/10/2015   -0.0400  0.0200 -0.0034 -0.0020 -0.0414\n",
              "01/12/2016   -0.0388  0.0178 -0.0086 -0.0005 -0.0017\n",
              "03/04/2020   -0.0376  0.0000  0.0066 -0.0114  0.0198"
            ]
          },
          "metadata": {
            "tags": []
          },
          "execution_count": 10
        }
      ]
    },
    {
      "cell_type": "code",
      "metadata": {
        "id": "DSnQXVzIjeNU"
      },
      "source": [
        "df2[\"CDF\"]=1/1660\r\n",
        "df2[\"CDF\"]=df2[\"CDF\"].cumsum()"
      ],
      "execution_count": null,
      "outputs": []
    },
    {
      "cell_type": "code",
      "metadata": {
        "colab": {
          "base_uri": "https://localhost:8080/",
          "height": 450
        },
        "id": "Ej43Z7Mory2A",
        "outputId": "4ab4e687-70c8-4a1d-93b1-e03a7fd41a82"
      },
      "source": [
        "df2"
      ],
      "execution_count": null,
      "outputs": [
        {
          "output_type": "execute_result",
          "data": {
            "text/html": [
              "<div>\n",
              "<style scoped>\n",
              "    .dataframe tbody tr th:only-of-type {\n",
              "        vertical-align: middle;\n",
              "    }\n",
              "\n",
              "    .dataframe tbody tr th {\n",
              "        vertical-align: top;\n",
              "    }\n",
              "\n",
              "    .dataframe thead th {\n",
              "        text-align: right;\n",
              "    }\n",
              "</style>\n",
              "<table border=\"1\" class=\"dataframe\">\n",
              "  <thead>\n",
              "    <tr style=\"text-align: right;\">\n",
              "      <th></th>\n",
              "      <th>IBOVESPA</th>\n",
              "      <th>IVVB11</th>\n",
              "      <th>DÓLAR</th>\n",
              "      <th>IFIX</th>\n",
              "      <th>OZ1D</th>\n",
              "      <th>CDF</th>\n",
              "    </tr>\n",
              "    <tr>\n",
              "      <th>Data</th>\n",
              "      <th></th>\n",
              "      <th></th>\n",
              "      <th></th>\n",
              "      <th></th>\n",
              "      <th></th>\n",
              "      <th></th>\n",
              "    </tr>\n",
              "  </thead>\n",
              "  <tbody>\n",
              "    <tr>\n",
              "      <th>12/03/2020</th>\n",
              "      <td>-0.1478</td>\n",
              "      <td>-0.0873</td>\n",
              "      <td>0.0448</td>\n",
              "      <td>-0.0657</td>\n",
              "      <td>-0.0218</td>\n",
              "      <td>0.000602</td>\n",
              "    </tr>\n",
              "    <tr>\n",
              "      <th>16/03/2020</th>\n",
              "      <td>-0.1392</td>\n",
              "      <td>-0.0773</td>\n",
              "      <td>0.0445</td>\n",
              "      <td>-0.0464</td>\n",
              "      <td>-0.0163</td>\n",
              "      <td>0.001205</td>\n",
              "    </tr>\n",
              "    <tr>\n",
              "      <th>09/03/2020</th>\n",
              "      <td>-0.1217</td>\n",
              "      <td>-0.0604</td>\n",
              "      <td>0.0198</td>\n",
              "      <td>-0.0355</td>\n",
              "      <td>0.0373</td>\n",
              "      <td>0.001807</td>\n",
              "    </tr>\n",
              "    <tr>\n",
              "      <th>18/03/2020</th>\n",
              "      <td>-0.1035</td>\n",
              "      <td>-0.0220</td>\n",
              "      <td>0.0121</td>\n",
              "      <td>-0.1323</td>\n",
              "      <td>-0.0078</td>\n",
              "      <td>0.002410</td>\n",
              "    </tr>\n",
              "    <tr>\n",
              "      <th>18/05/2017</th>\n",
              "      <td>-0.0880</td>\n",
              "      <td>0.0858</td>\n",
              "      <td>0.0129</td>\n",
              "      <td>-0.0301</td>\n",
              "      <td>-0.0073</td>\n",
              "      <td>0.003012</td>\n",
              "    </tr>\n",
              "    <tr>\n",
              "      <th>...</th>\n",
              "      <td>...</td>\n",
              "      <td>...</td>\n",
              "      <td>...</td>\n",
              "      <td>...</td>\n",
              "      <td>...</td>\n",
              "      <td>...</td>\n",
              "    </tr>\n",
              "    <tr>\n",
              "      <th>17/03/2016</th>\n",
              "      <td>0.0660</td>\n",
              "      <td>-0.0196</td>\n",
              "      <td>0.0047</td>\n",
              "      <td>0.0113</td>\n",
              "      <td>-0.0453</td>\n",
              "      <td>0.997590</td>\n",
              "    </tr>\n",
              "    <tr>\n",
              "      <th>10/03/2020</th>\n",
              "      <td>0.0714</td>\n",
              "      <td>0.0375</td>\n",
              "      <td>-0.0145</td>\n",
              "      <td>0.0142</td>\n",
              "      <td>-0.0379</td>\n",
              "      <td>0.998193</td>\n",
              "    </tr>\n",
              "    <tr>\n",
              "      <th>25/03/2020</th>\n",
              "      <td>0.0750</td>\n",
              "      <td>-0.0063</td>\n",
              "      <td>-0.0001</td>\n",
              "      <td>0.0582</td>\n",
              "      <td>-0.0308</td>\n",
              "      <td>0.998795</td>\n",
              "    </tr>\n",
              "    <tr>\n",
              "      <th>24/03/2020</th>\n",
              "      <td>0.0969</td>\n",
              "      <td>0.0887</td>\n",
              "      <td>-0.0018</td>\n",
              "      <td>0.0281</td>\n",
              "      <td>0.0277</td>\n",
              "      <td>0.999398</td>\n",
              "    </tr>\n",
              "    <tr>\n",
              "      <th>13/03/2020</th>\n",
              "      <td>0.1391</td>\n",
              "      <td>0.1028</td>\n",
              "      <td>-0.0301</td>\n",
              "      <td>0.0149</td>\n",
              "      <td>-0.0020</td>\n",
              "      <td>1.000000</td>\n",
              "    </tr>\n",
              "  </tbody>\n",
              "</table>\n",
              "<p>1660 rows × 6 columns</p>\n",
              "</div>"
            ],
            "text/plain": [
              "            IBOVESPA  IVVB11   DÓLAR    IFIX    OZ1D       CDF\n",
              "Data                                                          \n",
              "12/03/2020   -0.1478 -0.0873  0.0448 -0.0657 -0.0218  0.000602\n",
              "16/03/2020   -0.1392 -0.0773  0.0445 -0.0464 -0.0163  0.001205\n",
              "09/03/2020   -0.1217 -0.0604  0.0198 -0.0355  0.0373  0.001807\n",
              "18/03/2020   -0.1035 -0.0220  0.0121 -0.1323 -0.0078  0.002410\n",
              "18/05/2017   -0.0880  0.0858  0.0129 -0.0301 -0.0073  0.003012\n",
              "...              ...     ...     ...     ...     ...       ...\n",
              "17/03/2016    0.0660 -0.0196  0.0047  0.0113 -0.0453  0.997590\n",
              "10/03/2020    0.0714  0.0375 -0.0145  0.0142 -0.0379  0.998193\n",
              "25/03/2020    0.0750 -0.0063 -0.0001  0.0582 -0.0308  0.998795\n",
              "24/03/2020    0.0969  0.0887 -0.0018  0.0281  0.0277  0.999398\n",
              "13/03/2020    0.1391  0.1028 -0.0301  0.0149 -0.0020  1.000000\n",
              "\n",
              "[1660 rows x 6 columns]"
            ]
          },
          "metadata": {
            "tags": []
          },
          "execution_count": 12
        }
      ]
    },
    {
      "cell_type": "code",
      "metadata": {
        "id": "izAHhEzq0jvo"
      },
      "source": [
        "a=pd.Series((df2.loc[(df2['CDF']>=0.00) & (df2['CDF']<0.01)].corr().values[0,:5]))\r\n",
        "b=pd.Series((df2.loc[(df2['CDF']>=0.01) & (df2['CDF']<0.05)].corr().values[0,:5]))\r\n",
        "c=pd.Series((df2.loc[(df2['CDF']>=0.05) & (df2['CDF']<0.1)].corr().values[0,:5]))\r\n",
        "d=pd.Series((df2.loc[(df2['CDF']>=0.1) & (df2['CDF']<0.2)].corr().values[0,:5]))\r\n",
        "e=pd.Series((df2.loc[(df2['CDF']>=0.2) & (df2['CDF']<0.3)].corr().values[0,:5]))\r\n",
        "f=pd.Series((df2.loc[(df2['CDF']>=0.3) & (df2['CDF']<0.4)].corr().values[0,:5]))\r\n",
        "g=pd.Series((df2.loc[(df2['CDF']>=0.4) & (df2['CDF']<0.5)].corr().values[0,:5]))\r\n",
        "h=pd.Series((df2.loc[(df2['CDF']>=0.5) & (df2['CDF']<0.6)].corr().values[0,:5]))\r\n",
        "i=pd.Series((df2.loc[(df2['CDF']>=0.6) & (df2['CDF']<0.7)].corr().values[0,:5]))\r\n",
        "j=pd.Series((df2.loc[(df2['CDF']>=0.7) & (df2['CDF']<0.8)].corr().values[0,:5]))\r\n",
        "k=pd.Series((df2.loc[(df2['CDF']>=0.8) & (df2['CDF']<0.9)].corr().values[0,:5]))\r\n",
        "l=pd.Series((df2.loc[(df2['CDF']>=0.9) & (df2['CDF']<=1)].corr().values[0,:5]))"
      ],
      "execution_count": null,
      "outputs": []
    },
    {
      "cell_type": "code",
      "metadata": {
        "id": "ZyGuu7hC2G2l"
      },
      "source": [
        "lista=[\"[0,1)\",\"[1,5)\",\"[5,10)\",\"[10,20)\",\"[20,30)\",\"[30,40)\",\"[40,50)\",\"[50,60)\",\"[60,70)\",\"[70,80)\",\"[80,90)\",\"[90,100]\"]"
      ],
      "execution_count": null,
      "outputs": []
    },
    {
      "cell_type": "code",
      "metadata": {
        "id": "h197TTzM0p8R"
      },
      "source": [
        "CondCorr=pd.concat([a,b,c,d,e,f,g,h,i,j,k,l],axis=1)"
      ],
      "execution_count": null,
      "outputs": []
    },
    {
      "cell_type": "code",
      "metadata": {
        "id": "fpoq7cNP7iXF"
      },
      "source": [
        "CondCorr.columns=lista"
      ],
      "execution_count": null,
      "outputs": []
    },
    {
      "cell_type": "code",
      "metadata": {
        "id": "7GB4Woms7fSn"
      },
      "source": [
        "CondCorr.index=[\"IBOVESPA\",\"IVVB11\",\"DÓLAR\",\"IFIX\",\"OZ1D\"]"
      ],
      "execution_count": null,
      "outputs": []
    },
    {
      "cell_type": "markdown",
      "metadata": {
        "id": "T2lpD7WxrBiR"
      },
      "source": [
        "As colunas representam a correlação condicional do Ibovespa em cada intervalo de retornos. Por exemplo, quando olhamos a coluna [0,1),isso representa os 1% piores retornos do Ibovespa no intervalo analisado, enquanto a coluna [90,100] é o intervalo que representa os retornos diários mais altos nesse período."
      ]
    },
    {
      "cell_type": "code",
      "metadata": {
        "colab": {
          "base_uri": "https://localhost:8080/",
          "height": 204
        },
        "id": "10sXfoh32iIq",
        "outputId": "5bac5fa5-1acc-4ffa-cebe-99150f12e01f"
      },
      "source": [
        "CondCorr"
      ],
      "execution_count": null,
      "outputs": [
        {
          "output_type": "execute_result",
          "data": {
            "text/html": [
              "<div>\n",
              "<style scoped>\n",
              "    .dataframe tbody tr th:only-of-type {\n",
              "        vertical-align: middle;\n",
              "    }\n",
              "\n",
              "    .dataframe tbody tr th {\n",
              "        vertical-align: top;\n",
              "    }\n",
              "\n",
              "    .dataframe thead th {\n",
              "        text-align: right;\n",
              "    }\n",
              "</style>\n",
              "<table border=\"1\" class=\"dataframe\">\n",
              "  <thead>\n",
              "    <tr style=\"text-align: right;\">\n",
              "      <th></th>\n",
              "      <th>[0,1)</th>\n",
              "      <th>[1,5)</th>\n",
              "      <th>[5,10)</th>\n",
              "      <th>[10,20)</th>\n",
              "      <th>[20,30)</th>\n",
              "      <th>[30,40)</th>\n",
              "      <th>[40,50)</th>\n",
              "      <th>[50,60)</th>\n",
              "      <th>[60,70)</th>\n",
              "      <th>[70,80)</th>\n",
              "      <th>[80,90)</th>\n",
              "      <th>[90,100]</th>\n",
              "    </tr>\n",
              "  </thead>\n",
              "  <tbody>\n",
              "    <tr>\n",
              "      <th>IBOVESPA</th>\n",
              "      <td>1.000000</td>\n",
              "      <td>1.000000</td>\n",
              "      <td>1.000000</td>\n",
              "      <td>1.000000</td>\n",
              "      <td>1.000000</td>\n",
              "      <td>1.000000</td>\n",
              "      <td>1.000000</td>\n",
              "      <td>1.000000</td>\n",
              "      <td>1.000000</td>\n",
              "      <td>1.000000</td>\n",
              "      <td>1.000000</td>\n",
              "      <td>1.000000</td>\n",
              "    </tr>\n",
              "    <tr>\n",
              "      <th>IVVB11</th>\n",
              "      <td>0.536217</td>\n",
              "      <td>-0.208783</td>\n",
              "      <td>0.091867</td>\n",
              "      <td>0.030027</td>\n",
              "      <td>0.069251</td>\n",
              "      <td>-0.090100</td>\n",
              "      <td>0.164692</td>\n",
              "      <td>0.046939</td>\n",
              "      <td>-0.005610</td>\n",
              "      <td>-0.028706</td>\n",
              "      <td>-0.092236</td>\n",
              "      <td>0.376695</td>\n",
              "    </tr>\n",
              "    <tr>\n",
              "      <th>DÓLAR</th>\n",
              "      <td>-0.650291</td>\n",
              "      <td>0.037538</td>\n",
              "      <td>-0.215888</td>\n",
              "      <td>0.058223</td>\n",
              "      <td>0.003008</td>\n",
              "      <td>-0.112224</td>\n",
              "      <td>0.029355</td>\n",
              "      <td>-0.001880</td>\n",
              "      <td>-0.214711</td>\n",
              "      <td>-0.145781</td>\n",
              "      <td>0.094463</td>\n",
              "      <td>-0.184469</td>\n",
              "    </tr>\n",
              "    <tr>\n",
              "      <th>IFIX</th>\n",
              "      <td>0.628925</td>\n",
              "      <td>0.252336</td>\n",
              "      <td>0.032307</td>\n",
              "      <td>0.064481</td>\n",
              "      <td>-0.008468</td>\n",
              "      <td>-0.014665</td>\n",
              "      <td>0.147744</td>\n",
              "      <td>-0.016717</td>\n",
              "      <td>0.016590</td>\n",
              "      <td>0.067139</td>\n",
              "      <td>0.069742</td>\n",
              "      <td>0.453175</td>\n",
              "    </tr>\n",
              "    <tr>\n",
              "      <th>OZ1D</th>\n",
              "      <td>0.196728</td>\n",
              "      <td>0.159675</td>\n",
              "      <td>0.072896</td>\n",
              "      <td>-0.033551</td>\n",
              "      <td>-0.015368</td>\n",
              "      <td>-0.197805</td>\n",
              "      <td>-0.003716</td>\n",
              "      <td>-0.036875</td>\n",
              "      <td>-0.010795</td>\n",
              "      <td>0.037407</td>\n",
              "      <td>0.031270</td>\n",
              "      <td>-0.074047</td>\n",
              "    </tr>\n",
              "  </tbody>\n",
              "</table>\n",
              "</div>"
            ],
            "text/plain": [
              "             [0,1)     [1,5)    [5,10)  ...   [70,80)   [80,90)  [90,100]\n",
              "IBOVESPA  1.000000  1.000000  1.000000  ...  1.000000  1.000000  1.000000\n",
              "IVVB11    0.536217 -0.208783  0.091867  ... -0.028706 -0.092236  0.376695\n",
              "DÓLAR    -0.650291  0.037538 -0.215888  ... -0.145781  0.094463 -0.184469\n",
              "IFIX      0.628925  0.252336  0.032307  ...  0.067139  0.069742  0.453175\n",
              "OZ1D      0.196728  0.159675  0.072896  ...  0.037407  0.031270 -0.074047\n",
              "\n",
              "[5 rows x 12 columns]"
            ]
          },
          "metadata": {
            "tags": []
          },
          "execution_count": 18
        }
      ]
    },
    {
      "cell_type": "markdown",
      "metadata": {
        "id": "ngpEp1T8sycr"
      },
      "source": [
        "Essa é a matriz de correlação incondicional (avaliando a amostra inteira):"
      ]
    },
    {
      "cell_type": "code",
      "metadata": {
        "colab": {
          "base_uri": "https://localhost:8080/",
          "height": 204
        },
        "id": "4DaVvI0UqDxx",
        "outputId": "91847e7c-e984-49bf-df78-bd805b102595"
      },
      "source": [
        "df.corr()"
      ],
      "execution_count": null,
      "outputs": [
        {
          "output_type": "execute_result",
          "data": {
            "text/html": [
              "<div>\n",
              "<style scoped>\n",
              "    .dataframe tbody tr th:only-of-type {\n",
              "        vertical-align: middle;\n",
              "    }\n",
              "\n",
              "    .dataframe tbody tr th {\n",
              "        vertical-align: top;\n",
              "    }\n",
              "\n",
              "    .dataframe thead th {\n",
              "        text-align: right;\n",
              "    }\n",
              "</style>\n",
              "<table border=\"1\" class=\"dataframe\">\n",
              "  <thead>\n",
              "    <tr style=\"text-align: right;\">\n",
              "      <th></th>\n",
              "      <th>IBOVESPA</th>\n",
              "      <th>IVVB11</th>\n",
              "      <th>DÓLAR</th>\n",
              "      <th>IFIX</th>\n",
              "      <th>OZ1D</th>\n",
              "    </tr>\n",
              "  </thead>\n",
              "  <tbody>\n",
              "    <tr>\n",
              "      <th>IBOVESPA</th>\n",
              "      <td>1.000000</td>\n",
              "      <td>0.143523</td>\n",
              "      <td>-0.138658</td>\n",
              "      <td>0.455501</td>\n",
              "      <td>-0.078450</td>\n",
              "    </tr>\n",
              "    <tr>\n",
              "      <th>IVVB11</th>\n",
              "      <td>0.143523</td>\n",
              "      <td>1.000000</td>\n",
              "      <td>-0.036858</td>\n",
              "      <td>0.097048</td>\n",
              "      <td>0.070795</td>\n",
              "    </tr>\n",
              "    <tr>\n",
              "      <th>DÓLAR</th>\n",
              "      <td>-0.138658</td>\n",
              "      <td>-0.036858</td>\n",
              "      <td>1.000000</td>\n",
              "      <td>-0.151042</td>\n",
              "      <td>0.043629</td>\n",
              "    </tr>\n",
              "    <tr>\n",
              "      <th>IFIX</th>\n",
              "      <td>0.455501</td>\n",
              "      <td>0.097048</td>\n",
              "      <td>-0.151042</td>\n",
              "      <td>1.000000</td>\n",
              "      <td>-0.040793</td>\n",
              "    </tr>\n",
              "    <tr>\n",
              "      <th>OZ1D</th>\n",
              "      <td>-0.078450</td>\n",
              "      <td>0.070795</td>\n",
              "      <td>0.043629</td>\n",
              "      <td>-0.040793</td>\n",
              "      <td>1.000000</td>\n",
              "    </tr>\n",
              "  </tbody>\n",
              "</table>\n",
              "</div>"
            ],
            "text/plain": [
              "          IBOVESPA    IVVB11     DÓLAR      IFIX      OZ1D\n",
              "IBOVESPA  1.000000  0.143523 -0.138658  0.455501 -0.078450\n",
              "IVVB11    0.143523  1.000000 -0.036858  0.097048  0.070795\n",
              "DÓLAR    -0.138658 -0.036858  1.000000 -0.151042  0.043629\n",
              "IFIX      0.455501  0.097048 -0.151042  1.000000 -0.040793\n",
              "OZ1D     -0.078450  0.070795  0.043629 -0.040793  1.000000"
            ]
          },
          "metadata": {
            "tags": []
          },
          "execution_count": 19
        }
      ]
    },
    {
      "cell_type": "markdown",
      "metadata": {
        "id": "ss2tzCRRn7wd"
      },
      "source": [
        "Veja que o Ouro (OZ1D), apesar de apresentar correlação negativa em relação ao Ibovespa quando consideramos a amostra inteira, tem correlação positiva quando o Ibovespa tem seus piores dias, conforme podemos observar nos intervalos [0,1),[1,5),[5,10). No entanto, apresenta correlação negativa em quedas moderadas, como nos intervalos [10,20),[20,30),[30,40). Desse modo, podemos concluir que o Ouro é um bom Hedge em cenários de quedas moderadas, ao passo que não gera valor a um portfólio composto pelo Ibovespa em movimentos mais extremos. Para estes, o melhor Hedge, dentre os ativos considerados, é o Dólar."
      ]
    }
  ]
}